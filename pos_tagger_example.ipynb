{
 "metadata": {
  "language_info": {
   "codemirror_mode": {
    "name": "ipython",
    "version": 3
   },
   "file_extension": ".py",
   "mimetype": "text/x-python",
   "name": "python",
   "nbconvert_exporter": "python",
   "pygments_lexer": "ipython3",
   "version": "3.8.3-final"
  },
  "orig_nbformat": 2,
  "kernelspec": {
   "name": "python3",
   "display_name": "Python 3"
  }
 },
 "nbformat": 4,
 "nbformat_minor": 2,
 "cells": [
  {
   "source": [
    "# Aspect Based Sentiment Analysis with Ice Cream Database"
   ],
   "cell_type": "markdown",
   "metadata": {}
  },
  {
   "source": [
    "### oleh :  <br/>\n",
    "### Avisenna Abimanyu (13517010) <br/>\n",
    "### Muhammad Akmal (13517028) <br/>\n",
    "### Muhammad Nurdin Husen (13517112) <br/>"
   ],
   "cell_type": "markdown",
   "metadata": {}
  },
  {
   "source": [
    "import library"
   ],
   "cell_type": "markdown",
   "metadata": {}
  },
  {
   "cell_type": "code",
   "execution_count": 42,
   "metadata": {},
   "outputs": [],
   "source": [
    "import pandas as pd\n",
    "import numpy as np\n",
    "import nltk\n",
    "import random\n",
    "import pprint, time\n",
    "import seaborn as sns\n",
    "from collections import Counter\n",
    "import matplotlib.dates as mdates\n",
    "import matplotlib.pyplot as plt\n",
    "from sklearn.model_selection import train_test_split\n",
    "from autocorrect import Speller\n",
    "sys.path.append('..')\n",
    "from pos_tagger.myPosTagger import POSTagger"
   ]
  },
  {
   "cell_type": "code",
   "execution_count": 43,
   "metadata": {},
   "outputs": [
    {
     "output_type": "stream",
     "name": "stderr",
     "text": [
      "[nltk_data] Downloading package treebank to /Users/akmalm/nltk_data...\n[nltk_data]   Package treebank is already up-to-date!\n[nltk_data] Downloading package universal_tagset to\n[nltk_data]     /Users/akmalm/nltk_data...\n[nltk_data]   Package universal_tagset is already up-to-date!\n"
     ]
    },
    {
     "output_type": "execute_result",
     "data": {
      "text/plain": [
       "True"
      ]
     },
     "metadata": {},
     "execution_count": 43
    }
   ],
   "source": [
    "#download treebank corpus dari nltk\n",
    "nltk.download('treebank')\n",
    " \n",
    "#download niversal tagset dari nltk\n",
    "nltk.download('universal_tagset')"
   ]
  },
  {
   "source": [
    "### 0. Exploratory Data Analysis"
   ],
   "cell_type": "markdown",
   "metadata": {}
  },
  {
   "cell_type": "code",
   "execution_count": 44,
   "metadata": {},
   "outputs": [],
   "source": [
    "# pd.options.display.max_rows = None\n",
    "df = pd.read_csv('reviews.csv')\n",
    "df[\"full_text\"] = df.title + ' ' + df.text"
   ]
  },
  {
   "cell_type": "code",
   "execution_count": 45,
   "metadata": {},
   "outputs": [
    {
     "output_type": "execute_result",
     "data": {
      "text/plain": [
       "  brand   key          author        date  stars  \\\n",
       "0    bj  0_bj  Ilovebennjerry  2017-04-15      3   \n",
       "1    bj  0_bj   Sweettooth909  2020-01-05      5   \n",
       "2    bj  0_bj       LaTanga71  2018-04-26      3   \n",
       "3    bj  0_bj      chicago220  2018-01-14      5   \n",
       "4    bj  0_bj        Kassidyk  2020-07-24      1   \n",
       "5    bj  0_bj         Nikiera  2020-07-23      2   \n",
       "6    bj  0_bj         Mmelvin  2017-05-28      3   \n",
       "7    bj  0_bj          Shay10  2017-07-02      3   \n",
       "8    bj  0_bj    caramel4dayz  2017-07-16      2   \n",
       "9    bj  0_bj        RosaT777  2019-02-12      3   \n",
       "\n",
       "                                title  helpful_yes  helpful_no  \\\n",
       "0                Not enough brownies!         10.0         3.0   \n",
       "1        I’m OBSESSED with this pint!          3.0         0.0   \n",
       "2   My favorite...More Caramel Please          5.0         2.0   \n",
       "3                         Obsessed!!!         24.0         1.0   \n",
       "4               Worst Ice Cream Ever!          1.0         5.0   \n",
       "5                       Way Too Salty          3.0         1.0   \n",
       "6            Love this flavor, but...          3.0         3.0   \n",
       "7          Really Wanted To Love This          4.0         1.0   \n",
       "8                    Could be better.          8.0         6.0   \n",
       "9  Salted Caramel core had NO CARAMEL          1.0         1.0   \n",
       "\n",
       "                                                text  taste  ingredients  \\\n",
       "0  Super good, don't get me wrong. But I came for...    NaN          NaN   \n",
       "1  I decided to try it out although I’m not a hug...    NaN          NaN   \n",
       "2  My caramel core begins to disappear about half...    NaN          NaN   \n",
       "3  Why are people complaining about the blonde br...    NaN          NaN   \n",
       "4  This ice cream is worst ice cream I’ve ever ta...    NaN          NaN   \n",
       "5  I bought this last night to go with Louisiana ...    NaN          NaN   \n",
       "6  This is definitely my favorite flavor, but rec...    NaN          NaN   \n",
       "7  I am not a chocolate person at all, and this w...    NaN          NaN   \n",
       "8  I LOVE caramel, so much so that I could eat it...    NaN          NaN   \n",
       "9  I love all the Ben & Jerry’s flavor. But recen...    NaN          NaN   \n",
       "\n",
       "   texture likes                                          full_text  \n",
       "0      NaN   NaN  Not enough brownies! Super good, don't get me ...  \n",
       "1      NaN   NaN  I’m OBSESSED with this pint! I decided to try ...  \n",
       "2      NaN   NaN  My favorite...More Caramel Please My caramel c...  \n",
       "3      NaN   NaN  Obsessed!!! Why are people complaining about t...  \n",
       "4      NaN   NaN  Worst Ice Cream Ever! This ice cream is worst ...  \n",
       "5      NaN   NaN  Way Too Salty I bought this last night to go w...  \n",
       "6      NaN   NaN  Love this flavor, but... This is definitely my...  \n",
       "7      NaN   NaN  Really Wanted To Love This I am not a chocolat...  \n",
       "8      NaN   NaN  Could be better. I LOVE caramel, so much so th...  \n",
       "9      NaN   NaN  Salted Caramel core had NO CARAMEL I love all ...  "
      ],
      "text/html": "<div>\n<style scoped>\n    .dataframe tbody tr th:only-of-type {\n        vertical-align: middle;\n    }\n\n    .dataframe tbody tr th {\n        vertical-align: top;\n    }\n\n    .dataframe thead th {\n        text-align: right;\n    }\n</style>\n<table border=\"1\" class=\"dataframe\">\n  <thead>\n    <tr style=\"text-align: right;\">\n      <th></th>\n      <th>brand</th>\n      <th>key</th>\n      <th>author</th>\n      <th>date</th>\n      <th>stars</th>\n      <th>title</th>\n      <th>helpful_yes</th>\n      <th>helpful_no</th>\n      <th>text</th>\n      <th>taste</th>\n      <th>ingredients</th>\n      <th>texture</th>\n      <th>likes</th>\n      <th>full_text</th>\n    </tr>\n  </thead>\n  <tbody>\n    <tr>\n      <th>0</th>\n      <td>bj</td>\n      <td>0_bj</td>\n      <td>Ilovebennjerry</td>\n      <td>2017-04-15</td>\n      <td>3</td>\n      <td>Not enough brownies!</td>\n      <td>10.0</td>\n      <td>3.0</td>\n      <td>Super good, don't get me wrong. But I came for...</td>\n      <td>NaN</td>\n      <td>NaN</td>\n      <td>NaN</td>\n      <td>NaN</td>\n      <td>Not enough brownies! Super good, don't get me ...</td>\n    </tr>\n    <tr>\n      <th>1</th>\n      <td>bj</td>\n      <td>0_bj</td>\n      <td>Sweettooth909</td>\n      <td>2020-01-05</td>\n      <td>5</td>\n      <td>I’m OBSESSED with this pint!</td>\n      <td>3.0</td>\n      <td>0.0</td>\n      <td>I decided to try it out although I’m not a hug...</td>\n      <td>NaN</td>\n      <td>NaN</td>\n      <td>NaN</td>\n      <td>NaN</td>\n      <td>I’m OBSESSED with this pint! I decided to try ...</td>\n    </tr>\n    <tr>\n      <th>2</th>\n      <td>bj</td>\n      <td>0_bj</td>\n      <td>LaTanga71</td>\n      <td>2018-04-26</td>\n      <td>3</td>\n      <td>My favorite...More Caramel Please</td>\n      <td>5.0</td>\n      <td>2.0</td>\n      <td>My caramel core begins to disappear about half...</td>\n      <td>NaN</td>\n      <td>NaN</td>\n      <td>NaN</td>\n      <td>NaN</td>\n      <td>My favorite...More Caramel Please My caramel c...</td>\n    </tr>\n    <tr>\n      <th>3</th>\n      <td>bj</td>\n      <td>0_bj</td>\n      <td>chicago220</td>\n      <td>2018-01-14</td>\n      <td>5</td>\n      <td>Obsessed!!!</td>\n      <td>24.0</td>\n      <td>1.0</td>\n      <td>Why are people complaining about the blonde br...</td>\n      <td>NaN</td>\n      <td>NaN</td>\n      <td>NaN</td>\n      <td>NaN</td>\n      <td>Obsessed!!! Why are people complaining about t...</td>\n    </tr>\n    <tr>\n      <th>4</th>\n      <td>bj</td>\n      <td>0_bj</td>\n      <td>Kassidyk</td>\n      <td>2020-07-24</td>\n      <td>1</td>\n      <td>Worst Ice Cream Ever!</td>\n      <td>1.0</td>\n      <td>5.0</td>\n      <td>This ice cream is worst ice cream I’ve ever ta...</td>\n      <td>NaN</td>\n      <td>NaN</td>\n      <td>NaN</td>\n      <td>NaN</td>\n      <td>Worst Ice Cream Ever! This ice cream is worst ...</td>\n    </tr>\n    <tr>\n      <th>5</th>\n      <td>bj</td>\n      <td>0_bj</td>\n      <td>Nikiera</td>\n      <td>2020-07-23</td>\n      <td>2</td>\n      <td>Way Too Salty</td>\n      <td>3.0</td>\n      <td>1.0</td>\n      <td>I bought this last night to go with Louisiana ...</td>\n      <td>NaN</td>\n      <td>NaN</td>\n      <td>NaN</td>\n      <td>NaN</td>\n      <td>Way Too Salty I bought this last night to go w...</td>\n    </tr>\n    <tr>\n      <th>6</th>\n      <td>bj</td>\n      <td>0_bj</td>\n      <td>Mmelvin</td>\n      <td>2017-05-28</td>\n      <td>3</td>\n      <td>Love this flavor, but...</td>\n      <td>3.0</td>\n      <td>3.0</td>\n      <td>This is definitely my favorite flavor, but rec...</td>\n      <td>NaN</td>\n      <td>NaN</td>\n      <td>NaN</td>\n      <td>NaN</td>\n      <td>Love this flavor, but... This is definitely my...</td>\n    </tr>\n    <tr>\n      <th>7</th>\n      <td>bj</td>\n      <td>0_bj</td>\n      <td>Shay10</td>\n      <td>2017-07-02</td>\n      <td>3</td>\n      <td>Really Wanted To Love This</td>\n      <td>4.0</td>\n      <td>1.0</td>\n      <td>I am not a chocolate person at all, and this w...</td>\n      <td>NaN</td>\n      <td>NaN</td>\n      <td>NaN</td>\n      <td>NaN</td>\n      <td>Really Wanted To Love This I am not a chocolat...</td>\n    </tr>\n    <tr>\n      <th>8</th>\n      <td>bj</td>\n      <td>0_bj</td>\n      <td>caramel4dayz</td>\n      <td>2017-07-16</td>\n      <td>2</td>\n      <td>Could be better.</td>\n      <td>8.0</td>\n      <td>6.0</td>\n      <td>I LOVE caramel, so much so that I could eat it...</td>\n      <td>NaN</td>\n      <td>NaN</td>\n      <td>NaN</td>\n      <td>NaN</td>\n      <td>Could be better. I LOVE caramel, so much so th...</td>\n    </tr>\n    <tr>\n      <th>9</th>\n      <td>bj</td>\n      <td>0_bj</td>\n      <td>RosaT777</td>\n      <td>2019-02-12</td>\n      <td>3</td>\n      <td>Salted Caramel core had NO CARAMEL</td>\n      <td>1.0</td>\n      <td>1.0</td>\n      <td>I love all the Ben &amp; Jerry’s flavor. But recen...</td>\n      <td>NaN</td>\n      <td>NaN</td>\n      <td>NaN</td>\n      <td>NaN</td>\n      <td>Salted Caramel core had NO CARAMEL I love all ...</td>\n    </tr>\n  </tbody>\n</table>\n</div>"
     },
     "metadata": {},
     "execution_count": 45
    }
   ],
   "source": [
    "df.head(10)"
   ]
  },
  {
   "cell_type": "code",
   "execution_count": 46,
   "metadata": {},
   "outputs": [
    {
     "output_type": "execute_result",
     "data": {
      "text/plain": [
       "              stars   helpful_yes    helpful_no        taste  ingredients  \\\n",
       "count  21674.000000  21674.000000  21674.000000  4265.000000  4265.000000   \n",
       "mean       4.223955      1.364815      0.443019     4.234701     4.323798   \n",
       "std        1.384121      8.234123      2.568762     1.401392     1.298888   \n",
       "min        1.000000      0.000000      0.000000     1.000000     1.000000   \n",
       "25%        4.000000      0.000000      0.000000     4.000000     4.000000   \n",
       "50%        5.000000      0.000000      0.000000     5.000000     5.000000   \n",
       "75%        5.000000      1.000000      0.000000     5.000000     5.000000   \n",
       "max        5.000000    421.000000    121.000000     5.000000     5.000000   \n",
       "\n",
       "           texture  \n",
       "count  4265.000000  \n",
       "mean      4.284642  \n",
       "std       1.363423  \n",
       "min       1.000000  \n",
       "25%       4.000000  \n",
       "50%       5.000000  \n",
       "75%       5.000000  \n",
       "max       5.000000  "
      ],
      "text/html": "<div>\n<style scoped>\n    .dataframe tbody tr th:only-of-type {\n        vertical-align: middle;\n    }\n\n    .dataframe tbody tr th {\n        vertical-align: top;\n    }\n\n    .dataframe thead th {\n        text-align: right;\n    }\n</style>\n<table border=\"1\" class=\"dataframe\">\n  <thead>\n    <tr style=\"text-align: right;\">\n      <th></th>\n      <th>stars</th>\n      <th>helpful_yes</th>\n      <th>helpful_no</th>\n      <th>taste</th>\n      <th>ingredients</th>\n      <th>texture</th>\n    </tr>\n  </thead>\n  <tbody>\n    <tr>\n      <th>count</th>\n      <td>21674.000000</td>\n      <td>21674.000000</td>\n      <td>21674.000000</td>\n      <td>4265.000000</td>\n      <td>4265.000000</td>\n      <td>4265.000000</td>\n    </tr>\n    <tr>\n      <th>mean</th>\n      <td>4.223955</td>\n      <td>1.364815</td>\n      <td>0.443019</td>\n      <td>4.234701</td>\n      <td>4.323798</td>\n      <td>4.284642</td>\n    </tr>\n    <tr>\n      <th>std</th>\n      <td>1.384121</td>\n      <td>8.234123</td>\n      <td>2.568762</td>\n      <td>1.401392</td>\n      <td>1.298888</td>\n      <td>1.363423</td>\n    </tr>\n    <tr>\n      <th>min</th>\n      <td>1.000000</td>\n      <td>0.000000</td>\n      <td>0.000000</td>\n      <td>1.000000</td>\n      <td>1.000000</td>\n      <td>1.000000</td>\n    </tr>\n    <tr>\n      <th>25%</th>\n      <td>4.000000</td>\n      <td>0.000000</td>\n      <td>0.000000</td>\n      <td>4.000000</td>\n      <td>4.000000</td>\n      <td>4.000000</td>\n    </tr>\n    <tr>\n      <th>50%</th>\n      <td>5.000000</td>\n      <td>0.000000</td>\n      <td>0.000000</td>\n      <td>5.000000</td>\n      <td>5.000000</td>\n      <td>5.000000</td>\n    </tr>\n    <tr>\n      <th>75%</th>\n      <td>5.000000</td>\n      <td>1.000000</td>\n      <td>0.000000</td>\n      <td>5.000000</td>\n      <td>5.000000</td>\n      <td>5.000000</td>\n    </tr>\n    <tr>\n      <th>max</th>\n      <td>5.000000</td>\n      <td>421.000000</td>\n      <td>121.000000</td>\n      <td>5.000000</td>\n      <td>5.000000</td>\n      <td>5.000000</td>\n    </tr>\n  </tbody>\n</table>\n</div>"
     },
     "metadata": {},
     "execution_count": 46
    }
   ],
   "source": [
    "df.describe()"
   ]
  },
  {
   "source": [
    "Mengambil kolom yang dibutuhkan"
   ],
   "cell_type": "markdown",
   "metadata": {}
  },
  {
   "cell_type": "code",
   "execution_count": 47,
   "metadata": {},
   "outputs": [],
   "source": [
    "df_training = df.drop(columns=['brand', 'key', 'author', 'date', 'helpful_yes', 'helpful_no', 'taste', 'ingredients', 'texture', 'likes', 'title', 'text'])"
   ]
  },
  {
   "cell_type": "code",
   "execution_count": 48,
   "metadata": {},
   "outputs": [
    {
     "output_type": "execute_result",
     "data": {
      "text/plain": [
       "              stars\n",
       "count  21674.000000\n",
       "mean       4.223955\n",
       "std        1.384121\n",
       "min        1.000000\n",
       "25%        4.000000\n",
       "50%        5.000000\n",
       "75%        5.000000\n",
       "max        5.000000"
      ],
      "text/html": "<div>\n<style scoped>\n    .dataframe tbody tr th:only-of-type {\n        vertical-align: middle;\n    }\n\n    .dataframe tbody tr th {\n        vertical-align: top;\n    }\n\n    .dataframe thead th {\n        text-align: right;\n    }\n</style>\n<table border=\"1\" class=\"dataframe\">\n  <thead>\n    <tr style=\"text-align: right;\">\n      <th></th>\n      <th>stars</th>\n    </tr>\n  </thead>\n  <tbody>\n    <tr>\n      <th>count</th>\n      <td>21674.000000</td>\n    </tr>\n    <tr>\n      <th>mean</th>\n      <td>4.223955</td>\n    </tr>\n    <tr>\n      <th>std</th>\n      <td>1.384121</td>\n    </tr>\n    <tr>\n      <th>min</th>\n      <td>1.000000</td>\n    </tr>\n    <tr>\n      <th>25%</th>\n      <td>4.000000</td>\n    </tr>\n    <tr>\n      <th>50%</th>\n      <td>5.000000</td>\n    </tr>\n    <tr>\n      <th>75%</th>\n      <td>5.000000</td>\n    </tr>\n    <tr>\n      <th>max</th>\n      <td>5.000000</td>\n    </tr>\n  </tbody>\n</table>\n</div>"
     },
     "metadata": {},
     "execution_count": 48
    }
   ],
   "source": [
    "df_training.head()\n",
    "df_training.describe()"
   ]
  },
  {
   "cell_type": "code",
   "execution_count": 49,
   "metadata": {},
   "outputs": [
    {
     "output_type": "execute_result",
     "data": {
      "text/plain": [
       "(21674, 2)"
      ]
     },
     "metadata": {},
     "execution_count": 49
    }
   ],
   "source": [
    "df_training.shape"
   ]
  },
  {
   "cell_type": "code",
   "execution_count": 50,
   "metadata": {},
   "outputs": [
    {
     "output_type": "execute_result",
     "data": {
      "text/plain": [
       "(16256, 2)"
      ]
     },
     "metadata": {},
     "execution_count": 50
    }
   ],
   "source": [
    "df_training.drop_duplicates(inplace=True)\n",
    "df_training.shape"
   ]
  },
  {
   "cell_type": "code",
   "execution_count": 51,
   "metadata": {},
   "outputs": [
    {
     "output_type": "execute_result",
     "data": {
      "text/plain": [
       "   stars                                          full_text\n",
       "0      3  Not enough brownies! Super good, don't get me ...\n",
       "1      5  I’m OBSESSED with this pint! I decided to try ...\n",
       "2      3  My favorite...More Caramel Please My caramel c...\n",
       "3      5  Obsessed!!! Why are people complaining about t...\n",
       "4      1  Worst Ice Cream Ever! This ice cream is worst ..."
      ],
      "text/html": "<div>\n<style scoped>\n    .dataframe tbody tr th:only-of-type {\n        vertical-align: middle;\n    }\n\n    .dataframe tbody tr th {\n        vertical-align: top;\n    }\n\n    .dataframe thead th {\n        text-align: right;\n    }\n</style>\n<table border=\"1\" class=\"dataframe\">\n  <thead>\n    <tr style=\"text-align: right;\">\n      <th></th>\n      <th>stars</th>\n      <th>full_text</th>\n    </tr>\n  </thead>\n  <tbody>\n    <tr>\n      <th>0</th>\n      <td>3</td>\n      <td>Not enough brownies! Super good, don't get me ...</td>\n    </tr>\n    <tr>\n      <th>1</th>\n      <td>5</td>\n      <td>I’m OBSESSED with this pint! I decided to try ...</td>\n    </tr>\n    <tr>\n      <th>2</th>\n      <td>3</td>\n      <td>My favorite...More Caramel Please My caramel c...</td>\n    </tr>\n    <tr>\n      <th>3</th>\n      <td>5</td>\n      <td>Obsessed!!! Why are people complaining about t...</td>\n    </tr>\n    <tr>\n      <th>4</th>\n      <td>1</td>\n      <td>Worst Ice Cream Ever! This ice cream is worst ...</td>\n    </tr>\n  </tbody>\n</table>\n</div>"
     },
     "metadata": {},
     "execution_count": 51
    }
   ],
   "source": [
    "df_training.head()"
   ]
  },
  {
   "source": [
    "Ternyata ada duplicates, maka aksi untuk drop duplicates sudah benar"
   ],
   "cell_type": "markdown",
   "metadata": {}
  },
  {
   "cell_type": "code",
   "execution_count": 52,
   "metadata": {},
   "outputs": [
    {
     "output_type": "display_data",
     "data": {
      "text/plain": "<Figure size 432x288 with 1 Axes>",
      "image/svg+xml": "<?xml version=\"1.0\" encoding=\"utf-8\" standalone=\"no\"?>\n<!DOCTYPE svg PUBLIC \"-//W3C//DTD SVG 1.1//EN\"\n  \"http://www.w3.org/Graphics/SVG/1.1/DTD/svg11.dtd\">\n<!-- Created with matplotlib (https://matplotlib.org/) -->\n<svg height=\"262.19625pt\" version=\"1.1\" viewBox=\"0 0 380.054687 262.19625\" width=\"380.054687pt\" xmlns=\"http://www.w3.org/2000/svg\" xmlns:xlink=\"http://www.w3.org/1999/xlink\">\n <defs>\n  <style type=\"text/css\">\n*{stroke-linecap:butt;stroke-linejoin:round;}\n  </style>\n </defs>\n <g id=\"figure_1\">\n  <g id=\"patch_1\">\n   <path d=\"M 0 262.19625 \nL 380.054687 262.19625 \nL 380.054687 0 \nL 0 0 \nz\n\" style=\"fill:none;\"/>\n  </g>\n  <g id=\"axes_1\">\n   <g id=\"patch_2\">\n    <path d=\"M 30.103125 224.64 \nL 364.903125 224.64 \nL 364.903125 7.2 \nL 30.103125 7.2 \nz\n\" style=\"fill:#ffffff;\"/>\n   </g>\n   <g id=\"patch_3\">\n    <path clip-path=\"url(#p4c9c4c4ad9)\" d=\"M 30.103125 224.64 \nL 43.495125 224.64 \nL 43.495125 179.62466 \nL 30.103125 179.62466 \nz\n\" style=\"fill:#1f77b4;opacity:0.4;\"/>\n   </g>\n   <g id=\"patch_4\">\n    <path clip-path=\"url(#p4c9c4c4ad9)\" d=\"M 43.495125 224.64 \nL 56.887125 224.64 \nL 56.887125 224.64 \nL 43.495125 224.64 \nz\n\" style=\"fill:#1f77b4;opacity:0.4;\"/>\n   </g>\n   <g id=\"patch_5\">\n    <path clip-path=\"url(#p4c9c4c4ad9)\" d=\"M 56.887125 224.64 \nL 70.279125 224.64 \nL 70.279125 224.64 \nL 56.887125 224.64 \nz\n\" style=\"fill:#1f77b4;opacity:0.4;\"/>\n   </g>\n   <g id=\"patch_6\">\n    <path clip-path=\"url(#p4c9c4c4ad9)\" d=\"M 70.279125 224.64 \nL 83.671125 224.64 \nL 83.671125 224.64 \nL 70.279125 224.64 \nz\n\" style=\"fill:#1f77b4;opacity:0.4;\"/>\n   </g>\n   <g id=\"patch_7\">\n    <path clip-path=\"url(#p4c9c4c4ad9)\" d=\"M 83.671125 224.64 \nL 97.063125 224.64 \nL 97.063125 224.64 \nL 83.671125 224.64 \nz\n\" style=\"fill:#1f77b4;opacity:0.4;\"/>\n   </g>\n   <g id=\"patch_8\">\n    <path clip-path=\"url(#p4c9c4c4ad9)\" d=\"M 97.063125 224.64 \nL 110.455125 224.64 \nL 110.455125 224.64 \nL 97.063125 224.64 \nz\n\" style=\"fill:#1f77b4;opacity:0.4;\"/>\n   </g>\n   <g id=\"patch_9\">\n    <path clip-path=\"url(#p4c9c4c4ad9)\" d=\"M 110.455125 224.64 \nL 123.847125 224.64 \nL 123.847125 204.18709 \nL 110.455125 204.18709 \nz\n\" style=\"fill:#1f77b4;opacity:0.4;\"/>\n   </g>\n   <g id=\"patch_10\">\n    <path clip-path=\"url(#p4c9c4c4ad9)\" d=\"M 123.847125 224.64 \nL 137.239125 224.64 \nL 137.239125 224.64 \nL 123.847125 224.64 \nz\n\" style=\"fill:#1f77b4;opacity:0.4;\"/>\n   </g>\n   <g id=\"patch_11\">\n    <path clip-path=\"url(#p4c9c4c4ad9)\" d=\"M 137.239125 224.64 \nL 150.631125 224.64 \nL 150.631125 224.64 \nL 137.239125 224.64 \nz\n\" style=\"fill:#1f77b4;opacity:0.4;\"/>\n   </g>\n   <g id=\"patch_12\">\n    <path clip-path=\"url(#p4c9c4c4ad9)\" d=\"M 150.631125 224.64 \nL 164.023125 224.64 \nL 164.023125 224.64 \nL 150.631125 224.64 \nz\n\" style=\"fill:#1f77b4;opacity:0.4;\"/>\n   </g>\n   <g id=\"patch_13\">\n    <path clip-path=\"url(#p4c9c4c4ad9)\" d=\"M 164.023125 224.64 \nL 177.415125 224.64 \nL 177.415125 224.64 \nL 164.023125 224.64 \nz\n\" style=\"fill:#1f77b4;opacity:0.4;\"/>\n   </g>\n   <g id=\"patch_14\">\n    <path clip-path=\"url(#p4c9c4c4ad9)\" d=\"M 177.415125 224.64 \nL 190.807125 224.64 \nL 190.807125 224.64 \nL 177.415125 224.64 \nz\n\" style=\"fill:#1f77b4;opacity:0.4;\"/>\n   </g>\n   <g id=\"patch_15\">\n    <path clip-path=\"url(#p4c9c4c4ad9)\" d=\"M 190.807125 224.64 \nL 204.199125 224.64 \nL 204.199125 208.088293 \nL 190.807125 208.088293 \nz\n\" style=\"fill:#1f77b4;opacity:0.4;\"/>\n   </g>\n   <g id=\"patch_16\">\n    <path clip-path=\"url(#p4c9c4c4ad9)\" d=\"M 204.199125 224.64 \nL 217.591125 224.64 \nL 217.591125 224.64 \nL 204.199125 224.64 \nz\n\" style=\"fill:#1f77b4;opacity:0.4;\"/>\n   </g>\n   <g id=\"patch_17\">\n    <path clip-path=\"url(#p4c9c4c4ad9)\" d=\"M 217.591125 224.64 \nL 230.983125 224.64 \nL 230.983125 224.64 \nL 217.591125 224.64 \nz\n\" style=\"fill:#1f77b4;opacity:0.4;\"/>\n   </g>\n   <g id=\"patch_18\">\n    <path clip-path=\"url(#p4c9c4c4ad9)\" d=\"M 230.983125 224.64 \nL 244.375125 224.64 \nL 244.375125 224.64 \nL 230.983125 224.64 \nz\n\" style=\"fill:#1f77b4;opacity:0.4;\"/>\n   </g>\n   <g id=\"patch_19\">\n    <path clip-path=\"url(#p4c9c4c4ad9)\" d=\"M 244.375125 224.64 \nL 257.767125 224.64 \nL 257.767125 224.64 \nL 244.375125 224.64 \nz\n\" style=\"fill:#1f77b4;opacity:0.4;\"/>\n   </g>\n   <g id=\"patch_20\">\n    <path clip-path=\"url(#p4c9c4c4ad9)\" d=\"M 257.767125 224.64 \nL 271.159125 224.64 \nL 271.159125 224.64 \nL 257.767125 224.64 \nz\n\" style=\"fill:#1f77b4;opacity:0.4;\"/>\n   </g>\n   <g id=\"patch_21\">\n    <path clip-path=\"url(#p4c9c4c4ad9)\" d=\"M 271.159125 224.64 \nL 284.551125 224.64 \nL 284.551125 205.891499 \nL 271.159125 205.891499 \nz\n\" style=\"fill:#1f77b4;opacity:0.4;\"/>\n   </g>\n   <g id=\"patch_22\">\n    <path clip-path=\"url(#p4c9c4c4ad9)\" d=\"M 284.551125 224.64 \nL 297.943125 224.64 \nL 297.943125 224.64 \nL 284.551125 224.64 \nz\n\" style=\"fill:#1f77b4;opacity:0.4;\"/>\n   </g>\n   <g id=\"patch_23\">\n    <path clip-path=\"url(#p4c9c4c4ad9)\" d=\"M 297.943125 224.64 \nL 311.335125 224.64 \nL 311.335125 224.64 \nL 297.943125 224.64 \nz\n\" style=\"fill:#1f77b4;opacity:0.4;\"/>\n   </g>\n   <g id=\"patch_24\">\n    <path clip-path=\"url(#p4c9c4c4ad9)\" d=\"M 311.335125 224.64 \nL 324.727125 224.64 \nL 324.727125 224.64 \nL 311.335125 224.64 \nz\n\" style=\"fill:#1f77b4;opacity:0.4;\"/>\n   </g>\n   <g id=\"patch_25\">\n    <path clip-path=\"url(#p4c9c4c4ad9)\" d=\"M 324.727125 224.64 \nL 338.119125 224.64 \nL 338.119125 224.64 \nL 324.727125 224.64 \nz\n\" style=\"fill:#1f77b4;opacity:0.4;\"/>\n   </g>\n   <g id=\"patch_26\">\n    <path clip-path=\"url(#p4c9c4c4ad9)\" d=\"M 338.119125 224.64 \nL 351.511125 224.64 \nL 351.511125 224.64 \nL 338.119125 224.64 \nz\n\" style=\"fill:#1f77b4;opacity:0.4;\"/>\n   </g>\n   <g id=\"patch_27\">\n    <path clip-path=\"url(#p4c9c4c4ad9)\" d=\"M 351.511125 224.64 \nL 364.903125 224.64 \nL 364.903125 17.554286 \nL 351.511125 17.554286 \nz\n\" style=\"fill:#1f77b4;opacity:0.4;\"/>\n   </g>\n   <g id=\"matplotlib.axis_1\">\n    <g id=\"xtick_1\">\n     <g id=\"line2d_1\">\n      <defs>\n       <path d=\"M 0 0 \nL 0 3.5 \n\" id=\"m054edcf610\" style=\"stroke:#000000;stroke-width:0.8;\"/>\n      </defs>\n      <g>\n       <use style=\"stroke:#000000;stroke-width:0.8;\" x=\"30.103125\" xlink:href=\"#m054edcf610\" y=\"224.64\"/>\n      </g>\n     </g>\n     <g id=\"text_1\">\n      <!-- 1.0 -->\n      <defs>\n       <path d=\"M 12.40625 8.296875 \nL 28.515625 8.296875 \nL 28.515625 63.921875 \nL 10.984375 60.40625 \nL 10.984375 69.390625 \nL 28.421875 72.90625 \nL 38.28125 72.90625 \nL 38.28125 8.296875 \nL 54.390625 8.296875 \nL 54.390625 0 \nL 12.40625 0 \nz\n\" id=\"DejaVuSans-49\"/>\n       <path d=\"M 10.6875 12.40625 \nL 21 12.40625 \nL 21 0 \nL 10.6875 0 \nz\n\" id=\"DejaVuSans-46\"/>\n       <path d=\"M 31.78125 66.40625 \nQ 24.171875 66.40625 20.328125 58.90625 \nQ 16.5 51.421875 16.5 36.375 \nQ 16.5 21.390625 20.328125 13.890625 \nQ 24.171875 6.390625 31.78125 6.390625 \nQ 39.453125 6.390625 43.28125 13.890625 \nQ 47.125 21.390625 47.125 36.375 \nQ 47.125 51.421875 43.28125 58.90625 \nQ 39.453125 66.40625 31.78125 66.40625 \nz\nM 31.78125 74.21875 \nQ 44.046875 74.21875 50.515625 64.515625 \nQ 56.984375 54.828125 56.984375 36.375 \nQ 56.984375 17.96875 50.515625 8.265625 \nQ 44.046875 -1.421875 31.78125 -1.421875 \nQ 19.53125 -1.421875 13.0625 8.265625 \nQ 6.59375 17.96875 6.59375 36.375 \nQ 6.59375 54.828125 13.0625 64.515625 \nQ 19.53125 74.21875 31.78125 74.21875 \nz\n\" id=\"DejaVuSans-48\"/>\n      </defs>\n      <g transform=\"translate(22.151563 239.238437)scale(0.1 -0.1)\">\n       <use xlink:href=\"#DejaVuSans-49\"/>\n       <use x=\"63.623047\" xlink:href=\"#DejaVuSans-46\"/>\n       <use x=\"95.410156\" xlink:href=\"#DejaVuSans-48\"/>\n      </g>\n     </g>\n    </g>\n    <g id=\"xtick_2\">\n     <g id=\"line2d_2\">\n      <g>\n       <use style=\"stroke:#000000;stroke-width:0.8;\" x=\"71.953125\" xlink:href=\"#m054edcf610\" y=\"224.64\"/>\n      </g>\n     </g>\n     <g id=\"text_2\">\n      <!-- 1.5 -->\n      <defs>\n       <path d=\"M 10.796875 72.90625 \nL 49.515625 72.90625 \nL 49.515625 64.59375 \nL 19.828125 64.59375 \nL 19.828125 46.734375 \nQ 21.96875 47.46875 24.109375 47.828125 \nQ 26.265625 48.1875 28.421875 48.1875 \nQ 40.625 48.1875 47.75 41.5 \nQ 54.890625 34.8125 54.890625 23.390625 \nQ 54.890625 11.625 47.5625 5.09375 \nQ 40.234375 -1.421875 26.90625 -1.421875 \nQ 22.3125 -1.421875 17.546875 -0.640625 \nQ 12.796875 0.140625 7.71875 1.703125 \nL 7.71875 11.625 \nQ 12.109375 9.234375 16.796875 8.0625 \nQ 21.484375 6.890625 26.703125 6.890625 \nQ 35.15625 6.890625 40.078125 11.328125 \nQ 45.015625 15.765625 45.015625 23.390625 \nQ 45.015625 31 40.078125 35.4375 \nQ 35.15625 39.890625 26.703125 39.890625 \nQ 22.75 39.890625 18.8125 39.015625 \nQ 14.890625 38.140625 10.796875 36.28125 \nz\n\" id=\"DejaVuSans-53\"/>\n      </defs>\n      <g transform=\"translate(64.001563 239.238437)scale(0.1 -0.1)\">\n       <use xlink:href=\"#DejaVuSans-49\"/>\n       <use x=\"63.623047\" xlink:href=\"#DejaVuSans-46\"/>\n       <use x=\"95.410156\" xlink:href=\"#DejaVuSans-53\"/>\n      </g>\n     </g>\n    </g>\n    <g id=\"xtick_3\">\n     <g id=\"line2d_3\">\n      <g>\n       <use style=\"stroke:#000000;stroke-width:0.8;\" x=\"113.803125\" xlink:href=\"#m054edcf610\" y=\"224.64\"/>\n      </g>\n     </g>\n     <g id=\"text_3\">\n      <!-- 2.0 -->\n      <defs>\n       <path d=\"M 19.1875 8.296875 \nL 53.609375 8.296875 \nL 53.609375 0 \nL 7.328125 0 \nL 7.328125 8.296875 \nQ 12.9375 14.109375 22.625 23.890625 \nQ 32.328125 33.6875 34.8125 36.53125 \nQ 39.546875 41.84375 41.421875 45.53125 \nQ 43.3125 49.21875 43.3125 52.78125 \nQ 43.3125 58.59375 39.234375 62.25 \nQ 35.15625 65.921875 28.609375 65.921875 \nQ 23.96875 65.921875 18.8125 64.3125 \nQ 13.671875 62.703125 7.8125 59.421875 \nL 7.8125 69.390625 \nQ 13.765625 71.78125 18.9375 73 \nQ 24.125 74.21875 28.421875 74.21875 \nQ 39.75 74.21875 46.484375 68.546875 \nQ 53.21875 62.890625 53.21875 53.421875 \nQ 53.21875 48.921875 51.53125 44.890625 \nQ 49.859375 40.875 45.40625 35.40625 \nQ 44.1875 33.984375 37.640625 27.21875 \nQ 31.109375 20.453125 19.1875 8.296875 \nz\n\" id=\"DejaVuSans-50\"/>\n      </defs>\n      <g transform=\"translate(105.851563 239.238437)scale(0.1 -0.1)\">\n       <use xlink:href=\"#DejaVuSans-50\"/>\n       <use x=\"63.623047\" xlink:href=\"#DejaVuSans-46\"/>\n       <use x=\"95.410156\" xlink:href=\"#DejaVuSans-48\"/>\n      </g>\n     </g>\n    </g>\n    <g id=\"xtick_4\">\n     <g id=\"line2d_4\">\n      <g>\n       <use style=\"stroke:#000000;stroke-width:0.8;\" x=\"155.653125\" xlink:href=\"#m054edcf610\" y=\"224.64\"/>\n      </g>\n     </g>\n     <g id=\"text_4\">\n      <!-- 2.5 -->\n      <g transform=\"translate(147.701563 239.238437)scale(0.1 -0.1)\">\n       <use xlink:href=\"#DejaVuSans-50\"/>\n       <use x=\"63.623047\" xlink:href=\"#DejaVuSans-46\"/>\n       <use x=\"95.410156\" xlink:href=\"#DejaVuSans-53\"/>\n      </g>\n     </g>\n    </g>\n    <g id=\"xtick_5\">\n     <g id=\"line2d_5\">\n      <g>\n       <use style=\"stroke:#000000;stroke-width:0.8;\" x=\"197.503125\" xlink:href=\"#m054edcf610\" y=\"224.64\"/>\n      </g>\n     </g>\n     <g id=\"text_5\">\n      <!-- 3.0 -->\n      <defs>\n       <path d=\"M 40.578125 39.3125 \nQ 47.65625 37.796875 51.625 33 \nQ 55.609375 28.21875 55.609375 21.1875 \nQ 55.609375 10.40625 48.1875 4.484375 \nQ 40.765625 -1.421875 27.09375 -1.421875 \nQ 22.515625 -1.421875 17.65625 -0.515625 \nQ 12.796875 0.390625 7.625 2.203125 \nL 7.625 11.71875 \nQ 11.71875 9.328125 16.59375 8.109375 \nQ 21.484375 6.890625 26.8125 6.890625 \nQ 36.078125 6.890625 40.9375 10.546875 \nQ 45.796875 14.203125 45.796875 21.1875 \nQ 45.796875 27.640625 41.28125 31.265625 \nQ 36.765625 34.90625 28.71875 34.90625 \nL 20.21875 34.90625 \nL 20.21875 43.015625 \nL 29.109375 43.015625 \nQ 36.375 43.015625 40.234375 45.921875 \nQ 44.09375 48.828125 44.09375 54.296875 \nQ 44.09375 59.90625 40.109375 62.90625 \nQ 36.140625 65.921875 28.71875 65.921875 \nQ 24.65625 65.921875 20.015625 65.03125 \nQ 15.375 64.15625 9.8125 62.3125 \nL 9.8125 71.09375 \nQ 15.4375 72.65625 20.34375 73.4375 \nQ 25.25 74.21875 29.59375 74.21875 \nQ 40.828125 74.21875 47.359375 69.109375 \nQ 53.90625 64.015625 53.90625 55.328125 \nQ 53.90625 49.265625 50.4375 45.09375 \nQ 46.96875 40.921875 40.578125 39.3125 \nz\n\" id=\"DejaVuSans-51\"/>\n      </defs>\n      <g transform=\"translate(189.551563 239.238437)scale(0.1 -0.1)\">\n       <use xlink:href=\"#DejaVuSans-51\"/>\n       <use x=\"63.623047\" xlink:href=\"#DejaVuSans-46\"/>\n       <use x=\"95.410156\" xlink:href=\"#DejaVuSans-48\"/>\n      </g>\n     </g>\n    </g>\n    <g id=\"xtick_6\">\n     <g id=\"line2d_6\">\n      <g>\n       <use style=\"stroke:#000000;stroke-width:0.8;\" x=\"239.353125\" xlink:href=\"#m054edcf610\" y=\"224.64\"/>\n      </g>\n     </g>\n     <g id=\"text_6\">\n      <!-- 3.5 -->\n      <g transform=\"translate(231.401563 239.238437)scale(0.1 -0.1)\">\n       <use xlink:href=\"#DejaVuSans-51\"/>\n       <use x=\"63.623047\" xlink:href=\"#DejaVuSans-46\"/>\n       <use x=\"95.410156\" xlink:href=\"#DejaVuSans-53\"/>\n      </g>\n     </g>\n    </g>\n    <g id=\"xtick_7\">\n     <g id=\"line2d_7\">\n      <g>\n       <use style=\"stroke:#000000;stroke-width:0.8;\" x=\"281.203125\" xlink:href=\"#m054edcf610\" y=\"224.64\"/>\n      </g>\n     </g>\n     <g id=\"text_7\">\n      <!-- 4.0 -->\n      <defs>\n       <path d=\"M 37.796875 64.3125 \nL 12.890625 25.390625 \nL 37.796875 25.390625 \nz\nM 35.203125 72.90625 \nL 47.609375 72.90625 \nL 47.609375 25.390625 \nL 58.015625 25.390625 \nL 58.015625 17.1875 \nL 47.609375 17.1875 \nL 47.609375 0 \nL 37.796875 0 \nL 37.796875 17.1875 \nL 4.890625 17.1875 \nL 4.890625 26.703125 \nz\n\" id=\"DejaVuSans-52\"/>\n      </defs>\n      <g transform=\"translate(273.251563 239.238437)scale(0.1 -0.1)\">\n       <use xlink:href=\"#DejaVuSans-52\"/>\n       <use x=\"63.623047\" xlink:href=\"#DejaVuSans-46\"/>\n       <use x=\"95.410156\" xlink:href=\"#DejaVuSans-48\"/>\n      </g>\n     </g>\n    </g>\n    <g id=\"xtick_8\">\n     <g id=\"line2d_8\">\n      <g>\n       <use style=\"stroke:#000000;stroke-width:0.8;\" x=\"323.053125\" xlink:href=\"#m054edcf610\" y=\"224.64\"/>\n      </g>\n     </g>\n     <g id=\"text_8\">\n      <!-- 4.5 -->\n      <g transform=\"translate(315.101563 239.238437)scale(0.1 -0.1)\">\n       <use xlink:href=\"#DejaVuSans-52\"/>\n       <use x=\"63.623047\" xlink:href=\"#DejaVuSans-46\"/>\n       <use x=\"95.410156\" xlink:href=\"#DejaVuSans-53\"/>\n      </g>\n     </g>\n    </g>\n    <g id=\"xtick_9\">\n     <g id=\"line2d_9\">\n      <g>\n       <use style=\"stroke:#000000;stroke-width:0.8;\" x=\"364.903125\" xlink:href=\"#m054edcf610\" y=\"224.64\"/>\n      </g>\n     </g>\n     <g id=\"text_9\">\n      <!-- 5.0 -->\n      <g transform=\"translate(356.951563 239.238437)scale(0.1 -0.1)\">\n       <use xlink:href=\"#DejaVuSans-53\"/>\n       <use x=\"63.623047\" xlink:href=\"#DejaVuSans-46\"/>\n       <use x=\"95.410156\" xlink:href=\"#DejaVuSans-48\"/>\n      </g>\n     </g>\n    </g>\n    <g id=\"text_10\">\n     <!-- stars -->\n     <defs>\n      <path d=\"M 44.28125 53.078125 \nL 44.28125 44.578125 \nQ 40.484375 46.53125 36.375 47.5 \nQ 32.28125 48.484375 27.875 48.484375 \nQ 21.1875 48.484375 17.84375 46.4375 \nQ 14.5 44.390625 14.5 40.28125 \nQ 14.5 37.15625 16.890625 35.375 \nQ 19.28125 33.59375 26.515625 31.984375 \nL 29.59375 31.296875 \nQ 39.15625 29.25 43.1875 25.515625 \nQ 47.21875 21.78125 47.21875 15.09375 \nQ 47.21875 7.46875 41.1875 3.015625 \nQ 35.15625 -1.421875 24.609375 -1.421875 \nQ 20.21875 -1.421875 15.453125 -0.5625 \nQ 10.6875 0.296875 5.421875 2 \nL 5.421875 11.28125 \nQ 10.40625 8.6875 15.234375 7.390625 \nQ 20.0625 6.109375 24.8125 6.109375 \nQ 31.15625 6.109375 34.5625 8.28125 \nQ 37.984375 10.453125 37.984375 14.40625 \nQ 37.984375 18.0625 35.515625 20.015625 \nQ 33.0625 21.96875 24.703125 23.78125 \nL 21.578125 24.515625 \nQ 13.234375 26.265625 9.515625 29.90625 \nQ 5.8125 33.546875 5.8125 39.890625 \nQ 5.8125 47.609375 11.28125 51.796875 \nQ 16.75 56 26.8125 56 \nQ 31.78125 56 36.171875 55.265625 \nQ 40.578125 54.546875 44.28125 53.078125 \nz\n\" id=\"DejaVuSans-115\"/>\n      <path d=\"M 18.3125 70.21875 \nL 18.3125 54.6875 \nL 36.8125 54.6875 \nL 36.8125 47.703125 \nL 18.3125 47.703125 \nL 18.3125 18.015625 \nQ 18.3125 11.328125 20.140625 9.421875 \nQ 21.96875 7.515625 27.59375 7.515625 \nL 36.8125 7.515625 \nL 36.8125 0 \nL 27.59375 0 \nQ 17.1875 0 13.234375 3.875 \nQ 9.28125 7.765625 9.28125 18.015625 \nL 9.28125 47.703125 \nL 2.6875 47.703125 \nL 2.6875 54.6875 \nL 9.28125 54.6875 \nL 9.28125 70.21875 \nz\n\" id=\"DejaVuSans-116\"/>\n      <path d=\"M 34.28125 27.484375 \nQ 23.390625 27.484375 19.1875 25 \nQ 14.984375 22.515625 14.984375 16.5 \nQ 14.984375 11.71875 18.140625 8.90625 \nQ 21.296875 6.109375 26.703125 6.109375 \nQ 34.1875 6.109375 38.703125 11.40625 \nQ 43.21875 16.703125 43.21875 25.484375 \nL 43.21875 27.484375 \nz\nM 52.203125 31.203125 \nL 52.203125 0 \nL 43.21875 0 \nL 43.21875 8.296875 \nQ 40.140625 3.328125 35.546875 0.953125 \nQ 30.953125 -1.421875 24.3125 -1.421875 \nQ 15.921875 -1.421875 10.953125 3.296875 \nQ 6 8.015625 6 15.921875 \nQ 6 25.140625 12.171875 29.828125 \nQ 18.359375 34.515625 30.609375 34.515625 \nL 43.21875 34.515625 \nL 43.21875 35.40625 \nQ 43.21875 41.609375 39.140625 45 \nQ 35.0625 48.390625 27.6875 48.390625 \nQ 23 48.390625 18.546875 47.265625 \nQ 14.109375 46.140625 10.015625 43.890625 \nL 10.015625 52.203125 \nQ 14.9375 54.109375 19.578125 55.046875 \nQ 24.21875 56 28.609375 56 \nQ 40.484375 56 46.34375 49.84375 \nQ 52.203125 43.703125 52.203125 31.203125 \nz\n\" id=\"DejaVuSans-97\"/>\n      <path d=\"M 41.109375 46.296875 \nQ 39.59375 47.171875 37.8125 47.578125 \nQ 36.03125 48 33.890625 48 \nQ 26.265625 48 22.1875 43.046875 \nQ 18.109375 38.09375 18.109375 28.8125 \nL 18.109375 0 \nL 9.078125 0 \nL 9.078125 54.6875 \nL 18.109375 54.6875 \nL 18.109375 46.1875 \nQ 20.953125 51.171875 25.484375 53.578125 \nQ 30.03125 56 36.53125 56 \nQ 37.453125 56 38.578125 55.875 \nQ 39.703125 55.765625 41.0625 55.515625 \nz\n\" id=\"DejaVuSans-114\"/>\n     </defs>\n     <g transform=\"translate(185.214063 252.916562)scale(0.1 -0.1)\">\n      <use xlink:href=\"#DejaVuSans-115\"/>\n      <use x=\"52.099609\" xlink:href=\"#DejaVuSans-116\"/>\n      <use x=\"91.308594\" xlink:href=\"#DejaVuSans-97\"/>\n      <use x=\"152.587891\" xlink:href=\"#DejaVuSans-114\"/>\n      <use x=\"193.701172\" xlink:href=\"#DejaVuSans-115\"/>\n     </g>\n    </g>\n   </g>\n   <g id=\"matplotlib.axis_2\">\n    <g id=\"ytick_1\">\n     <g id=\"line2d_10\">\n      <defs>\n       <path d=\"M 0 0 \nL -3.5 0 \n\" id=\"m118e97d3f9\" style=\"stroke:#000000;stroke-width:0.8;\"/>\n      </defs>\n      <g>\n       <use style=\"stroke:#000000;stroke-width:0.8;\" x=\"30.103125\" xlink:href=\"#m118e97d3f9\" y=\"224.64\"/>\n      </g>\n     </g>\n     <g id=\"text_11\">\n      <!-- 0.0 -->\n      <g transform=\"translate(7.2 228.439219)scale(0.1 -0.1)\">\n       <use xlink:href=\"#DejaVuSans-48\"/>\n       <use x=\"63.623047\" xlink:href=\"#DejaVuSans-46\"/>\n       <use x=\"95.410156\" xlink:href=\"#DejaVuSans-48\"/>\n      </g>\n     </g>\n    </g>\n    <g id=\"ytick_2\">\n     <g id=\"line2d_11\">\n      <g>\n       <use style=\"stroke:#000000;stroke-width:0.8;\" x=\"30.103125\" xlink:href=\"#m118e97d3f9\" y=\"200.011666\"/>\n      </g>\n     </g>\n     <g id=\"text_12\">\n      <!-- 0.5 -->\n      <g transform=\"translate(7.2 203.810885)scale(0.1 -0.1)\">\n       <use xlink:href=\"#DejaVuSans-48\"/>\n       <use x=\"63.623047\" xlink:href=\"#DejaVuSans-46\"/>\n       <use x=\"95.410156\" xlink:href=\"#DejaVuSans-53\"/>\n      </g>\n     </g>\n    </g>\n    <g id=\"ytick_3\">\n     <g id=\"line2d_12\">\n      <g>\n       <use style=\"stroke:#000000;stroke-width:0.8;\" x=\"30.103125\" xlink:href=\"#m118e97d3f9\" y=\"175.383332\"/>\n      </g>\n     </g>\n     <g id=\"text_13\">\n      <!-- 1.0 -->\n      <g transform=\"translate(7.2 179.182551)scale(0.1 -0.1)\">\n       <use xlink:href=\"#DejaVuSans-49\"/>\n       <use x=\"63.623047\" xlink:href=\"#DejaVuSans-46\"/>\n       <use x=\"95.410156\" xlink:href=\"#DejaVuSans-48\"/>\n      </g>\n     </g>\n    </g>\n    <g id=\"ytick_4\">\n     <g id=\"line2d_13\">\n      <g>\n       <use style=\"stroke:#000000;stroke-width:0.8;\" x=\"30.103125\" xlink:href=\"#m118e97d3f9\" y=\"150.754999\"/>\n      </g>\n     </g>\n     <g id=\"text_14\">\n      <!-- 1.5 -->\n      <g transform=\"translate(7.2 154.554217)scale(0.1 -0.1)\">\n       <use xlink:href=\"#DejaVuSans-49\"/>\n       <use x=\"63.623047\" xlink:href=\"#DejaVuSans-46\"/>\n       <use x=\"95.410156\" xlink:href=\"#DejaVuSans-53\"/>\n      </g>\n     </g>\n    </g>\n    <g id=\"ytick_5\">\n     <g id=\"line2d_14\">\n      <g>\n       <use style=\"stroke:#000000;stroke-width:0.8;\" x=\"30.103125\" xlink:href=\"#m118e97d3f9\" y=\"126.126665\"/>\n      </g>\n     </g>\n     <g id=\"text_15\">\n      <!-- 2.0 -->\n      <g transform=\"translate(7.2 129.925884)scale(0.1 -0.1)\">\n       <use xlink:href=\"#DejaVuSans-50\"/>\n       <use x=\"63.623047\" xlink:href=\"#DejaVuSans-46\"/>\n       <use x=\"95.410156\" xlink:href=\"#DejaVuSans-48\"/>\n      </g>\n     </g>\n    </g>\n    <g id=\"ytick_6\">\n     <g id=\"line2d_15\">\n      <g>\n       <use style=\"stroke:#000000;stroke-width:0.8;\" x=\"30.103125\" xlink:href=\"#m118e97d3f9\" y=\"101.498331\"/>\n      </g>\n     </g>\n     <g id=\"text_16\">\n      <!-- 2.5 -->\n      <g transform=\"translate(7.2 105.29755)scale(0.1 -0.1)\">\n       <use xlink:href=\"#DejaVuSans-50\"/>\n       <use x=\"63.623047\" xlink:href=\"#DejaVuSans-46\"/>\n       <use x=\"95.410156\" xlink:href=\"#DejaVuSans-53\"/>\n      </g>\n     </g>\n    </g>\n    <g id=\"ytick_7\">\n     <g id=\"line2d_16\">\n      <g>\n       <use style=\"stroke:#000000;stroke-width:0.8;\" x=\"30.103125\" xlink:href=\"#m118e97d3f9\" y=\"76.869997\"/>\n      </g>\n     </g>\n     <g id=\"text_17\">\n      <!-- 3.0 -->\n      <g transform=\"translate(7.2 80.669216)scale(0.1 -0.1)\">\n       <use xlink:href=\"#DejaVuSans-51\"/>\n       <use x=\"63.623047\" xlink:href=\"#DejaVuSans-46\"/>\n       <use x=\"95.410156\" xlink:href=\"#DejaVuSans-48\"/>\n      </g>\n     </g>\n    </g>\n    <g id=\"ytick_8\">\n     <g id=\"line2d_17\">\n      <g>\n       <use style=\"stroke:#000000;stroke-width:0.8;\" x=\"30.103125\" xlink:href=\"#m118e97d3f9\" y=\"52.241664\"/>\n      </g>\n     </g>\n     <g id=\"text_18\">\n      <!-- 3.5 -->\n      <g transform=\"translate(7.2 56.040882)scale(0.1 -0.1)\">\n       <use xlink:href=\"#DejaVuSans-51\"/>\n       <use x=\"63.623047\" xlink:href=\"#DejaVuSans-46\"/>\n       <use x=\"95.410156\" xlink:href=\"#DejaVuSans-53\"/>\n      </g>\n     </g>\n    </g>\n    <g id=\"ytick_9\">\n     <g id=\"line2d_18\">\n      <g>\n       <use style=\"stroke:#000000;stroke-width:0.8;\" x=\"30.103125\" xlink:href=\"#m118e97d3f9\" y=\"27.61333\"/>\n      </g>\n     </g>\n     <g id=\"text_19\">\n      <!-- 4.0 -->\n      <g transform=\"translate(7.2 31.412549)scale(0.1 -0.1)\">\n       <use xlink:href=\"#DejaVuSans-52\"/>\n       <use x=\"63.623047\" xlink:href=\"#DejaVuSans-46\"/>\n       <use x=\"95.410156\" xlink:href=\"#DejaVuSans-48\"/>\n      </g>\n     </g>\n    </g>\n   </g>\n   <g id=\"line2d_19\">\n    <path clip-path=\"url(#p4c9c4c4ad9)\" d=\"M -1 221.301247 \nL 1.639057 220.514053 \nL 5.16814 219.286293 \nL 19.284469 213.880388 \nL 22.813551 212.886253 \nL 26.342634 212.235113 \nL 29.871716 211.991214 \nL 33.400798 212.179084 \nL 36.92988 212.779371 \nL 40.458963 213.731951 \nL 43.988045 214.945551 \nL 54.575292 219.070077 \nL 58.104374 220.284008 \nL 61.633456 221.30708 \nL 65.162539 222.10897 \nL 68.691621 222.679351 \nL 72.220703 223.022294 \nL 75.749786 223.150901 \nL 79.278868 223.083496 \nL 82.80795 222.841973 \nL 86.337033 222.452137 \nL 93.395197 221.359462 \nL 103.982444 219.611419 \nL 107.511526 219.205292 \nL 111.040609 218.962117 \nL 114.569691 218.907039 \nL 118.098773 219.046053 \nL 121.627856 219.365182 \nL 128.68602 220.404715 \nL 139.273267 222.249251 \nL 146.331432 223.178257 \nL 149.860514 223.478949 \nL 153.389596 223.658512 \nL 156.918679 223.715334 \nL 160.447761 223.651503 \nL 167.505925 223.186074 \nL 174.56409 222.355063 \nL 188.680419 220.47183 \nL 192.209502 220.177948 \nL 195.738584 220.023141 \nL 199.267666 220.023166 \nL 202.796748 220.178039 \nL 209.854913 220.876183 \nL 227.500325 223.195048 \nL 234.558489 223.675332 \nL 238.087571 223.752213 \nL 241.616654 223.713659 \nL 245.145736 223.558629 \nL 252.203901 222.913511 \nL 259.262065 221.906255 \nL 269.849312 220.232955 \nL 273.378394 219.804172 \nL 276.907477 219.511101 \nL 280.436559 219.382328 \nL 283.965641 219.429821 \nL 287.494724 219.646406 \nL 294.552888 220.465185 \nL 301.611053 221.449647 \nL 305.140135 221.835911 \nL 308.669217 222.04652 \nL 312.1983 221.991492 \nL 315.727382 221.568826 \nL 319.256464 220.663294 \nL 322.785547 219.14936 \nL 326.314629 216.900776 \nL 329.843711 213.808285 \nL 333.372794 209.804892 \nL 336.901876 204.895494 \nL 340.430958 199.184991 \nL 343.96004 192.897169 \nL 351.018205 180.06797 \nL 354.547287 174.472124 \nL 358.07637 170.083297 \nL 361.605452 167.318474 \nL 365.134534 166.452625 \nL 368.663616 167.573912 \nL 372.192699 170.56906 \nL 375.721781 175.142304 \nL 379.250863 180.863566 \nL 381.054687 184.120215 \nL 381.054687 184.120215 \n\" style=\"fill:none;stroke:#1f77b4;stroke-linecap:square;stroke-width:1.5;\"/>\n   </g>\n   <g id=\"patch_28\">\n    <path d=\"M 30.103125 224.64 \nL 30.103125 7.2 \n\" style=\"fill:none;stroke:#000000;stroke-linecap:square;stroke-linejoin:miter;stroke-width:0.8;\"/>\n   </g>\n   <g id=\"patch_29\">\n    <path d=\"M 364.903125 224.64 \nL 364.903125 7.2 \n\" style=\"fill:none;stroke:#000000;stroke-linecap:square;stroke-linejoin:miter;stroke-width:0.8;\"/>\n   </g>\n   <g id=\"patch_30\">\n    <path d=\"M 30.103125 224.64 \nL 364.903125 224.64 \n\" style=\"fill:none;stroke:#000000;stroke-linecap:square;stroke-linejoin:miter;stroke-width:0.8;\"/>\n   </g>\n   <g id=\"patch_31\">\n    <path d=\"M 30.103125 7.2 \nL 364.903125 7.2 \n\" style=\"fill:none;stroke:#000000;stroke-linecap:square;stroke-linejoin:miter;stroke-width:0.8;\"/>\n   </g>\n  </g>\n </g>\n <defs>\n  <clipPath id=\"p4c9c4c4ad9\">\n   <rect height=\"217.44\" width=\"334.8\" x=\"30.103125\" y=\"7.2\"/>\n  </clipPath>\n </defs>\n</svg>\n",
      "image/png": "[encoded data removed]"
     },
     "metadata": {
      "needs_background": "light"
     }
    }
   ],
   "source": [
    "sns.distplot(df_training[\"stars\"], bins=25)\n",
    "plt.xlim([1,5])\n",
    "plt.show()"
   ]
  },
  {
   "source": [
    "Dapat dilihat bahwa terdapat kekurangan dari data, yaitu persebarannya kurang merata antara yang memiliki rating tinggi dengan rendah"
   ],
   "cell_type": "markdown",
   "metadata": {}
  },
  {
   "cell_type": "code",
   "execution_count": 53,
   "metadata": {},
   "outputs": [
    {
     "output_type": "execute_result",
     "data": {
      "text/plain": [
       "   stars                                          full_text\n",
       "0      1  Not enough brownies! Super good, don't get me ...\n",
       "1      1  I’m OBSESSED with this pint! I decided to try ...\n",
       "2      1  My favorite...More Caramel Please My caramel c...\n",
       "3      1  Obsessed!!! Why are people complaining about t...\n",
       "4      0  Worst Ice Cream Ever! This ice cream is worst ..."
      ],
      "text/html": "<div>\n<style scoped>\n    .dataframe tbody tr th:only-of-type {\n        vertical-align: middle;\n    }\n\n    .dataframe tbody tr th {\n        vertical-align: top;\n    }\n\n    .dataframe thead th {\n        text-align: right;\n    }\n</style>\n<table border=\"1\" class=\"dataframe\">\n  <thead>\n    <tr style=\"text-align: right;\">\n      <th></th>\n      <th>stars</th>\n      <th>full_text</th>\n    </tr>\n  </thead>\n  <tbody>\n    <tr>\n      <th>0</th>\n      <td>1</td>\n      <td>Not enough brownies! Super good, don't get me ...</td>\n    </tr>\n    <tr>\n      <th>1</th>\n      <td>1</td>\n      <td>I’m OBSESSED with this pint! I decided to try ...</td>\n    </tr>\n    <tr>\n      <th>2</th>\n      <td>1</td>\n      <td>My favorite...More Caramel Please My caramel c...</td>\n    </tr>\n    <tr>\n      <th>3</th>\n      <td>1</td>\n      <td>Obsessed!!! Why are people complaining about t...</td>\n    </tr>\n    <tr>\n      <th>4</th>\n      <td>0</td>\n      <td>Worst Ice Cream Ever! This ice cream is worst ...</td>\n    </tr>\n  </tbody>\n</table>\n</div>"
     },
     "metadata": {},
     "execution_count": 53
    }
   ],
   "source": [
    "# ubah rating start yang diberikan menjadi sebuah setiment 1/0 dengan sentiment positif >=3 dan kebalikannya\n",
    "df_training['stars'] = (df['stars'] >= 3).astype(int)\n",
    "df_training.head()"
   ]
  },
  {
   "cell_type": "code",
   "execution_count": 54,
   "metadata": {},
   "outputs": [
    {
     "output_type": "execute_result",
     "data": {
      "text/plain": [
       "   sentiment                                          full_text\n",
       "0          1  Not enough brownies! Super good, don't get me ...\n",
       "1          1  I’m OBSESSED with this pint! I decided to try ...\n",
       "2          1  My favorite...More Caramel Please My caramel c...\n",
       "3          1  Obsessed!!! Why are people complaining about t...\n",
       "4          0  Worst Ice Cream Ever! This ice cream is worst ..."
      ],
      "text/html": "<div>\n<style scoped>\n    .dataframe tbody tr th:only-of-type {\n        vertical-align: middle;\n    }\n\n    .dataframe tbody tr th {\n        vertical-align: top;\n    }\n\n    .dataframe thead th {\n        text-align: right;\n    }\n</style>\n<table border=\"1\" class=\"dataframe\">\n  <thead>\n    <tr style=\"text-align: right;\">\n      <th></th>\n      <th>sentiment</th>\n      <th>full_text</th>\n    </tr>\n  </thead>\n  <tbody>\n    <tr>\n      <th>0</th>\n      <td>1</td>\n      <td>Not enough brownies! Super good, don't get me ...</td>\n    </tr>\n    <tr>\n      <th>1</th>\n      <td>1</td>\n      <td>I’m OBSESSED with this pint! I decided to try ...</td>\n    </tr>\n    <tr>\n      <th>2</th>\n      <td>1</td>\n      <td>My favorite...More Caramel Please My caramel c...</td>\n    </tr>\n    <tr>\n      <th>3</th>\n      <td>1</td>\n      <td>Obsessed!!! Why are people complaining about t...</td>\n    </tr>\n    <tr>\n      <th>4</th>\n      <td>0</td>\n      <td>Worst Ice Cream Ever! This ice cream is worst ...</td>\n    </tr>\n  </tbody>\n</table>\n</div>"
     },
     "metadata": {},
     "execution_count": 54
    }
   ],
   "source": [
    "df_training.rename(columns={'stars': 'sentiment'}).head()"
   ]
  },
  {
   "cell_type": "code",
   "execution_count": 55,
   "metadata": {},
   "outputs": [
    {
     "output_type": "execute_result",
     "data": {
      "text/plain": [
       "              stars\n",
       "count  16256.000000\n",
       "mean       0.787340\n",
       "std        0.409202\n",
       "min        0.000000\n",
       "25%        1.000000\n",
       "50%        1.000000\n",
       "75%        1.000000\n",
       "max        1.000000"
      ],
      "text/html": "<div>\n<style scoped>\n    .dataframe tbody tr th:only-of-type {\n        vertical-align: middle;\n    }\n\n    .dataframe tbody tr th {\n        vertical-align: top;\n    }\n\n    .dataframe thead th {\n        text-align: right;\n    }\n</style>\n<table border=\"1\" class=\"dataframe\">\n  <thead>\n    <tr style=\"text-align: right;\">\n      <th></th>\n      <th>stars</th>\n    </tr>\n  </thead>\n  <tbody>\n    <tr>\n      <th>count</th>\n      <td>16256.000000</td>\n    </tr>\n    <tr>\n      <th>mean</th>\n      <td>0.787340</td>\n    </tr>\n    <tr>\n      <th>std</th>\n      <td>0.409202</td>\n    </tr>\n    <tr>\n      <th>min</th>\n      <td>0.000000</td>\n    </tr>\n    <tr>\n      <th>25%</th>\n      <td>1.000000</td>\n    </tr>\n    <tr>\n      <th>50%</th>\n      <td>1.000000</td>\n    </tr>\n    <tr>\n      <th>75%</th>\n      <td>1.000000</td>\n    </tr>\n    <tr>\n      <th>max</th>\n      <td>1.000000</td>\n    </tr>\n  </tbody>\n</table>\n</div>"
     },
     "metadata": {},
     "execution_count": 55
    }
   ],
   "source": [
    "df_training.describe()"
   ]
  },
  {
   "cell_type": "code",
   "execution_count": 56,
   "metadata": {},
   "outputs": [
    {
     "output_type": "execute_result",
     "data": {
      "text/plain": [
       "(16256, 2)"
      ]
     },
     "metadata": {},
     "execution_count": 56
    }
   ],
   "source": [
    "df_training.shape"
   ]
  },
  {
   "source": [
    "### 1. Preprocessing"
   ],
   "cell_type": "markdown",
   "metadata": {}
  },
  {
   "cell_type": "code",
   "execution_count": 57,
   "metadata": {},
   "outputs": [],
   "source": [
    "spell = Speller(lang='en')"
   ]
  },
  {
   "cell_type": "code",
   "execution_count": 58,
   "metadata": {},
   "outputs": [],
   "source": [
    "def word_tokenize(sentence):\n",
    "    return nltk.word_tokenize(sentence.lower())\n",
    "\n",
    "def process_text(text_input): # processing yang dilakukan hanya spelling correction dengan library autocorrect\n",
    "    print(text_input)\n",
    "    return (spell(text_input))"
   ]
  },
  {
   "cell_type": "code",
   "execution_count": 59,
   "metadata": {},
   "outputs": [],
   "source": [
    "df['full_text'] = df['full_text'].astype(str)\n",
    "df_training.full_text = df.full_text.str.lower()\n",
    "\n",
    "# df_training['text'] = df_training['text'].apply(process_text)\n",
    "\n"
   ]
  },
  {
   "cell_type": "code",
   "execution_count": 60,
   "metadata": {},
   "outputs": [],
   "source": [
    "df_training['text'] = df_training['full_text'].apply(word_tokenize) # tokenisasi kalimat setiap data"
   ]
  },
  {
   "cell_type": "code",
   "execution_count": 61,
   "metadata": {},
   "outputs": [
    {
     "output_type": "execute_result",
     "data": {
      "text/plain": [
       "   stars                                          full_text  \\\n",
       "0      1  not enough brownies! super good, don't get me ...   \n",
       "1      1  i’m obsessed with this pint! i decided to try ...   \n",
       "2      1  my favorite...more caramel please my caramel c...   \n",
       "3      1  obsessed!!! why are people complaining about t...   \n",
       "4      0  worst ice cream ever! this ice cream is worst ...   \n",
       "\n",
       "                                                text  \n",
       "0  [not, enough, brownies, !, super, good, ,, do,...  \n",
       "1  [i, ’, m, obsessed, with, this, pint, !, i, de...  \n",
       "2  [my, favorite, ..., more, caramel, please, my,...  \n",
       "3  [obsessed, !, !, !, why, are, people, complain...  \n",
       "4  [worst, ice, cream, ever, !, this, ice, cream,...  "
      ],
      "text/html": "<div>\n<style scoped>\n    .dataframe tbody tr th:only-of-type {\n        vertical-align: middle;\n    }\n\n    .dataframe tbody tr th {\n        vertical-align: top;\n    }\n\n    .dataframe thead th {\n        text-align: right;\n    }\n</style>\n<table border=\"1\" class=\"dataframe\">\n  <thead>\n    <tr style=\"text-align: right;\">\n      <th></th>\n      <th>stars</th>\n      <th>full_text</th>\n      <th>text</th>\n    </tr>\n  </thead>\n  <tbody>\n    <tr>\n      <th>0</th>\n      <td>1</td>\n      <td>not enough brownies! super good, don't get me ...</td>\n      <td>[not, enough, brownies, !, super, good, ,, do,...</td>\n    </tr>\n    <tr>\n      <th>1</th>\n      <td>1</td>\n      <td>i’m obsessed with this pint! i decided to try ...</td>\n      <td>[i, ’, m, obsessed, with, this, pint, !, i, de...</td>\n    </tr>\n    <tr>\n      <th>2</th>\n      <td>1</td>\n      <td>my favorite...more caramel please my caramel c...</td>\n      <td>[my, favorite, ..., more, caramel, please, my,...</td>\n    </tr>\n    <tr>\n      <th>3</th>\n      <td>1</td>\n      <td>obsessed!!! why are people complaining about t...</td>\n      <td>[obsessed, !, !, !, why, are, people, complain...</td>\n    </tr>\n    <tr>\n      <th>4</th>\n      <td>0</td>\n      <td>worst ice cream ever! this ice cream is worst ...</td>\n      <td>[worst, ice, cream, ever, !, this, ice, cream,...</td>\n    </tr>\n  </tbody>\n</table>\n</div>"
     },
     "metadata": {},
     "execution_count": 61
    }
   ],
   "source": [
    "df_training.head()"
   ]
  },
  {
   "cell_type": "code",
   "execution_count": 62,
   "metadata": {},
   "outputs": [],
   "source": [
    "# membaca kalimat-kalimat di Treebank yang sudah diberi tag\n",
    "nltk_data = list(nltk.corpus.treebank.tagged_sents(tagset='universal'))"
   ]
  },
  {
   "cell_type": "code",
   "execution_count": 63,
   "metadata": {
    "tags": []
   },
   "outputs": [],
   "source": [
    "# penambahan status start dan end untuk penghitungan transition probability start dan end\n",
    "for i in range(len(nltk_data)):\n",
    "    for j in range(len(nltk_data[i])):\n",
    "        if (j == 0):\n",
    "            nltk_data[i][j] = nltk_data[i][j] + ('S',)\n",
    "        elif (j == len(nltk_data[i]) - 1):\n",
    "            nltk_data[i][j] = nltk_data[i][j] + ('E',)\n",
    "        else:\n",
    "            nltk_data[i][j] = nltk_data[i][j] + (nltk_data[i][j][1],)"
   ]
  },
  {
   "cell_type": "code",
   "execution_count": 64,
   "metadata": {},
   "outputs": [],
   "source": [
    "# split data menjadi training dan test dengan rasio 80:20\n",
    "train_set,test_set =train_test_split(nltk_data,train_size=0.80,test_size=0.20,random_state = 101)\n"
   ]
  },
  {
   "cell_type": "code",
   "execution_count": 65,
   "metadata": {
    "tags": []
   },
   "outputs": [
    {
     "output_type": "stream",
     "name": "stdout",
     "text": [
      "[('At', 'ADP', 'S'), ('last', 'ADJ', 'ADJ'), ('count', 'NOUN', 'NOUN'), (',', '.', '.'), ('Candela', 'NOUN', 'NOUN'), ('had', 'VERB', 'VERB'), ('sold', 'VERB', 'VERB'), ('$', '.', '.'), ('4', 'NUM', 'NUM'), ('million', 'NUM', 'NUM'), ('*U*', 'X', 'X'), ('of', 'ADP', 'ADP'), ('its', 'PRON', 'PRON'), ('medical', 'ADJ', 'ADJ'), ('devices', 'NOUN', 'NOUN'), ('in', 'ADP', 'ADP'), ('Japan', 'NOUN', 'NOUN'), ('.', '.', 'E')]\n"
     ]
    }
   ],
   "source": [
    "print(train_set[1])"
   ]
  },
  {
   "source": [
    "## Mulai ngetrain si pos taggernya dari sini"
   ],
   "cell_type": "markdown",
   "metadata": {}
  },
  {
   "cell_type": "code",
   "execution_count": 66,
   "metadata": {},
   "outputs": [
    {
     "output_type": "stream",
     "name": "stdout",
     "text": [
      "80310\n20366\n"
     ]
    }
   ],
   "source": [
    "# membuat list tuple dari setiap pasangan kata dan tag di training dan test dataset\n",
    "train_tagged_words = [ tup for sent in train_set for tup in sent ]\n",
    "test_tagged_words = [ tup for sent in test_set for tup in sent ]\n",
    "print(len(train_tagged_words))\n",
    "print(len(test_tagged_words))"
   ]
  },
  {
   "cell_type": "code",
   "execution_count": 67,
   "metadata": {},
   "outputs": [
    {
     "output_type": "execute_result",
     "data": {
      "text/plain": [
       "[('Drink', 'NOUN', 'S'),\n",
       " ('Carrier', 'NOUN', 'NOUN'),\n",
       " ('Competes', 'VERB', 'VERB'),\n",
       " ('With', 'ADP', 'ADP'),\n",
       " ('Cartons', 'NOUN', 'E'),\n",
       " ('At', 'ADP', 'S'),\n",
       " ('last', 'ADJ', 'ADJ'),\n",
       " ('count', 'NOUN', 'NOUN'),\n",
       " (',', '.', '.'),\n",
       " ('Candela', 'NOUN', 'NOUN')]"
      ]
     },
     "metadata": {},
     "execution_count": 67
    }
   ],
   "source": [
    "# check some of the tagged words.\n",
    "train_tagged_words[:10]"
   ]
  },
  {
   "cell_type": "code",
   "execution_count": 68,
   "metadata": {
    "tags": []
   },
   "outputs": [
    {
     "output_type": "stream",
     "name": "stdout",
     "text": [
      "12\n{'VERB', 'CONJ', 'S', 'E', 'PRT', 'ADJ', '.', 'X', 'PRON', 'DET', 'ADP', 'NOUN', 'ADV', 'NUM'}\n11052\n"
     ]
    }
   ],
   "source": [
    "#cek ada berapa banyak tag unik, lalu ditambahkan 2 tag yaitu S untuk Start dan E untuk End\n",
    "tags = {tag1 for word,tag1,tag2 in train_tagged_words}\n",
    "print(len(tags))\n",
    "tags.add('S')\n",
    "tags.add('E')\n",
    "print(tags)\n",
    "\n",
    "# cek vocabulary pada dataset\n",
    "vocabulary = {word for word,tag1,tag2 in train_tagged_words}\n",
    "print(len(vocabulary))"
   ]
  },
  {
   "source": [
    "## Trus buat object si POS Taggernya dari sini"
   ],
   "cell_type": "markdown",
   "metadata": {}
  },
  {
   "cell_type": "code",
   "execution_count": 69,
   "metadata": {},
   "outputs": [],
   "source": [
    "pos_tag = POSTagger(train_tagged_words, tags)\n",
    "pos_tag.create_tags_df()\n"
   ]
  },
  {
   "cell_type": "code",
   "execution_count": 70,
   "metadata": {},
   "outputs": [
    {
     "output_type": "stream",
     "name": "stdout",
     "text": [
      "Time taken in seconds:  30.85319709777832\nViterbi Algorithm Accuracy:  95.21531100478468\n"
     ]
    }
   ],
   "source": [
    "pos_tag.test(test_set)"
   ]
  },
  {
   "source": [
    "## Ini cara nyobainnya"
   ],
   "cell_type": "markdown",
   "metadata": {}
  },
  {
   "cell_type": "code",
   "execution_count": 71,
   "metadata": {},
   "outputs": [
    {
     "output_type": "stream",
     "name": "stdout",
     "text": [
      "[('I', 'PRON'), ('was', 'VERB'), ('so', 'ADV'), ('crazily', 'VERB'), ('angry', 'ADJ')]\n"
     ]
    }
   ],
   "source": [
    "test_word = ['I', 'was', 'so', 'crazily', 'angry']\n",
    "answer = pos_tag.Viterbi(test_word)\n",
    "print(answer)"
   ]
  },
  {
   "cell_type": "code",
   "execution_count": null,
   "metadata": {},
   "outputs": [],
   "source": []
  }
 ]
}