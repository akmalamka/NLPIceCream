{
 "metadata": {
  "language_info": {
   "codemirror_mode": {
    "name": "ipython",
    "version": 3
   },
   "file_extension": ".py",
   "mimetype": "text/x-python",
   "name": "python",
   "nbconvert_exporter": "python",
   "pygments_lexer": "ipython3",
   "version": "3.8.3-final"
  },
  "orig_nbformat": 2,
  "kernelspec": {
   "name": "python3",
   "display_name": "Python 3"
  }
 },
 "nbformat": 4,
 "nbformat_minor": 2,
 "cells": [
  {
   "source": [
    "# Aspect Based Sentiment Analysis with Ice Cream Database"
   ],
   "cell_type": "markdown",
   "metadata": {}
  },
  {
   "source": [
    "### oleh :  <br/>\n",
    "### Avisenna Abimanyu (13517010) <br/>\n",
    "### Muhammad Akmal (13517028) <br/>\n",
    "### Muhammad Nurdin Husen (13517112) <br/>"
   ],
   "cell_type": "markdown",
   "metadata": {}
  },
  {
   "source": [
    "import library"
   ],
   "cell_type": "markdown",
   "metadata": {}
  },
  {
   "cell_type": "code",
   "execution_count": 2,
   "metadata": {},
   "outputs": [],
   "source": [
    "import pandas as pd\n",
    "import numpy as np\n",
    "import nltk\n",
    "import seaborn as sns\n",
    "from collections import Counter\n",
    "import matplotlib.dates as mdates\n",
    "import matplotlib.pyplot as plt\n",
    "from sklearn.model_selection import train_test_split\n",
    "from autocorrect import Speller"
   ]
  },
  {
   "cell_type": "code",
   "execution_count": 3,
   "metadata": {},
   "outputs": [
    {
     "output_type": "stream",
     "name": "stderr",
     "text": [
      "[nltk_data] Downloading package treebank to /Users/akmalm/nltk_data...\n[nltk_data]   Package treebank is already up-to-date!\n[nltk_data] Downloading package universal_tagset to\n[nltk_data]     /Users/akmalm/nltk_data...\n[nltk_data]   Package universal_tagset is already up-to-date!\n"
     ]
    },
    {
     "output_type": "execute_result",
     "data": {
      "text/plain": [
       "True"
      ]
     },
     "metadata": {},
     "execution_count": 3
    }
   ],
   "source": [
    "#download treebank corpus dari nltk\n",
    "nltk.download('treebank')\n",
    " \n",
    "#download niversal tagset dari nltk\n",
    "nltk.download('universal_tagset')\n",
    " \n"
   ]
  },
  {
   "source": [
    "### 0. Exploratory Data Analysis"
   ],
   "cell_type": "markdown",
   "metadata": {}
  },
  {
   "cell_type": "code",
   "execution_count": 4,
   "metadata": {},
   "outputs": [],
   "source": [
    "# pd.options.display.max_rows = None\n",
    "df = pd.read_csv('reviews.csv')"
   ]
  },
  {
   "cell_type": "code",
   "execution_count": 5,
   "metadata": {},
   "outputs": [
    {
     "output_type": "execute_result",
     "data": {
      "text/plain": [
       "  brand   key          author        date  stars  \\\n",
       "0    bj  0_bj  Ilovebennjerry  2017-04-15      3   \n",
       "1    bj  0_bj   Sweettooth909  2020-01-05      5   \n",
       "2    bj  0_bj       LaTanga71  2018-04-26      3   \n",
       "3    bj  0_bj      chicago220  2018-01-14      5   \n",
       "4    bj  0_bj        Kassidyk  2020-07-24      1   \n",
       "5    bj  0_bj         Nikiera  2020-07-23      2   \n",
       "6    bj  0_bj         Mmelvin  2017-05-28      3   \n",
       "7    bj  0_bj          Shay10  2017-07-02      3   \n",
       "8    bj  0_bj    caramel4dayz  2017-07-16      2   \n",
       "9    bj  0_bj        RosaT777  2019-02-12      3   \n",
       "\n",
       "                                title  helpful_yes  helpful_no  \\\n",
       "0                Not enough brownies!         10.0         3.0   \n",
       "1        I’m OBSESSED with this pint!          3.0         0.0   \n",
       "2   My favorite...More Caramel Please          5.0         2.0   \n",
       "3                         Obsessed!!!         24.0         1.0   \n",
       "4               Worst Ice Cream Ever!          1.0         5.0   \n",
       "5                       Way Too Salty          3.0         1.0   \n",
       "6            Love this flavor, but...          3.0         3.0   \n",
       "7          Really Wanted To Love This          4.0         1.0   \n",
       "8                    Could be better.          8.0         6.0   \n",
       "9  Salted Caramel core had NO CARAMEL          1.0         1.0   \n",
       "\n",
       "                                                text  taste  ingredients  \\\n",
       "0  Super good, don't get me wrong. But I came for...    NaN          NaN   \n",
       "1  I decided to try it out although I’m not a hug...    NaN          NaN   \n",
       "2  My caramel core begins to disappear about half...    NaN          NaN   \n",
       "3  Why are people complaining about the blonde br...    NaN          NaN   \n",
       "4  This ice cream is worst ice cream I’ve ever ta...    NaN          NaN   \n",
       "5  I bought this last night to go with Louisiana ...    NaN          NaN   \n",
       "6  This is definitely my favorite flavor, but rec...    NaN          NaN   \n",
       "7  I am not a chocolate person at all, and this w...    NaN          NaN   \n",
       "8  I LOVE caramel, so much so that I could eat it...    NaN          NaN   \n",
       "9  I love all the Ben & Jerry’s flavor. But recen...    NaN          NaN   \n",
       "\n",
       "   texture likes  \n",
       "0      NaN   NaN  \n",
       "1      NaN   NaN  \n",
       "2      NaN   NaN  \n",
       "3      NaN   NaN  \n",
       "4      NaN   NaN  \n",
       "5      NaN   NaN  \n",
       "6      NaN   NaN  \n",
       "7      NaN   NaN  \n",
       "8      NaN   NaN  \n",
       "9      NaN   NaN  "
      ],
      "text/html": "<div>\n<style scoped>\n    .dataframe tbody tr th:only-of-type {\n        vertical-align: middle;\n    }\n\n    .dataframe tbody tr th {\n        vertical-align: top;\n    }\n\n    .dataframe thead th {\n        text-align: right;\n    }\n</style>\n<table border=\"1\" class=\"dataframe\">\n  <thead>\n    <tr style=\"text-align: right;\">\n      <th></th>\n      <th>brand</th>\n      <th>key</th>\n      <th>author</th>\n      <th>date</th>\n      <th>stars</th>\n      <th>title</th>\n      <th>helpful_yes</th>\n      <th>helpful_no</th>\n      <th>text</th>\n      <th>taste</th>\n      <th>ingredients</th>\n      <th>texture</th>\n      <th>likes</th>\n    </tr>\n  </thead>\n  <tbody>\n    <tr>\n      <th>0</th>\n      <td>bj</td>\n      <td>0_bj</td>\n      <td>Ilovebennjerry</td>\n      <td>2017-04-15</td>\n      <td>3</td>\n      <td>Not enough brownies!</td>\n      <td>10.0</td>\n      <td>3.0</td>\n      <td>Super good, don't get me wrong. But I came for...</td>\n      <td>NaN</td>\n      <td>NaN</td>\n      <td>NaN</td>\n      <td>NaN</td>\n    </tr>\n    <tr>\n      <th>1</th>\n      <td>bj</td>\n      <td>0_bj</td>\n      <td>Sweettooth909</td>\n      <td>2020-01-05</td>\n      <td>5</td>\n      <td>I’m OBSESSED with this pint!</td>\n      <td>3.0</td>\n      <td>0.0</td>\n      <td>I decided to try it out although I’m not a hug...</td>\n      <td>NaN</td>\n      <td>NaN</td>\n      <td>NaN</td>\n      <td>NaN</td>\n    </tr>\n    <tr>\n      <th>2</th>\n      <td>bj</td>\n      <td>0_bj</td>\n      <td>LaTanga71</td>\n      <td>2018-04-26</td>\n      <td>3</td>\n      <td>My favorite...More Caramel Please</td>\n      <td>5.0</td>\n      <td>2.0</td>\n      <td>My caramel core begins to disappear about half...</td>\n      <td>NaN</td>\n      <td>NaN</td>\n      <td>NaN</td>\n      <td>NaN</td>\n    </tr>\n    <tr>\n      <th>3</th>\n      <td>bj</td>\n      <td>0_bj</td>\n      <td>chicago220</td>\n      <td>2018-01-14</td>\n      <td>5</td>\n      <td>Obsessed!!!</td>\n      <td>24.0</td>\n      <td>1.0</td>\n      <td>Why are people complaining about the blonde br...</td>\n      <td>NaN</td>\n      <td>NaN</td>\n      <td>NaN</td>\n      <td>NaN</td>\n    </tr>\n    <tr>\n      <th>4</th>\n      <td>bj</td>\n      <td>0_bj</td>\n      <td>Kassidyk</td>\n      <td>2020-07-24</td>\n      <td>1</td>\n      <td>Worst Ice Cream Ever!</td>\n      <td>1.0</td>\n      <td>5.0</td>\n      <td>This ice cream is worst ice cream I’ve ever ta...</td>\n      <td>NaN</td>\n      <td>NaN</td>\n      <td>NaN</td>\n      <td>NaN</td>\n    </tr>\n    <tr>\n      <th>5</th>\n      <td>bj</td>\n      <td>0_bj</td>\n      <td>Nikiera</td>\n      <td>2020-07-23</td>\n      <td>2</td>\n      <td>Way Too Salty</td>\n      <td>3.0</td>\n      <td>1.0</td>\n      <td>I bought this last night to go with Louisiana ...</td>\n      <td>NaN</td>\n      <td>NaN</td>\n      <td>NaN</td>\n      <td>NaN</td>\n    </tr>\n    <tr>\n      <th>6</th>\n      <td>bj</td>\n      <td>0_bj</td>\n      <td>Mmelvin</td>\n      <td>2017-05-28</td>\n      <td>3</td>\n      <td>Love this flavor, but...</td>\n      <td>3.0</td>\n      <td>3.0</td>\n      <td>This is definitely my favorite flavor, but rec...</td>\n      <td>NaN</td>\n      <td>NaN</td>\n      <td>NaN</td>\n      <td>NaN</td>\n    </tr>\n    <tr>\n      <th>7</th>\n      <td>bj</td>\n      <td>0_bj</td>\n      <td>Shay10</td>\n      <td>2017-07-02</td>\n      <td>3</td>\n      <td>Really Wanted To Love This</td>\n      <td>4.0</td>\n      <td>1.0</td>\n      <td>I am not a chocolate person at all, and this w...</td>\n      <td>NaN</td>\n      <td>NaN</td>\n      <td>NaN</td>\n      <td>NaN</td>\n    </tr>\n    <tr>\n      <th>8</th>\n      <td>bj</td>\n      <td>0_bj</td>\n      <td>caramel4dayz</td>\n      <td>2017-07-16</td>\n      <td>2</td>\n      <td>Could be better.</td>\n      <td>8.0</td>\n      <td>6.0</td>\n      <td>I LOVE caramel, so much so that I could eat it...</td>\n      <td>NaN</td>\n      <td>NaN</td>\n      <td>NaN</td>\n      <td>NaN</td>\n    </tr>\n    <tr>\n      <th>9</th>\n      <td>bj</td>\n      <td>0_bj</td>\n      <td>RosaT777</td>\n      <td>2019-02-12</td>\n      <td>3</td>\n      <td>Salted Caramel core had NO CARAMEL</td>\n      <td>1.0</td>\n      <td>1.0</td>\n      <td>I love all the Ben &amp; Jerry’s flavor. But recen...</td>\n      <td>NaN</td>\n      <td>NaN</td>\n      <td>NaN</td>\n      <td>NaN</td>\n    </tr>\n  </tbody>\n</table>\n</div>"
     },
     "metadata": {},
     "execution_count": 5
    }
   ],
   "source": [
    "df.head(10)"
   ]
  },
  {
   "cell_type": "code",
   "execution_count": 6,
   "metadata": {},
   "outputs": [
    {
     "output_type": "execute_result",
     "data": {
      "text/plain": [
       "              stars   helpful_yes    helpful_no        taste  ingredients  \\\n",
       "count  21674.000000  21674.000000  21674.000000  4265.000000  4265.000000   \n",
       "mean       4.223955      1.364815      0.443019     4.234701     4.323798   \n",
       "std        1.384121      8.234123      2.568762     1.401392     1.298888   \n",
       "min        1.000000      0.000000      0.000000     1.000000     1.000000   \n",
       "25%        4.000000      0.000000      0.000000     4.000000     4.000000   \n",
       "50%        5.000000      0.000000      0.000000     5.000000     5.000000   \n",
       "75%        5.000000      1.000000      0.000000     5.000000     5.000000   \n",
       "max        5.000000    421.000000    121.000000     5.000000     5.000000   \n",
       "\n",
       "           texture  \n",
       "count  4265.000000  \n",
       "mean      4.284642  \n",
       "std       1.363423  \n",
       "min       1.000000  \n",
       "25%       4.000000  \n",
       "50%       5.000000  \n",
       "75%       5.000000  \n",
       "max       5.000000  "
      ],
      "text/html": "<div>\n<style scoped>\n    .dataframe tbody tr th:only-of-type {\n        vertical-align: middle;\n    }\n\n    .dataframe tbody tr th {\n        vertical-align: top;\n    }\n\n    .dataframe thead th {\n        text-align: right;\n    }\n</style>\n<table border=\"1\" class=\"dataframe\">\n  <thead>\n    <tr style=\"text-align: right;\">\n      <th></th>\n      <th>stars</th>\n      <th>helpful_yes</th>\n      <th>helpful_no</th>\n      <th>taste</th>\n      <th>ingredients</th>\n      <th>texture</th>\n    </tr>\n  </thead>\n  <tbody>\n    <tr>\n      <th>count</th>\n      <td>21674.000000</td>\n      <td>21674.000000</td>\n      <td>21674.000000</td>\n      <td>4265.000000</td>\n      <td>4265.000000</td>\n      <td>4265.000000</td>\n    </tr>\n    <tr>\n      <th>mean</th>\n      <td>4.223955</td>\n      <td>1.364815</td>\n      <td>0.443019</td>\n      <td>4.234701</td>\n      <td>4.323798</td>\n      <td>4.284642</td>\n    </tr>\n    <tr>\n      <th>std</th>\n      <td>1.384121</td>\n      <td>8.234123</td>\n      <td>2.568762</td>\n      <td>1.401392</td>\n      <td>1.298888</td>\n      <td>1.363423</td>\n    </tr>\n    <tr>\n      <th>min</th>\n      <td>1.000000</td>\n      <td>0.000000</td>\n      <td>0.000000</td>\n      <td>1.000000</td>\n      <td>1.000000</td>\n      <td>1.000000</td>\n    </tr>\n    <tr>\n      <th>25%</th>\n      <td>4.000000</td>\n      <td>0.000000</td>\n      <td>0.000000</td>\n      <td>4.000000</td>\n      <td>4.000000</td>\n      <td>4.000000</td>\n    </tr>\n    <tr>\n      <th>50%</th>\n      <td>5.000000</td>\n      <td>0.000000</td>\n      <td>0.000000</td>\n      <td>5.000000</td>\n      <td>5.000000</td>\n      <td>5.000000</td>\n    </tr>\n    <tr>\n      <th>75%</th>\n      <td>5.000000</td>\n      <td>1.000000</td>\n      <td>0.000000</td>\n      <td>5.000000</td>\n      <td>5.000000</td>\n      <td>5.000000</td>\n    </tr>\n    <tr>\n      <th>max</th>\n      <td>5.000000</td>\n      <td>421.000000</td>\n      <td>121.000000</td>\n      <td>5.000000</td>\n      <td>5.000000</td>\n      <td>5.000000</td>\n    </tr>\n  </tbody>\n</table>\n</div>"
     },
     "metadata": {},
     "execution_count": 6
    }
   ],
   "source": [
    "df.describe()"
   ]
  },
  {
   "source": [
    "Mengambil kolom yang dibutuhkan"
   ],
   "cell_type": "markdown",
   "metadata": {}
  },
  {
   "cell_type": "code",
   "execution_count": 7,
   "metadata": {},
   "outputs": [],
   "source": [
    "df_training = df.drop(columns=['brand', 'key', 'author', 'date', 'helpful_yes', 'helpful_no', 'taste', 'ingredients', 'texture', 'likes'])"
   ]
  },
  {
   "cell_type": "code",
   "execution_count": 8,
   "metadata": {},
   "outputs": [
    {
     "output_type": "execute_result",
     "data": {
      "text/plain": [
       "              stars\n",
       "count  21674.000000\n",
       "mean       4.223955\n",
       "std        1.384121\n",
       "min        1.000000\n",
       "25%        4.000000\n",
       "50%        5.000000\n",
       "75%        5.000000\n",
       "max        5.000000"
      ],
      "text/html": "<div>\n<style scoped>\n    .dataframe tbody tr th:only-of-type {\n        vertical-align: middle;\n    }\n\n    .dataframe tbody tr th {\n        vertical-align: top;\n    }\n\n    .dataframe thead th {\n        text-align: right;\n    }\n</style>\n<table border=\"1\" class=\"dataframe\">\n  <thead>\n    <tr style=\"text-align: right;\">\n      <th></th>\n      <th>stars</th>\n    </tr>\n  </thead>\n  <tbody>\n    <tr>\n      <th>count</th>\n      <td>21674.000000</td>\n    </tr>\n    <tr>\n      <th>mean</th>\n      <td>4.223955</td>\n    </tr>\n    <tr>\n      <th>std</th>\n      <td>1.384121</td>\n    </tr>\n    <tr>\n      <th>min</th>\n      <td>1.000000</td>\n    </tr>\n    <tr>\n      <th>25%</th>\n      <td>4.000000</td>\n    </tr>\n    <tr>\n      <th>50%</th>\n      <td>5.000000</td>\n    </tr>\n    <tr>\n      <th>75%</th>\n      <td>5.000000</td>\n    </tr>\n    <tr>\n      <th>max</th>\n      <td>5.000000</td>\n    </tr>\n  </tbody>\n</table>\n</div>"
     },
     "metadata": {},
     "execution_count": 8
    }
   ],
   "source": [
    "df_training.head()\n",
    "df_training.describe()"
   ]
  },
  {
   "cell_type": "code",
   "execution_count": 9,
   "metadata": {},
   "outputs": [
    {
     "output_type": "execute_result",
     "data": {
      "text/plain": [
       "(21674, 3)"
      ]
     },
     "metadata": {},
     "execution_count": 9
    }
   ],
   "source": [
    "df_training.shape"
   ]
  },
  {
   "cell_type": "code",
   "execution_count": 10,
   "metadata": {},
   "outputs": [
    {
     "output_type": "execute_result",
     "data": {
      "text/plain": [
       "(21616, 3)"
      ]
     },
     "metadata": {},
     "execution_count": 10
    }
   ],
   "source": [
    "df_training.drop_duplicates(inplace=True)\n",
    "df_training.shape"
   ]
  },
  {
   "source": [
    "Ternyata ada duplicates, maka aksi untuk drop duplicates sudah benar"
   ],
   "cell_type": "markdown",
   "metadata": {}
  },
  {
   "cell_type": "code",
   "execution_count": 11,
   "metadata": {},
   "outputs": [
    {
     "output_type": "display_data",
     "data": {
      "text/plain": "<Figure size 432x288 with 1 Axes>",
      "image/svg+xml": "<?xml version=\"1.0\" encoding=\"utf-8\" standalone=\"no\"?>\n<!DOCTYPE svg PUBLIC \"-//W3C//DTD SVG 1.1//EN\"\n  \"http://www.w3.org/Graphics/SVG/1.1/DTD/svg11.dtd\">\n<!-- Created with matplotlib (https://matplotlib.org/) -->\n<svg height=\"262.19625pt\" version=\"1.1\" viewBox=\"0 0 370.514062 262.19625\" width=\"370.514062pt\" xmlns=\"http://www.w3.org/2000/svg\" xmlns:xlink=\"http://www.w3.org/1999/xlink\">\n <defs>\n  <style type=\"text/css\">\n*{stroke-linecap:butt;stroke-linejoin:round;}\n  </style>\n </defs>\n <g id=\"figure_1\">\n  <g id=\"patch_1\">\n   <path d=\"M 0 262.19625 \nL 370.514062 262.19625 \nL 370.514062 0 \nL 0 0 \nz\n\" style=\"fill:none;\"/>\n  </g>\n  <g id=\"axes_1\">\n   <g id=\"patch_2\">\n    <path d=\"M 20.5625 224.64 \nL 355.3625 224.64 \nL 355.3625 7.2 \nL 20.5625 7.2 \nz\n\" style=\"fill:#ffffff;\"/>\n   </g>\n   <g id=\"patch_3\">\n    <path clip-path=\"url(#pbdca23e890)\" d=\"M 20.5625 224.64 \nL 33.9545 224.64 \nL 33.9545 192.222944 \nL 20.5625 192.222944 \nz\n\" style=\"fill:#1f77b4;opacity:0.4;\"/>\n   </g>\n   <g id=\"patch_4\">\n    <path clip-path=\"url(#pbdca23e890)\" d=\"M 33.9545 224.64 \nL 47.3465 224.64 \nL 47.3465 224.64 \nL 33.9545 224.64 \nz\n\" style=\"fill:#1f77b4;opacity:0.4;\"/>\n   </g>\n   <g id=\"patch_5\">\n    <path clip-path=\"url(#pbdca23e890)\" d=\"M 47.3465 224.64 \nL 60.7385 224.64 \nL 60.7385 224.64 \nL 47.3465 224.64 \nz\n\" style=\"fill:#1f77b4;opacity:0.4;\"/>\n   </g>\n   <g id=\"patch_6\">\n    <path clip-path=\"url(#pbdca23e890)\" d=\"M 60.7385 224.64 \nL 74.1305 224.64 \nL 74.1305 224.64 \nL 60.7385 224.64 \nz\n\" style=\"fill:#1f77b4;opacity:0.4;\"/>\n   </g>\n   <g id=\"patch_7\">\n    <path clip-path=\"url(#pbdca23e890)\" d=\"M 74.1305 224.64 \nL 87.5225 224.64 \nL 87.5225 224.64 \nL 74.1305 224.64 \nz\n\" style=\"fill:#1f77b4;opacity:0.4;\"/>\n   </g>\n   <g id=\"patch_8\">\n    <path clip-path=\"url(#pbdca23e890)\" d=\"M 87.5225 224.64 \nL 100.9145 224.64 \nL 100.9145 224.64 \nL 87.5225 224.64 \nz\n\" style=\"fill:#1f77b4;opacity:0.4;\"/>\n   </g>\n   <g id=\"patch_9\">\n    <path clip-path=\"url(#pbdca23e890)\" d=\"M 100.9145 224.64 \nL 114.3065 224.64 \nL 114.3065 209.383327 \nL 100.9145 209.383327 \nz\n\" style=\"fill:#1f77b4;opacity:0.4;\"/>\n   </g>\n   <g id=\"patch_10\">\n    <path clip-path=\"url(#pbdca23e890)\" d=\"M 114.3065 224.64 \nL 127.6985 224.64 \nL 127.6985 224.64 \nL 114.3065 224.64 \nz\n\" style=\"fill:#1f77b4;opacity:0.4;\"/>\n   </g>\n   <g id=\"patch_11\">\n    <path clip-path=\"url(#pbdca23e890)\" d=\"M 127.6985 224.64 \nL 141.0905 224.64 \nL 141.0905 224.64 \nL 127.6985 224.64 \nz\n\" style=\"fill:#1f77b4;opacity:0.4;\"/>\n   </g>\n   <g id=\"patch_12\">\n    <path clip-path=\"url(#pbdca23e890)\" d=\"M 141.0905 224.64 \nL 154.4825 224.64 \nL 154.4825 224.64 \nL 141.0905 224.64 \nz\n\" style=\"fill:#1f77b4;opacity:0.4;\"/>\n   </g>\n   <g id=\"patch_13\">\n    <path clip-path=\"url(#pbdca23e890)\" d=\"M 154.4825 224.64 \nL 167.8745 224.64 \nL 167.8745 224.64 \nL 154.4825 224.64 \nz\n\" style=\"fill:#1f77b4;opacity:0.4;\"/>\n   </g>\n   <g id=\"patch_14\">\n    <path clip-path=\"url(#pbdca23e890)\" d=\"M 167.8745 224.64 \nL 181.2665 224.64 \nL 181.2665 224.64 \nL 167.8745 224.64 \nz\n\" style=\"fill:#1f77b4;opacity:0.4;\"/>\n   </g>\n   <g id=\"patch_15\">\n    <path clip-path=\"url(#pbdca23e890)\" d=\"M 181.2665 224.64 \nL 194.6585 224.64 \nL 194.6585 210.32843 \nL 181.2665 210.32843 \nz\n\" style=\"fill:#1f77b4;opacity:0.4;\"/>\n   </g>\n   <g id=\"patch_16\">\n    <path clip-path=\"url(#pbdca23e890)\" d=\"M 194.6585 224.64 \nL 208.0505 224.64 \nL 208.0505 224.64 \nL 194.6585 224.64 \nz\n\" style=\"fill:#1f77b4;opacity:0.4;\"/>\n   </g>\n   <g id=\"patch_17\">\n    <path clip-path=\"url(#pbdca23e890)\" d=\"M 208.0505 224.64 \nL 221.4425 224.64 \nL 221.4425 224.64 \nL 208.0505 224.64 \nz\n\" style=\"fill:#1f77b4;opacity:0.4;\"/>\n   </g>\n   <g id=\"patch_18\">\n    <path clip-path=\"url(#pbdca23e890)\" d=\"M 221.4425 224.64 \nL 234.8345 224.64 \nL 234.8345 224.64 \nL 221.4425 224.64 \nz\n\" style=\"fill:#1f77b4;opacity:0.4;\"/>\n   </g>\n   <g id=\"patch_19\">\n    <path clip-path=\"url(#pbdca23e890)\" d=\"M 234.8345 224.64 \nL 248.2265 224.64 \nL 248.2265 224.64 \nL 234.8345 224.64 \nz\n\" style=\"fill:#1f77b4;opacity:0.4;\"/>\n   </g>\n   <g id=\"patch_20\">\n    <path clip-path=\"url(#pbdca23e890)\" d=\"M 248.2265 224.64 \nL 261.6185 224.64 \nL 261.6185 224.64 \nL 248.2265 224.64 \nz\n\" style=\"fill:#1f77b4;opacity:0.4;\"/>\n   </g>\n   <g id=\"patch_21\">\n    <path clip-path=\"url(#pbdca23e890)\" d=\"M 261.6185 224.64 \nL 275.0105 224.64 \nL 275.0105 201.863002 \nL 261.6185 201.863002 \nz\n\" style=\"fill:#1f77b4;opacity:0.4;\"/>\n   </g>\n   <g id=\"patch_22\">\n    <path clip-path=\"url(#pbdca23e890)\" d=\"M 275.0105 224.64 \nL 288.4025 224.64 \nL 288.4025 224.64 \nL 275.0105 224.64 \nz\n\" style=\"fill:#1f77b4;opacity:0.4;\"/>\n   </g>\n   <g id=\"patch_23\">\n    <path clip-path=\"url(#pbdca23e890)\" d=\"M 288.4025 224.64 \nL 301.7945 224.64 \nL 301.7945 224.64 \nL 288.4025 224.64 \nz\n\" style=\"fill:#1f77b4;opacity:0.4;\"/>\n   </g>\n   <g id=\"patch_24\">\n    <path clip-path=\"url(#pbdca23e890)\" d=\"M 301.7945 224.64 \nL 315.1865 224.64 \nL 315.1865 224.64 \nL 301.7945 224.64 \nz\n\" style=\"fill:#1f77b4;opacity:0.4;\"/>\n   </g>\n   <g id=\"patch_25\">\n    <path clip-path=\"url(#pbdca23e890)\" d=\"M 315.1865 224.64 \nL 328.5785 224.64 \nL 328.5785 224.64 \nL 315.1865 224.64 \nz\n\" style=\"fill:#1f77b4;opacity:0.4;\"/>\n   </g>\n   <g id=\"patch_26\">\n    <path clip-path=\"url(#pbdca23e890)\" d=\"M 328.5785 224.64 \nL 341.9705 224.64 \nL 341.9705 224.64 \nL 328.5785 224.64 \nz\n\" style=\"fill:#1f77b4;opacity:0.4;\"/>\n   </g>\n   <g id=\"patch_27\">\n    <path clip-path=\"url(#pbdca23e890)\" d=\"M 341.9705 224.64 \nL 355.3625 224.64 \nL 355.3625 17.554286 \nL 341.9705 17.554286 \nz\n\" style=\"fill:#1f77b4;opacity:0.4;\"/>\n   </g>\n   <g id=\"matplotlib.axis_1\">\n    <g id=\"xtick_1\">\n     <g id=\"line2d_1\">\n      <defs>\n       <path d=\"M 0 0 \nL 0 3.5 \n\" id=\"mecf8af71fa\" style=\"stroke:#000000;stroke-width:0.8;\"/>\n      </defs>\n      <g>\n       <use style=\"stroke:#000000;stroke-width:0.8;\" x=\"20.5625\" xlink:href=\"#mecf8af71fa\" y=\"224.64\"/>\n      </g>\n     </g>\n     <g id=\"text_1\">\n      <!-- 1.0 -->\n      <defs>\n       <path d=\"M 12.40625 8.296875 \nL 28.515625 8.296875 \nL 28.515625 63.921875 \nL 10.984375 60.40625 \nL 10.984375 69.390625 \nL 28.421875 72.90625 \nL 38.28125 72.90625 \nL 38.28125 8.296875 \nL 54.390625 8.296875 \nL 54.390625 0 \nL 12.40625 0 \nz\n\" id=\"DejaVuSans-49\"/>\n       <path d=\"M 10.6875 12.40625 \nL 21 12.40625 \nL 21 0 \nL 10.6875 0 \nz\n\" id=\"DejaVuSans-46\"/>\n       <path d=\"M 31.78125 66.40625 \nQ 24.171875 66.40625 20.328125 58.90625 \nQ 16.5 51.421875 16.5 36.375 \nQ 16.5 21.390625 20.328125 13.890625 \nQ 24.171875 6.390625 31.78125 6.390625 \nQ 39.453125 6.390625 43.28125 13.890625 \nQ 47.125 21.390625 47.125 36.375 \nQ 47.125 51.421875 43.28125 58.90625 \nQ 39.453125 66.40625 31.78125 66.40625 \nz\nM 31.78125 74.21875 \nQ 44.046875 74.21875 50.515625 64.515625 \nQ 56.984375 54.828125 56.984375 36.375 \nQ 56.984375 17.96875 50.515625 8.265625 \nQ 44.046875 -1.421875 31.78125 -1.421875 \nQ 19.53125 -1.421875 13.0625 8.265625 \nQ 6.59375 17.96875 6.59375 36.375 \nQ 6.59375 54.828125 13.0625 64.515625 \nQ 19.53125 74.21875 31.78125 74.21875 \nz\n\" id=\"DejaVuSans-48\"/>\n      </defs>\n      <g transform=\"translate(12.610937 239.238437)scale(0.1 -0.1)\">\n       <use xlink:href=\"#DejaVuSans-49\"/>\n       <use x=\"63.623047\" xlink:href=\"#DejaVuSans-46\"/>\n       <use x=\"95.410156\" xlink:href=\"#DejaVuSans-48\"/>\n      </g>\n     </g>\n    </g>\n    <g id=\"xtick_2\">\n     <g id=\"line2d_2\">\n      <g>\n       <use style=\"stroke:#000000;stroke-width:0.8;\" x=\"62.4125\" xlink:href=\"#mecf8af71fa\" y=\"224.64\"/>\n      </g>\n     </g>\n     <g id=\"text_2\">\n      <!-- 1.5 -->\n      <defs>\n       <path d=\"M 10.796875 72.90625 \nL 49.515625 72.90625 \nL 49.515625 64.59375 \nL 19.828125 64.59375 \nL 19.828125 46.734375 \nQ 21.96875 47.46875 24.109375 47.828125 \nQ 26.265625 48.1875 28.421875 48.1875 \nQ 40.625 48.1875 47.75 41.5 \nQ 54.890625 34.8125 54.890625 23.390625 \nQ 54.890625 11.625 47.5625 5.09375 \nQ 40.234375 -1.421875 26.90625 -1.421875 \nQ 22.3125 -1.421875 17.546875 -0.640625 \nQ 12.796875 0.140625 7.71875 1.703125 \nL 7.71875 11.625 \nQ 12.109375 9.234375 16.796875 8.0625 \nQ 21.484375 6.890625 26.703125 6.890625 \nQ 35.15625 6.890625 40.078125 11.328125 \nQ 45.015625 15.765625 45.015625 23.390625 \nQ 45.015625 31 40.078125 35.4375 \nQ 35.15625 39.890625 26.703125 39.890625 \nQ 22.75 39.890625 18.8125 39.015625 \nQ 14.890625 38.140625 10.796875 36.28125 \nz\n\" id=\"DejaVuSans-53\"/>\n      </defs>\n      <g transform=\"translate(54.460938 239.238437)scale(0.1 -0.1)\">\n       <use xlink:href=\"#DejaVuSans-49\"/>\n       <use x=\"63.623047\" xlink:href=\"#DejaVuSans-46\"/>\n       <use x=\"95.410156\" xlink:href=\"#DejaVuSans-53\"/>\n      </g>\n     </g>\n    </g>\n    <g id=\"xtick_3\">\n     <g id=\"line2d_3\">\n      <g>\n       <use style=\"stroke:#000000;stroke-width:0.8;\" x=\"104.2625\" xlink:href=\"#mecf8af71fa\" y=\"224.64\"/>\n      </g>\n     </g>\n     <g id=\"text_3\">\n      <!-- 2.0 -->\n      <defs>\n       <path d=\"M 19.1875 8.296875 \nL 53.609375 8.296875 \nL 53.609375 0 \nL 7.328125 0 \nL 7.328125 8.296875 \nQ 12.9375 14.109375 22.625 23.890625 \nQ 32.328125 33.6875 34.8125 36.53125 \nQ 39.546875 41.84375 41.421875 45.53125 \nQ 43.3125 49.21875 43.3125 52.78125 \nQ 43.3125 58.59375 39.234375 62.25 \nQ 35.15625 65.921875 28.609375 65.921875 \nQ 23.96875 65.921875 18.8125 64.3125 \nQ 13.671875 62.703125 7.8125 59.421875 \nL 7.8125 69.390625 \nQ 13.765625 71.78125 18.9375 73 \nQ 24.125 74.21875 28.421875 74.21875 \nQ 39.75 74.21875 46.484375 68.546875 \nQ 53.21875 62.890625 53.21875 53.421875 \nQ 53.21875 48.921875 51.53125 44.890625 \nQ 49.859375 40.875 45.40625 35.40625 \nQ 44.1875 33.984375 37.640625 27.21875 \nQ 31.109375 20.453125 19.1875 8.296875 \nz\n\" id=\"DejaVuSans-50\"/>\n      </defs>\n      <g transform=\"translate(96.310938 239.238437)scale(0.1 -0.1)\">\n       <use xlink:href=\"#DejaVuSans-50\"/>\n       <use x=\"63.623047\" xlink:href=\"#DejaVuSans-46\"/>\n       <use x=\"95.410156\" xlink:href=\"#DejaVuSans-48\"/>\n      </g>\n     </g>\n    </g>\n    <g id=\"xtick_4\">\n     <g id=\"line2d_4\">\n      <g>\n       <use style=\"stroke:#000000;stroke-width:0.8;\" x=\"146.1125\" xlink:href=\"#mecf8af71fa\" y=\"224.64\"/>\n      </g>\n     </g>\n     <g id=\"text_4\">\n      <!-- 2.5 -->\n      <g transform=\"translate(138.160938 239.238437)scale(0.1 -0.1)\">\n       <use xlink:href=\"#DejaVuSans-50\"/>\n       <use x=\"63.623047\" xlink:href=\"#DejaVuSans-46\"/>\n       <use x=\"95.410156\" xlink:href=\"#DejaVuSans-53\"/>\n      </g>\n     </g>\n    </g>\n    <g id=\"xtick_5\">\n     <g id=\"line2d_5\">\n      <g>\n       <use style=\"stroke:#000000;stroke-width:0.8;\" x=\"187.9625\" xlink:href=\"#mecf8af71fa\" y=\"224.64\"/>\n      </g>\n     </g>\n     <g id=\"text_5\">\n      <!-- 3.0 -->\n      <defs>\n       <path d=\"M 40.578125 39.3125 \nQ 47.65625 37.796875 51.625 33 \nQ 55.609375 28.21875 55.609375 21.1875 \nQ 55.609375 10.40625 48.1875 4.484375 \nQ 40.765625 -1.421875 27.09375 -1.421875 \nQ 22.515625 -1.421875 17.65625 -0.515625 \nQ 12.796875 0.390625 7.625 2.203125 \nL 7.625 11.71875 \nQ 11.71875 9.328125 16.59375 8.109375 \nQ 21.484375 6.890625 26.8125 6.890625 \nQ 36.078125 6.890625 40.9375 10.546875 \nQ 45.796875 14.203125 45.796875 21.1875 \nQ 45.796875 27.640625 41.28125 31.265625 \nQ 36.765625 34.90625 28.71875 34.90625 \nL 20.21875 34.90625 \nL 20.21875 43.015625 \nL 29.109375 43.015625 \nQ 36.375 43.015625 40.234375 45.921875 \nQ 44.09375 48.828125 44.09375 54.296875 \nQ 44.09375 59.90625 40.109375 62.90625 \nQ 36.140625 65.921875 28.71875 65.921875 \nQ 24.65625 65.921875 20.015625 65.03125 \nQ 15.375 64.15625 9.8125 62.3125 \nL 9.8125 71.09375 \nQ 15.4375 72.65625 20.34375 73.4375 \nQ 25.25 74.21875 29.59375 74.21875 \nQ 40.828125 74.21875 47.359375 69.109375 \nQ 53.90625 64.015625 53.90625 55.328125 \nQ 53.90625 49.265625 50.4375 45.09375 \nQ 46.96875 40.921875 40.578125 39.3125 \nz\n\" id=\"DejaVuSans-51\"/>\n      </defs>\n      <g transform=\"translate(180.010938 239.238437)scale(0.1 -0.1)\">\n       <use xlink:href=\"#DejaVuSans-51\"/>\n       <use x=\"63.623047\" xlink:href=\"#DejaVuSans-46\"/>\n       <use x=\"95.410156\" xlink:href=\"#DejaVuSans-48\"/>\n      </g>\n     </g>\n    </g>\n    <g id=\"xtick_6\">\n     <g id=\"line2d_6\">\n      <g>\n       <use style=\"stroke:#000000;stroke-width:0.8;\" x=\"229.8125\" xlink:href=\"#mecf8af71fa\" y=\"224.64\"/>\n      </g>\n     </g>\n     <g id=\"text_6\">\n      <!-- 3.5 -->\n      <g transform=\"translate(221.860938 239.238437)scale(0.1 -0.1)\">\n       <use xlink:href=\"#DejaVuSans-51\"/>\n       <use x=\"63.623047\" xlink:href=\"#DejaVuSans-46\"/>\n       <use x=\"95.410156\" xlink:href=\"#DejaVuSans-53\"/>\n      </g>\n     </g>\n    </g>\n    <g id=\"xtick_7\">\n     <g id=\"line2d_7\">\n      <g>\n       <use style=\"stroke:#000000;stroke-width:0.8;\" x=\"271.6625\" xlink:href=\"#mecf8af71fa\" y=\"224.64\"/>\n      </g>\n     </g>\n     <g id=\"text_7\">\n      <!-- 4.0 -->\n      <defs>\n       <path d=\"M 37.796875 64.3125 \nL 12.890625 25.390625 \nL 37.796875 25.390625 \nz\nM 35.203125 72.90625 \nL 47.609375 72.90625 \nL 47.609375 25.390625 \nL 58.015625 25.390625 \nL 58.015625 17.1875 \nL 47.609375 17.1875 \nL 47.609375 0 \nL 37.796875 0 \nL 37.796875 17.1875 \nL 4.890625 17.1875 \nL 4.890625 26.703125 \nz\n\" id=\"DejaVuSans-52\"/>\n      </defs>\n      <g transform=\"translate(263.710938 239.238437)scale(0.1 -0.1)\">\n       <use xlink:href=\"#DejaVuSans-52\"/>\n       <use x=\"63.623047\" xlink:href=\"#DejaVuSans-46\"/>\n       <use x=\"95.410156\" xlink:href=\"#DejaVuSans-48\"/>\n      </g>\n     </g>\n    </g>\n    <g id=\"xtick_8\">\n     <g id=\"line2d_8\">\n      <g>\n       <use style=\"stroke:#000000;stroke-width:0.8;\" x=\"313.5125\" xlink:href=\"#mecf8af71fa\" y=\"224.64\"/>\n      </g>\n     </g>\n     <g id=\"text_8\">\n      <!-- 4.5 -->\n      <g transform=\"translate(305.560938 239.238437)scale(0.1 -0.1)\">\n       <use xlink:href=\"#DejaVuSans-52\"/>\n       <use x=\"63.623047\" xlink:href=\"#DejaVuSans-46\"/>\n       <use x=\"95.410156\" xlink:href=\"#DejaVuSans-53\"/>\n      </g>\n     </g>\n    </g>\n    <g id=\"xtick_9\">\n     <g id=\"line2d_9\">\n      <g>\n       <use style=\"stroke:#000000;stroke-width:0.8;\" x=\"355.3625\" xlink:href=\"#mecf8af71fa\" y=\"224.64\"/>\n      </g>\n     </g>\n     <g id=\"text_9\">\n      <!-- 5.0 -->\n      <g transform=\"translate(347.410937 239.238437)scale(0.1 -0.1)\">\n       <use xlink:href=\"#DejaVuSans-53\"/>\n       <use x=\"63.623047\" xlink:href=\"#DejaVuSans-46\"/>\n       <use x=\"95.410156\" xlink:href=\"#DejaVuSans-48\"/>\n      </g>\n     </g>\n    </g>\n    <g id=\"text_10\">\n     <!-- stars -->\n     <defs>\n      <path d=\"M 44.28125 53.078125 \nL 44.28125 44.578125 \nQ 40.484375 46.53125 36.375 47.5 \nQ 32.28125 48.484375 27.875 48.484375 \nQ 21.1875 48.484375 17.84375 46.4375 \nQ 14.5 44.390625 14.5 40.28125 \nQ 14.5 37.15625 16.890625 35.375 \nQ 19.28125 33.59375 26.515625 31.984375 \nL 29.59375 31.296875 \nQ 39.15625 29.25 43.1875 25.515625 \nQ 47.21875 21.78125 47.21875 15.09375 \nQ 47.21875 7.46875 41.1875 3.015625 \nQ 35.15625 -1.421875 24.609375 -1.421875 \nQ 20.21875 -1.421875 15.453125 -0.5625 \nQ 10.6875 0.296875 5.421875 2 \nL 5.421875 11.28125 \nQ 10.40625 8.6875 15.234375 7.390625 \nQ 20.0625 6.109375 24.8125 6.109375 \nQ 31.15625 6.109375 34.5625 8.28125 \nQ 37.984375 10.453125 37.984375 14.40625 \nQ 37.984375 18.0625 35.515625 20.015625 \nQ 33.0625 21.96875 24.703125 23.78125 \nL 21.578125 24.515625 \nQ 13.234375 26.265625 9.515625 29.90625 \nQ 5.8125 33.546875 5.8125 39.890625 \nQ 5.8125 47.609375 11.28125 51.796875 \nQ 16.75 56 26.8125 56 \nQ 31.78125 56 36.171875 55.265625 \nQ 40.578125 54.546875 44.28125 53.078125 \nz\n\" id=\"DejaVuSans-115\"/>\n      <path d=\"M 18.3125 70.21875 \nL 18.3125 54.6875 \nL 36.8125 54.6875 \nL 36.8125 47.703125 \nL 18.3125 47.703125 \nL 18.3125 18.015625 \nQ 18.3125 11.328125 20.140625 9.421875 \nQ 21.96875 7.515625 27.59375 7.515625 \nL 36.8125 7.515625 \nL 36.8125 0 \nL 27.59375 0 \nQ 17.1875 0 13.234375 3.875 \nQ 9.28125 7.765625 9.28125 18.015625 \nL 9.28125 47.703125 \nL 2.6875 47.703125 \nL 2.6875 54.6875 \nL 9.28125 54.6875 \nL 9.28125 70.21875 \nz\n\" id=\"DejaVuSans-116\"/>\n      <path d=\"M 34.28125 27.484375 \nQ 23.390625 27.484375 19.1875 25 \nQ 14.984375 22.515625 14.984375 16.5 \nQ 14.984375 11.71875 18.140625 8.90625 \nQ 21.296875 6.109375 26.703125 6.109375 \nQ 34.1875 6.109375 38.703125 11.40625 \nQ 43.21875 16.703125 43.21875 25.484375 \nL 43.21875 27.484375 \nz\nM 52.203125 31.203125 \nL 52.203125 0 \nL 43.21875 0 \nL 43.21875 8.296875 \nQ 40.140625 3.328125 35.546875 0.953125 \nQ 30.953125 -1.421875 24.3125 -1.421875 \nQ 15.921875 -1.421875 10.953125 3.296875 \nQ 6 8.015625 6 15.921875 \nQ 6 25.140625 12.171875 29.828125 \nQ 18.359375 34.515625 30.609375 34.515625 \nL 43.21875 34.515625 \nL 43.21875 35.40625 \nQ 43.21875 41.609375 39.140625 45 \nQ 35.0625 48.390625 27.6875 48.390625 \nQ 23 48.390625 18.546875 47.265625 \nQ 14.109375 46.140625 10.015625 43.890625 \nL 10.015625 52.203125 \nQ 14.9375 54.109375 19.578125 55.046875 \nQ 24.21875 56 28.609375 56 \nQ 40.484375 56 46.34375 49.84375 \nQ 52.203125 43.703125 52.203125 31.203125 \nz\n\" id=\"DejaVuSans-97\"/>\n      <path d=\"M 41.109375 46.296875 \nQ 39.59375 47.171875 37.8125 47.578125 \nQ 36.03125 48 33.890625 48 \nQ 26.265625 48 22.1875 43.046875 \nQ 18.109375 38.09375 18.109375 28.8125 \nL 18.109375 0 \nL 9.078125 0 \nL 9.078125 54.6875 \nL 18.109375 54.6875 \nL 18.109375 46.1875 \nQ 20.953125 51.171875 25.484375 53.578125 \nQ 30.03125 56 36.53125 56 \nQ 37.453125 56 38.578125 55.875 \nQ 39.703125 55.765625 41.0625 55.515625 \nz\n\" id=\"DejaVuSans-114\"/>\n     </defs>\n     <g transform=\"translate(175.673438 252.916562)scale(0.1 -0.1)\">\n      <use xlink:href=\"#DejaVuSans-115\"/>\n      <use x=\"52.099609\" xlink:href=\"#DejaVuSans-116\"/>\n      <use x=\"91.308594\" xlink:href=\"#DejaVuSans-97\"/>\n      <use x=\"152.587891\" xlink:href=\"#DejaVuSans-114\"/>\n      <use x=\"193.701172\" xlink:href=\"#DejaVuSans-115\"/>\n     </g>\n    </g>\n   </g>\n   <g id=\"matplotlib.axis_2\">\n    <g id=\"ytick_1\">\n     <g id=\"line2d_10\">\n      <defs>\n       <path d=\"M 0 0 \nL -3.5 0 \n\" id=\"m09ba490971\" style=\"stroke:#000000;stroke-width:0.8;\"/>\n      </defs>\n      <g>\n       <use style=\"stroke:#000000;stroke-width:0.8;\" x=\"20.5625\" xlink:href=\"#m09ba490971\" y=\"224.64\"/>\n      </g>\n     </g>\n     <g id=\"text_11\">\n      <!-- 0 -->\n      <g transform=\"translate(7.2 228.439219)scale(0.1 -0.1)\">\n       <use xlink:href=\"#DejaVuSans-48\"/>\n      </g>\n     </g>\n    </g>\n    <g id=\"ytick_2\">\n     <g id=\"line2d_11\">\n      <g>\n       <use style=\"stroke:#000000;stroke-width:0.8;\" x=\"20.5625\" xlink:href=\"#m09ba490971\" y=\"177.944318\"/>\n      </g>\n     </g>\n     <g id=\"text_12\">\n      <!-- 1 -->\n      <g transform=\"translate(7.2 181.743537)scale(0.1 -0.1)\">\n       <use xlink:href=\"#DejaVuSans-49\"/>\n      </g>\n     </g>\n    </g>\n    <g id=\"ytick_3\">\n     <g id=\"line2d_12\">\n      <g>\n       <use style=\"stroke:#000000;stroke-width:0.8;\" x=\"20.5625\" xlink:href=\"#m09ba490971\" y=\"131.248636\"/>\n      </g>\n     </g>\n     <g id=\"text_13\">\n      <!-- 2 -->\n      <g transform=\"translate(7.2 135.047855)scale(0.1 -0.1)\">\n       <use xlink:href=\"#DejaVuSans-50\"/>\n      </g>\n     </g>\n    </g>\n    <g id=\"ytick_4\">\n     <g id=\"line2d_13\">\n      <g>\n       <use style=\"stroke:#000000;stroke-width:0.8;\" x=\"20.5625\" xlink:href=\"#m09ba490971\" y=\"84.552954\"/>\n      </g>\n     </g>\n     <g id=\"text_14\">\n      <!-- 3 -->\n      <g transform=\"translate(7.2 88.352173)scale(0.1 -0.1)\">\n       <use xlink:href=\"#DejaVuSans-51\"/>\n      </g>\n     </g>\n    </g>\n    <g id=\"ytick_5\">\n     <g id=\"line2d_14\">\n      <g>\n       <use style=\"stroke:#000000;stroke-width:0.8;\" x=\"20.5625\" xlink:href=\"#m09ba490971\" y=\"37.857273\"/>\n      </g>\n     </g>\n     <g id=\"text_15\">\n      <!-- 4 -->\n      <g transform=\"translate(7.2 41.656491)scale(0.1 -0.1)\">\n       <use xlink:href=\"#DejaVuSans-52\"/>\n      </g>\n     </g>\n    </g>\n   </g>\n   <g id=\"line2d_15\">\n    <path clip-path=\"url(#pbdca23e890)\" d=\"M -1 223.405267 \nL -0.099509 223.20829 \nL 2.958409 221.780892 \nL 6.016328 219.423195 \nL 9.074247 216.126375 \nL 12.132166 212.24748 \nL 15.190085 208.558501 \nL 18.248004 206.039613 \nL 21.305923 205.467879 \nL 24.363841 207.032335 \nL 27.42176 210.233658 \nL 30.479679 214.140468 \nL 33.537598 217.824432 \nL 36.595517 220.699877 \nL 39.653436 222.611567 \nL 42.711355 223.710112 \nL 45.769273 224.260421 \nL 48.827192 224.502036 \nL 54.94303 224.627131 \nL 73.290543 224.616921 \nL 79.406381 224.446052 \nL 82.4643 224.168037 \nL 85.522218 223.618039 \nL 88.580137 222.670941 \nL 91.638056 221.264151 \nL 97.753894 217.648292 \nL 100.811813 216.192862 \nL 103.869732 215.556829 \nL 106.92765 215.946023 \nL 109.985569 217.231769 \nL 116.101407 220.842046 \nL 119.159326 222.354086 \nL 122.217245 223.414185 \nL 125.275164 224.054203 \nL 128.333082 224.390465 \nL 134.44892 224.607899 \nL 152.796433 224.635635 \nL 161.97019 224.504582 \nL 165.028109 224.301598 \nL 168.086027 223.885919 \nL 171.143946 223.141519 \nL 174.201865 221.984483 \nL 177.259784 220.443113 \nL 180.317703 218.724401 \nL 183.375622 217.203411 \nL 186.433541 216.302046 \nL 189.491459 216.302046 \nL 192.549378 217.203411 \nL 195.607297 218.724401 \nL 198.665216 220.443113 \nL 201.723135 221.984483 \nL 204.781054 223.141519 \nL 207.838973 223.885919 \nL 210.896891 224.301598 \nL 213.95481 224.504582 \nL 220.070648 224.624625 \nL 241.47608 224.592076 \nL 244.533999 224.498511 \nL 247.591918 224.267464 \nL 250.649836 223.765452 \nL 253.707755 222.809955 \nL 256.765674 221.227312 \nL 259.823593 218.969957 \nL 265.939431 213.5801 \nL 268.99735 211.660585 \nL 272.055268 211.079549 \nL 275.113187 212.029096 \nL 278.171106 214.201937 \nL 284.286944 219.600126 \nL 287.344863 221.700351 \nL 290.402782 223.114293 \nL 293.4607 223.935397 \nL 296.518619 224.350451 \nL 299.576538 224.534119 \nL 308.750295 224.637251 \nL 320.98197 224.557803 \nL 324.039889 224.354769 \nL 327.097808 223.758661 \nL 330.155727 222.215182 \nL 333.213645 218.699716 \nL 336.271564 211.68202 \nL 339.329483 199.469821 \nL 342.387402 181.100982 \nL 345.445321 157.56719 \nL 348.50324 132.609818 \nL 351.561159 112.159216 \nL 354.619077 102.165204 \nL 357.676996 105.817549 \nL 360.734915 121.908702 \nL 363.792834 145.474964 \nL 366.850753 170.256411 \nL 369.908672 191.328975 \nL 371.514062 199.263761 \nL 371.514062 199.263761 \n\" style=\"fill:none;stroke:#1f77b4;stroke-linecap:square;stroke-width:1.5;\"/>\n   </g>\n   <g id=\"patch_28\">\n    <path d=\"M 20.5625 224.64 \nL 20.5625 7.2 \n\" style=\"fill:none;stroke:#000000;stroke-linecap:square;stroke-linejoin:miter;stroke-width:0.8;\"/>\n   </g>\n   <g id=\"patch_29\">\n    <path d=\"M 355.3625 224.64 \nL 355.3625 7.2 \n\" style=\"fill:none;stroke:#000000;stroke-linecap:square;stroke-linejoin:miter;stroke-width:0.8;\"/>\n   </g>\n   <g id=\"patch_30\">\n    <path d=\"M 20.5625 224.64 \nL 355.3625 224.64 \n\" style=\"fill:none;stroke:#000000;stroke-linecap:square;stroke-linejoin:miter;stroke-width:0.8;\"/>\n   </g>\n   <g id=\"patch_31\">\n    <path d=\"M 20.5625 7.2 \nL 355.3625 7.2 \n\" style=\"fill:none;stroke:#000000;stroke-linecap:square;stroke-linejoin:miter;stroke-width:0.8;\"/>\n   </g>\n  </g>\n </g>\n <defs>\n  <clipPath id=\"pbdca23e890\">\n   <rect height=\"217.44\" width=\"334.8\" x=\"20.5625\" y=\"7.2\"/>\n  </clipPath>\n </defs>\n</svg>\n",
      "image/png": "[encoded data removed]"
     },
     "metadata": {
      "needs_background": "light"
     }
    }
   ],
   "source": [
    "sns.distplot(df_training[\"stars\"], bins=25)\n",
    "plt.xlim([1,5])\n",
    "plt.show()"
   ]
  },
  {
   "source": [
    "Dapat dilihat bahwa terdapat kekurangan dari data, yaitu persebarannya kurang merata antara yang memiliki rating tinggi dengan rendah"
   ],
   "cell_type": "markdown",
   "metadata": {}
  },
  {
   "cell_type": "code",
   "execution_count": 12,
   "metadata": {},
   "outputs": [
    {
     "output_type": "execute_result",
     "data": {
      "text/plain": [
       "   stars                              title  \\\n",
       "0      1               Not enough brownies!   \n",
       "1      1       I’m OBSESSED with this pint!   \n",
       "2      1  My favorite...More Caramel Please   \n",
       "3      1                        Obsessed!!!   \n",
       "4      0              Worst Ice Cream Ever!   \n",
       "\n",
       "                                                text  \n",
       "0  Super good, don't get me wrong. But I came for...  \n",
       "1  I decided to try it out although I’m not a hug...  \n",
       "2  My caramel core begins to disappear about half...  \n",
       "3  Why are people complaining about the blonde br...  \n",
       "4  This ice cream is worst ice cream I’ve ever ta...  "
      ],
      "text/html": "<div>\n<style scoped>\n    .dataframe tbody tr th:only-of-type {\n        vertical-align: middle;\n    }\n\n    .dataframe tbody tr th {\n        vertical-align: top;\n    }\n\n    .dataframe thead th {\n        text-align: right;\n    }\n</style>\n<table border=\"1\" class=\"dataframe\">\n  <thead>\n    <tr style=\"text-align: right;\">\n      <th></th>\n      <th>stars</th>\n      <th>title</th>\n      <th>text</th>\n    </tr>\n  </thead>\n  <tbody>\n    <tr>\n      <th>0</th>\n      <td>1</td>\n      <td>Not enough brownies!</td>\n      <td>Super good, don't get me wrong. But I came for...</td>\n    </tr>\n    <tr>\n      <th>1</th>\n      <td>1</td>\n      <td>I’m OBSESSED with this pint!</td>\n      <td>I decided to try it out although I’m not a hug...</td>\n    </tr>\n    <tr>\n      <th>2</th>\n      <td>1</td>\n      <td>My favorite...More Caramel Please</td>\n      <td>My caramel core begins to disappear about half...</td>\n    </tr>\n    <tr>\n      <th>3</th>\n      <td>1</td>\n      <td>Obsessed!!!</td>\n      <td>Why are people complaining about the blonde br...</td>\n    </tr>\n    <tr>\n      <th>4</th>\n      <td>0</td>\n      <td>Worst Ice Cream Ever!</td>\n      <td>This ice cream is worst ice cream I’ve ever ta...</td>\n    </tr>\n  </tbody>\n</table>\n</div>"
     },
     "metadata": {},
     "execution_count": 12
    }
   ],
   "source": [
    "# ubah rating start yang diberikan menjadi sebuah setiment 1/0 dengan sentiment positif >=3 dan kebalikannya\n",
    "df_training['stars'] = (df['stars'] >= 3).astype(int)\n",
    "df_training.head()"
   ]
  },
  {
   "cell_type": "code",
   "execution_count": 13,
   "metadata": {},
   "outputs": [
    {
     "output_type": "execute_result",
     "data": {
      "text/plain": [
       "   sentiment                              title  \\\n",
       "0          1               Not enough brownies!   \n",
       "1          1       I’m OBSESSED with this pint!   \n",
       "2          1  My favorite...More Caramel Please   \n",
       "3          1                        Obsessed!!!   \n",
       "4          0              Worst Ice Cream Ever!   \n",
       "\n",
       "                                                text  \n",
       "0  Super good, don't get me wrong. But I came for...  \n",
       "1  I decided to try it out although I’m not a hug...  \n",
       "2  My caramel core begins to disappear about half...  \n",
       "3  Why are people complaining about the blonde br...  \n",
       "4  This ice cream is worst ice cream I’ve ever ta...  "
      ],
      "text/html": "<div>\n<style scoped>\n    .dataframe tbody tr th:only-of-type {\n        vertical-align: middle;\n    }\n\n    .dataframe tbody tr th {\n        vertical-align: top;\n    }\n\n    .dataframe thead th {\n        text-align: right;\n    }\n</style>\n<table border=\"1\" class=\"dataframe\">\n  <thead>\n    <tr style=\"text-align: right;\">\n      <th></th>\n      <th>sentiment</th>\n      <th>title</th>\n      <th>text</th>\n    </tr>\n  </thead>\n  <tbody>\n    <tr>\n      <th>0</th>\n      <td>1</td>\n      <td>Not enough brownies!</td>\n      <td>Super good, don't get me wrong. But I came for...</td>\n    </tr>\n    <tr>\n      <th>1</th>\n      <td>1</td>\n      <td>I’m OBSESSED with this pint!</td>\n      <td>I decided to try it out although I’m not a hug...</td>\n    </tr>\n    <tr>\n      <th>2</th>\n      <td>1</td>\n      <td>My favorite...More Caramel Please</td>\n      <td>My caramel core begins to disappear about half...</td>\n    </tr>\n    <tr>\n      <th>3</th>\n      <td>1</td>\n      <td>Obsessed!!!</td>\n      <td>Why are people complaining about the blonde br...</td>\n    </tr>\n    <tr>\n      <th>4</th>\n      <td>0</td>\n      <td>Worst Ice Cream Ever!</td>\n      <td>This ice cream is worst ice cream I’ve ever ta...</td>\n    </tr>\n  </tbody>\n</table>\n</div>"
     },
     "metadata": {},
     "execution_count": 13
    }
   ],
   "source": [
    "df_training.rename(columns={'stars': 'sentiment'}).head()"
   ]
  },
  {
   "cell_type": "code",
   "execution_count": 14,
   "metadata": {},
   "outputs": [
    {
     "output_type": "execute_result",
     "data": {
      "text/plain": [
       "              stars\n",
       "count  21616.000000\n",
       "mean       0.836649\n",
       "std        0.369694\n",
       "min        0.000000\n",
       "25%        1.000000\n",
       "50%        1.000000\n",
       "75%        1.000000\n",
       "max        1.000000"
      ],
      "text/html": "<div>\n<style scoped>\n    .dataframe tbody tr th:only-of-type {\n        vertical-align: middle;\n    }\n\n    .dataframe tbody tr th {\n        vertical-align: top;\n    }\n\n    .dataframe thead th {\n        text-align: right;\n    }\n</style>\n<table border=\"1\" class=\"dataframe\">\n  <thead>\n    <tr style=\"text-align: right;\">\n      <th></th>\n      <th>stars</th>\n    </tr>\n  </thead>\n  <tbody>\n    <tr>\n      <th>count</th>\n      <td>21616.000000</td>\n    </tr>\n    <tr>\n      <th>mean</th>\n      <td>0.836649</td>\n    </tr>\n    <tr>\n      <th>std</th>\n      <td>0.369694</td>\n    </tr>\n    <tr>\n      <th>min</th>\n      <td>0.000000</td>\n    </tr>\n    <tr>\n      <th>25%</th>\n      <td>1.000000</td>\n    </tr>\n    <tr>\n      <th>50%</th>\n      <td>1.000000</td>\n    </tr>\n    <tr>\n      <th>75%</th>\n      <td>1.000000</td>\n    </tr>\n    <tr>\n      <th>max</th>\n      <td>1.000000</td>\n    </tr>\n  </tbody>\n</table>\n</div>"
     },
     "metadata": {},
     "execution_count": 14
    }
   ],
   "source": [
    "df_training.describe()"
   ]
  },
  {
   "cell_type": "code",
   "execution_count": 15,
   "metadata": {},
   "outputs": [
    {
     "output_type": "execute_result",
     "data": {
      "text/plain": [
       "(21616, 3)"
      ]
     },
     "metadata": {},
     "execution_count": 15
    }
   ],
   "source": [
    "df_training.shape"
   ]
  },
  {
   "source": [
    "### 1. Preprocessing"
   ],
   "cell_type": "markdown",
   "metadata": {}
  },
  {
   "cell_type": "code",
   "execution_count": 16,
   "metadata": {},
   "outputs": [],
   "source": [
    "spell = Speller(lang='en')"
   ]
  },
  {
   "cell_type": "code",
   "execution_count": 17,
   "metadata": {},
   "outputs": [],
   "source": [
    "def word_tokenize(sentence):\n",
    "    return nltk.word_tokenize(sentence.lower())\n",
    "\n",
    "def process_text(text_input): # processing yang dilakukan hanya spelling correction dengan library autocorrect\n",
    "    print(text_input)\n",
    "    return (spell(text_input))"
   ]
  },
  {
   "cell_type": "code",
   "execution_count": 18,
   "metadata": {},
   "outputs": [],
   "source": [
    "# df_training['text'] = df_training['text'].apply(process_text)"
   ]
  },
  {
   "cell_type": "code",
   "execution_count": 19,
   "metadata": {},
   "outputs": [],
   "source": [
    "df_training['text'] = df_training['text'].apply(word_tokenize) # tokenisasi kalimat setiap data"
   ]
  },
  {
   "cell_type": "code",
   "execution_count": 20,
   "metadata": {},
   "outputs": [
    {
     "output_type": "execute_result",
     "data": {
      "text/plain": [
       "   stars                              title  \\\n",
       "0      1               Not enough brownies!   \n",
       "1      1       I’m OBSESSED with this pint!   \n",
       "2      1  My favorite...More Caramel Please   \n",
       "3      1                        Obsessed!!!   \n",
       "4      0              Worst Ice Cream Ever!   \n",
       "\n",
       "                                                text  \n",
       "0  [super, good, ,, do, n't, get, me, wrong, ., b...  \n",
       "1  [i, decided, to, try, it, out, although, i, ’,...  \n",
       "2  [my, caramel, core, begins, to, disappear, abo...  \n",
       "3  [why, are, people, complaining, about, the, bl...  \n",
       "4  [this, ice, cream, is, worst, ice, cream, i, ’...  "
      ],
      "text/html": "<div>\n<style scoped>\n    .dataframe tbody tr th:only-of-type {\n        vertical-align: middle;\n    }\n\n    .dataframe tbody tr th {\n        vertical-align: top;\n    }\n\n    .dataframe thead th {\n        text-align: right;\n    }\n</style>\n<table border=\"1\" class=\"dataframe\">\n  <thead>\n    <tr style=\"text-align: right;\">\n      <th></th>\n      <th>stars</th>\n      <th>title</th>\n      <th>text</th>\n    </tr>\n  </thead>\n  <tbody>\n    <tr>\n      <th>0</th>\n      <td>1</td>\n      <td>Not enough brownies!</td>\n      <td>[super, good, ,, do, n't, get, me, wrong, ., b...</td>\n    </tr>\n    <tr>\n      <th>1</th>\n      <td>1</td>\n      <td>I’m OBSESSED with this pint!</td>\n      <td>[i, decided, to, try, it, out, although, i, ’,...</td>\n    </tr>\n    <tr>\n      <th>2</th>\n      <td>1</td>\n      <td>My favorite...More Caramel Please</td>\n      <td>[my, caramel, core, begins, to, disappear, abo...</td>\n    </tr>\n    <tr>\n      <th>3</th>\n      <td>1</td>\n      <td>Obsessed!!!</td>\n      <td>[why, are, people, complaining, about, the, bl...</td>\n    </tr>\n    <tr>\n      <th>4</th>\n      <td>0</td>\n      <td>Worst Ice Cream Ever!</td>\n      <td>[this, ice, cream, is, worst, ice, cream, i, ’...</td>\n    </tr>\n  </tbody>\n</table>\n</div>"
     },
     "metadata": {},
     "execution_count": 20
    }
   ],
   "source": [
    "df_training.head()"
   ]
  },
  {
   "cell_type": "code",
   "execution_count": 21,
   "metadata": {},
   "outputs": [],
   "source": [
    "# membaca kalimat-kalimat di Treebank yang sudah diberi tag\n",
    "nltk_data = list(nltk.corpus.treebank.tagged_sents(tagset='universal'))"
   ]
  },
  {
   "cell_type": "code",
   "execution_count": 22,
   "metadata": {
    "tags": []
   },
   "outputs": [],
   "source": [
    "# penambahan status start dan end untuk penghitungan transition probability start dan end\n",
    "for i in range(len(nltk_data)):\n",
    "    for j in range(len(nltk_data[i])):\n",
    "        if (j == 0):\n",
    "            nltk_data[i][j] = nltk_data[i][j] + ('S',)\n",
    "        elif (j == len(nltk_data[i]) - 1):\n",
    "            nltk_data[i][j] = nltk_data[i][j] + ('E',)\n",
    "        else:\n",
    "            nltk_data[i][j] = nltk_data[i][j] + (nltk_data[i][j][1],)"
   ]
  },
  {
   "cell_type": "code",
   "execution_count": 23,
   "metadata": {},
   "outputs": [],
   "source": [
    "# split data menjadi training dan test dengan rasio 80:20\n",
    "train_set,test_set =train_test_split(nltk_data,train_size=0.80,test_size=0.20,random_state = 101)\n"
   ]
  },
  {
   "cell_type": "code",
   "execution_count": 24,
   "metadata": {
    "tags": []
   },
   "outputs": [
    {
     "output_type": "stream",
     "name": "stdout",
     "text": [
      "[('At', 'ADP', 'S'), ('last', 'ADJ', 'ADJ'), ('count', 'NOUN', 'NOUN'), (',', '.', '.'), ('Candela', 'NOUN', 'NOUN'), ('had', 'VERB', 'VERB'), ('sold', 'VERB', 'VERB'), ('$', '.', '.'), ('4', 'NUM', 'NUM'), ('million', 'NUM', 'NUM'), ('*U*', 'X', 'X'), ('of', 'ADP', 'ADP'), ('its', 'PRON', 'PRON'), ('medical', 'ADJ', 'ADJ'), ('devices', 'NOUN', 'NOUN'), ('in', 'ADP', 'ADP'), ('Japan', 'NOUN', 'NOUN'), ('.', '.', 'E')]\n"
     ]
    }
   ],
   "source": [
    "print(train_set[1])"
   ]
  },
  {
   "cell_type": "code",
   "execution_count": 25,
   "metadata": {},
   "outputs": [
    {
     "output_type": "stream",
     "name": "stdout",
     "text": [
      "80310\n20366\n"
     ]
    }
   ],
   "source": [
    "# membuat list tuple dari setiap pasangan kata dan tag di training dan test dataset\n",
    "train_tagged_words = [ tup for sent in train_set for tup in sent ]\n",
    "test_tagged_words = [ tup for sent in test_set for tup in sent ]\n",
    "print(len(train_tagged_words))\n",
    "print(len(test_tagged_words))"
   ]
  },
  {
   "cell_type": "code",
   "execution_count": 26,
   "metadata": {},
   "outputs": [
    {
     "output_type": "execute_result",
     "data": {
      "text/plain": [
       "[('Drink', 'NOUN', 'S'),\n",
       " ('Carrier', 'NOUN', 'NOUN'),\n",
       " ('Competes', 'VERB', 'VERB'),\n",
       " ('With', 'ADP', 'ADP'),\n",
       " ('Cartons', 'NOUN', 'E'),\n",
       " ('At', 'ADP', 'S'),\n",
       " ('last', 'ADJ', 'ADJ'),\n",
       " ('count', 'NOUN', 'NOUN'),\n",
       " (',', '.', '.'),\n",
       " ('Candela', 'NOUN', 'NOUN')]"
      ]
     },
     "metadata": {},
     "execution_count": 26
    }
   ],
   "source": [
    "# check some of the tagged words.\n",
    "train_tagged_words[:10]"
   ]
  },
  {
   "cell_type": "code",
   "execution_count": 27,
   "metadata": {
    "tags": []
   },
   "outputs": [
    {
     "output_type": "stream",
     "name": "stdout",
     "text": [
      "12\n",
      "{'NOUN', 'VERB', '.', 'DET', 'PRON', 'CONJ', 'S', 'ADJ', 'ADP', 'NUM', 'PRT', 'X', 'E', 'ADV'}\n",
      "11052\n"
     ]
    }
   ],
   "source": [
    "#cek ada berapa banyak tag unik, lalu ditambahkan 2 tag yaitu S untuk Start dan E untuk End\n",
    "tags = {tag1 for word,tag1,tag2 in train_tagged_words}\n",
    "print(len(tags))\n",
    "tags.add('S')\n",
    "tags.add('E')\n",
    "print(tags)\n",
    "\n",
    "# cek vocabulary pada dataset\n",
    "vocabulary = {word for word,tag1,tag2 in train_tagged_words}\n",
    "print(len(vocabulary))"
   ]
  },
  {
   "cell_type": "code",
   "execution_count": 28,
   "metadata": {},
   "outputs": [],
   "source": [
    "# hitung emission probability\n",
    "def word_given_tag(word, tag, train_data = train_tagged_words):\n",
    "    tag_list = [pair for pair in train_data if pair[1]==tag]\n",
    "    count_tag = len(tag_list) # total kemunculan suatu tag di dalam data\n",
    "    w_given_tag_list = [pair[0] for pair in tag_list if pair[0]==word]\n",
    "    count_w_given_tag = len(w_given_tag_list) # total kemunculan kata yg dicari dengan tag yang sesuai di dalam data\n",
    " \n",
    "    return (count_w_given_tag, count_tag)"
   ]
  },
  {
   "cell_type": "code",
   "execution_count": 29,
   "metadata": {
    "tags": []
   },
   "outputs": [
    {
     "output_type": "stream",
     "name": "stdout",
     "text": [
      "(2, 2578)\n"
     ]
    }
   ],
   "source": [
    "print(word_given_tag('in', 'ADV'))"
   ]
  },
  {
   "cell_type": "code",
   "execution_count": 30,
   "metadata": {},
   "outputs": [],
   "source": [
    "# hitung transition probability\n",
    "def t2_given_t1(t2, t1, train_data = train_tagged_words):\n",
    "    if (t1 == 'S' or t2 == 'E'): # kalau tag yang dicari transisinya ada Start atau End\n",
    "        tags = [pair[2] for pair in train_data]\n",
    "        count_t1 = len([t for t in tags if t==t1]) # menghitung kemunculan t1 di dalam data\n",
    "        count_t2_t1 = 0\n",
    "        for index in range(len(tags)-1): # menghitung kemunculan t2 setelah t1\n",
    "            if tags[index]==t1 and tags[index+1] == t2:\n",
    "                count_t2_t1 += 1\n",
    "        return (count_t2_t1, count_t1) # outputnya tuple\n",
    "    else:\n",
    "        tags = [pair[1] for pair in train_data]\n",
    "        count_t1 = len([t for t in tags if t==t1]) # menghitung kemunculan t1 di dalam data\n",
    "        count_t2_t1 = 0\n",
    "        for index in range(len(tags)-1): # menghitung kemunculan t2 setelah t1\n",
    "            if tags[index]==t1 and tags[index+1] == t2:\n",
    "                count_t2_t1 += 1\n",
    "        return (count_t2_t1, count_t1) # outputnya tuple"
   ]
  },
  {
   "cell_type": "code",
   "execution_count": 31,
   "metadata": {
    "tags": []
   },
   "outputs": [
    {
     "output_type": "stream",
     "name": "stdout",
     "text": [
      "(1364, 3131)\n"
     ]
    }
   ],
   "source": [
    "print(t2_given_t1('NOUN', 'S'))"
   ]
  },
  {
   "cell_type": "code",
   "execution_count": 32,
   "metadata": {},
   "outputs": [
    {
     "output_type": "stream",
     "name": "stdout",
     "text": [
      "[[2.62344331e-01 1.49133503e-01 2.40094051e-01 1.31063312e-02\n  4.65906132e-03 4.24540639e-02 0.00000000e+00 1.25838192e-02\n  1.76826611e-01 9.14395228e-03 4.39345129e-02 2.88252197e-02\n  8.81219134e-02 1.68945398e-02]\n [1.10589318e-01 1.67955801e-01 3.48066315e-02 1.33609578e-01\n  3.55432779e-02 5.43278083e-03 0.00000000e+00 6.63904250e-02\n  9.23572779e-02 2.28360966e-02 3.06629837e-02 2.15930015e-01\n  7.94383883e-03 8.38858187e-02]\n [2.18538776e-01 8.96899477e-02 9.23720598e-02 1.72191828e-01\n  6.87694475e-02 6.00793920e-02 0.00000000e+00 4.61323895e-02\n  9.29084867e-02 7.82104954e-02 2.78940029e-03 2.56410260e-02\n  3.62173021e-02 5.25694676e-02]\n [6.35906279e-01 4.02472317e-02 1.73925534e-02 6.03708485e-03\n  3.30602261e-03 4.31220367e-04 0.00000000e+00 2.06410810e-01\n  9.91806854e-03 2.28546783e-02 2.87480245e-04 4.51343954e-02\n  1.60462130e-03 1.20741697e-02]\n [2.12756261e-01 4.84738052e-01 4.19134386e-02 9.56719834e-03\n  6.83371304e-03 5.01138950e-03 0.00000000e+00 7.06150308e-02\n  2.23234631e-02 6.83371304e-03 1.41230067e-02 8.83826911e-02\n  1.48717947e-02 3.69020514e-02]\n [3.49066973e-01 1.50384188e-01 3.51262353e-02 1.23490669e-01\n  6.03732169e-02 5.48847427e-04 0.00000000e+00 1.13611415e-01\n  5.59824370e-02 4.06147093e-02 4.39077942e-03 9.33040585e-03\n  6.03864726e-04 5.70801310e-02]\n [4.35643554e-01 1.54583201e-01 5.58926873e-02 8.84701386e-02\n  4.85467911e-02 6.70712255e-03 0.00000000e+00 7.02650920e-02\n  4.47141491e-02 1.98019799e-02 1.69274993e-02 2.20376868e-02\n  5.11018839e-03 3.09805181e-02]\n [6.96893215e-01 1.14563107e-02 6.60194159e-02 5.24271838e-03\n  1.94174761e-04 1.68932043e-02 0.00000000e+00 6.33009672e-02\n  8.05825219e-02 2.17475723e-02 1.14563107e-02 2.09708735e-02\n  2.27182135e-02 5.24271838e-03]\n [3.23588967e-01 8.47886596e-03 3.87243740e-02 3.20931405e-01\n  6.96026310e-02 1.01240189e-03 0.00000000e+00 1.07061505e-01\n  1.69577319e-02 6.32751212e-02 1.26550242e-03 3.45482156e-02\n  3.20726982e-03 1.45532778e-02]\n [3.51660132e-01 2.07068902e-02 1.19243130e-01 3.57015361e-03\n  1.42806140e-03 1.42806144e-02 0.00000000e+00 3.53445187e-02\n  3.74866128e-02 1.84219927e-01 2.60621198e-02 2.02427700e-01\n  5.12080789e-02 3.57015361e-03]\n [2.50489235e-01 4.01174158e-01 4.50097844e-02 1.01369865e-01\n  1.76125243e-02 2.34833662e-03 0.00000000e+00 8.29745606e-02\n  1.95694715e-02 5.67514673e-02 1.17416831e-03 1.21330721e-02\n  3.92156886e-03 9.39334650e-03]\n [6.16951771e-02 2.06419379e-01 1.60868734e-01 5.68902567e-02\n  5.41995019e-02 1.03786280e-02 0.00000000e+00 1.76821072e-02\n  1.42225638e-01 3.07514891e-03 1.85085520e-01 7.57255405e-02\n  8.76168236e-02 2.57543717e-02]\n [0.00000000e+00 0.00000000e+00 0.00000000e+00 0.00000000e+00\n  0.00000000e+00 0.00000000e+00 0.00000000e+00 0.00000000e+00\n  0.00000000e+00 0.00000000e+00 0.00000000e+00 0.00000000e+00\n  0.00000000e+00 0.00000000e+00]\n [3.21955010e-02 3.39022487e-01 1.39255241e-01 7.13731572e-02\n  1.20248254e-02 6.98215654e-03 0.00000000e+00 1.30721495e-01\n  1.19472459e-01 2.98681147e-02 1.47401085e-02 2.28859577e-02\n  3.68988402e-02 8.14584941e-02]]\n"
     ]
    }
   ],
   "source": [
    "# membuat transition matriks dari tag yang ada. Matriks(i,j) merepresentasikan transition probablity munculnya tag j setelah tag i\n",
    "tags_matrix = np.zeros((len(tags), len(tags)), dtype='float32')\n",
    "for i, t1 in enumerate(list(tags)):\n",
    "    for j, t2 in enumerate(list(tags)): \n",
    "        if (t2_given_t1(t2,t1)[1] == 0) or (t1 == 'S' and t2 == 'S'):\n",
    "            tags_matrix[i, j] = 0\n",
    "        else:\n",
    "            tags_matrix[i, j] = t2_given_t1(t2, t1)[0]/t2_given_t1(t2, t1)[1]\n",
    " \n",
    "print(tags_matrix)"
   ]
  },
  {
   "cell_type": "code",
   "execution_count": 33,
   "metadata": {},
   "outputs": [
    {
     "output_type": "display_data",
     "data": {
      "text/plain": "          NOUN      VERB         .       DET      PRON      CONJ    S  \\\nNOUN  0.262344  0.149134  0.240094  0.013106  0.004659  0.042454  0.0   \nVERB  0.110589  0.167956  0.034807  0.133610  0.035543  0.005433  0.0   \n.     0.218539  0.089690  0.092372  0.172192  0.068769  0.060079  0.0   \nDET   0.635906  0.040247  0.017393  0.006037  0.003306  0.000431  0.0   \nPRON  0.212756  0.484738  0.041913  0.009567  0.006834  0.005011  0.0   \nCONJ  0.349067  0.150384  0.035126  0.123491  0.060373  0.000549  0.0   \nS     0.435644  0.154583  0.055893  0.088470  0.048547  0.006707  0.0   \nADJ   0.696893  0.011456  0.066019  0.005243  0.000194  0.016893  0.0   \nADP   0.323589  0.008479  0.038724  0.320931  0.069603  0.001012  0.0   \nNUM   0.351660  0.020707  0.119243  0.003570  0.001428  0.014281  0.0   \nPRT   0.250489  0.401174  0.045010  0.101370  0.017613  0.002348  0.0   \nX     0.061695  0.206419  0.160869  0.056890  0.054200  0.010379  0.0   \nE     0.000000  0.000000  0.000000  0.000000  0.000000  0.000000  0.0   \nADV   0.032196  0.339022  0.139255  0.071373  0.012025  0.006982  0.0   \n\n           ADJ       ADP       NUM       PRT         X         E       ADV  \nNOUN  0.012584  0.176827  0.009144  0.043935  0.028825  0.088122  0.016895  \nVERB  0.066390  0.092357  0.022836  0.030663  0.215930  0.007944  0.083886  \n.     0.046132  0.092908  0.078210  0.002789  0.025641  0.036217  0.052569  \nDET   0.206411  0.009918  0.022855  0.000287  0.045134  0.001605  0.012074  \nPRON  0.070615  0.022323  0.006834  0.014123  0.088383  0.014872  0.036902  \nCONJ  0.113611  0.055982  0.040615  0.004391  0.009330  0.000604  0.057080  \nS     0.070265  0.044714  0.019802  0.016927  0.022038  0.005110  0.030981  \nADJ   0.063301  0.080583  0.021748  0.011456  0.020971  0.022718  0.005243  \nADP   0.107062  0.016958  0.063275  0.001266  0.034548  0.003207  0.014553  \nNUM   0.035345  0.037487  0.184220  0.026062  0.202428  0.051208  0.003570  \nPRT   0.082975  0.019569  0.056751  0.001174  0.012133  0.003922  0.009393  \nX     0.017682  0.142226  0.003075  0.185086  0.075726  0.087617  0.025754  \nE     0.000000  0.000000  0.000000  0.000000  0.000000  0.000000  0.000000  \nADV   0.130721  0.119472  0.029868  0.014740  0.022886  0.036899  0.081458  ",
      "text/html": "<div>\n<style scoped>\n    .dataframe tbody tr th:only-of-type {\n        vertical-align: middle;\n    }\n\n    .dataframe tbody tr th {\n        vertical-align: top;\n    }\n\n    .dataframe thead th {\n        text-align: right;\n    }\n</style>\n<table border=\"1\" class=\"dataframe\">\n  <thead>\n    <tr style=\"text-align: right;\">\n      <th></th>\n      <th>NOUN</th>\n      <th>VERB</th>\n      <th>.</th>\n      <th>DET</th>\n      <th>PRON</th>\n      <th>CONJ</th>\n      <th>S</th>\n      <th>ADJ</th>\n      <th>ADP</th>\n      <th>NUM</th>\n      <th>PRT</th>\n      <th>X</th>\n      <th>E</th>\n      <th>ADV</th>\n    </tr>\n  </thead>\n  <tbody>\n    <tr>\n      <th>NOUN</th>\n      <td>0.262344</td>\n      <td>0.149134</td>\n      <td>0.240094</td>\n      <td>0.013106</td>\n      <td>0.004659</td>\n      <td>0.042454</td>\n      <td>0.0</td>\n      <td>0.012584</td>\n      <td>0.176827</td>\n      <td>0.009144</td>\n      <td>0.043935</td>\n      <td>0.028825</td>\n      <td>0.088122</td>\n      <td>0.016895</td>\n    </tr>\n    <tr>\n      <th>VERB</th>\n      <td>0.110589</td>\n      <td>0.167956</td>\n      <td>0.034807</td>\n      <td>0.133610</td>\n      <td>0.035543</td>\n      <td>0.005433</td>\n      <td>0.0</td>\n      <td>0.066390</td>\n      <td>0.092357</td>\n      <td>0.022836</td>\n      <td>0.030663</td>\n      <td>0.215930</td>\n      <td>0.007944</td>\n      <td>0.083886</td>\n    </tr>\n    <tr>\n      <th>.</th>\n      <td>0.218539</td>\n      <td>0.089690</td>\n      <td>0.092372</td>\n      <td>0.172192</td>\n      <td>0.068769</td>\n      <td>0.060079</td>\n      <td>0.0</td>\n      <td>0.046132</td>\n      <td>0.092908</td>\n      <td>0.078210</td>\n      <td>0.002789</td>\n      <td>0.025641</td>\n      <td>0.036217</td>\n      <td>0.052569</td>\n    </tr>\n    <tr>\n      <th>DET</th>\n      <td>0.635906</td>\n      <td>0.040247</td>\n      <td>0.017393</td>\n      <td>0.006037</td>\n      <td>0.003306</td>\n      <td>0.000431</td>\n      <td>0.0</td>\n      <td>0.206411</td>\n      <td>0.009918</td>\n      <td>0.022855</td>\n      <td>0.000287</td>\n      <td>0.045134</td>\n      <td>0.001605</td>\n      <td>0.012074</td>\n    </tr>\n    <tr>\n      <th>PRON</th>\n      <td>0.212756</td>\n      <td>0.484738</td>\n      <td>0.041913</td>\n      <td>0.009567</td>\n      <td>0.006834</td>\n      <td>0.005011</td>\n      <td>0.0</td>\n      <td>0.070615</td>\n      <td>0.022323</td>\n      <td>0.006834</td>\n      <td>0.014123</td>\n      <td>0.088383</td>\n      <td>0.014872</td>\n      <td>0.036902</td>\n    </tr>\n    <tr>\n      <th>CONJ</th>\n      <td>0.349067</td>\n      <td>0.150384</td>\n      <td>0.035126</td>\n      <td>0.123491</td>\n      <td>0.060373</td>\n      <td>0.000549</td>\n      <td>0.0</td>\n      <td>0.113611</td>\n      <td>0.055982</td>\n      <td>0.040615</td>\n      <td>0.004391</td>\n      <td>0.009330</td>\n      <td>0.000604</td>\n      <td>0.057080</td>\n    </tr>\n    <tr>\n      <th>S</th>\n      <td>0.435644</td>\n      <td>0.154583</td>\n      <td>0.055893</td>\n      <td>0.088470</td>\n      <td>0.048547</td>\n      <td>0.006707</td>\n      <td>0.0</td>\n      <td>0.070265</td>\n      <td>0.044714</td>\n      <td>0.019802</td>\n      <td>0.016927</td>\n      <td>0.022038</td>\n      <td>0.005110</td>\n      <td>0.030981</td>\n    </tr>\n    <tr>\n      <th>ADJ</th>\n      <td>0.696893</td>\n      <td>0.011456</td>\n      <td>0.066019</td>\n      <td>0.005243</td>\n      <td>0.000194</td>\n      <td>0.016893</td>\n      <td>0.0</td>\n      <td>0.063301</td>\n      <td>0.080583</td>\n      <td>0.021748</td>\n      <td>0.011456</td>\n      <td>0.020971</td>\n      <td>0.022718</td>\n      <td>0.005243</td>\n    </tr>\n    <tr>\n      <th>ADP</th>\n      <td>0.323589</td>\n      <td>0.008479</td>\n      <td>0.038724</td>\n      <td>0.320931</td>\n      <td>0.069603</td>\n      <td>0.001012</td>\n      <td>0.0</td>\n      <td>0.107062</td>\n      <td>0.016958</td>\n      <td>0.063275</td>\n      <td>0.001266</td>\n      <td>0.034548</td>\n      <td>0.003207</td>\n      <td>0.014553</td>\n    </tr>\n    <tr>\n      <th>NUM</th>\n      <td>0.351660</td>\n      <td>0.020707</td>\n      <td>0.119243</td>\n      <td>0.003570</td>\n      <td>0.001428</td>\n      <td>0.014281</td>\n      <td>0.0</td>\n      <td>0.035345</td>\n      <td>0.037487</td>\n      <td>0.184220</td>\n      <td>0.026062</td>\n      <td>0.202428</td>\n      <td>0.051208</td>\n      <td>0.003570</td>\n    </tr>\n    <tr>\n      <th>PRT</th>\n      <td>0.250489</td>\n      <td>0.401174</td>\n      <td>0.045010</td>\n      <td>0.101370</td>\n      <td>0.017613</td>\n      <td>0.002348</td>\n      <td>0.0</td>\n      <td>0.082975</td>\n      <td>0.019569</td>\n      <td>0.056751</td>\n      <td>0.001174</td>\n      <td>0.012133</td>\n      <td>0.003922</td>\n      <td>0.009393</td>\n    </tr>\n    <tr>\n      <th>X</th>\n      <td>0.061695</td>\n      <td>0.206419</td>\n      <td>0.160869</td>\n      <td>0.056890</td>\n      <td>0.054200</td>\n      <td>0.010379</td>\n      <td>0.0</td>\n      <td>0.017682</td>\n      <td>0.142226</td>\n      <td>0.003075</td>\n      <td>0.185086</td>\n      <td>0.075726</td>\n      <td>0.087617</td>\n      <td>0.025754</td>\n    </tr>\n    <tr>\n      <th>E</th>\n      <td>0.000000</td>\n      <td>0.000000</td>\n      <td>0.000000</td>\n      <td>0.000000</td>\n      <td>0.000000</td>\n      <td>0.000000</td>\n      <td>0.0</td>\n      <td>0.000000</td>\n      <td>0.000000</td>\n      <td>0.000000</td>\n      <td>0.000000</td>\n      <td>0.000000</td>\n      <td>0.000000</td>\n      <td>0.000000</td>\n    </tr>\n    <tr>\n      <th>ADV</th>\n      <td>0.032196</td>\n      <td>0.339022</td>\n      <td>0.139255</td>\n      <td>0.071373</td>\n      <td>0.012025</td>\n      <td>0.006982</td>\n      <td>0.0</td>\n      <td>0.130721</td>\n      <td>0.119472</td>\n      <td>0.029868</td>\n      <td>0.014740</td>\n      <td>0.022886</td>\n      <td>0.036899</td>\n      <td>0.081458</td>\n    </tr>\n  </tbody>\n</table>\n</div>"
     },
     "metadata": {}
    }
   ],
   "source": [
    "# mengubah matriks menjadi datafram agar mudah dibaca\n",
    "tags_df = pd.DataFrame(tags_matrix, columns = list(tags), index=list(tags))\n",
    "display(tags_df)"
   ]
  },
  {
   "source": [
    "Karena sudah ada transition dan emission probability, maka dilakukan pos tagging pada token-token yang ada di df_training"
   ],
   "cell_type": "markdown",
   "metadata": {}
  },
  {
   "cell_type": "code",
   "execution_count": 34,
   "metadata": {},
   "outputs": [
    {
     "output_type": "stream",
     "name": "stdout",
     "text": [
      "['i', 'decided', 'to', 'try', 'it', 'out', 'although', 'i', '’', 'm', 'not', 'a', 'huge', 'caramel', 'fan', ',', 'and', 'the', 'first', 'buy', 'was', 'ok', ',', 'didn', '’', 't', 'like', 'the', 'caramel', 'too', 'much', 'and', 'for', 'some', 'reason', 'that', 'specific', 'pint', 'barely', 'had', 'any', 'brownies', '!', 'like', 'there', 'were', 'some', 'on', 'top', 'but', 'from', 'the', 'middle', 'to', 'the', 'bottom', '?', 'zilch', '.', 'nada', '.', 'nothing', '!', 'it', 'was', 'disappointing', '.', 'but', 'for', 'some', 'reason', ',', 'i', 'bought', 'it', 'again', 'and', 'i', 'really', 'do', 'believe', 'it', 'was', 'just', 'that', 'point', 'bcuz', 'the', 'second', 'one', 'was', 'glorious', '!', '!', 'i', 'had', 'a', 'big', 'brownie', 'chunk', 'in', 'every', 'bite', '.', 'plus', 'the', 'caramel', 'didn', '’', 't', 'bother', 'me', 'as', 'much', 'and', 'i', 'took', 'a', 'liking', 'to', 'it', '.', 'conclusion', ':', 'i', '’', 'm', 'on', 'my', 'fifth', 'pint', ',', 'of', 'the', 'week', 'and', 'i', '’', 'm', 'going', 'back', 'to', 'get', 'my', 'daily', 'pint', 'cus', 'i', '’', 'm', 'kinda', 'sick', 'and', 'need', 'some', 'happiness', '.']\n"
     ]
    }
   ],
   "source": [
    "token = df_training.iloc[1,2]\n",
    "print(token)"
   ]
  },
  {
   "cell_type": "code",
   "execution_count": 35,
   "metadata": {},
   "outputs": [
    {
     "output_type": "stream",
     "name": "stdout",
     "text": [
      "157\n"
     ]
    }
   ],
   "source": [
    "print(len(token))"
   ]
  },
  {
   "cell_type": "code",
   "execution_count": 36,
   "metadata": {},
   "outputs": [
    {
     "output_type": "stream",
     "name": "stdout",
     "text": [
      "['NOUN', 'VERB', '.', 'DET', 'PRON', 'CONJ', 'S', 'ADJ', 'ADP', 'NUM', 'PRT', 'X', 'E', 'ADV']\n"
     ]
    }
   ],
   "source": [
    "list_tag = list(tags)\n",
    "print(list_tag)"
   ]
  },
  {
   "cell_type": "code",
   "execution_count": 37,
   "metadata": {},
   "outputs": [
    {
     "output_type": "stream",
     "name": "stdout",
     "text": [
      "True\n"
     ]
    }
   ],
   "source": [
    "def oov_checker(word):\n",
    "    return word not in vocabulary\n",
    "\n",
    "print(oov_checker('bite'))"
   ]
  },
  {
   "cell_type": "code",
   "execution_count": 53,
   "metadata": {},
   "outputs": [],
   "source": [
    "solution = []\n",
    "def pos_tagger(tagged_words, untagged_words, command, prob_now, solutions):\n",
    "    if (len(untagged_words) == 0 or command == 'FINISH'):\n",
    "        #basis\n",
    "        # print(\"ZZZZZZZZZZZZZZ\")\n",
    "        print(tagged_words, prob_now)\n",
    "        return (tagged_words, prob_now)\n",
    "    else: # rekurens\n",
    "        if (command == 'TRANSITION'):\n",
    "            # do transition\n",
    "            for tag in list_tag:\n",
    "                if (len(tagged_words) == 0):\n",
    "                    # print(\"A\")\n",
    "                    if (tags_df[tag]['S'] > 0):\n",
    "                        word_process = untagged_words.pop(0)\n",
    "                        tagged_words.append((word_process, tag))\n",
    "                        pos_tagger(tagged_words, untagged_words, 'EMISSION', \n",
    "                            prob_now * tags_df[tag]['S'], solutions)\n",
    "                        tagged_words.pop(len(tagged_words) - 1)\n",
    "                        untagged_words.insert(0, word_process)\n",
    "                elif (tags_df[tag][tagged_words[len(tagged_words) - 1][1]] > 0):\n",
    "                    # print('B')\n",
    "                    word_process = untagged_words.pop(0)\n",
    "                    tagged_words.append((word_process, tag))\n",
    "                    pos_tagger(tagged_words, untagged_words, 'EMISSION', \n",
    "                        prob_now * tags_df[tag][tagged_words[len(tagged_words) - 1][1]], solutions)\n",
    "                    tagged_words.pop(len(tagged_words) - 1)\n",
    "                    untagged_words.insert(0, word_process)\n",
    "                elif (len(untagged_words) == 0):\n",
    "                    # print('C')\n",
    "                    if (tags_df['E'][tag] > 0):\n",
    "                        pos_tagger(tagged_words, untagged_words, 'FINISH', \n",
    "                            prob_now * tags_df['E'][tag], solutions)\n",
    "        elif (command == 'EMISSION'):\n",
    "            # print('D')\n",
    "            len_tagged_word = len(tagged_words)\n",
    "            if (oov_checker(tagged_words[len_tagged_word - 1][0])):\n",
    "                pos_tagger(tagged_words, untagged_words, 'TRANSITION', prob_now * 0.0000000001, solutions)\n",
    "            else:\n",
    "                emission_temp = word_given_tag(tagged_words[len_tagged_word - 1][0], tagged_words[len_tagged_word - 1][1])\n",
    "                if (emission_temp[1] > 0):\n",
    "                    if (emission_temp[0] / emission_temp[1] > 0):\n",
    "                        # print('F')\n",
    "                        pos_tagger(tagged_words, untagged_words, 'TRANSITION', prob_now * emission_temp[0] / emission_temp[1], solutions)"
   ]
  },
  {
   "cell_type": "code",
   "execution_count": 54,
   "metadata": {
    "tags": []
   },
   "outputs": [
    {
     "output_type": "stream",
     "name": "stdout",
     "text": [
      "[('i', 'NOUN'), ('have', 'VERB'), ('a', 'DET'), ('dream', 'NOUN')] 6.3034340685488e-17\n",
      "[('i', 'NOUN'), ('have', 'VERB'), ('a', 'DET'), ('dream', 'VERB')] 4.035529622956842e-17\n",
      "[('i', 'NOUN'), ('have', 'VERB'), ('a', 'DET'), ('dream', '.')] 2.219454057366247e-17\n",
      "[('i', 'NOUN'), ('have', 'VERB'), ('a', 'DET'), ('dream', 'DET')] 1.4505503605682126e-18\n",
      "[('i', 'NOUN'), ('have', 'VERB'), ('a', 'DET'), ('dream', 'PRON')] 1.6419588514002928e-18\n",
      "[('i', 'NOUN'), ('have', 'VERB'), ('a', 'DET'), ('dream', 'CONJ')] 1.3187338805220205e-19\n",
      "[('i', 'NOUN'), ('have', 'VERB'), ('a', 'DET'), ('dream', 'ADJ')] 1.5209532925264895e-17\n",
      "[('i', 'NOUN'), ('have', 'VERB'), ('a', 'DET'), ('dream', 'ADP')] 4.074490379506302e-18\n",
      "[('i', 'NOUN'), ('have', 'VERB'), ('a', 'DET'), ('dream', 'NUM')] 4.4263131548439005e-17\n",
      "[('i', 'NOUN'), ('have', 'VERB'), ('a', 'DET'), ('dream', 'PRT')] 2.8212130692963693e-19\n",
      "[('i', 'NOUN'), ('have', 'VERB'), ('a', 'DET'), ('dream', 'X')] 1.8194826279107913e-17\n",
      "[('i', 'NOUN'), ('have', 'VERB'), ('a', 'DET'), ('dream', 'E')] 0.0\n",
      "[('i', 'NOUN'), ('have', 'VERB'), ('a', 'DET'), ('dream', 'ADV')] 1.957230200480527e-17\n",
      "[('i', 'NOUN'), ('have', 'VERB'), ('a', 'ADJ'), ('dream', 'NOUN')] 1.1992517279313195e-18\n",
      "[('i', 'NOUN'), ('have', 'VERB'), ('a', 'ADJ'), ('dream', 'VERB')] 7.677744894003806e-19\n",
      "[('i', 'NOUN'), ('have', 'VERB'), ('a', 'ADJ'), ('dream', '.')] 4.22259372338201e-19\n",
      "[('i', 'NOUN'), ('have', 'VERB'), ('a', 'ADJ'), ('dream', 'DET')] 2.759725900906137e-20\n",
      "[('i', 'NOUN'), ('have', 'VERB'), ('a', 'ADJ'), ('dream', 'PRON')] 3.1238876592029844e-20\n",
      "[('i', 'NOUN'), ('have', 'VERB'), ('a', 'ADJ'), ('dream', 'CONJ')] 2.508940154999836e-21\n",
      "[('i', 'NOUN'), ('have', 'VERB'), ('a', 'ADJ'), ('dream', 'ADJ')] 2.893670092094977e-19\n",
      "[('i', 'NOUN'), ('have', 'VERB'), ('a', 'ADJ'), ('dream', 'ADP')] 7.751869179441454e-20\n",
      "[('i', 'NOUN'), ('have', 'VERB'), ('a', 'ADJ'), ('dream', 'NUM')] 8.421225068090171e-19\n",
      "[('i', 'NOUN'), ('have', 'VERB'), ('a', 'ADJ'), ('dream', 'PRT')] 5.3674625790049994e-21\n",
      "[('i', 'NOUN'), ('have', 'VERB'), ('a', 'ADJ'), ('dream', 'X')] 3.461633233145542e-19\n",
      "[('i', 'NOUN'), ('have', 'VERB'), ('a', 'ADJ'), ('dream', 'E')] 0.0\n",
      "[('i', 'NOUN'), ('have', 'VERB'), ('a', 'ADJ'), ('dream', 'ADV')] 3.7237031027216223e-19\n",
      "[('i', 'NOUN'), ('have', 'VERB'), ('a', 'ADP'), ('dream', 'NOUN')] 1.0469067025331761e-19\n",
      "[('i', 'NOUN'), ('have', 'VERB'), ('a', 'ADP'), ('dream', 'VERB')] 6.702414849747692e-20\n",
      "[('i', 'NOUN'), ('have', 'VERB'), ('a', 'ADP'), ('dream', '.')] 3.6861832825612706e-20\n",
      "[('i', 'NOUN'), ('have', 'VERB'), ('a', 'ADP'), ('dream', 'DET')] 2.4091485344755777e-21\n",
      "[('i', 'NOUN'), ('have', 'VERB'), ('a', 'ADP'), ('dream', 'PRON')] 2.727049586179603e-21\n",
      "[('i', 'NOUN'), ('have', 'VERB'), ('a', 'ADP'), ('dream', 'CONJ')] 2.190220954740521e-22\n",
      "[('i', 'NOUN'), ('have', 'VERB'), ('a', 'ADP'), ('dream', 'ADJ')] 2.526077339542109e-20\n",
      "[('i', 'NOUN'), ('have', 'VERB'), ('a', 'ADP'), ('dream', 'ADP')] 6.76712287512533e-21\n",
      "[('i', 'NOUN'), ('have', 'VERB'), ('a', 'ADP'), ('dream', 'NUM')] 7.351448208902564e-20\n",
      "[('i', 'NOUN'), ('have', 'VERB'), ('a', 'ADP'), ('dream', 'PRT')] 4.68561555399998e-22\n",
      "[('i', 'NOUN'), ('have', 'VERB'), ('a', 'ADP'), ('dream', 'X')] 3.021890191263666e-20\n",
      "[('i', 'NOUN'), ('have', 'VERB'), ('a', 'ADP'), ('dream', 'E')] 0.0\n",
      "[('i', 'NOUN'), ('have', 'VERB'), ('a', 'ADP'), ('dream', 'ADV')] 3.250668434063835e-20\n",
      "[('i', 'NOUN'), ('have', 'VERB'), ('a', 'X'), ('dream', 'NOUN')] 7.100121758138809e-19\n",
      "[('i', 'NOUN'), ('have', 'VERB'), ('a', 'X'), ('dream', 'VERB')] 4.5455780722024945e-19\n",
      "[('i', 'NOUN'), ('have', 'VERB'), ('a', 'X'), ('dream', '.')] 2.4999696788330977e-19\n",
      "[('i', 'NOUN'), ('have', 'VERB'), ('a', 'X'), ('dream', 'DET')] 1.6338846515003774e-20\n",
      "[('i', 'NOUN'), ('have', 'VERB'), ('a', 'X'), ('dream', 'PRON')] 1.8494851599962558e-20\n",
      "[('i', 'NOUN'), ('have', 'VERB'), ('a', 'X'), ('dream', 'CONJ')] 1.4854079564355381e-21\n",
      "[('i', 'NOUN'), ('have', 'VERB'), ('a', 'X'), ('dream', 'ADJ')] 1.7131857726983993e-19\n",
      "[('i', 'NOUN'), ('have', 'VERB'), ('a', 'X'), ('dream', 'ADP')] 4.589463058113682e-20\n",
      "[('i', 'NOUN'), ('have', 'VERB'), ('a', 'X'), ('dream', 'NUM')] 4.985752527475637e-19\n",
      "[('i', 'NOUN'), ('have', 'VERB'), ('a', 'X'), ('dream', 'PRT')] 3.1777846932042752e-21\n",
      "[('i', 'NOUN'), ('have', 'VERB'), ('a', 'X'), ('dream', 'X')] 2.0494460724896808e-19\n",
      "[('i', 'NOUN'), ('have', 'VERB'), ('a', 'X'), ('dream', 'E')] 0.0\n",
      "[('i', 'NOUN'), ('have', 'VERB'), ('a', 'X'), ('dream', 'ADV')] 2.2046034877172107e-19\n",
      "[('i', 'VERB'), ('have', 'VERB'), ('a', 'DET'), ('dream', 'NOUN')] 2.2367024740165802e-17\n",
      "[('i', 'VERB'), ('have', 'VERB'), ('a', 'DET'), ('dream', 'VERB')] 1.4319621643496985e-17\n",
      "[('i', 'VERB'), ('have', 'VERB'), ('a', 'DET'), ('dream', '.')] 7.875482359443654e-18\n",
      "[('i', 'VERB'), ('have', 'VERB'), ('a', 'DET'), ('dream', 'DET')] 5.147114326707811e-19\n",
      "[('i', 'VERB'), ('have', 'VERB'), ('a', 'DET'), ('dream', 'PRON')] 5.826305764797141e-19\n",
      "[('i', 'VERB'), ('have', 'VERB'), ('a', 'DET'), ('dream', 'CONJ')] 4.679378416679719e-20\n",
      "[('i', 'VERB'), ('have', 'VERB'), ('a', 'DET'), ('dream', 'ADJ')] 5.396931189034972e-18\n",
      "[('i', 'VERB'), ('have', 'VERB'), ('a', 'DET'), ('dream', 'ADP')] 1.4457869493186632e-18\n",
      "[('i', 'VERB'), ('have', 'VERB'), ('a', 'DET'), ('dream', 'NUM')] 1.5706272924483495e-17\n",
      "[('i', 'VERB'), ('have', 'VERB'), ('a', 'DET'), ('dream', 'PRT')] 1.0010756332501562e-19\n",
      "[('i', 'VERB'), ('have', 'VERB'), ('a', 'DET'), ('dream', 'X')] 6.456228860366558e-18\n",
      "[('i', 'VERB'), ('have', 'VERB'), ('a', 'DET'), ('dream', 'E')] 0.0\n",
      "[('i', 'VERB'), ('have', 'VERB'), ('a', 'DET'), ('dream', 'ADV')] 6.94501058316395e-18\n",
      "[('i', 'VERB'), ('have', 'VERB'), ('a', 'ADJ'), ('dream', 'NOUN')] 4.255409476266937e-19\n",
      "[('i', 'VERB'), ('have', 'VERB'), ('a', 'ADJ'), ('dream', 'VERB')] 2.7243611676642914e-19\n",
      "[('i', 'VERB'), ('have', 'VERB'), ('a', 'ADJ'), ('dream', '.')] 1.4983397502291666e-19\n",
      "[('i', 'VERB'), ('have', 'VERB'), ('a', 'ADJ'), ('dream', 'DET')] 9.79257605146252e-21\n",
      "[('i', 'VERB'), ('have', 'VERB'), ('a', 'ADJ'), ('dream', 'PRON')] 1.1084762971904617e-20\n",
      "[('i', 'VERB'), ('have', 'VERB'), ('a', 'ADJ'), ('dream', 'CONJ')] 8.902691121729515e-22\n",
      "[('i', 'VERB'), ('have', 'VERB'), ('a', 'ADJ'), ('dream', 'ADJ')] 1.0267861904466138e-19\n",
      "[('i', 'VERB'), ('have', 'VERB'), ('a', 'ADJ'), ('dream', 'ADP')] 2.750663334200836e-20\n",
      "[('i', 'VERB'), ('have', 'VERB'), ('a', 'ADJ'), ('dream', 'NUM')] 2.988176720690945e-19\n",
      "[('i', 'VERB'), ('have', 'VERB'), ('a', 'ADJ'), ('dream', 'PRT')] 1.9045835490773734e-21\n",
      "[('i', 'VERB'), ('have', 'VERB'), ('a', 'ADJ'), ('dream', 'X')] 1.2283215042014692e-19\n",
      "[('i', 'VERB'), ('have', 'VERB'), ('a', 'ADJ'), ('dream', 'E')] 0.0\n",
      "[('i', 'VERB'), ('have', 'VERB'), ('a', 'ADJ'), ('dream', 'ADV')] 1.3213140411696511e-19\n",
      "[('i', 'VERB'), ('have', 'VERB'), ('a', 'ADP'), ('dream', 'NOUN')] 3.7148303387578564e-20\n",
      "[('i', 'VERB'), ('have', 'VERB'), ('a', 'ADP'), ('dream', 'VERB')] 2.378276303565349e-20\n",
      "[('i', 'VERB'), ('have', 'VERB'), ('a', 'ADP'), ('dream', '.')] 1.3080005562240336e-20\n",
      "[('i', 'VERB'), ('have', 'VERB'), ('a', 'ADP'), ('dream', 'DET')] 8.548591813185278e-22\n",
      "[('i', 'VERB'), ('have', 'VERB'), ('a', 'ADP'), ('dream', 'PRON')] 9.676627834671844e-22\n",
      "[('i', 'VERB'), ('have', 'VERB'), ('a', 'ADP'), ('dream', 'CONJ')] 7.771751992384869e-23\n",
      "[('i', 'VERB'), ('have', 'VERB'), ('a', 'ADP'), ('dream', 'ADJ')] 8.963500487936157e-21\n",
      "[('i', 'VERB'), ('have', 'VERB'), ('a', 'ADP'), ('dream', 'ADP')] 2.401237216438705e-21\n",
      "[('i', 'VERB'), ('have', 'VERB'), ('a', 'ADP'), ('dream', 'NUM')] 2.6085784697106688e-20\n",
      "[('i', 'VERB'), ('have', 'VERB'), ('a', 'ADP'), ('dream', 'PRT')] 1.6626378237561456e-22\n",
      "[('i', 'VERB'), ('have', 'VERB'), ('a', 'ADP'), ('dream', 'X')] 1.0722836462636274e-20\n",
      "[('i', 'VERB'), ('have', 'VERB'), ('a', 'ADP'), ('dream', 'E')] 0.0\n",
      "[('i', 'VERB'), ('have', 'VERB'), ('a', 'ADP'), ('dream', 'ADV')] 1.1534630250129813e-20\n",
      "[('i', 'VERB'), ('have', 'VERB'), ('a', 'X'), ('dream', 'NOUN')] 2.519398113718064e-19\n",
      "[('i', 'VERB'), ('have', 'VERB'), ('a', 'X'), ('dream', 'VERB')] 1.6129471030180135e-19\n",
      "[('i', 'VERB'), ('have', 'VERB'), ('a', 'X'), ('dream', '.')] 8.870860398956731e-20\n",
      "[('i', 'VERB'), ('have', 'VERB'), ('a', 'X'), ('dream', 'DET')] 5.797655377253701e-21\n",
      "[('i', 'VERB'), ('have', 'VERB'), ('a', 'X'), ('dream', 'PRON')] 6.562689461068566e-21\n",
      "[('i', 'VERB'), ('have', 'VERB'), ('a', 'X'), ('dream', 'CONJ')] 5.270802573569521e-22\n",
      "[('i', 'VERB'), ('have', 'VERB'), ('a', 'X'), ('dream', 'ADJ')] 6.079046460347459e-20\n",
      "[('i', 'VERB'), ('have', 'VERB'), ('a', 'X'), ('dream', 'ADP')] 1.6285191952287495e-20\n",
      "[('i', 'VERB'), ('have', 'VERB'), ('a', 'X'), ('dream', 'NUM')] 1.7691380431312338e-19\n",
      "[('i', 'VERB'), ('have', 'VERB'), ('a', 'X'), ('dream', 'PRT')] 1.1276010517261422e-21\n",
      "[('i', 'VERB'), ('have', 'VERB'), ('a', 'X'), ('dream', 'X')] 7.27222820267648e-20\n",
      "[('i', 'VERB'), ('have', 'VERB'), ('a', 'X'), ('dream', 'E')] 0.0\n",
      "[('i', 'VERB'), ('have', 'VERB'), ('a', 'X'), ('dream', 'ADV')] 7.822786788246539e-20\n",
      "[('i', '.'), ('have', 'VERB'), ('a', 'DET'), ('dream', 'NOUN')] 8.087250832305644e-18\n",
      "[('i', '.'), ('have', 'VERB'), ('a', 'DET'), ('dream', 'VERB')] 5.177549244925388e-18\n",
      "[('i', '.'), ('have', 'VERB'), ('a', 'DET'), ('dream', '.')] 2.8475401626325994e-18\n",
      "[('i', '.'), ('have', 'VERB'), ('a', 'DET'), ('dream', 'DET')] 1.8610434381059966e-19\n",
      "[('i', '.'), ('have', 'VERB'), ('a', 'DET'), ('dream', 'PRON')] 2.106618859369741e-19\n",
      "[('i', '.'), ('have', 'VERB'), ('a', 'DET'), ('dream', 'CONJ')] 1.6919240459822377e-20\n",
      "[('i', '.'), ('have', 'VERB'), ('a', 'DET'), ('dream', 'ADJ')] 1.9513697846473538e-18\n",
      "[('i', '.'), ('have', 'VERB'), ('a', 'DET'), ('dream', 'ADP')] 5.22753555515016e-19\n",
      "[('i', '.'), ('have', 'VERB'), ('a', 'DET'), ('dream', 'NUM')] 5.678921101779368e-18\n",
      "[('i', '.'), ('have', 'VERB'), ('a', 'DET'), ('dream', 'PRT')] 3.619591716937142e-20\n",
      "[('i', '.'), ('have', 'VERB'), ('a', 'DET'), ('dream', 'X')] 2.3343803134796425e-18\n",
      "[('i', '.'), ('have', 'VERB'), ('a', 'DET'), ('dream', 'E')] 0.0\n",
      "[('i', '.'), ('have', 'VERB'), ('a', 'DET'), ('dream', 'ADV')] 2.5111092454868823e-18\n",
      "[('i', '.'), ('have', 'VERB'), ('a', 'ADJ'), ('dream', 'NOUN')] 1.5386294882099728e-19\n",
      "[('i', '.'), ('have', 'VERB'), ('a', 'ADJ'), ('dream', 'VERB')] 9.850479613021115e-20\n",
      "[('i', '.'), ('have', 'VERB'), ('a', 'ADJ'), ('dream', '.')] 5.4175508512571314e-20\n",
      "[('i', '.'), ('have', 'VERB'), ('a', 'ADJ'), ('dream', 'DET')] 3.54070421715014e-21\n",
      "[('i', '.'), ('have', 'VERB'), ('a', 'ADJ'), ('dream', 'PRON')] 4.007920571101486e-21\n",
      "[('i', '.'), ('have', 'VERB'), ('a', 'ADJ'), ('dream', 'CONJ')] 3.218948296448005e-22\n",
      "[('i', '.'), ('have', 'VERB'), ('a', 'ADJ'), ('dream', 'ADJ')] 3.712553444078573e-20\n",
      "[('i', '.'), ('have', 'VERB'), ('a', 'ADJ'), ('dream', 'ADP')] 9.94558042356036e-21\n",
      "[('i', '.'), ('have', 'VERB'), ('a', 'ADJ'), ('dream', 'NUM')] 1.0804358180052272e-19\n",
      "[('i', '.'), ('have', 'VERB'), ('a', 'ADJ'), ('dream', 'PRT')] 6.886407589477833e-22\n",
      "[('i', '.'), ('have', 'VERB'), ('a', 'ADJ'), ('dream', 'X')] 4.4412451913435026e-20\n",
      "[('i', '.'), ('have', 'VERB'), ('a', 'ADJ'), ('dream', 'E')] 0.0\n",
      "[('i', '.'), ('have', 'VERB'), ('a', 'ADJ'), ('dream', 'ADV')] 4.7774785441164504e-20\n",
      "[('i', '.'), ('have', 'VERB'), ('a', 'ADP'), ('dream', 'NOUN')] 1.3431721517723429e-20\n",
      "[('i', '.'), ('have', 'VERB'), ('a', 'ADP'), ('dream', 'VERB')] 8.599139688401437e-21\n",
      "[('i', '.'), ('have', 'VERB'), ('a', 'ADP'), ('dream', '.')] 4.729340942688405e-21\n",
      "[('i', '.'), ('have', 'VERB'), ('a', 'ADP'), ('dream', 'DET')] 3.0909165192666284e-22\n",
      "[('i', '.'), ('have', 'VERB'), ('a', 'ADP'), ('dream', 'PRON')] 3.4987807908724884e-22\n",
      "[('i', '.'), ('have', 'VERB'), ('a', 'ADP'), ('dream', 'CONJ')] 2.810034347394461e-23\n",
      "[('i', '.'), ('have', 'VERB'), ('a', 'ADP'), ('dream', 'ADJ')] 3.2409351544758193e-21\n",
      "[('i', '.'), ('have', 'VERB'), ('a', 'ADP'), ('dream', 'ADP')] 8.682159519560333e-22\n",
      "[('i', '.'), ('have', 'VERB'), ('a', 'ADP'), ('dream', 'NUM')] 9.431843817125319e-21\n",
      "[('i', '.'), ('have', 'VERB'), ('a', 'ADP'), ('dream', 'PRT')] 6.011603814184836e-23\n",
      "[('i', '.'), ('have', 'VERB'), ('a', 'ADP'), ('dream', 'X')] 3.877058710960664e-21\n",
      "[('i', '.'), ('have', 'VERB'), ('a', 'ADP'), ('dream', 'E')] 0.0\n",
      "[('i', '.'), ('have', 'VERB'), ('a', 'ADP'), ('dream', 'ADV')] 4.170579197473034e-21\n",
      "[('i', '.'), ('have', 'VERB'), ('a', 'X'), ('dream', 'NOUN')] 9.1093941768156e-20\n",
      "[('i', '.'), ('have', 'VERB'), ('a', 'X'), ('dream', 'VERB')] 5.831936948646981e-20\n",
      "[('i', '.'), ('have', 'VERB'), ('a', 'X'), ('dream', '.')] 3.2074392539075896e-20\n",
      "[('i', '.'), ('have', 'VERB'), ('a', 'X'), ('dream', 'DET')] 2.096259731448248e-21\n",
      "[('i', '.'), ('have', 'VERB'), ('a', 'X'), ('dream', 'PRON')] 2.3728732999915666e-21\n",
      "[('i', '.'), ('have', 'VERB'), ('a', 'X'), ('dream', 'CONJ')] 1.9057654290278599e-22\n",
      "[('i', '.'), ('have', 'VERB'), ('a', 'X'), ('dream', 'ADJ')] 2.1980023770343105e-20\n",
      "[('i', '.'), ('have', 'VERB'), ('a', 'X'), ('dream', 'ADP')] 5.888241002116312e-21\n",
      "[('i', '.'), ('have', 'VERB'), ('a', 'X'), ('dream', 'NUM')] 6.396676928641243e-20\n",
      "[('i', '.'), ('have', 'VERB'), ('a', 'X'), ('dream', 'PRT')] 4.077069994787945e-22\n",
      "[('i', '.'), ('have', 'VERB'), ('a', 'X'), ('dream', 'X')] 2.6294214035181495e-20\n",
      "[('i', '.'), ('have', 'VERB'), ('a', 'X'), ('dream', 'E')] 0.0\n",
      "[('i', '.'), ('have', 'VERB'), ('a', 'X'), ('dream', 'ADV')] 2.8284870115330074e-20\n",
      "[('i', 'DET'), ('have', 'VERB'), ('a', 'DET'), ('dream', 'NOUN')] 1.2800962644348319e-17\n",
      "[('i', 'DET'), ('have', 'VERB'), ('a', 'DET'), ('dream', 'VERB')] 8.195320739751093e-18\n",
      "[('i', 'DET'), ('have', 'VERB'), ('a', 'DET'), ('dream', '.')] 4.507249250206492e-18\n",
      "[('i', 'DET'), ('have', 'VERB'), ('a', 'DET'), ('dream', 'DET')] 2.9457658757830985e-19\n",
      "[('i', 'DET'), ('have', 'VERB'), ('a', 'DET'), ('dream', 'PRON')] 3.33447668235407e-19\n",
      "[('i', 'DET'), ('have', 'VERB'), ('a', 'DET'), ('dream', 'CONJ')] 2.678074040089913e-20\n",
      "[('i', 'DET'), ('have', 'VERB'), ('a', 'DET'), ('dream', 'ADJ')] 3.088739577459014e-18\n",
      "[('i', 'DET'), ('have', 'VERB'), ('a', 'DET'), ('dream', 'ADP')] 8.274441927307195e-19\n",
      "[('i', 'DET'), ('have', 'VERB'), ('a', 'DET'), ('dream', 'NUM')] 8.988920758298507e-18\n",
      "[('i', 'DET'), ('have', 'VERB'), ('a', 'DET'), ('dream', 'PRT')] 5.72929655788792e-20\n",
      "[('i', 'DET'), ('have', 'VERB'), ('a', 'DET'), ('dream', 'X')] 3.694990523996854e-18\n",
      "[('i', 'DET'), ('have', 'VERB'), ('a', 'DET'), ('dream', 'E')] 0.0\n",
      "[('i', 'DET'), ('have', 'VERB'), ('a', 'DET'), ('dream', 'ADV')] 3.9747271741528215e-18\n",
      "[('i', 'DET'), ('have', 'VERB'), ('a', 'ADJ'), ('dream', 'NOUN')] 2.435430656285629e-19\n",
      "[('i', 'DET'), ('have', 'VERB'), ('a', 'ADJ'), ('dream', 'VERB')] 1.5591901892234078e-19\n",
      "[('i', 'DET'), ('have', 'VERB'), ('a', 'ADJ'), ('dream', '.')] 8.575208993614039e-20\n",
      "[('i', 'DET'), ('have', 'VERB'), ('a', 'ADJ'), ('dream', 'DET')] 5.6044289163594164e-21\n",
      "[('i', 'DET'), ('have', 'VERB'), ('a', 'ADJ'), ('dream', 'PRON')] 6.343965653598799e-21\n",
      "[('i', 'DET'), ('have', 'VERB'), ('a', 'ADJ'), ('dream', 'CONJ')] 5.095135263063431e-22\n",
      "[('i', 'DET'), ('have', 'VERB'), ('a', 'ADJ'), ('dream', 'ADJ')] 5.876441690537688e-20\n",
      "[('i', 'DET'), ('have', 'VERB'), ('a', 'ADJ'), ('dream', 'ADP')] 1.5742432888292358e-20\n",
      "[('i', 'DET'), ('have', 'VERB'), ('a', 'ADJ'), ('dream', 'NUM')] 1.7101755383488923e-19\n",
      "[('i', 'DET'), ('have', 'VERB'), ('a', 'ADJ'), ('dream', 'PRT')] 1.0900199355079298e-21\n",
      "[('i', 'DET'), ('have', 'VERB'), ('a', 'ADJ'), ('dream', 'X')] 7.029856618478524e-20\n",
      "[('i', 'DET'), ('have', 'VERB'), ('a', 'ADJ'), ('dream', 'E')] 0.0\n",
      "[('i', 'DET'), ('have', 'VERB'), ('a', 'ADJ'), ('dream', 'ADV')] 7.562065978356064e-20\n",
      "[('i', 'DET'), ('have', 'VERB'), ('a', 'ADP'), ('dream', 'NOUN')] 2.126049617638087e-20\n",
      "[('i', 'DET'), ('have', 'VERB'), ('a', 'ADP'), ('dream', 'VERB')] 1.361120957013488e-20\n",
      "[('i', 'DET'), ('have', 'VERB'), ('a', 'ADP'), ('dream', '.')] 7.485871032700687e-21\n",
      "[('i', 'DET'), ('have', 'VERB'), ('a', 'ADP'), ('dream', 'DET')] 4.892479251648355e-22\n",
      "[('i', 'DET'), ('have', 'VERB'), ('a', 'ADP'), ('dream', 'PRON')] 5.538070122149703e-22\n",
      "[('i', 'DET'), ('have', 'VERB'), ('a', 'ADP'), ('dream', 'CONJ')] 4.4478829031295144e-23\n",
      "[('i', 'DET'), ('have', 'VERB'), ('a', 'ADP'), ('dream', 'ADJ')] 5.129937318065404e-21\n",
      "[('i', 'DET'), ('have', 'VERB'), ('a', 'ADP'), ('dream', 'ADP')] 1.3742618101840105e-21\n",
      "[('i', 'DET'), ('have', 'VERB'), ('a', 'ADP'), ('dream', 'NUM')] 1.492926123770633e-20\n",
      "[('i', 'DET'), ('have', 'VERB'), ('a', 'ADP'), ('dream', 'PRT')] 9.515509961753293e-23\n",
      "[('i', 'DET'), ('have', 'VERB'), ('a', 'ADP'), ('dream', 'X')] 6.136830025192056e-21\n",
      "[('i', 'DET'), ('have', 'VERB'), ('a', 'ADP'), ('dream', 'E')] 0.0\n",
      "[('i', 'DET'), ('have', 'VERB'), ('a', 'ADP'), ('dream', 'ADV')] 6.601431020153972e-21\n",
      "[('i', 'DET'), ('have', 'VERB'), ('a', 'X'), ('dream', 'NOUN')] 1.4418869525383055e-19\n",
      "[('i', 'DET'), ('have', 'VERB'), ('a', 'X'), ('dream', 'VERB')] 9.231122982560074e-20\n",
      "[('i', 'DET'), ('have', 'VERB'), ('a', 'X'), ('dream', '.')] 5.0769180930155387e-20\n",
      "[('i', 'DET'), ('have', 'VERB'), ('a', 'X'), ('dream', 'DET')] 3.3180796628599623e-21\n",
      "[('i', 'DET'), ('have', 'VERB'), ('a', 'X'), ('dream', 'PRON')] 3.75591942216336e-21\n",
      "[('i', 'DET'), ('have', 'VERB'), ('a', 'X'), ('dream', 'CONJ')] 3.016554397994477e-22\n",
      "[('i', 'DET'), ('have', 'VERB'), ('a', 'X'), ('dream', 'ADJ')] 3.479123734880299e-20\n",
      "[('i', 'DET'), ('have', 'VERB'), ('a', 'X'), ('dream', 'ADP')] 9.320244255058163e-21\n",
      "[('i', 'DET'), ('have', 'VERB'), ('a', 'X'), ('dream', 'NUM')] 1.0125025686653098e-19\n",
      "[('i', 'DET'), ('have', 'VERB'), ('a', 'X'), ('dream', 'PRT')] 6.453419311936266e-22\n",
      "[('i', 'DET'), ('have', 'VERB'), ('a', 'X'), ('dream', 'X')] 4.161998417092459e-20\n",
      "[('i', 'DET'), ('have', 'VERB'), ('a', 'X'), ('dream', 'E')] 0.0\n",
      "[('i', 'DET'), ('have', 'VERB'), ('a', 'X'), ('dream', 'ADV')] 4.4770908341340346e-20\n",
      "[('i', 'PRON'), ('have', 'VERB'), ('a', 'DET'), ('dream', 'NOUN')] 7.024354983990208e-18\n",
      "[('i', 'PRON'), ('have', 'VERB'), ('a', 'DET'), ('dream', 'VERB')] 4.497071328388332e-18\n",
      "[('i', 'PRON'), ('have', 'VERB'), ('a', 'DET'), ('dream', '.')] 2.4732920182961675e-18\n",
      "[('i', 'PRON'), ('have', 'VERB'), ('a', 'DET'), ('dream', 'DET')] 1.6164491519988103e-19\n",
      "[('i', 'PRON'), ('have', 'VERB'), ('a', 'DET'), ('dream', 'PRON')] 1.829748945719649e-19\n",
      "[('i', 'PRON'), ('have', 'VERB'), ('a', 'DET'), ('dream', 'CONJ')] 1.4695568804980337e-20\n",
      "[('i', 'PRON'), ('have', 'VERB'), ('a', 'DET'), ('dream', 'ADJ')] 1.6949040355766597e-18\n",
      "[('i', 'PRON'), ('have', 'VERB'), ('a', 'DET'), ('dream', 'ADP')] 4.540488009116973e-19\n",
      "[('i', 'PRON'), ('have', 'VERB'), ('a', 'DET'), ('dream', 'NUM')] 4.9325485968138775e-18\n",
      "[('i', 'PRON'), ('have', 'VERB'), ('a', 'DET'), ('dream', 'PRT')] 3.143873937396898e-20\n",
      "[('i', 'PRON'), ('have', 'VERB'), ('a', 'DET'), ('dream', 'X')] 2.0275760365954277e-18\n",
      "[('i', 'PRON'), ('have', 'VERB'), ('a', 'DET'), ('dream', 'E')] 0.0\n",
      "[('i', 'PRON'), ('have', 'VERB'), ('a', 'DET'), ('dream', 'ADV')] 2.1810777370003846e-18\n",
      "[('i', 'PRON'), ('have', 'VERB'), ('a', 'ADJ'), ('dream', 'NOUN')] 1.336409607928624e-19\n",
      "[('i', 'PRON'), ('have', 'VERB'), ('a', 'ADJ'), ('dream', 'VERB')] 8.555845119582134e-20\n",
      "[('i', 'PRON'), ('have', 'VERB'), ('a', 'ADJ'), ('dream', '.')] 4.705529865728073e-20\n",
      "[('i', 'PRON'), ('have', 'VERB'), ('a', 'ADJ'), ('dream', 'DET')] 3.075354509250835e-21\n",
      "[('i', 'PRON'), ('have', 'VERB'), ('a', 'ADJ'), ('dream', 'PRON')] 3.481165283830732e-21\n",
      "[('i', 'PRON'), ('have', 'VERB'), ('a', 'ADJ'), ('dream', 'CONJ')] 2.7958865105356215e-22\n",
      "[('i', 'PRON'), ('have', 'VERB'), ('a', 'ADJ'), ('dream', 'ADJ')] 3.224617837259353e-20\n",
      "[('i', 'PRON'), ('have', 'VERB'), ('a', 'ADJ'), ('dream', 'ADP')] 8.638446966160745e-21\n",
      "[('i', 'PRON'), ('have', 'VERB'), ('a', 'ADJ'), ('dream', 'NUM')] 9.384356786325688e-20\n",
      "[('i', 'PRON'), ('have', 'VERB'), ('a', 'ADJ'), ('dream', 'PRT')] 5.981336856735748e-22\n",
      "[('i', 'PRON'), ('have', 'VERB'), ('a', 'ADJ'), ('dream', 'X')] 3.8575386669492183e-20\n",
      "[('i', 'PRON'), ('have', 'VERB'), ('a', 'ADJ'), ('dream', 'E')] 0.0\n",
      "[('i', 'PRON'), ('have', 'VERB'), ('a', 'ADJ'), ('dream', 'ADV')] 4.149581349476112e-20\n",
      "[('i', 'PRON'), ('have', 'VERB'), ('a', 'ADP'), ('dream', 'NOUN')] 1.166640950589763e-20\n",
      "[('i', 'PRON'), ('have', 'VERB'), ('a', 'ADP'), ('dream', 'VERB')] 7.468967017439455e-21\n",
      "[('i', 'PRON'), ('have', 'VERB'), ('a', 'ADP'), ('dream', '.')] 4.1077704043824226e-21\n",
      "[('i', 'PRON'), ('have', 'VERB'), ('a', 'ADP'), ('dream', 'DET')] 2.684681767316754e-22\n",
      "[('i', 'PRON'), ('have', 'VERB'), ('a', 'ADP'), ('dream', 'PRON')] 3.0389410191259825e-22\n",
      "[('i', 'PRON'), ('have', 'VERB'), ('a', 'ADP'), ('dream', 'CONJ')] 2.4407155388893175e-23\n",
      "[('i', 'PRON'), ('have', 'VERB'), ('a', 'ADP'), ('dream', 'ADJ')] 2.8149836671556463e-21\n",
      "[('i', 'PRON'), ('have', 'VERB'), ('a', 'ADP'), ('dream', 'ADP')] 7.541075670535944e-22\n",
      "[('i', 'PRON'), ('have', 'VERB'), ('a', 'ADP'), ('dream', 'NUM')] 8.192230029565324e-21\n",
      "[('i', 'PRON'), ('have', 'VERB'), ('a', 'ADP'), ('dream', 'PRT')] 5.2215072945752637e-23\n",
      "[('i', 'PRON'), ('have', 'VERB'), ('a', 'ADP'), ('dream', 'X')] 3.3675024114214258e-21\n",
      "[('i', 'PRON'), ('have', 'VERB'), ('a', 'ADP'), ('dream', 'E')] 0.0\n",
      "[('i', 'PRON'), ('have', 'VERB'), ('a', 'ADP'), ('dream', 'ADV')] 3.62244591881213e-21\n",
      "[('i', 'PRON'), ('have', 'VERB'), ('a', 'X'), ('dream', 'NOUN')] 7.912159485821636e-20\n",
      "[('i', 'PRON'), ('have', 'VERB'), ('a', 'X'), ('dream', 'VERB')] 5.065453789055523e-20\n",
      "[('i', 'PRON'), ('have', 'VERB'), ('a', 'X'), ('dream', '.')] 2.7858900850498704e-20\n",
      "[('i', 'PRON'), ('have', 'VERB'), ('a', 'X'), ('dream', 'DET')] 1.8207513032136864e-21\n",
      "[('i', 'PRON'), ('have', 'VERB'), ('a', 'X'), ('dream', 'PRON')] 2.061009944762786e-21\n",
      "[('i', 'PRON'), ('have', 'VERB'), ('a', 'X'), ('dream', 'CONJ')] 1.655293395406108e-22\n",
      "[('i', 'PRON'), ('have', 'VERB'), ('a', 'X'), ('dream', 'ADJ')] 1.9091220579270106e-20\n",
      "[('i', 'PRON'), ('have', 'VERB'), ('a', 'X'), ('dream', 'ADP')] 5.114357881040189e-21\n",
      "[('i', 'PRON'), ('have', 'VERB'), ('a', 'X'), ('dream', 'NUM')] 5.555970798529837e-20\n",
      "[('i', 'PRON'), ('have', 'VERB'), ('a', 'X'), ('dream', 'PRT')] 3.5412264973362796e-22\n",
      "[('i', 'PRON'), ('have', 'VERB'), ('a', 'X'), ('dream', 'X')] 2.2838402967584864e-20\n",
      "[('i', 'PRON'), ('have', 'VERB'), ('a', 'X'), ('dream', 'E')] 0.0\n",
      "[('i', 'PRON'), ('have', 'VERB'), ('a', 'X'), ('dream', 'ADV')] 2.45674299568486e-20\n",
      "[('i', 'CONJ'), ('have', 'VERB'), ('a', 'DET'), ('dream', 'NOUN')] 9.704701106571064e-19\n",
      "[('i', 'CONJ'), ('have', 'VERB'), ('a', 'DET'), ('dream', 'VERB')] 6.213059162927988e-19\n",
      "[('i', 'CONJ'), ('have', 'VERB'), ('a', 'DET'), ('dream', '.')] 3.417048233117265e-19\n",
      "[('i', 'CONJ'), ('have', 'VERB'), ('a', 'DET'), ('dream', 'DET')] 2.2332521505351895e-20\n",
      "[('i', 'CONJ'), ('have', 'VERB'), ('a', 'DET'), ('dream', 'PRON')] 2.5279426593252403e-20\n",
      "[('i', 'CONJ'), ('have', 'VERB'), ('a', 'DET'), ('dream', 'CONJ')] 2.030308877732291e-21\n",
      "[('i', 'CONJ'), ('have', 'VERB'), ('a', 'DET'), ('dream', 'ADJ')] 2.3416437675888815e-19\n",
      "[('i', 'CONJ'), ('have', 'VERB'), ('a', 'DET'), ('dream', 'ADP')] 6.273042735864039e-20\n",
      "[('i', 'CONJ'), ('have', 'VERB'), ('a', 'DET'), ('dream', 'NUM')] 6.814705397836128e-19\n",
      "[('i', 'CONJ'), ('have', 'VERB'), ('a', 'DET'), ('dream', 'PRT')] 4.343510108574281e-21\n",
      "[('i', 'CONJ'), ('have', 'VERB'), ('a', 'DET'), ('dream', 'X')] 2.8012564072932173e-19\n",
      "[('i', 'CONJ'), ('have', 'VERB'), ('a', 'DET'), ('dream', 'E')] 0.0\n",
      "[('i', 'CONJ'), ('have', 'VERB'), ('a', 'DET'), ('dream', 'ADV')] 3.0133311280577286e-19\n",
      "[('i', 'CONJ'), ('have', 'VERB'), ('a', 'ADJ'), ('dream', 'NOUN')] 1.846355406362133e-20\n",
      "[('i', 'CONJ'), ('have', 'VERB'), ('a', 'ADJ'), ('dream', 'VERB')] 1.1820575666933734e-20\n",
      "[('i', 'CONJ'), ('have', 'VERB'), ('a', 'ADJ'), ('dream', '.')] 6.501061093725337e-21\n",
      "[('i', 'CONJ'), ('have', 'VERB'), ('a', 'ADJ'), ('dream', 'DET')] 4.248845107778296e-22\n",
      "[('i', 'CONJ'), ('have', 'VERB'), ('a', 'ADJ'), ('dream', 'PRON')] 4.809504738747976e-22\n",
      "[('i', 'CONJ'), ('have', 'VERB'), ('a', 'ADJ'), ('dream', 'CONJ')] 3.8627379986466775e-23\n",
      "[('i', 'CONJ'), ('have', 'VERB'), ('a', 'ADJ'), ('dream', 'ADJ')] 4.45506418238319e-21\n",
      "[('i', 'CONJ'), ('have', 'VERB'), ('a', 'ADJ'), ('dream', 'ADP')] 1.1934696640848536e-21\n",
      "[('i', 'CONJ'), ('have', 'VERB'), ('a', 'ADJ'), ('dream', 'NUM')] 1.2965229960086469e-20\n",
      "[('i', 'CONJ'), ('have', 'VERB'), ('a', 'ADJ'), ('dream', 'PRT')] 8.263689199170263e-23\n",
      "[('i', 'CONJ'), ('have', 'VERB'), ('a', 'ADJ'), ('dream', 'X')] 5.329494288814679e-21\n",
      "[('i', 'CONJ'), ('have', 'VERB'), ('a', 'ADJ'), ('dream', 'E')] 0.0\n",
      "[('i', 'CONJ'), ('have', 'VERB'), ('a', 'ADJ'), ('dream', 'ADV')] 5.732974316624258e-21\n",
      "[('i', 'CONJ'), ('have', 'VERB'), ('a', 'ADP'), ('dream', 'NOUN')] 1.6118066000315017e-21\n",
      "[('i', 'CONJ'), ('have', 'VERB'), ('a', 'ADP'), ('dream', 'VERB')] 1.0318967740709571e-21\n",
      "[('i', 'CONJ'), ('have', 'VERB'), ('a', 'ADP'), ('dream', '.')] 5.675209194268923e-22\n",
      "[('i', 'CONJ'), ('have', 'VERB'), ('a', 'ADP'), ('dream', 'DET')] 3.7090998643223436e-23\n",
      "[('i', 'CONJ'), ('have', 'VERB'), ('a', 'ADP'), ('dream', 'PRON')] 4.198536995686269e-23\n",
      "[('i', 'CONJ'), ('have', 'VERB'), ('a', 'ADP'), ('dream', 'CONJ')] 3.372041254331541e-24\n",
      "[('i', 'CONJ'), ('have', 'VERB'), ('a', 'ADP'), ('dream', 'ADJ')] 3.8891222285731444e-22\n",
      "[('i', 'CONJ'), ('have', 'VERB'), ('a', 'ADP'), ('dream', 'ADP')] 1.0418591539206915e-22\n",
      "[('i', 'CONJ'), ('have', 'VERB'), ('a', 'ADP'), ('dream', 'NUM')] 1.1318212706278303e-21\n",
      "[('i', 'CONJ'), ('have', 'VERB'), ('a', 'ADP'), ('dream', 'PRT')] 7.213924657157401e-24\n",
      "[('i', 'CONJ'), ('have', 'VERB'), ('a', 'ADP'), ('dream', 'X')] 4.652470504834582e-22\n",
      "[('i', 'CONJ'), ('have', 'VERB'), ('a', 'ADP'), ('dream', 'E')] 0.0\n",
      "[('i', 'CONJ'), ('have', 'VERB'), ('a', 'ADP'), ('dream', 'ADV')] 5.004695092562099e-22\n",
      "[('i', 'CONJ'), ('have', 'VERB'), ('a', 'X'), ('dream', 'NOUN')] 1.0931273133608335e-20\n",
      "[('i', 'CONJ'), ('have', 'VERB'), ('a', 'X'), ('dream', 'VERB')] 6.998324416116987e-21\n",
      "[('i', 'CONJ'), ('have', 'VERB'), ('a', 'X'), ('dream', '.')] 3.8489271474447625e-21\n",
      "[('i', 'CONJ'), ('have', 'VERB'), ('a', 'X'), ('dream', 'DET')] 2.5155117056813596e-22\n",
      "[('i', 'CONJ'), ('have', 'VERB'), ('a', 'X'), ('dream', 'PRON')] 2.847447991620643e-22\n",
      "[('i', 'CONJ'), ('have', 'VERB'), ('a', 'X'), ('dream', 'CONJ')] 2.286918540237576e-23\n",
      "[('i', 'CONJ'), ('have', 'VERB'), ('a', 'X'), ('dream', 'ADJ')] 2.63760288174088e-21\n",
      "[('i', 'CONJ'), ('have', 'VERB'), ('a', 'X'), ('dream', 'ADP')] 7.065889281030725e-22\n",
      "[('i', 'CONJ'), ('have', 'VERB'), ('a', 'X'), ('dream', 'NUM')] 7.676012399638172e-21\n",
      "[('i', 'CONJ'), ('have', 'VERB'), ('a', 'X'), ('dream', 'PRT')] 4.8924840480934997e-23\n",
      "[('i', 'CONJ'), ('have', 'VERB'), ('a', 'X'), ('dream', 'X')] 3.1553057192723683e-21\n",
      "[('i', 'CONJ'), ('have', 'VERB'), ('a', 'X'), ('dream', 'E')] 0.0\n",
      "[('i', 'CONJ'), ('have', 'VERB'), ('a', 'X'), ('dream', 'ADV')] 3.394184451543773e-21\n",
      "[('i', 'ADJ'), ('have', 'VERB'), ('a', 'DET'), ('dream', 'NOUN')] 1.0166829525351987e-17\n",
      "[('i', 'ADJ'), ('have', 'VERB'), ('a', 'DET'), ('dream', 'VERB')] 6.508918991605466e-18\n",
      "[('i', 'ADJ'), ('have', 'VERB'), ('a', 'DET'), ('dream', '.')] 3.579764743345428e-18\n",
      "[('i', 'ADJ'), ('have', 'VERB'), ('a', 'DET'), ('dream', 'DET')] 2.339597443783544e-19\n",
      "[('i', 'ADJ'), ('have', 'VERB'), ('a', 'DET'), ('dream', 'PRON')] 2.6483208277092007e-19\n",
      "[('i', 'ADJ'), ('have', 'VERB'), ('a', 'DET'), ('dream', 'CONJ')] 2.1269902099031497e-20\n",
      "[('i', 'ADJ'), ('have', 'VERB'), ('a', 'DET'), ('dream', 'ADJ')] 2.453150564117766e-18\n",
      "[('i', 'ADJ'), ('have', 'VERB'), ('a', 'DET'), ('dream', 'ADP')] 6.571758923888329e-19\n",
      "[('i', 'ADJ'), ('have', 'VERB'), ('a', 'DET'), ('dream', 'NUM')] 7.1392150344933e-18\n",
      "[('i', 'ADJ'), ('have', 'VERB'), ('a', 'DET'), ('dream', 'PRT')] 4.5503438313640824e-20\n",
      "[('i', 'ADJ'), ('have', 'VERB'), ('a', 'DET'), ('dream', 'X')] 2.9346495102735673e-18\n",
      "[('i', 'ADJ'), ('have', 'VERB'), ('a', 'DET'), ('dream', 'E')] 0.0\n",
      "[('i', 'ADJ'), ('have', 'VERB'), ('a', 'DET'), ('dream', 'ADV')] 3.1568230227776764e-18\n",
      "[('i', 'ADJ'), ('have', 'VERB'), ('a', 'ADJ'), ('dream', 'NOUN')] 1.9342770533123946e-19\n",
      "[('i', 'ADJ'), ('have', 'VERB'), ('a', 'ADJ'), ('dream', 'VERB')] 1.2383459972390774e-19\n",
      "[('i', 'ADJ'), ('have', 'VERB'), ('a', 'ADJ'), ('dream', '.')] 6.81063529396601e-20\n",
      "[('i', 'ADJ'), ('have', 'VERB'), ('a', 'ADJ'), ('dream', 'DET')] 4.4511709753903515e-21\n",
      "[('i', 'ADJ'), ('have', 'VERB'), ('a', 'ADJ'), ('dream', 'PRON')] 5.038528672162273e-21\n",
      "[('i', 'ADJ'), ('have', 'VERB'), ('a', 'ADJ'), ('dream', 'CONJ')] 4.0466778216125723e-22\n",
      "[('i', 'ADJ'), ('have', 'VERB'), ('a', 'ADJ'), ('dream', 'ADJ')] 4.66721000156543e-20\n",
      "[('i', 'ADJ'), ('have', 'VERB'), ('a', 'ADJ'), ('dream', 'ADP')] 1.2503015275982075e-20\n",
      "[('i', 'ADJ'), ('have', 'VERB'), ('a', 'ADJ'), ('dream', 'NUM')] 1.3582621588616787e-19\n",
      "[('i', 'ADJ'), ('have', 'VERB'), ('a', 'ADJ'), ('dream', 'PRT')] 8.65719803380339e-22\n",
      "[('i', 'ADJ'), ('have', 'VERB'), ('a', 'ADJ'), ('dream', 'X')] 5.583279618372565e-20\n",
      "[('i', 'ADJ'), ('have', 'VERB'), ('a', 'ADJ'), ('dream', 'E')] 0.0\n",
      "[('i', 'ADJ'), ('have', 'VERB'), ('a', 'ADJ'), ('dream', 'ADV')] 6.005972972302521e-20\n",
      "[('i', 'ADJ'), ('have', 'VERB'), ('a', 'ADP'), ('dream', 'NOUN')] 1.6885592611669253e-20\n",
      "[('i', 'ADJ'), ('have', 'VERB'), ('a', 'ADP'), ('dream', 'VERB')] 1.0810346938595082e-20\n",
      "[('i', 'ADJ'), ('have', 'VERB'), ('a', 'ADP'), ('dream', '.')] 5.945457131057276e-21\n",
      "[('i', 'ADJ'), ('have', 'VERB'), ('a', 'ADP'), ('dream', 'DET')] 3.8857235889045704e-22\n",
      "[('i', 'ADJ'), ('have', 'VERB'), ('a', 'ADP'), ('dream', 'PRON')] 4.398467239977457e-22\n",
      "[('i', 'ADJ'), ('have', 'VERB'), ('a', 'ADP'), ('dream', 'CONJ')] 3.532614576046019e-23\n",
      "[('i', 'ADJ'), ('have', 'VERB'), ('a', 'ADP'), ('dream', 'ADJ')] 4.074318442882035e-21\n",
      "[('i', 'ADJ'), ('have', 'VERB'), ('a', 'ADP'), ('dream', 'ADP')] 1.0914714725389123e-21\n",
      "[('i', 'ADJ'), ('have', 'VERB'), ('a', 'ADP'), ('dream', 'NUM')] 1.1857174976619328e-20\n",
      "[('i', 'ADJ'), ('have', 'VERB'), ('a', 'ADP'), ('dream', 'PRT')] 7.557444726287567e-23\n",
      "[('i', 'ADJ'), ('have', 'VERB'), ('a', 'ADP'), ('dream', 'X')] 4.8740166209090194e-21\n",
      "[('i', 'ADJ'), ('have', 'VERB'), ('a', 'ADP'), ('dream', 'E')] 0.0\n",
      "[('i', 'ADJ'), ('have', 'VERB'), ('a', 'ADP'), ('dream', 'ADV')] 5.243013800599421e-21\n",
      "[('i', 'ADJ'), ('have', 'VERB'), ('a', 'X'), ('dream', 'NOUN')] 1.145180971819994e-19\n",
      "[('i', 'ADJ'), ('have', 'VERB'), ('a', 'X'), ('dream', 'VERB')] 7.331577811664251e-20\n",
      "[('i', 'ADJ'), ('have', 'VERB'), ('a', 'X'), ('dream', '.')] 4.032209311121836e-20\n",
      "[('i', 'ADJ'), ('have', 'VERB'), ('a', 'X'), ('dream', 'DET')] 2.6352979241548293e-21\n",
      "[('i', 'ADJ'), ('have', 'VERB'), ('a', 'X'), ('dream', 'PRON')] 2.9830406928773145e-21\n",
      "[('i', 'ADJ'), ('have', 'VERB'), ('a', 'X'), ('dream', 'CONJ')] 2.3958193747171856e-22\n",
      "[('i', 'ADJ'), ('have', 'VERB'), ('a', 'X'), ('dream', 'ADJ')] 2.7632029631576694e-20\n",
      "[('i', 'ADJ'), ('have', 'VERB'), ('a', 'X'), ('dream', 'ADP')] 7.40236004966809e-21\n",
      "[('i', 'ADJ'), ('have', 'VERB'), ('a', 'X'), ('dream', 'NUM')] 8.041536637204408e-20\n",
      "[('i', 'ADJ'), ('have', 'VERB'), ('a', 'X'), ('dream', 'PRT')] 5.1254593754351595e-22\n",
      "[('i', 'ADJ'), ('have', 'VERB'), ('a', 'X'), ('dream', 'X')] 3.3055583058080257e-20\n",
      "[('i', 'ADJ'), ('have', 'VERB'), ('a', 'X'), ('dream', 'E')] 0.0\n",
      "[('i', 'ADJ'), ('have', 'VERB'), ('a', 'X'), ('dream', 'ADV')] 3.5558122107522114e-20\n",
      "[('i', 'ADP'), ('have', 'VERB'), ('a', 'DET'), ('dream', 'NOUN')] 6.469800558040226e-18\n",
      "[('i', 'ADP'), ('have', 'VERB'), ('a', 'DET'), ('dream', 'VERB')] 4.142039326922787e-18\n",
      "[('i', 'ADP'), ('have', 'VERB'), ('a', 'DET'), ('dream', '.')] 2.278032092147934e-18\n",
      "[('i', 'ADP'), ('have', 'VERB'), ('a', 'DET'), ('dream', 'DET')] 1.4888347256768038e-19\n",
      "[('i', 'ADP'), ('have', 'VERB'), ('a', 'DET'), ('dream', 'PRON')] 1.6852950594142411e-19\n",
      "[('i', 'ADP'), ('have', 'VERB'), ('a', 'DET'), ('dream', 'CONJ')] 1.3535392142321838e-20\n",
      "[('i', 'ADP'), ('have', 'VERB'), ('a', 'DET'), ('dream', 'ADJ')] 1.5610958017058253e-18\n",
      "[('i', 'ADP'), ('have', 'VERB'), ('a', 'DET'), ('dream', 'ADP')] 4.1820283744362793e-19\n",
      "[('i', 'ADP'), ('have', 'VERB'), ('a', 'DET'), ('dream', 'NUM')] 4.5431368057226086e-18\n",
      "[('i', 'ADP'), ('have', 'VERB'), ('a', 'DET'), ('dream', 'PRT')] 2.8956733253000023e-20\n",
      "[('i', 'ADP'), ('have', 'VERB'), ('a', 'DET'), ('dream', 'X')] 1.8675042196660677e-18\n",
      "[('i', 'ADP'), ('have', 'VERB'), ('a', 'DET'), ('dream', 'E')] 0.0\n",
      "[('i', 'ADP'), ('have', 'VERB'), ('a', 'DET'), ('dream', 'ADV')] 2.0088873629160356e-18\n",
      "[('i', 'ADP'), ('have', 'VERB'), ('a', 'ADJ'), ('dream', 'NOUN')] 1.2309035700578117e-19\n",
      "[('i', 'ADP'), ('have', 'VERB'), ('a', 'ADJ'), ('dream', 'VERB')] 7.880383559108493e-20\n",
      "[('i', 'ADP'), ('have', 'VERB'), ('a', 'ADJ'), ('dream', '.')] 4.334040608788924e-20\n",
      "[('i', 'ADP'), ('have', 'VERB'), ('a', 'ADJ'), ('dream', 'DET')] 2.8325633265219836e-21\n",
      "[('i', 'ADP'), ('have', 'VERB'), ('a', 'ADJ'), ('dream', 'PRON')] 3.2063364034549947e-21\n",
      "[('i', 'ADP'), ('have', 'VERB'), ('a', 'ADJ'), ('dream', 'CONJ')] 2.575158594249331e-22\n",
      "[('i', 'ADP'), ('have', 'VERB'), ('a', 'ADJ'), ('dream', 'ADJ')] 2.970042705773953e-20\n",
      "[('i', 'ADP'), ('have', 'VERB'), ('a', 'ADJ'), ('dream', 'ADP')] 7.95646420627218e-21\n",
      "[('i', 'ADP'), ('have', 'VERB'), ('a', 'ADJ'), ('dream', 'NUM')] 8.643486400018071e-20\n",
      "[('i', 'ADP'), ('have', 'VERB'), ('a', 'ADJ'), ('dream', 'PRT')] 5.5091259797854e-22\n",
      "[('i', 'ADP'), ('have', 'VERB'), ('a', 'ADJ'), ('dream', 'X')] 3.5529960938723246e-20\n",
      "[('i', 'ADP'), ('have', 'VERB'), ('a', 'ADJ'), ('dream', 'E')] 0.0\n",
      "[('i', 'ADP'), ('have', 'VERB'), ('a', 'ADJ'), ('dream', 'ADV')] 3.8219827716086406e-20\n",
      "[('i', 'ADP'), ('have', 'VERB'), ('a', 'ADP'), ('dream', 'NOUN')] 1.0745377035131845e-20\n",
      "[('i', 'ADP'), ('have', 'VERB'), ('a', 'ADP'), ('dream', 'VERB')] 6.879311636093305e-21\n",
      "[('i', 'ADP'), ('have', 'VERB'), ('a', 'ADP'), ('dream', '.')] 3.7834726911078864e-21\n",
      "[('i', 'ADP'), ('have', 'VERB'), ('a', 'ADP'), ('dream', 'DET')] 2.472733174210914e-22\n",
      "[('i', 'ADP'), ('have', 'VERB'), ('a', 'ADP'), ('dream', 'PRON')] 2.799024586058709e-22\n",
      "[('i', 'ADP'), ('have', 'VERB'), ('a', 'ADP'), ('dream', 'CONJ')] 2.248027440457382e-23\n",
      "[('i', 'ADP'), ('have', 'VERB'), ('a', 'ADP'), ('dream', 'ADJ')] 2.592748080378495e-21\n",
      "[('i', 'ADP'), ('have', 'VERB'), ('a', 'ADP'), ('dream', 'ADP')] 6.945727499913755e-22\n",
      "[('i', 'ADP'), ('have', 'VERB'), ('a', 'ADP'), ('dream', 'NUM')] 7.545474927972337e-21\n",
      "[('i', 'ADP'), ('have', 'VERB'), ('a', 'ADP'), ('dream', 'PRT')] 4.809282971212272e-23\n",
      "[('i', 'ADP'), ('have', 'VERB'), ('a', 'ADP'), ('dream', 'X')] 3.1016469170867467e-21\n",
      "[('i', 'ADP'), ('have', 'VERB'), ('a', 'ADP'), ('dream', 'E')] 0.0\n",
      "[('i', 'ADP'), ('have', 'VERB'), ('a', 'ADP'), ('dream', 'ADV')] 3.3364633023839695e-21\n",
      "[('i', 'ADP'), ('have', 'VERB'), ('a', 'X'), ('dream', 'NOUN')] 7.287515220022864e-20\n",
      "[('i', 'ADP'), ('have', 'VERB'), ('a', 'X'), ('dream', 'VERB')] 4.665549481176974e-20\n",
      "[('i', 'ADP'), ('have', 'VERB'), ('a', 'X'), ('dream', '.')] 2.5659513603704162e-20\n",
      "[('i', 'ADP'), ('have', 'VERB'), ('a', 'X'), ('dream', 'DET')] 1.6770077572151358e-21\n",
      "[('i', 'ADP'), ('have', 'VERB'), ('a', 'X'), ('dream', 'PRON')] 1.8982986083624896e-21\n",
      "[('i', 'ADP'), ('have', 'VERB'), ('a', 'X'), ('dream', 'CONJ')] 1.5246123178181436e-22\n",
      "[('i', 'ADP'), ('have', 'VERB'), ('a', 'X'), ('dream', 'ADJ')] 1.758401872327741e-20\n",
      "[('i', 'ADP'), ('have', 'VERB'), ('a', 'X'), ('dream', 'ADP')] 4.710592723201897e-21\n",
      "[('i', 'ADP'), ('have', 'VERB'), ('a', 'X'), ('dream', 'NUM')] 5.117341457644314e-20\n",
      "[('i', 'ADP'), ('have', 'VERB'), ('a', 'X'), ('dream', 'PRT')] 3.2616559414823904e-22\n",
      "[('i', 'ADP'), ('have', 'VERB'), ('a', 'X'), ('dream', 'X')] 2.1035370877639308e-20\n",
      "[('i', 'ADP'), ('have', 'VERB'), ('a', 'X'), ('dream', 'E')] 0.0\n",
      "[('i', 'ADP'), ('have', 'VERB'), ('a', 'X'), ('dream', 'ADV')] 2.2627895715222418e-20\n",
      "[('i', 'NUM'), ('have', 'VERB'), ('a', 'DET'), ('dream', 'NOUN')] 2.865197328386792e-18\n",
      "[('i', 'NUM'), ('have', 'VERB'), ('a', 'DET'), ('dream', 'VERB')] 1.8343316624843646e-18\n",
      "[('i', 'NUM'), ('have', 'VERB'), ('a', 'DET'), ('dream', '.')] 1.008842761975145e-18\n",
      "[('i', 'NUM'), ('have', 'VERB'), ('a', 'DET'), ('dream', 'DET')] 6.593410786237313e-20\n",
      "[('i', 'NUM'), ('have', 'VERB'), ('a', 'DET'), ('dream', 'PRON')] 7.46344938836849e-20\n",
      "[('i', 'NUM'), ('have', 'VERB'), ('a', 'DET'), ('dream', 'CONJ')] 5.9942449627219234e-21\n",
      "[('i', 'NUM'), ('have', 'VERB'), ('a', 'DET'), ('dream', 'ADJ')] 6.9134241160569e-19\n",
      "[('i', 'NUM'), ('have', 'VERB'), ('a', 'DET'), ('dream', 'ADP')] 1.8520410974310111e-19\n",
      "[('i', 'NUM'), ('have', 'VERB'), ('a', 'DET'), ('dream', 'NUM')] 2.011960542133792e-18\n",
      "[('i', 'NUM'), ('have', 'VERB'), ('a', 'DET'), ('dream', 'PRT')] 1.2823695879187382e-20\n",
      "[('i', 'NUM'), ('have', 'VERB'), ('a', 'DET'), ('dream', 'X')] 8.270375652134609e-19\n",
      "[('i', 'NUM'), ('have', 'VERB'), ('a', 'DET'), ('dream', 'E')] 0.0\n",
      "[('i', 'NUM'), ('have', 'VERB'), ('a', 'DET'), ('dream', 'ADV')] 8.896500987351189e-19\n",
      "[('i', 'NUM'), ('have', 'VERB'), ('a', 'ADJ'), ('dream', 'NOUN')] 5.451144264483646e-20\n",
      "[('i', 'NUM'), ('have', 'VERB'), ('a', 'ADJ'), ('dream', 'VERB')] 3.48988407257182e-20\n",
      "[('i', 'NUM'), ('have', 'VERB'), ('a', 'ADJ'), ('dream', '.')] 1.9193607997683636e-20\n",
      "[('i', 'NUM'), ('have', 'VERB'), ('a', 'ADJ'), ('dream', 'DET')] 1.254420874775091e-21\n",
      "[('i', 'NUM'), ('have', 'VERB'), ('a', 'ADJ'), ('dream', 'PRON')] 1.419948948143673e-21\n",
      "[('i', 'NUM'), ('have', 'VERB'), ('a', 'ADJ'), ('dream', 'CONJ')] 1.1404273529338052e-22\n",
      "[('i', 'NUM'), ('have', 'VERB'), ('a', 'ADJ'), ('dream', 'ADJ')] 1.3153045985633767e-20\n",
      "[('i', 'NUM'), ('have', 'VERB'), ('a', 'ADJ'), ('dream', 'ADP')] 3.523576929877048e-21\n",
      "[('i', 'NUM'), ('have', 'VERB'), ('a', 'ADJ'), ('dream', 'NUM')] 3.827829609137292e-20\n",
      "[('i', 'NUM'), ('have', 'VERB'), ('a', 'ADJ'), ('dream', 'PRT')] 2.4397557385924688e-22\n",
      "[('i', 'NUM'), ('have', 'VERB'), ('a', 'ADJ'), ('dream', 'X')] 1.5734696648849e-20\n",
      "[('i', 'NUM'), ('have', 'VERB'), ('a', 'ADJ'), ('dream', 'E')] 0.0\n",
      "[('i', 'NUM'), ('have', 'VERB'), ('a', 'ADJ'), ('dream', 'ADV')] 1.6925923338926733e-20\n",
      "[('i', 'NUM'), ('have', 'VERB'), ('a', 'ADP'), ('dream', 'NOUN')] 4.758666870388731e-21\n",
      "[('i', 'NUM'), ('have', 'VERB'), ('a', 'ADP'), ('dream', 'VERB')] 3.0465522304825515e-21\n",
      "[('i', 'NUM'), ('have', 'VERB'), ('a', 'ADP'), ('dream', '.')] 1.6755378700375856e-21\n",
      "[('i', 'NUM'), ('have', 'VERB'), ('a', 'ADP'), ('dream', 'DET')] 1.0950675250348963e-22\n",
      "[('i', 'NUM'), ('have', 'VERB'), ('a', 'ADP'), ('dream', 'PRON')] 1.239568004317838e-22\n",
      "[('i', 'NUM'), ('have', 'VERB'), ('a', 'ADP'), ('dream', 'CONJ')] 9.955549879407335e-24\n",
      "[('i', 'NUM'), ('have', 'VERB'), ('a', 'ADP'), ('dream', 'ADJ')] 1.148216982337813e-21\n",
      "[('i', 'NUM'), ('have', 'VERB'), ('a', 'ADP'), ('dream', 'ADP')] 3.075964969542084e-22\n",
      "[('i', 'NUM'), ('have', 'VERB'), ('a', 'ADP'), ('dream', 'NUM')] 3.3415673962575098e-21\n",
      "[('i', 'NUM'), ('have', 'VERB'), ('a', 'ADP'), ('dream', 'PRT')] 2.1298252700308076e-23\n",
      "[('i', 'NUM'), ('have', 'VERB'), ('a', 'ADP'), ('dream', 'X')] 1.3735864623202536e-21\n",
      "[('i', 'NUM'), ('have', 'VERB'), ('a', 'ADP'), ('dream', 'E')] 0.0\n",
      "[('i', 'NUM'), ('have', 'VERB'), ('a', 'ADP'), ('dream', 'ADV')] 1.4775765735732104e-21\n",
      "[('i', 'NUM'), ('have', 'VERB'), ('a', 'X'), ('dream', 'NOUN')] 3.2273280994789164e-20\n",
      "[('i', 'NUM'), ('have', 'VERB'), ('a', 'X'), ('dream', 'VERB')] 2.066171868669454e-20\n",
      "[('i', 'NUM'), ('have', 'VERB'), ('a', 'X'), ('dream', '.')] 1.1363498637322386e-20\n",
      "[('i', 'NUM'), ('have', 'VERB'), ('a', 'X'), ('dream', 'DET')] 7.4267484794186745e-22\n",
      "[('i', 'NUM'), ('have', 'VERB'), ('a', 'X'), ('dream', 'PRON')] 8.406750799143806e-22\n",
      "[('i', 'NUM'), ('have', 'VERB'), ('a', 'X'), ('dream', 'CONJ')] 6.751854405170955e-23\n",
      "[('i', 'NUM'), ('have', 'VERB'), ('a', 'X'), ('dream', 'ADJ')] 7.78720812431024e-21\n",
      "[('i', 'NUM'), ('have', 'VERB'), ('a', 'X'), ('dream', 'ADP')] 2.0861195897087536e-21\n",
      "[('i', 'NUM'), ('have', 'VERB'), ('a', 'X'), ('dream', 'NUM')] 2.2662511682318074e-20\n",
      "[('i', 'NUM'), ('have', 'VERB'), ('a', 'X'), ('dream', 'PRT')] 1.4444476001719353e-22\n",
      "[('i', 'NUM'), ('have', 'VERB'), ('a', 'X'), ('dream', 'X')] 9.315664045522614e-21\n",
      "[('i', 'NUM'), ('have', 'VERB'), ('a', 'X'), ('dream', 'E')] 0.0\n",
      "[('i', 'NUM'), ('have', 'VERB'), ('a', 'X'), ('dream', 'ADV')] 1.0020925029860421e-20\n",
      "[('i', 'PRT'), ('have', 'VERB'), ('a', 'DET'), ('dream', 'NOUN')] 2.4492816436796678e-18\n",
      "[('i', 'PRT'), ('have', 'VERB'), ('a', 'DET'), ('dream', 'VERB')] 1.5680577476571099e-18\n",
      "[('i', 'PRT'), ('have', 'VERB'), ('a', 'DET'), ('dream', '.')] 8.623978648116518e-19\n",
      "[('i', 'PRT'), ('have', 'VERB'), ('a', 'DET'), ('dream', 'DET')] 5.636302898922184e-20\n",
      "[('i', 'PRT'), ('have', 'VERB'), ('a', 'DET'), ('dream', 'PRON')] 6.380045592097326e-20\n",
      "[('i', 'PRT'), ('have', 'VERB'), ('a', 'DET'), ('dream', 'CONJ')] 5.1241127476481276e-21\n",
      "[('i', 'PRT'), ('have', 'VERB'), ('a', 'DET'), ('dream', 'ADJ')] 5.90986268717636e-19\n",
      "[('i', 'PRT'), ('have', 'VERB'), ('a', 'DET'), ('dream', 'ADP')] 1.5831964585253005e-19\n",
      "[('i', 'PRT'), ('have', 'VERB'), ('a', 'DET'), ('dream', 'NUM')] 1.719901793441448e-18\n",
      "[('i', 'PRT'), ('have', 'VERB'), ('a', 'DET'), ('dream', 'PRT')] 1.0962191891582051e-20\n",
      "[('i', 'PRT'), ('have', 'VERB'), ('a', 'DET'), ('dream', 'X')] 7.0698374141349885e-19\n",
      "[('i', 'PRT'), ('have', 'VERB'), ('a', 'DET'), ('dream', 'E')] 0.0\n",
      "[('i', 'PRT'), ('have', 'VERB'), ('a', 'DET'), ('dream', 'ADV')] 7.605073600136947e-19\n",
      "[('i', 'PRT'), ('have', 'VERB'), ('a', 'ADJ'), ('dream', 'NOUN')] 4.659849236829634e-20\n",
      "[('i', 'PRT'), ('have', 'VERB'), ('a', 'ADJ'), ('dream', 'VERB')] 2.9832880663520875e-20\n",
      "[('i', 'PRT'), ('have', 'VERB'), ('a', 'ADJ'), ('dream', '.')] 1.640743947334978e-20\n",
      "[('i', 'PRT'), ('have', 'VERB'), ('a', 'ADJ'), ('dream', 'DET')] 1.0723275467261129e-21\n",
      "[('i', 'PRT'), ('have', 'VERB'), ('a', 'ADJ'), ('dream', 'PRON')] 1.2138273546446124e-21\n",
      "[('i', 'PRT'), ('have', 'VERB'), ('a', 'ADJ'), ('dream', 'CONJ')] 9.748814693554281e-23\n",
      "[('i', 'PRT'), ('have', 'VERB'), ('a', 'ADJ'), ('dream', 'ADJ')] 1.1243733118104576e-20\n",
      "[('i', 'PRT'), ('have', 'VERB'), ('a', 'ADJ'), ('dream', 'ADP')] 3.0120900256807586e-21\n",
      "[('i', 'PRT'), ('have', 'VERB'), ('a', 'ADJ'), ('dream', 'NUM')] 3.2721769994362614e-20\n",
      "[('i', 'PRT'), ('have', 'VERB'), ('a', 'ADJ'), ('dream', 'PRT')] 2.08559769562579e-22\n",
      "[('i', 'PRT'), ('have', 'VERB'), ('a', 'ADJ'), ('dream', 'X')] 1.345062809080326e-20\n",
      "[('i', 'PRT'), ('have', 'VERB'), ('a', 'ADJ'), ('dream', 'E')] 0.0\n",
      "[('i', 'PRT'), ('have', 'VERB'), ('a', 'ADJ'), ('dream', 'ADV')] 1.4468934800977185e-20\n",
      "[('i', 'PRT'), ('have', 'VERB'), ('a', 'ADP'), ('dream', 'NOUN')] 4.067892741123016e-21\n",
      "[('i', 'PRT'), ('have', 'VERB'), ('a', 'ADP'), ('dream', 'VERB')] 2.6043108377577457e-21\n",
      "[('i', 'PRT'), ('have', 'VERB'), ('a', 'ADP'), ('dream', '.')] 1.4323146638852299e-21\n",
      "[('i', 'PRT'), ('have', 'VERB'), ('a', 'ADP'), ('dream', 'DET')] 9.361061317085026e-23\n",
      "[('i', 'PRT'), ('have', 'VERB'), ('a', 'ADP'), ('dream', 'PRON')] 1.0596307378164855e-22\n",
      "[('i', 'PRT'), ('have', 'VERB'), ('a', 'ADP'), ('dream', 'CONJ')] 8.510389609395156e-24\n",
      "[('i', 'PRT'), ('have', 'VERB'), ('a', 'ADP'), ('dream', 'ADJ')] 9.815403462576502e-22\n",
      "[('i', 'PRT'), ('have', 'VERB'), ('a', 'ADP'), ('dream', 'ADP')] 2.6294539862435826e-22\n",
      "[('i', 'PRT'), ('have', 'VERB'), ('a', 'ADP'), ('dream', 'NUM')] 2.8565012272226676e-21\n",
      "[('i', 'PRT'), ('have', 'VERB'), ('a', 'ADP'), ('dream', 'PRT')] 1.82065712767806e-23\n",
      "[('i', 'PRT'), ('have', 'VERB'), ('a', 'ADP'), ('dream', 'X')] 1.174194906171475e-21\n",
      "[('i', 'PRT'), ('have', 'VERB'), ('a', 'ADP'), ('dream', 'E')] 0.0\n",
      "[('i', 'PRT'), ('have', 'VERB'), ('a', 'ADP'), ('dream', 'ADV')] 1.2630896807451619e-21\n",
      "[('i', 'PRT'), ('have', 'VERB'), ('a', 'X'), ('dream', 'NOUN')] 2.7588450519168564e-20\n",
      "[('i', 'PRT'), ('have', 'VERB'), ('a', 'X'), ('dream', 'VERB')] 1.766243734936305e-20\n",
      "[('i', 'PRT'), ('have', 'VERB'), ('a', 'X'), ('dream', '.')] 9.713958736672169e-21\n",
      "[('i', 'PRT'), ('have', 'VERB'), ('a', 'X'), ('dream', 'DET')] 6.348672233722823e-22\n",
      "[('i', 'PRT'), ('have', 'VERB'), ('a', 'X'), ('dream', 'PRON')] 7.186416171526126e-22\n",
      "[('i', 'PRT'), ('have', 'VERB'), ('a', 'X'), ('dream', 'CONJ')] 5.771746640813024e-23\n",
      "[('i', 'PRT'), ('have', 'VERB'), ('a', 'X'), ('dream', 'ADJ')] 6.6568070985620585e-21\n",
      "[('i', 'PRT'), ('have', 'VERB'), ('a', 'X'), ('dream', 'ADP')] 1.7832958194439738e-21\n",
      "[('i', 'PRT'), ('have', 'VERB'), ('a', 'X'), ('dream', 'NUM')] 1.9372792691535146e-20\n",
      "[('i', 'PRT'), ('have', 'VERB'), ('a', 'X'), ('dream', 'PRT')] 1.234769751216475e-22\n",
      "[('i', 'PRT'), ('have', 'VERB'), ('a', 'X'), ('dream', 'X')] 7.963390416195806e-21\n",
      "[('i', 'PRT'), ('have', 'VERB'), ('a', 'X'), ('dream', 'E')] 0.0\n",
      "[('i', 'PRT'), ('have', 'VERB'), ('a', 'X'), ('dream', 'ADV')] 8.566274819942832e-21\n",
      "[('i', 'X'), ('have', 'VERB'), ('a', 'DET'), ('dream', 'NOUN')] 3.188687275435586e-18\n",
      "[('i', 'X'), ('have', 'VERB'), ('a', 'DET'), ('dream', 'VERB')] 2.0414335770673617e-18\n",
      "[('i', 'X'), ('have', 'VERB'), ('a', 'DET'), ('dream', '.')] 1.1227443381139323e-18\n",
      "[('i', 'X'), ('have', 'VERB'), ('a', 'DET'), ('dream', 'DET')] 7.337827963015764e-20\n",
      "[('i', 'X'), ('have', 'VERB'), ('a', 'DET'), ('dream', 'PRON')] 8.306096707463975e-20\n",
      "[('i', 'X'), ('have', 'VERB'), ('a', 'DET'), ('dream', 'CONJ')] 6.671014400685969e-21\n",
      "[('i', 'X'), ('have', 'VERB'), ('a', 'DET'), ('dream', 'ADJ')] 7.693971821819381e-19\n",
      "[('i', 'X'), ('have', 'VERB'), ('a', 'DET'), ('dream', 'ADP')] 2.0611424638899388e-19\n",
      "[('i', 'X'), ('have', 'VERB'), ('a', 'DET'), ('dream', 'NUM')] 2.2391173256442573e-18\n",
      "[('i', 'X'), ('have', 'VERB'), ('a', 'DET'), ('dream', 'PRT')] 1.427153217996455e-20\n",
      "[('i', 'X'), ('have', 'VERB'), ('a', 'DET'), ('dream', 'X')] 9.204127528585294e-19\n",
      "[('i', 'X'), ('have', 'VERB'), ('a', 'DET'), ('dream', 'E')] 0.0\n",
      "[('i', 'X'), ('have', 'VERB'), ('a', 'DET'), ('dream', 'ADV')] 9.90094441775818e-19\n",
      "[('i', 'X'), ('have', 'VERB'), ('a', 'ADJ'), ('dream', 'NOUN')] 6.066595895686305e-20\n",
      "[('i', 'X'), ('have', 'VERB'), ('a', 'ADJ'), ('dream', 'VERB')] 3.8839031520459456e-20\n",
      "[('i', 'X'), ('have', 'VERB'), ('a', 'ADJ'), ('dream', '.')] 2.136062776045224e-20\n",
      "[('i', 'X'), ('have', 'VERB'), ('a', 'ADJ'), ('dream', 'DET')] 1.3960490057025941e-21\n",
      "[('i', 'X'), ('have', 'VERB'), ('a', 'ADJ'), ('dream', 'PRON')] 1.5802657282467774e-21\n",
      "[('i', 'X'), ('have', 'VERB'), ('a', 'ADJ'), ('dream', 'CONJ')] 1.2691852504644673e-22\n",
      "[('i', 'X'), ('have', 'VERB'), ('a', 'ADJ'), ('dream', 'ADJ')] 1.463806696735396e-20\n",
      "[('i', 'X'), ('have', 'VERB'), ('a', 'ADJ'), ('dream', 'ADP')] 3.921400040758577e-21\n",
      "[('i', 'X'), ('have', 'VERB'), ('a', 'ADJ'), ('dream', 'NUM')] 4.2600038211203863e-20\n",
      "[('i', 'X'), ('have', 'VERB'), ('a', 'ADJ'), ('dream', 'PRT')] 2.7152119687340894e-22\n",
      "[('i', 'X'), ('have', 'VERB'), ('a', 'ADJ'), ('dream', 'X')] 1.7511194251766584e-20\n",
      "[('i', 'X'), ('have', 'VERB'), ('a', 'ADJ'), ('dream', 'E')] 0.0\n",
      "[('i', 'X'), ('have', 'VERB'), ('a', 'ADJ'), ('dream', 'ADV')] 1.883691424709716e-20\n",
      "[('i', 'X'), ('have', 'VERB'), ('a', 'ADP'), ('dream', 'NOUN')] 5.2959355878601474e-21\n",
      "[('i', 'X'), ('have', 'VERB'), ('a', 'ADP'), ('dream', 'VERB')] 3.390517726316332e-21\n",
      "[('i', 'X'), ('have', 'VERB'), ('a', 'ADP'), ('dream', '.')] 1.8647114573108516e-21\n",
      "[('i', 'X'), ('have', 'VERB'), ('a', 'ADP'), ('dream', 'DET')] 1.2187041528436498e-22\n",
      "[('i', 'X'), ('have', 'VERB'), ('a', 'ADP'), ('dream', 'PRON')] 1.3795191986413115e-22\n",
      "[('i', 'X'), ('have', 'VERB'), ('a', 'ADP'), ('dream', 'CONJ')] 1.1079563318699622e-23\n",
      "[('i', 'X'), ('have', 'VERB'), ('a', 'ADP'), ('dream', 'ADJ')] 1.277854353955117e-21\n",
      "[('i', 'X'), ('have', 'VERB'), ('a', 'ADP'), ('dream', 'ADP')] 3.4232512577368867e-22\n",
      "[('i', 'X'), ('have', 'VERB'), ('a', 'ADP'), ('dream', 'NUM')] 3.7188410483601864e-21\n",
      "[('i', 'X'), ('have', 'VERB'), ('a', 'ADP'), ('dream', 'PRT')] 2.3702893584897228e-23\n",
      "[('i', 'X'), ('have', 'VERB'), ('a', 'ADP'), ('dream', 'X')] 1.5286687694132519e-21\n",
      "[('i', 'X'), ('have', 'VERB'), ('a', 'ADP'), ('dream', 'E')] 0.0\n",
      "[('i', 'X'), ('have', 'VERB'), ('a', 'ADP'), ('dream', 'ADV')] 1.6443996969965653e-21\n",
      "[('i', 'X'), ('have', 'VERB'), ('a', 'X'), ('dream', 'NOUN')] 3.591703769407847e-20\n",
      "[('i', 'X'), ('have', 'VERB'), ('a', 'X'), ('dream', 'VERB')] 2.2994492844228444e-20\n",
      "[('i', 'X'), ('have', 'VERB'), ('a', 'X'), ('dream', '.')] 1.2646473996840178e-20\n",
      "[('i', 'X'), ('have', 'VERB'), ('a', 'X'), ('dream', 'DET')] 8.265252148450272e-22\n",
      "[('i', 'X'), ('have', 'VERB'), ('a', 'X'), ('dream', 'PRON')] 9.355899866094321e-22\n",
      "[('i', 'X'), ('have', 'VERB'), ('a', 'X'), ('dream', 'CONJ')] 7.514160373548942e-23\n",
      "[('i', 'X'), ('have', 'VERB'), ('a', 'X'), ('dream', 'ADJ')] 8.666408840726303e-21\n",
      "[('i', 'X'), ('have', 'VERB'), ('a', 'X'), ('dream', 'ADP')] 2.3216491670004838e-21\n",
      "[('i', 'X'), ('have', 'VERB'), ('a', 'X'), ('dream', 'NUM')] 2.522118177162512e-20\n",
      "[('i', 'X'), ('have', 'VERB'), ('a', 'X'), ('dream', 'PRT')] 1.60753035648508e-22\n",
      "[('i', 'X'), ('have', 'VERB'), ('a', 'X'), ('dream', 'X')] 1.036743232652516e-20\n",
      "[('i', 'X'), ('have', 'VERB'), ('a', 'X'), ('dream', 'E')] 0.0\n",
      "[('i', 'X'), ('have', 'VERB'), ('a', 'X'), ('dream', 'ADV')] 1.115231953284031e-20\n",
      "[('i', 'ADV'), ('have', 'VERB'), ('a', 'DET'), ('dream', 'NOUN')] 4.482647602652211e-18\n",
      "[('i', 'ADV'), ('have', 'VERB'), ('a', 'DET'), ('dream', 'VERB')] 2.869841580486965e-18\n",
      "[('i', 'ADV'), ('have', 'VERB'), ('a', 'DET'), ('dream', '.')] 1.5783508324598105e-18\n",
      "[('i', 'ADV'), ('have', 'VERB'), ('a', 'DET'), ('dream', 'DET')] 1.0315497910529242e-19\n",
      "[('i', 'ADV'), ('have', 'VERB'), ('a', 'DET'), ('dream', 'PRON')] 1.1676687387923487e-19\n",
      "[('i', 'ADV'), ('have', 'VERB'), ('a', 'DET'), ('dream', 'CONJ')] 9.37809328022246e-21\n",
      "[('i', 'ADV'), ('have', 'VERB'), ('a', 'DET'), ('dream', 'ADJ')] 1.0816163945472183e-18\n",
      "[('i', 'ADV'), ('have', 'VERB'), ('a', 'DET'), ('dream', 'ADP')] 2.897548278144891e-19\n",
      "[('i', 'ADV'), ('have', 'VERB'), ('a', 'DET'), ('dream', 'NUM')] 3.147744838190552e-18\n",
      "[('i', 'ADV'), ('have', 'VERB'), ('a', 'DET'), ('dream', 'PRT')] 2.0062879795558774e-20\n",
      "[('i', 'ADV'), ('have', 'VERB'), ('a', 'DET'), ('dream', 'X')] 1.2939136590270358e-18\n",
      "[('i', 'ADV'), ('have', 'VERB'), ('a', 'DET'), ('dream', 'E')] 0.0\n",
      "[('i', 'ADV'), ('have', 'VERB'), ('a', 'DET'), ('dream', 'ADV')] 1.3918719813059653e-18\n",
      "[('i', 'ADV'), ('have', 'VERB'), ('a', 'ADJ'), ('dream', 'NOUN')] 8.528403446005254e-20\n",
      "[('i', 'ADV'), ('have', 'VERB'), ('a', 'ADJ'), ('dream', 'VERB')] 5.459980126484441e-20\n",
      "[('i', 'ADV'), ('have', 'VERB'), ('a', 'ADJ'), ('dream', '.')] 3.002871042236571e-20\n",
      "[('i', 'ADV'), ('have', 'VERB'), ('a', 'ADJ'), ('dream', 'DET')] 1.9625617654032476e-21\n",
      "[('i', 'ADV'), ('have', 'VERB'), ('a', 'ADJ'), ('dream', 'PRON')] 2.221533115790164e-21\n",
      "[('i', 'ADV'), ('have', 'VERB'), ('a', 'ADJ'), ('dream', 'CONJ')] 1.784217055132479e-22\n",
      "[('i', 'ADV'), ('have', 'VERB'), ('a', 'ADJ'), ('dream', 'ADJ')] 2.057815336867996e-20\n",
      "[('i', 'ADV'), ('have', 'VERB'), ('a', 'ADJ'), ('dream', 'ADP')] 5.512693147165227e-21\n",
      "[('i', 'ADV'), ('have', 'VERB'), ('a', 'ADJ'), ('dream', 'NUM')] 5.988701389171492e-20\n",
      "[('i', 'ADV'), ('have', 'VERB'), ('a', 'ADJ'), ('dream', 'PRT')] 3.817037348284901e-22\n",
      "[('i', 'ADV'), ('have', 'VERB'), ('a', 'ADJ'), ('dream', 'X')] 2.4617187623560777e-20\n",
      "[('i', 'ADV'), ('have', 'VERB'), ('a', 'ADJ'), ('dream', 'E')] 0.0\n",
      "[('i', 'ADV'), ('have', 'VERB'), ('a', 'ADJ'), ('dream', 'ADV')] 2.6480881064004825e-20\n",
      "[('i', 'ADV'), ('have', 'VERB'), ('a', 'ADP'), ('dream', 'NOUN')] 7.445011352980317e-21\n",
      "[('i', 'ADV'), ('have', 'VERB'), ('a', 'ADP'), ('dream', 'VERB')] 4.766380282790685e-21\n",
      "[('i', 'ADV'), ('have', 'VERB'), ('a', 'ADP'), ('dream', '.')] 2.6214061216181038e-21\n",
      "[('i', 'ADV'), ('have', 'VERB'), ('a', 'ADP'), ('dream', 'DET')] 1.7132508700906116e-22\n",
      "[('i', 'ADV'), ('have', 'VERB'), ('a', 'ADP'), ('dream', 'PRON')] 1.9393242091316184e-22\n",
      "[('i', 'ADV'), ('have', 'VERB'), ('a', 'ADP'), ('dream', 'CONJ')] 1.5575618948778132e-23\n",
      "[('i', 'ADV'), ('have', 'VERB'), ('a', 'ADP'), ('dream', 'ADJ')] 1.7964040564351377e-21\n",
      "[('i', 'ADV'), ('have', 'VERB'), ('a', 'ADP'), ('dream', 'ADP')] 4.812396989188664e-22\n",
      "[('i', 'ADV'), ('have', 'VERB'), ('a', 'ADP'), ('dream', 'NUM')] 5.2279362854104926e-21\n",
      "[('i', 'ADV'), ('have', 'VERB'), ('a', 'ADP'), ('dream', 'PRT')] 3.332146113003372e-23\n",
      "[('i', 'ADV'), ('have', 'VERB'), ('a', 'ADP'), ('dream', 'X')] 2.1489982561941713e-21\n",
      "[('i', 'ADV'), ('have', 'VERB'), ('a', 'ADP'), ('dream', 'E')] 0.0\n",
      "[('i', 'ADV'), ('have', 'VERB'), ('a', 'ADP'), ('dream', 'ADV')] 2.3116924686622752e-21\n",
      "[('i', 'ADV'), ('have', 'VERB'), ('a', 'X'), ('dream', 'NOUN')] 5.049207056271653e-20\n",
      "[('i', 'ADV'), ('have', 'VERB'), ('a', 'X'), ('dream', 'VERB')] 3.232559336139461e-20\n",
      "[('i', 'ADV'), ('have', 'VERB'), ('a', 'X'), ('dream', '.')] 1.7778377572694118e-20\n",
      "[('i', 'ADV'), ('have', 'VERB'), ('a', 'X'), ('dream', 'DET')] 1.1619268221749794e-21\n",
      "[('i', 'ADV'), ('have', 'VERB'), ('a', 'X'), ('dream', 'PRON')] 1.3152497715434575e-21\n",
      "[('i', 'ADV'), ('have', 'VERB'), ('a', 'X'), ('dream', 'CONJ')] 1.0563385517268117e-22\n",
      "[('i', 'ADV'), ('have', 'VERB'), ('a', 'X'), ('dream', 'ADJ')] 1.2183213171375936e-20\n",
      "[('i', 'ADV'), ('have', 'VERB'), ('a', 'X'), ('dream', 'ADP')] 3.263767868623168e-21\n",
      "[('i', 'ADV'), ('have', 'VERB'), ('a', 'X'), ('dream', 'NUM')] 3.545586639228737e-20\n",
      "[('i', 'ADV'), ('have', 'VERB'), ('a', 'X'), ('dream', 'PRT')] 2.2598616534774904e-22\n",
      "[('i', 'ADV'), ('have', 'VERB'), ('a', 'X'), ('dream', 'X')] 1.4574507203064803e-20\n",
      "[('i', 'ADV'), ('have', 'VERB'), ('a', 'X'), ('dream', 'E')] 0.0\n",
      "[('i', 'ADV'), ('have', 'VERB'), ('a', 'X'), ('dream', 'ADV')] 1.5677899429968075e-20\n"
     ]
    }
   ],
   "source": [
    "# pos_tagger([], token, 'TRANSITION', 1)\n",
    "a = pos_tagger([], ['i', 'have', 'a', 'dream'], 'TRANSITION', 1, solution)\n"
   ]
  },
  {
   "cell_type": "code",
   "execution_count": 55,
   "metadata": {},
   "outputs": [
    {
     "output_type": "stream",
     "name": "stdout",
     "text": [
      "None\n"
     ]
    }
   ],
   "source": [
    "print(a)"
   ]
  },
  {
   "cell_type": "code",
   "execution_count": 51,
   "metadata": {},
   "outputs": [
    {
     "output_type": "stream",
     "name": "stdout",
     "text": [
      "624\n[([], 6.3034340685488e-17), ([], 4.035529622956842e-17), ([], 2.219454057366247e-17), ([], 1.4505503605682126e-18), ([], 1.6419588514002928e-18), ([], 1.3187338805220205e-19), ([], 1.5209532925264895e-17), ([], 4.074490379506302e-18), ([], 4.4263131548439005e-17), ([], 2.8212130692963693e-19), ([], 1.8194826279107913e-17), ([], 0.0), ([], 1.957230200480527e-17), ([], 1.1992517279313195e-18), ([], 7.677744894003806e-19), ([], 4.22259372338201e-19), ([], 2.759725900906137e-20), ([], 3.1238876592029844e-20), ([], 2.508940154999836e-21), ([], 2.893670092094977e-19), ([], 7.751869179441454e-20), ([], 8.421225068090171e-19), ([], 5.3674625790049994e-21), ([], 3.461633233145542e-19), ([], 0.0), ([], 3.7237031027216223e-19), ([], 1.0469067025331761e-19), ([], 6.702414849747692e-20), ([], 3.6861832825612706e-20), ([], 2.4091485344755777e-21), ([], 2.727049586179603e-21), ([], 2.190220954740521e-22), ([], 2.526077339542109e-20), ([], 6.76712287512533e-21), ([], 7.351448208902564e-20), ([], 4.68561555399998e-22), ([], 3.021890191263666e-20), ([], 0.0), ([], 3.250668434063835e-20), ([], 7.100121758138809e-19), ([], 4.5455780722024945e-19), ([], 2.4999696788330977e-19), ([], 1.6338846515003774e-20), ([], 1.8494851599962558e-20), ([], 1.4854079564355381e-21), ([], 1.7131857726983993e-19), ([], 4.589463058113682e-20), ([], 4.985752527475637e-19), ([], 3.1777846932042752e-21), ([], 2.0494460724896808e-19), ([], 0.0), ([], 2.2046034877172107e-19), ([], 2.2367024740165802e-17), ([], 1.4319621643496985e-17), ([], 7.875482359443654e-18), ([], 5.147114326707811e-19), ([], 5.826305764797141e-19), ([], 4.679378416679719e-20), ([], 5.396931189034972e-18), ([], 1.4457869493186632e-18), ([], 1.5706272924483495e-17), ([], 1.0010756332501562e-19), ([], 6.456228860366558e-18), ([], 0.0), ([], 6.94501058316395e-18), ([], 4.255409476266937e-19), ([], 2.7243611676642914e-19), ([], 1.4983397502291666e-19), ([], 9.79257605146252e-21), ([], 1.1084762971904617e-20), ([], 8.902691121729515e-22), ([], 1.0267861904466138e-19), ([], 2.750663334200836e-20), ([], 2.988176720690945e-19), ([], 1.9045835490773734e-21), ([], 1.2283215042014692e-19), ([], 0.0), ([], 1.3213140411696511e-19), ([], 3.7148303387578564e-20), ([], 2.378276303565349e-20), ([], 1.3080005562240336e-20), ([], 8.548591813185278e-22), ([], 9.676627834671844e-22), ([], 7.771751992384869e-23), ([], 8.963500487936157e-21), ([], 2.401237216438705e-21), ([], 2.6085784697106688e-20), ([], 1.6626378237561456e-22), ([], 1.0722836462636274e-20), ([], 0.0), ([], 1.1534630250129813e-20), ([], 2.519398113718064e-19), ([], 1.6129471030180135e-19), ([], 8.870860398956731e-20), ([], 5.797655377253701e-21), ([], 6.562689461068566e-21), ([], 5.270802573569521e-22), ([], 6.079046460347459e-20), ([], 1.6285191952287495e-20), ([], 1.7691380431312338e-19), ([], 1.1276010517261422e-21), ([], 7.27222820267648e-20), ([], 0.0), ([], 7.822786788246539e-20), ([], 8.087250832305644e-18), ([], 5.177549244925388e-18), ([], 2.8475401626325994e-18), ([], 1.8610434381059966e-19), ([], 2.106618859369741e-19), ([], 1.6919240459822377e-20), ([], 1.9513697846473538e-18), ([], 5.22753555515016e-19), ([], 5.678921101779368e-18), ([], 3.619591716937142e-20), ([], 2.3343803134796425e-18), ([], 0.0), ([], 2.5111092454868823e-18), ([], 1.5386294882099728e-19), ([], 9.850479613021115e-20), ([], 5.4175508512571314e-20), ([], 3.54070421715014e-21), ([], 4.007920571101486e-21), ([], 3.218948296448005e-22), ([], 3.712553444078573e-20), ([], 9.94558042356036e-21), ([], 1.0804358180052272e-19), ([], 6.886407589477833e-22), ([], 4.4412451913435026e-20), ([], 0.0), ([], 4.7774785441164504e-20), ([], 1.3431721517723429e-20), ([], 8.599139688401437e-21), ([], 4.729340942688405e-21), ([], 3.0909165192666284e-22), ([], 3.4987807908724884e-22), ([], 2.810034347394461e-23), ([], 3.2409351544758193e-21), ([], 8.682159519560333e-22), ([], 9.431843817125319e-21), ([], 6.011603814184836e-23), ([], 3.877058710960664e-21), ([], 0.0), ([], 4.170579197473034e-21), ([], 9.1093941768156e-20), ([], 5.831936948646981e-20), ([], 3.2074392539075896e-20), ([], 2.096259731448248e-21), ([], 2.3728732999915666e-21), ([], 1.9057654290278599e-22), ([], 2.1980023770343105e-20), ([], 5.888241002116312e-21), ([], 6.396676928641243e-20), ([], 4.077069994787945e-22), ([], 2.6294214035181495e-20), ([], 0.0), ([], 2.8284870115330074e-20), ([], 1.2800962644348319e-17), ([], 8.195320739751093e-18), ([], 4.507249250206492e-18), ([], 2.9457658757830985e-19), ([], 3.33447668235407e-19), ([], 2.678074040089913e-20), ([], 3.088739577459014e-18), ([], 8.274441927307195e-19), ([], 8.988920758298507e-18), ([], 5.72929655788792e-20), ([], 3.694990523996854e-18), ([], 0.0), ([], 3.9747271741528215e-18), ([], 2.435430656285629e-19), ([], 1.5591901892234078e-19), ([], 8.575208993614039e-20), ([], 5.6044289163594164e-21), ([], 6.343965653598799e-21), ([], 5.095135263063431e-22), ([], 5.876441690537688e-20), ([], 1.5742432888292358e-20), ([], 1.7101755383488923e-19), ([], 1.0900199355079298e-21), ([], 7.029856618478524e-20), ([], 0.0), ([], 7.562065978356064e-20), ([], 2.126049617638087e-20), ([], 1.361120957013488e-20), ([], 7.485871032700687e-21), ([], 4.892479251648355e-22), ([], 5.538070122149703e-22), ([], 4.4478829031295144e-23), ([], 5.129937318065404e-21), ([], 1.3742618101840105e-21), ([], 1.492926123770633e-20), ([], 9.515509961753293e-23), ([], 6.136830025192056e-21), ([], 0.0), ([], 6.601431020153972e-21), ([], 1.4418869525383055e-19), ([], 9.231122982560074e-20), ([], 5.0769180930155387e-20), ([], 3.3180796628599623e-21), ([], 3.75591942216336e-21), ([], 3.016554397994477e-22), ([], 3.479123734880299e-20), ([], 9.320244255058163e-21), ([], 1.0125025686653098e-19), ([], 6.453419311936266e-22), ([], 4.161998417092459e-20), ([], 0.0), ([], 4.4770908341340346e-20), ([], 7.024354983990208e-18), ([], 4.497071328388332e-18), ([], 2.4732920182961675e-18), ([], 1.6164491519988103e-19), ([], 1.829748945719649e-19), ([], 1.4695568804980337e-20), ([], 1.6949040355766597e-18), ([], 4.540488009116973e-19), ([], 4.9325485968138775e-18), ([], 3.143873937396898e-20), ([], 2.0275760365954277e-18), ([], 0.0), ([], 2.1810777370003846e-18), ([], 1.336409607928624e-19), ([], 8.555845119582134e-20), ([], 4.705529865728073e-20), ([], 3.075354509250835e-21), ([], 3.481165283830732e-21), ([], 2.7958865105356215e-22), ([], 3.224617837259353e-20), ([], 8.638446966160745e-21), ([], 9.384356786325688e-20), ([], 5.981336856735748e-22), ([], 3.8575386669492183e-20), ([], 0.0), ([], 4.149581349476112e-20), ([], 1.166640950589763e-20), ([], 7.468967017439455e-21), ([], 4.1077704043824226e-21), ([], 2.684681767316754e-22), ([], 3.0389410191259825e-22), ([], 2.4407155388893175e-23), ([], 2.8149836671556463e-21), ([], 7.541075670535944e-22), ([], 8.192230029565324e-21), ([], 5.2215072945752637e-23), ([], 3.3675024114214258e-21), ([], 0.0), ([], 3.62244591881213e-21), ([], 7.912159485821636e-20), ([], 5.065453789055523e-20), ([], 2.7858900850498704e-20), ([], 1.8207513032136864e-21), ([], 2.061009944762786e-21), ([], 1.655293395406108e-22), ([], 1.9091220579270106e-20), ([], 5.114357881040189e-21), ([], 5.555970798529837e-20), ([], 3.5412264973362796e-22), ([], 2.2838402967584864e-20), ([], 0.0), ([], 2.45674299568486e-20), ([], 9.704701106571064e-19), ([], 6.213059162927988e-19), ([], 3.417048233117265e-19), ([], 2.2332521505351895e-20), ([], 2.5279426593252403e-20), ([], 2.030308877732291e-21), ([], 2.3416437675888815e-19), ([], 6.273042735864039e-20), ([], 6.814705397836128e-19), ([], 4.343510108574281e-21), ([], 2.8012564072932173e-19), ([], 0.0), ([], 3.0133311280577286e-19), ([], 1.846355406362133e-20), ([], 1.1820575666933734e-20), ([], 6.501061093725337e-21), ([], 4.248845107778296e-22), ([], 4.809504738747976e-22), ([], 3.8627379986466775e-23), ([], 4.45506418238319e-21), ([], 1.1934696640848536e-21), ([], 1.2965229960086469e-20), ([], 8.263689199170263e-23), ([], 5.329494288814679e-21), ([], 0.0), ([], 5.732974316624258e-21), ([], 1.6118066000315017e-21), ([], 1.0318967740709571e-21), ([], 5.675209194268923e-22), ([], 3.7090998643223436e-23), ([], 4.198536995686269e-23), ([], 3.372041254331541e-24), ([], 3.8891222285731444e-22), ([], 1.0418591539206915e-22), ([], 1.1318212706278303e-21), ([], 7.213924657157401e-24), ([], 4.652470504834582e-22), ([], 0.0), ([], 5.004695092562099e-22), ([], 1.0931273133608335e-20), ([], 6.998324416116987e-21), ([], 3.8489271474447625e-21), ([], 2.5155117056813596e-22), ([], 2.847447991620643e-22), ([], 2.286918540237576e-23), ([], 2.63760288174088e-21), ([], 7.065889281030725e-22), ([], 7.676012399638172e-21), ([], 4.8924840480934997e-23), ([], 3.1553057192723683e-21), ([], 0.0), ([], 3.394184451543773e-21), ([], 1.0166829525351987e-17), ([], 6.508918991605466e-18), ([], 3.579764743345428e-18), ([], 2.339597443783544e-19), ([], 2.6483208277092007e-19), ([], 2.1269902099031497e-20), ([], 2.453150564117766e-18), ([], 6.571758923888329e-19), ([], 7.1392150344933e-18), ([], 4.5503438313640824e-20), ([], 2.9346495102735673e-18), ([], 0.0), ([], 3.1568230227776764e-18), ([], 1.9342770533123946e-19), ([], 1.2383459972390774e-19), ([], 6.81063529396601e-20), ([], 4.4511709753903515e-21), ([], 5.038528672162273e-21), ([], 4.0466778216125723e-22), ([], 4.66721000156543e-20), ([], 1.2503015275982075e-20), ([], 1.3582621588616787e-19), ([], 8.65719803380339e-22), ([], 5.583279618372565e-20), ([], 0.0), ([], 6.005972972302521e-20), ([], 1.6885592611669253e-20), ([], 1.0810346938595082e-20), ([], 5.945457131057276e-21), ([], 3.8857235889045704e-22), ([], 4.398467239977457e-22), ([], 3.532614576046019e-23), ([], 4.074318442882035e-21), ([], 1.0914714725389123e-21), ([], 1.1857174976619328e-20), ([], 7.557444726287567e-23), ([], 4.8740166209090194e-21), ([], 0.0), ([], 5.243013800599421e-21), ([], 1.145180971819994e-19), ([], 7.331577811664251e-20), ([], 4.032209311121836e-20), ([], 2.6352979241548293e-21), ([], 2.9830406928773145e-21), ([], 2.3958193747171856e-22), ([], 2.7632029631576694e-20), ([], 7.40236004966809e-21), ([], 8.041536637204408e-20), ([], 5.1254593754351595e-22), ([], 3.3055583058080257e-20), ([], 0.0), ([], 3.5558122107522114e-20), ([], 6.469800558040226e-18), ([], 4.142039326922787e-18), ([], 2.278032092147934e-18), ([], 1.4888347256768038e-19), ([], 1.6852950594142411e-19), ([], 1.3535392142321838e-20), ([], 1.5610958017058253e-18), ([], 4.1820283744362793e-19), ([], 4.5431368057226086e-18), ([], 2.8956733253000023e-20), ([], 1.8675042196660677e-18), ([], 0.0), ([], 2.0088873629160356e-18), ([], 1.2309035700578117e-19), ([], 7.880383559108493e-20), ([], 4.334040608788924e-20), ([], 2.8325633265219836e-21), ([], 3.2063364034549947e-21), ([], 2.575158594249331e-22), ([], 2.970042705773953e-20), ([], 7.95646420627218e-21), ([], 8.643486400018071e-20), ([], 5.5091259797854e-22), ([], 3.5529960938723246e-20), ([], 0.0), ([], 3.8219827716086406e-20), ([], 1.0745377035131845e-20), ([], 6.879311636093305e-21), ([], 3.7834726911078864e-21), ([], 2.472733174210914e-22), ([], 2.799024586058709e-22), ([], 2.248027440457382e-23), ([], 2.592748080378495e-21), ([], 6.945727499913755e-22), ([], 7.545474927972337e-21), ([], 4.809282971212272e-23), ([], 3.1016469170867467e-21), ([], 0.0), ([], 3.3364633023839695e-21), ([], 7.287515220022864e-20), ([], 4.665549481176974e-20), ([], 2.5659513603704162e-20), ([], 1.6770077572151358e-21), ([], 1.8982986083624896e-21), ([], 1.5246123178181436e-22), ([], 1.758401872327741e-20), ([], 4.710592723201897e-21), ([], 5.117341457644314e-20), ([], 3.2616559414823904e-22), ([], 2.1035370877639308e-20), ([], 0.0), ([], 2.2627895715222418e-20), ([], 2.865197328386792e-18), ([], 1.8343316624843646e-18), ([], 1.008842761975145e-18), ([], 6.593410786237313e-20), ([], 7.46344938836849e-20), ([], 5.9942449627219234e-21), ([], 6.9134241160569e-19), ([], 1.8520410974310111e-19), ([], 2.011960542133792e-18), ([], 1.2823695879187382e-20), ([], 8.270375652134609e-19), ([], 0.0), ([], 8.896500987351189e-19), ([], 5.451144264483646e-20), ([], 3.48988407257182e-20), ([], 1.9193607997683636e-20), ([], 1.254420874775091e-21), ([], 1.419948948143673e-21), ([], 1.1404273529338052e-22), ([], 1.3153045985633767e-20), ([], 3.523576929877048e-21), ([], 3.827829609137292e-20), ([], 2.4397557385924688e-22), ([], 1.5734696648849e-20), ([], 0.0), ([], 1.6925923338926733e-20), ([], 4.758666870388731e-21), ([], 3.0465522304825515e-21), ([], 1.6755378700375856e-21), ([], 1.0950675250348963e-22), ([], 1.239568004317838e-22), ([], 9.955549879407335e-24), ([], 1.148216982337813e-21), ([], 3.075964969542084e-22), ([], 3.3415673962575098e-21), ([], 2.1298252700308076e-23), ([], 1.3735864623202536e-21), ([], 0.0), ([], 1.4775765735732104e-21), ([], 3.2273280994789164e-20), ([], 2.066171868669454e-20), ([], 1.1363498637322386e-20), ([], 7.4267484794186745e-22), ([], 8.406750799143806e-22), ([], 6.751854405170955e-23), ([], 7.78720812431024e-21), ([], 2.0861195897087536e-21), ([], 2.2662511682318074e-20), ([], 1.4444476001719353e-22), ([], 9.315664045522614e-21), ([], 0.0), ([], 1.0020925029860421e-20), ([], 2.4492816436796678e-18), ([], 1.5680577476571099e-18), ([], 8.623978648116518e-19), ([], 5.636302898922184e-20), ([], 6.380045592097326e-20), ([], 5.1241127476481276e-21), ([], 5.90986268717636e-19), ([], 1.5831964585253005e-19), ([], 1.719901793441448e-18), ([], 1.0962191891582051e-20), ([], 7.0698374141349885e-19), ([], 0.0), ([], 7.605073600136947e-19), ([], 4.659849236829634e-20), ([], 2.9832880663520875e-20), ([], 1.640743947334978e-20), ([], 1.0723275467261129e-21), ([], 1.2138273546446124e-21), ([], 9.748814693554281e-23), ([], 1.1243733118104576e-20), ([], 3.0120900256807586e-21), ([], 3.2721769994362614e-20), ([], 2.08559769562579e-22), ([], 1.345062809080326e-20), ([], 0.0), ([], 1.4468934800977185e-20), ([], 4.067892741123016e-21), ([], 2.6043108377577457e-21), ([], 1.4323146638852299e-21), ([], 9.361061317085026e-23), ([], 1.0596307378164855e-22), ([], 8.510389609395156e-24), ([], 9.815403462576502e-22), ([], 2.6294539862435826e-22), ([], 2.8565012272226676e-21), ([], 1.82065712767806e-23), ([], 1.174194906171475e-21), ([], 0.0), ([], 1.2630896807451619e-21), ([], 2.7588450519168564e-20), ([], 1.766243734936305e-20), ([], 9.713958736672169e-21), ([], 6.348672233722823e-22), ([], 7.186416171526126e-22), ([], 5.771746640813024e-23), ([], 6.6568070985620585e-21), ([], 1.7832958194439738e-21), ([], 1.9372792691535146e-20), ([], 1.234769751216475e-22), ([], 7.963390416195806e-21), ([], 0.0), ([], 8.566274819942832e-21), ([], 3.188687275435586e-18), ([], 2.0414335770673617e-18), ([], 1.1227443381139323e-18), ([], 7.337827963015764e-20), ([], 8.306096707463975e-20), ([], 6.671014400685969e-21), ([], 7.693971821819381e-19), ([], 2.0611424638899388e-19), ([], 2.2391173256442573e-18), ([], 1.427153217996455e-20), ([], 9.204127528585294e-19), ([], 0.0), ([], 9.90094441775818e-19), ([], 6.066595895686305e-20), ([], 3.8839031520459456e-20), ([], 2.136062776045224e-20), ([], 1.3960490057025941e-21), ([], 1.5802657282467774e-21), ([], 1.2691852504644673e-22), ([], 1.463806696735396e-20), ([], 3.921400040758577e-21), ([], 4.2600038211203863e-20), ([], 2.7152119687340894e-22), ([], 1.7511194251766584e-20), ([], 0.0), ([], 1.883691424709716e-20), ([], 5.2959355878601474e-21), ([], 3.390517726316332e-21), ([], 1.8647114573108516e-21), ([], 1.2187041528436498e-22), ([], 1.3795191986413115e-22), ([], 1.1079563318699622e-23), ([], 1.277854353955117e-21), ([], 3.4232512577368867e-22), ([], 3.7188410483601864e-21), ([], 2.3702893584897228e-23), ([], 1.5286687694132519e-21), ([], 0.0), ([], 1.6443996969965653e-21), ([], 3.591703769407847e-20), ([], 2.2994492844228444e-20), ([], 1.2646473996840178e-20), ([], 8.265252148450272e-22), ([], 9.355899866094321e-22), ([], 7.514160373548942e-23), ([], 8.666408840726303e-21), ([], 2.3216491670004838e-21), ([], 2.522118177162512e-20), ([], 1.60753035648508e-22), ([], 1.036743232652516e-20), ([], 0.0), ([], 1.115231953284031e-20), ([], 4.482647602652211e-18), ([], 2.869841580486965e-18), ([], 1.5783508324598105e-18), ([], 1.0315497910529242e-19), ([], 1.1676687387923487e-19), ([], 9.37809328022246e-21), ([], 1.0816163945472183e-18), ([], 2.897548278144891e-19), ([], 3.147744838190552e-18), ([], 2.0062879795558774e-20), ([], 1.2939136590270358e-18), ([], 0.0), ([], 1.3918719813059653e-18), ([], 8.528403446005254e-20), ([], 5.459980126484441e-20), ([], 3.002871042236571e-20), ([], 1.9625617654032476e-21), ([], 2.221533115790164e-21), ([], 1.784217055132479e-22), ([], 2.057815336867996e-20), ([], 5.512693147165227e-21), ([], 5.988701389171492e-20), ([], 3.817037348284901e-22), ([], 2.4617187623560777e-20), ([], 0.0), ([], 2.6480881064004825e-20), ([], 7.445011352980317e-21), ([], 4.766380282790685e-21), ([], 2.6214061216181038e-21), ([], 1.7132508700906116e-22), ([], 1.9393242091316184e-22), ([], 1.5575618948778132e-23), ([], 1.7964040564351377e-21), ([], 4.812396989188664e-22), ([], 5.2279362854104926e-21), ([], 3.332146113003372e-23), ([], 2.1489982561941713e-21), ([], 0.0), ([], 2.3116924686622752e-21), ([], 5.049207056271653e-20), ([], 3.232559336139461e-20), ([], 1.7778377572694118e-20), ([], 1.1619268221749794e-21), ([], 1.3152497715434575e-21), ([], 1.0563385517268117e-22), ([], 1.2183213171375936e-20), ([], 3.263767868623168e-21), ([], 3.545586639228737e-20), ([], 2.2598616534774904e-22), ([], 1.4574507203064803e-20), ([], 0.0), ([], 1.5677899429968075e-20)]\n"
     ]
    }
   ],
   "source": [
    "print(len(solution))\n",
    "print(solution)"
   ]
  },
  {
   "cell_type": "code",
   "execution_count": null,
   "metadata": {},
   "outputs": [],
   "source": []
  }
 ]
}