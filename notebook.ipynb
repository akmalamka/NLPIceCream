{
 "metadata": {
  "language_info": {
   "codemirror_mode": {
    "name": "ipython",
    "version": 3
   },
   "file_extension": ".py",
   "mimetype": "text/x-python",
   "name": "python",
   "nbconvert_exporter": "python",
   "pygments_lexer": "ipython3",
   "version": "3.8.3-final"
  },
  "orig_nbformat": 2,
  "kernelspec": {
   "name": "python3",
   "display_name": "Python 3"
  }
 },
 "nbformat": 4,
 "nbformat_minor": 2,
 "cells": [
  {
   "source": [
    "# Aspect Based Sentiment Analysis with Ice Cream Database"
   ],
   "cell_type": "markdown",
   "metadata": {}
  },
  {
   "source": [
    "Avisenna Abimanyu (13517010)\n",
    "Muhammad Akmal (13517028)\n",
    "Muhammad Nurdin Husen (13517112)"
   ],
   "cell_type": "markdown",
   "metadata": {}
  },
  {
   "cell_type": "code",
   "execution_count": 25,
   "metadata": {},
   "outputs": [],
   "source": [
    "import pandas as pd\n",
    "import nltk"
   ]
  },
  {
   "cell_type": "code",
   "execution_count": 26,
   "metadata": {},
   "outputs": [],
   "source": [
    "# pd.options.display.max_rows = None\n",
    "df = pd.read_csv('reviews.csv')"
   ]
  },
  {
   "cell_type": "code",
   "execution_count": 27,
   "metadata": {},
   "outputs": [
    {
     "output_type": "execute_result",
     "data": {
      "text/plain": [
       "  brand   key          author        date  stars  \\\n",
       "0    bj  0_bj  Ilovebennjerry  2017-04-15      3   \n",
       "1    bj  0_bj   Sweettooth909  2020-01-05      5   \n",
       "2    bj  0_bj       LaTanga71  2018-04-26      3   \n",
       "3    bj  0_bj      chicago220  2018-01-14      5   \n",
       "4    bj  0_bj        Kassidyk  2020-07-24      1   \n",
       "5    bj  0_bj         Nikiera  2020-07-23      2   \n",
       "6    bj  0_bj         Mmelvin  2017-05-28      3   \n",
       "7    bj  0_bj          Shay10  2017-07-02      3   \n",
       "8    bj  0_bj    caramel4dayz  2017-07-16      2   \n",
       "9    bj  0_bj        RosaT777  2019-02-12      3   \n",
       "\n",
       "                                title  helpful_yes  helpful_no  \\\n",
       "0                Not enough brownies!         10.0         3.0   \n",
       "1        I’m OBSESSED with this pint!          3.0         0.0   \n",
       "2   My favorite...More Caramel Please          5.0         2.0   \n",
       "3                         Obsessed!!!         24.0         1.0   \n",
       "4               Worst Ice Cream Ever!          1.0         5.0   \n",
       "5                       Way Too Salty          3.0         1.0   \n",
       "6            Love this flavor, but...          3.0         3.0   \n",
       "7          Really Wanted To Love This          4.0         1.0   \n",
       "8                    Could be better.          8.0         6.0   \n",
       "9  Salted Caramel core had NO CARAMEL          1.0         1.0   \n",
       "\n",
       "                                                text  taste  ingredients  \\\n",
       "0  Super good, don't get me wrong. But I came for...    NaN          NaN   \n",
       "1  I decided to try it out although I’m not a hug...    NaN          NaN   \n",
       "2  My caramel core begins to disappear about half...    NaN          NaN   \n",
       "3  Why are people complaining about the blonde br...    NaN          NaN   \n",
       "4  This ice cream is worst ice cream I’ve ever ta...    NaN          NaN   \n",
       "5  I bought this last night to go with Louisiana ...    NaN          NaN   \n",
       "6  This is definitely my favorite flavor, but rec...    NaN          NaN   \n",
       "7  I am not a chocolate person at all, and this w...    NaN          NaN   \n",
       "8  I LOVE caramel, so much so that I could eat it...    NaN          NaN   \n",
       "9  I love all the Ben & Jerry’s flavor. But recen...    NaN          NaN   \n",
       "\n",
       "   texture likes  \n",
       "0      NaN   NaN  \n",
       "1      NaN   NaN  \n",
       "2      NaN   NaN  \n",
       "3      NaN   NaN  \n",
       "4      NaN   NaN  \n",
       "5      NaN   NaN  \n",
       "6      NaN   NaN  \n",
       "7      NaN   NaN  \n",
       "8      NaN   NaN  \n",
       "9      NaN   NaN  "
      ],
      "text/html": "<div>\n<style scoped>\n    .dataframe tbody tr th:only-of-type {\n        vertical-align: middle;\n    }\n\n    .dataframe tbody tr th {\n        vertical-align: top;\n    }\n\n    .dataframe thead th {\n        text-align: right;\n    }\n</style>\n<table border=\"1\" class=\"dataframe\">\n  <thead>\n    <tr style=\"text-align: right;\">\n      <th></th>\n      <th>brand</th>\n      <th>key</th>\n      <th>author</th>\n      <th>date</th>\n      <th>stars</th>\n      <th>title</th>\n      <th>helpful_yes</th>\n      <th>helpful_no</th>\n      <th>text</th>\n      <th>taste</th>\n      <th>ingredients</th>\n      <th>texture</th>\n      <th>likes</th>\n    </tr>\n  </thead>\n  <tbody>\n    <tr>\n      <th>0</th>\n      <td>bj</td>\n      <td>0_bj</td>\n      <td>Ilovebennjerry</td>\n      <td>2017-04-15</td>\n      <td>3</td>\n      <td>Not enough brownies!</td>\n      <td>10.0</td>\n      <td>3.0</td>\n      <td>Super good, don't get me wrong. But I came for...</td>\n      <td>NaN</td>\n      <td>NaN</td>\n      <td>NaN</td>\n      <td>NaN</td>\n    </tr>\n    <tr>\n      <th>1</th>\n      <td>bj</td>\n      <td>0_bj</td>\n      <td>Sweettooth909</td>\n      <td>2020-01-05</td>\n      <td>5</td>\n      <td>I’m OBSESSED with this pint!</td>\n      <td>3.0</td>\n      <td>0.0</td>\n      <td>I decided to try it out although I’m not a hug...</td>\n      <td>NaN</td>\n      <td>NaN</td>\n      <td>NaN</td>\n      <td>NaN</td>\n    </tr>\n    <tr>\n      <th>2</th>\n      <td>bj</td>\n      <td>0_bj</td>\n      <td>LaTanga71</td>\n      <td>2018-04-26</td>\n      <td>3</td>\n      <td>My favorite...More Caramel Please</td>\n      <td>5.0</td>\n      <td>2.0</td>\n      <td>My caramel core begins to disappear about half...</td>\n      <td>NaN</td>\n      <td>NaN</td>\n      <td>NaN</td>\n      <td>NaN</td>\n    </tr>\n    <tr>\n      <th>3</th>\n      <td>bj</td>\n      <td>0_bj</td>\n      <td>chicago220</td>\n      <td>2018-01-14</td>\n      <td>5</td>\n      <td>Obsessed!!!</td>\n      <td>24.0</td>\n      <td>1.0</td>\n      <td>Why are people complaining about the blonde br...</td>\n      <td>NaN</td>\n      <td>NaN</td>\n      <td>NaN</td>\n      <td>NaN</td>\n    </tr>\n    <tr>\n      <th>4</th>\n      <td>bj</td>\n      <td>0_bj</td>\n      <td>Kassidyk</td>\n      <td>2020-07-24</td>\n      <td>1</td>\n      <td>Worst Ice Cream Ever!</td>\n      <td>1.0</td>\n      <td>5.0</td>\n      <td>This ice cream is worst ice cream I’ve ever ta...</td>\n      <td>NaN</td>\n      <td>NaN</td>\n      <td>NaN</td>\n      <td>NaN</td>\n    </tr>\n    <tr>\n      <th>5</th>\n      <td>bj</td>\n      <td>0_bj</td>\n      <td>Nikiera</td>\n      <td>2020-07-23</td>\n      <td>2</td>\n      <td>Way Too Salty</td>\n      <td>3.0</td>\n      <td>1.0</td>\n      <td>I bought this last night to go with Louisiana ...</td>\n      <td>NaN</td>\n      <td>NaN</td>\n      <td>NaN</td>\n      <td>NaN</td>\n    </tr>\n    <tr>\n      <th>6</th>\n      <td>bj</td>\n      <td>0_bj</td>\n      <td>Mmelvin</td>\n      <td>2017-05-28</td>\n      <td>3</td>\n      <td>Love this flavor, but...</td>\n      <td>3.0</td>\n      <td>3.0</td>\n      <td>This is definitely my favorite flavor, but rec...</td>\n      <td>NaN</td>\n      <td>NaN</td>\n      <td>NaN</td>\n      <td>NaN</td>\n    </tr>\n    <tr>\n      <th>7</th>\n      <td>bj</td>\n      <td>0_bj</td>\n      <td>Shay10</td>\n      <td>2017-07-02</td>\n      <td>3</td>\n      <td>Really Wanted To Love This</td>\n      <td>4.0</td>\n      <td>1.0</td>\n      <td>I am not a chocolate person at all, and this w...</td>\n      <td>NaN</td>\n      <td>NaN</td>\n      <td>NaN</td>\n      <td>NaN</td>\n    </tr>\n    <tr>\n      <th>8</th>\n      <td>bj</td>\n      <td>0_bj</td>\n      <td>caramel4dayz</td>\n      <td>2017-07-16</td>\n      <td>2</td>\n      <td>Could be better.</td>\n      <td>8.0</td>\n      <td>6.0</td>\n      <td>I LOVE caramel, so much so that I could eat it...</td>\n      <td>NaN</td>\n      <td>NaN</td>\n      <td>NaN</td>\n      <td>NaN</td>\n    </tr>\n    <tr>\n      <th>9</th>\n      <td>bj</td>\n      <td>0_bj</td>\n      <td>RosaT777</td>\n      <td>2019-02-12</td>\n      <td>3</td>\n      <td>Salted Caramel core had NO CARAMEL</td>\n      <td>1.0</td>\n      <td>1.0</td>\n      <td>I love all the Ben &amp; Jerry’s flavor. But recen...</td>\n      <td>NaN</td>\n      <td>NaN</td>\n      <td>NaN</td>\n      <td>NaN</td>\n    </tr>\n  </tbody>\n</table>\n</div>"
     },
     "metadata": {},
     "execution_count": 27
    }
   ],
   "source": [
    "df.head(10)"
   ]
  },
  {
   "source": [
    "ngambil kolom yang dibutuhin"
   ],
   "cell_type": "markdown",
   "metadata": {}
  },
  {
   "cell_type": "code",
   "execution_count": 31,
   "metadata": {},
   "outputs": [],
   "source": [
    "df_training = df.drop(columns=['brand', 'key', 'author', 'date', 'helpful_yes', 'helpful_no', 'taste', 'ingredients', 'texture', 'likes'])"
   ]
  },
  {
   "cell_type": "code",
   "execution_count": 32,
   "metadata": {},
   "outputs": [
    {
     "output_type": "execute_result",
     "data": {
      "text/plain": [
       "   stars                              title  \\\n",
       "0      1               Not enough brownies!   \n",
       "1      1       I’m OBSESSED with this pint!   \n",
       "2      1  My favorite...More Caramel Please   \n",
       "3      1                        Obsessed!!!   \n",
       "4      0              Worst Ice Cream Ever!   \n",
       "\n",
       "                                                text  \n",
       "0  Super good, don't get me wrong. But I came for...  \n",
       "1  I decided to try it out although I’m not a hug...  \n",
       "2  My caramel core begins to disappear about half...  \n",
       "3  Why are people complaining about the blonde br...  \n",
       "4  This ice cream is worst ice cream I’ve ever ta...  "
      ],
      "text/html": "<div>\n<style scoped>\n    .dataframe tbody tr th:only-of-type {\n        vertical-align: middle;\n    }\n\n    .dataframe tbody tr th {\n        vertical-align: top;\n    }\n\n    .dataframe thead th {\n        text-align: right;\n    }\n</style>\n<table border=\"1\" class=\"dataframe\">\n  <thead>\n    <tr style=\"text-align: right;\">\n      <th></th>\n      <th>stars</th>\n      <th>title</th>\n      <th>text</th>\n    </tr>\n  </thead>\n  <tbody>\n    <tr>\n      <th>0</th>\n      <td>1</td>\n      <td>Not enough brownies!</td>\n      <td>Super good, don't get me wrong. But I came for...</td>\n    </tr>\n    <tr>\n      <th>1</th>\n      <td>1</td>\n      <td>I’m OBSESSED with this pint!</td>\n      <td>I decided to try it out although I’m not a hug...</td>\n    </tr>\n    <tr>\n      <th>2</th>\n      <td>1</td>\n      <td>My favorite...More Caramel Please</td>\n      <td>My caramel core begins to disappear about half...</td>\n    </tr>\n    <tr>\n      <th>3</th>\n      <td>1</td>\n      <td>Obsessed!!!</td>\n      <td>Why are people complaining about the blonde br...</td>\n    </tr>\n    <tr>\n      <th>4</th>\n      <td>0</td>\n      <td>Worst Ice Cream Ever!</td>\n      <td>This ice cream is worst ice cream I’ve ever ta...</td>\n    </tr>\n  </tbody>\n</table>\n</div>"
     },
     "metadata": {},
     "execution_count": 32
    }
   ],
   "source": [
    "df_training.head()"
   ]
  },
  {
   "cell_type": "code",
   "execution_count": 33,
   "metadata": {},
   "outputs": [
    {
     "output_type": "execute_result",
     "data": {
      "text/plain": [
       "   stars                              title  \\\n",
       "0      0               Not enough brownies!   \n",
       "1      0       I’m OBSESSED with this pint!   \n",
       "2      0  My favorite...More Caramel Please   \n",
       "3      0                        Obsessed!!!   \n",
       "4      0              Worst Ice Cream Ever!   \n",
       "\n",
       "                                                text  \n",
       "0  Super good, don't get me wrong. But I came for...  \n",
       "1  I decided to try it out although I’m not a hug...  \n",
       "2  My caramel core begins to disappear about half...  \n",
       "3  Why are people complaining about the blonde br...  \n",
       "4  This ice cream is worst ice cream I’ve ever ta...  "
      ],
      "text/html": "<div>\n<style scoped>\n    .dataframe tbody tr th:only-of-type {\n        vertical-align: middle;\n    }\n\n    .dataframe tbody tr th {\n        vertical-align: top;\n    }\n\n    .dataframe thead th {\n        text-align: right;\n    }\n</style>\n<table border=\"1\" class=\"dataframe\">\n  <thead>\n    <tr style=\"text-align: right;\">\n      <th></th>\n      <th>stars</th>\n      <th>title</th>\n      <th>text</th>\n    </tr>\n  </thead>\n  <tbody>\n    <tr>\n      <th>0</th>\n      <td>0</td>\n      <td>Not enough brownies!</td>\n      <td>Super good, don't get me wrong. But I came for...</td>\n    </tr>\n    <tr>\n      <th>1</th>\n      <td>0</td>\n      <td>I’m OBSESSED with this pint!</td>\n      <td>I decided to try it out although I’m not a hug...</td>\n    </tr>\n    <tr>\n      <th>2</th>\n      <td>0</td>\n      <td>My favorite...More Caramel Please</td>\n      <td>My caramel core begins to disappear about half...</td>\n    </tr>\n    <tr>\n      <th>3</th>\n      <td>0</td>\n      <td>Obsessed!!!</td>\n      <td>Why are people complaining about the blonde br...</td>\n    </tr>\n    <tr>\n      <th>4</th>\n      <td>0</td>\n      <td>Worst Ice Cream Ever!</td>\n      <td>This ice cream is worst ice cream I’ve ever ta...</td>\n    </tr>\n  </tbody>\n</table>\n</div>"
     },
     "metadata": {},
     "execution_count": 33
    }
   ],
   "source": [
    "df_training['stars'] = (df['stars'] >= 3).astype(int)\n",
    "df_training.head()"
   ]
  },
  {
   "cell_type": "code",
   "execution_count": null,
   "metadata": {},
   "outputs": [],
   "source": []
  },
  {
   "cell_type": "code",
   "execution_count": null,
   "metadata": {},
   "outputs": [],
   "source": []
  }
 ]
}