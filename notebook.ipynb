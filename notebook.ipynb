{
 "metadata": {
  "language_info": {
   "codemirror_mode": {
    "name": "ipython",
    "version": 3
   },
   "file_extension": ".py",
   "mimetype": "text/x-python",
   "name": "python",
   "nbconvert_exporter": "python",
   "pygments_lexer": "ipython3",
   "version": "3.8.3-final"
  },
  "orig_nbformat": 2,
  "kernelspec": {
   "name": "python3",
   "display_name": "Python 3"
  }
 },
 "nbformat": 4,
 "nbformat_minor": 2,
 "cells": [
  {
   "source": [
    "# Aspect Based Sentiment Analysis with Ice Cream Database"
   ],
   "cell_type": "markdown",
   "metadata": {}
  },
  {
   "source": [
    "Avisenna Abimanyu (13517010)\n",
    "Muhammad Akmal (13517028)\n",
    "Muhammad Nurdin Husen (13517112)"
   ],
   "cell_type": "markdown",
   "metadata": {}
  },
  {
   "cell_type": "code",
   "execution_count": 78,
   "metadata": {},
   "outputs": [],
   "source": [
    "import pandas as pd\n",
    "import nltk\n",
    "import seaborn as sns\n",
    "from collections import Counter\n",
    "import matplotlib.dates as mdates\n",
    "import matplotlib.pyplot as plt"
   ]
  },
  {
   "cell_type": "code",
   "execution_count": 79,
   "metadata": {},
   "outputs": [],
   "source": [
    "# pd.options.display.max_rows = None\n",
    "df = pd.read_csv('reviews.csv')"
   ]
  },
  {
   "cell_type": "code",
   "execution_count": 80,
   "metadata": {},
   "outputs": [
    {
     "output_type": "execute_result",
     "data": {
      "text/plain": [
       "  brand   key          author        date  stars  \\\n",
       "0    bj  0_bj  Ilovebennjerry  2017-04-15      3   \n",
       "1    bj  0_bj   Sweettooth909  2020-01-05      5   \n",
       "2    bj  0_bj       LaTanga71  2018-04-26      3   \n",
       "3    bj  0_bj      chicago220  2018-01-14      5   \n",
       "4    bj  0_bj        Kassidyk  2020-07-24      1   \n",
       "5    bj  0_bj         Nikiera  2020-07-23      2   \n",
       "6    bj  0_bj         Mmelvin  2017-05-28      3   \n",
       "7    bj  0_bj          Shay10  2017-07-02      3   \n",
       "8    bj  0_bj    caramel4dayz  2017-07-16      2   \n",
       "9    bj  0_bj        RosaT777  2019-02-12      3   \n",
       "\n",
       "                                title  helpful_yes  helpful_no  \\\n",
       "0                Not enough brownies!         10.0         3.0   \n",
       "1        I’m OBSESSED with this pint!          3.0         0.0   \n",
       "2   My favorite...More Caramel Please          5.0         2.0   \n",
       "3                         Obsessed!!!         24.0         1.0   \n",
       "4               Worst Ice Cream Ever!          1.0         5.0   \n",
       "5                       Way Too Salty          3.0         1.0   \n",
       "6            Love this flavor, but...          3.0         3.0   \n",
       "7          Really Wanted To Love This          4.0         1.0   \n",
       "8                    Could be better.          8.0         6.0   \n",
       "9  Salted Caramel core had NO CARAMEL          1.0         1.0   \n",
       "\n",
       "                                                text  taste  ingredients  \\\n",
       "0  Super good, don't get me wrong. But I came for...    NaN          NaN   \n",
       "1  I decided to try it out although I’m not a hug...    NaN          NaN   \n",
       "2  My caramel core begins to disappear about half...    NaN          NaN   \n",
       "3  Why are people complaining about the blonde br...    NaN          NaN   \n",
       "4  This ice cream is worst ice cream I’ve ever ta...    NaN          NaN   \n",
       "5  I bought this last night to go with Louisiana ...    NaN          NaN   \n",
       "6  This is definitely my favorite flavor, but rec...    NaN          NaN   \n",
       "7  I am not a chocolate person at all, and this w...    NaN          NaN   \n",
       "8  I LOVE caramel, so much so that I could eat it...    NaN          NaN   \n",
       "9  I love all the Ben & Jerry’s flavor. But recen...    NaN          NaN   \n",
       "\n",
       "   texture likes  \n",
       "0      NaN   NaN  \n",
       "1      NaN   NaN  \n",
       "2      NaN   NaN  \n",
       "3      NaN   NaN  \n",
       "4      NaN   NaN  \n",
       "5      NaN   NaN  \n",
       "6      NaN   NaN  \n",
       "7      NaN   NaN  \n",
       "8      NaN   NaN  \n",
       "9      NaN   NaN  "
      ],
      "text/html": "<div>\n<style scoped>\n    .dataframe tbody tr th:only-of-type {\n        vertical-align: middle;\n    }\n\n    .dataframe tbody tr th {\n        vertical-align: top;\n    }\n\n    .dataframe thead th {\n        text-align: right;\n    }\n</style>\n<table border=\"1\" class=\"dataframe\">\n  <thead>\n    <tr style=\"text-align: right;\">\n      <th></th>\n      <th>brand</th>\n      <th>key</th>\n      <th>author</th>\n      <th>date</th>\n      <th>stars</th>\n      <th>title</th>\n      <th>helpful_yes</th>\n      <th>helpful_no</th>\n      <th>text</th>\n      <th>taste</th>\n      <th>ingredients</th>\n      <th>texture</th>\n      <th>likes</th>\n    </tr>\n  </thead>\n  <tbody>\n    <tr>\n      <th>0</th>\n      <td>bj</td>\n      <td>0_bj</td>\n      <td>Ilovebennjerry</td>\n      <td>2017-04-15</td>\n      <td>3</td>\n      <td>Not enough brownies!</td>\n      <td>10.0</td>\n      <td>3.0</td>\n      <td>Super good, don't get me wrong. But I came for...</td>\n      <td>NaN</td>\n      <td>NaN</td>\n      <td>NaN</td>\n      <td>NaN</td>\n    </tr>\n    <tr>\n      <th>1</th>\n      <td>bj</td>\n      <td>0_bj</td>\n      <td>Sweettooth909</td>\n      <td>2020-01-05</td>\n      <td>5</td>\n      <td>I’m OBSESSED with this pint!</td>\n      <td>3.0</td>\n      <td>0.0</td>\n      <td>I decided to try it out although I’m not a hug...</td>\n      <td>NaN</td>\n      <td>NaN</td>\n      <td>NaN</td>\n      <td>NaN</td>\n    </tr>\n    <tr>\n      <th>2</th>\n      <td>bj</td>\n      <td>0_bj</td>\n      <td>LaTanga71</td>\n      <td>2018-04-26</td>\n      <td>3</td>\n      <td>My favorite...More Caramel Please</td>\n      <td>5.0</td>\n      <td>2.0</td>\n      <td>My caramel core begins to disappear about half...</td>\n      <td>NaN</td>\n      <td>NaN</td>\n      <td>NaN</td>\n      <td>NaN</td>\n    </tr>\n    <tr>\n      <th>3</th>\n      <td>bj</td>\n      <td>0_bj</td>\n      <td>chicago220</td>\n      <td>2018-01-14</td>\n      <td>5</td>\n      <td>Obsessed!!!</td>\n      <td>24.0</td>\n      <td>1.0</td>\n      <td>Why are people complaining about the blonde br...</td>\n      <td>NaN</td>\n      <td>NaN</td>\n      <td>NaN</td>\n      <td>NaN</td>\n    </tr>\n    <tr>\n      <th>4</th>\n      <td>bj</td>\n      <td>0_bj</td>\n      <td>Kassidyk</td>\n      <td>2020-07-24</td>\n      <td>1</td>\n      <td>Worst Ice Cream Ever!</td>\n      <td>1.0</td>\n      <td>5.0</td>\n      <td>This ice cream is worst ice cream I’ve ever ta...</td>\n      <td>NaN</td>\n      <td>NaN</td>\n      <td>NaN</td>\n      <td>NaN</td>\n    </tr>\n    <tr>\n      <th>5</th>\n      <td>bj</td>\n      <td>0_bj</td>\n      <td>Nikiera</td>\n      <td>2020-07-23</td>\n      <td>2</td>\n      <td>Way Too Salty</td>\n      <td>3.0</td>\n      <td>1.0</td>\n      <td>I bought this last night to go with Louisiana ...</td>\n      <td>NaN</td>\n      <td>NaN</td>\n      <td>NaN</td>\n      <td>NaN</td>\n    </tr>\n    <tr>\n      <th>6</th>\n      <td>bj</td>\n      <td>0_bj</td>\n      <td>Mmelvin</td>\n      <td>2017-05-28</td>\n      <td>3</td>\n      <td>Love this flavor, but...</td>\n      <td>3.0</td>\n      <td>3.0</td>\n      <td>This is definitely my favorite flavor, but rec...</td>\n      <td>NaN</td>\n      <td>NaN</td>\n      <td>NaN</td>\n      <td>NaN</td>\n    </tr>\n    <tr>\n      <th>7</th>\n      <td>bj</td>\n      <td>0_bj</td>\n      <td>Shay10</td>\n      <td>2017-07-02</td>\n      <td>3</td>\n      <td>Really Wanted To Love This</td>\n      <td>4.0</td>\n      <td>1.0</td>\n      <td>I am not a chocolate person at all, and this w...</td>\n      <td>NaN</td>\n      <td>NaN</td>\n      <td>NaN</td>\n      <td>NaN</td>\n    </tr>\n    <tr>\n      <th>8</th>\n      <td>bj</td>\n      <td>0_bj</td>\n      <td>caramel4dayz</td>\n      <td>2017-07-16</td>\n      <td>2</td>\n      <td>Could be better.</td>\n      <td>8.0</td>\n      <td>6.0</td>\n      <td>I LOVE caramel, so much so that I could eat it...</td>\n      <td>NaN</td>\n      <td>NaN</td>\n      <td>NaN</td>\n      <td>NaN</td>\n    </tr>\n    <tr>\n      <th>9</th>\n      <td>bj</td>\n      <td>0_bj</td>\n      <td>RosaT777</td>\n      <td>2019-02-12</td>\n      <td>3</td>\n      <td>Salted Caramel core had NO CARAMEL</td>\n      <td>1.0</td>\n      <td>1.0</td>\n      <td>I love all the Ben &amp; Jerry’s flavor. But recen...</td>\n      <td>NaN</td>\n      <td>NaN</td>\n      <td>NaN</td>\n      <td>NaN</td>\n    </tr>\n  </tbody>\n</table>\n</div>"
     },
     "metadata": {},
     "execution_count": 80
    }
   ],
   "source": [
    "df.head(10)"
   ]
  },
  {
   "cell_type": "code",
   "execution_count": 81,
   "metadata": {},
   "outputs": [
    {
     "output_type": "execute_result",
     "data": {
      "text/plain": [
       "              stars   helpful_yes    helpful_no        taste  ingredients  \\\n",
       "count  21674.000000  21674.000000  21674.000000  4265.000000  4265.000000   \n",
       "mean       4.223955      1.364815      0.443019     4.234701     4.323798   \n",
       "std        1.384121      8.234123      2.568762     1.401392     1.298888   \n",
       "min        1.000000      0.000000      0.000000     1.000000     1.000000   \n",
       "25%        4.000000      0.000000      0.000000     4.000000     4.000000   \n",
       "50%        5.000000      0.000000      0.000000     5.000000     5.000000   \n",
       "75%        5.000000      1.000000      0.000000     5.000000     5.000000   \n",
       "max        5.000000    421.000000    121.000000     5.000000     5.000000   \n",
       "\n",
       "           texture  \n",
       "count  4265.000000  \n",
       "mean      4.284642  \n",
       "std       1.363423  \n",
       "min       1.000000  \n",
       "25%       4.000000  \n",
       "50%       5.000000  \n",
       "75%       5.000000  \n",
       "max       5.000000  "
      ],
      "text/html": "<div>\n<style scoped>\n    .dataframe tbody tr th:only-of-type {\n        vertical-align: middle;\n    }\n\n    .dataframe tbody tr th {\n        vertical-align: top;\n    }\n\n    .dataframe thead th {\n        text-align: right;\n    }\n</style>\n<table border=\"1\" class=\"dataframe\">\n  <thead>\n    <tr style=\"text-align: right;\">\n      <th></th>\n      <th>stars</th>\n      <th>helpful_yes</th>\n      <th>helpful_no</th>\n      <th>taste</th>\n      <th>ingredients</th>\n      <th>texture</th>\n    </tr>\n  </thead>\n  <tbody>\n    <tr>\n      <th>count</th>\n      <td>21674.000000</td>\n      <td>21674.000000</td>\n      <td>21674.000000</td>\n      <td>4265.000000</td>\n      <td>4265.000000</td>\n      <td>4265.000000</td>\n    </tr>\n    <tr>\n      <th>mean</th>\n      <td>4.223955</td>\n      <td>1.364815</td>\n      <td>0.443019</td>\n      <td>4.234701</td>\n      <td>4.323798</td>\n      <td>4.284642</td>\n    </tr>\n    <tr>\n      <th>std</th>\n      <td>1.384121</td>\n      <td>8.234123</td>\n      <td>2.568762</td>\n      <td>1.401392</td>\n      <td>1.298888</td>\n      <td>1.363423</td>\n    </tr>\n    <tr>\n      <th>min</th>\n      <td>1.000000</td>\n      <td>0.000000</td>\n      <td>0.000000</td>\n      <td>1.000000</td>\n      <td>1.000000</td>\n      <td>1.000000</td>\n    </tr>\n    <tr>\n      <th>25%</th>\n      <td>4.000000</td>\n      <td>0.000000</td>\n      <td>0.000000</td>\n      <td>4.000000</td>\n      <td>4.000000</td>\n      <td>4.000000</td>\n    </tr>\n    <tr>\n      <th>50%</th>\n      <td>5.000000</td>\n      <td>0.000000</td>\n      <td>0.000000</td>\n      <td>5.000000</td>\n      <td>5.000000</td>\n      <td>5.000000</td>\n    </tr>\n    <tr>\n      <th>75%</th>\n      <td>5.000000</td>\n      <td>1.000000</td>\n      <td>0.000000</td>\n      <td>5.000000</td>\n      <td>5.000000</td>\n      <td>5.000000</td>\n    </tr>\n    <tr>\n      <th>max</th>\n      <td>5.000000</td>\n      <td>421.000000</td>\n      <td>121.000000</td>\n      <td>5.000000</td>\n      <td>5.000000</td>\n      <td>5.000000</td>\n    </tr>\n  </tbody>\n</table>\n</div>"
     },
     "metadata": {},
     "execution_count": 81
    }
   ],
   "source": [
    "df.describe()"
   ]
  },
  {
   "source": [
    "ngambil kolom yang dibutuhin"
   ],
   "cell_type": "markdown",
   "metadata": {}
  },
  {
   "cell_type": "code",
   "execution_count": 82,
   "metadata": {},
   "outputs": [],
   "source": [
    "df_training = df.drop(columns=['brand', 'key', 'author', 'date', 'helpful_yes', 'helpful_no', 'taste', 'ingredients', 'texture', 'likes'])"
   ]
  },
  {
   "source": [
    "0. Exploratory Data Analysis"
   ],
   "cell_type": "markdown",
   "metadata": {}
  },
  {
   "cell_type": "code",
   "execution_count": 83,
   "metadata": {},
   "outputs": [
    {
     "output_type": "execute_result",
     "data": {
      "text/plain": [
       "              stars\n",
       "count  21674.000000\n",
       "mean       4.223955\n",
       "std        1.384121\n",
       "min        1.000000\n",
       "25%        4.000000\n",
       "50%        5.000000\n",
       "75%        5.000000\n",
       "max        5.000000"
      ],
      "text/html": "<div>\n<style scoped>\n    .dataframe tbody tr th:only-of-type {\n        vertical-align: middle;\n    }\n\n    .dataframe tbody tr th {\n        vertical-align: top;\n    }\n\n    .dataframe thead th {\n        text-align: right;\n    }\n</style>\n<table border=\"1\" class=\"dataframe\">\n  <thead>\n    <tr style=\"text-align: right;\">\n      <th></th>\n      <th>stars</th>\n    </tr>\n  </thead>\n  <tbody>\n    <tr>\n      <th>count</th>\n      <td>21674.000000</td>\n    </tr>\n    <tr>\n      <th>mean</th>\n      <td>4.223955</td>\n    </tr>\n    <tr>\n      <th>std</th>\n      <td>1.384121</td>\n    </tr>\n    <tr>\n      <th>min</th>\n      <td>1.000000</td>\n    </tr>\n    <tr>\n      <th>25%</th>\n      <td>4.000000</td>\n    </tr>\n    <tr>\n      <th>50%</th>\n      <td>5.000000</td>\n    </tr>\n    <tr>\n      <th>75%</th>\n      <td>5.000000</td>\n    </tr>\n    <tr>\n      <th>max</th>\n      <td>5.000000</td>\n    </tr>\n  </tbody>\n</table>\n</div>"
     },
     "metadata": {},
     "execution_count": 83
    }
   ],
   "source": [
    "df_training.head()\n",
    "df_training.describe()"
   ]
  },
  {
   "cell_type": "code",
   "execution_count": 84,
   "metadata": {},
   "outputs": [
    {
     "output_type": "execute_result",
     "data": {
      "text/plain": [
       "(21674, 3)"
      ]
     },
     "metadata": {},
     "execution_count": 84
    }
   ],
   "source": [
    "df_training.shape"
   ]
  },
  {
   "cell_type": "code",
   "execution_count": 85,
   "metadata": {},
   "outputs": [
    {
     "output_type": "execute_result",
     "data": {
      "text/plain": [
       "(21616, 3)"
      ]
     },
     "metadata": {},
     "execution_count": 85
    }
   ],
   "source": [
    "df_training.drop_duplicates(inplace=True)\n",
    "df_training.shape"
   ]
  },
  {
   "cell_type": "code",
   "execution_count": 86,
   "metadata": {},
   "outputs": [
    {
     "output_type": "display_data",
     "data": {
      "text/plain": "<Figure size 432x288 with 1 Axes>",
      "image/svg+xml": "<?xml version=\"1.0\" encoding=\"utf-8\" standalone=\"no\"?>\n<!DOCTYPE svg PUBLIC \"-//W3C//DTD SVG 1.1//EN\"\n  \"http://www.w3.org/Graphics/SVG/1.1/DTD/svg11.dtd\">\n<!-- Created with matplotlib (https://matplotlib.org/) -->\n<svg height=\"262.19625pt\" version=\"1.1\" viewBox=\"0 0 370.514062 262.19625\" width=\"370.514062pt\" xmlns=\"http://www.w3.org/2000/svg\" xmlns:xlink=\"http://www.w3.org/1999/xlink\">\n <defs>\n  <style type=\"text/css\">\n*{stroke-linecap:butt;stroke-linejoin:round;}\n  </style>\n </defs>\n <g id=\"figure_1\">\n  <g id=\"patch_1\">\n   <path d=\"M 0 262.19625 \nL 370.514062 262.19625 \nL 370.514062 0 \nL 0 0 \nz\n\" style=\"fill:none;\"/>\n  </g>\n  <g id=\"axes_1\">\n   <g id=\"patch_2\">\n    <path d=\"M 20.5625 224.64 \nL 355.3625 224.64 \nL 355.3625 7.2 \nL 20.5625 7.2 \nz\n\" style=\"fill:#ffffff;\"/>\n   </g>\n   <g id=\"patch_3\">\n    <path clip-path=\"url(#p0e166cf109)\" d=\"M 20.5625 224.64 \nL 33.9545 224.64 \nL 33.9545 192.222944 \nL 20.5625 192.222944 \nz\n\" style=\"fill:#1f77b4;opacity:0.4;\"/>\n   </g>\n   <g id=\"patch_4\">\n    <path clip-path=\"url(#p0e166cf109)\" d=\"M 33.9545 224.64 \nL 47.3465 224.64 \nL 47.3465 224.64 \nL 33.9545 224.64 \nz\n\" style=\"fill:#1f77b4;opacity:0.4;\"/>\n   </g>\n   <g id=\"patch_5\">\n    <path clip-path=\"url(#p0e166cf109)\" d=\"M 47.3465 224.64 \nL 60.7385 224.64 \nL 60.7385 224.64 \nL 47.3465 224.64 \nz\n\" style=\"fill:#1f77b4;opacity:0.4;\"/>\n   </g>\n   <g id=\"patch_6\">\n    <path clip-path=\"url(#p0e166cf109)\" d=\"M 60.7385 224.64 \nL 74.1305 224.64 \nL 74.1305 224.64 \nL 60.7385 224.64 \nz\n\" style=\"fill:#1f77b4;opacity:0.4;\"/>\n   </g>\n   <g id=\"patch_7\">\n    <path clip-path=\"url(#p0e166cf109)\" d=\"M 74.1305 224.64 \nL 87.5225 224.64 \nL 87.5225 224.64 \nL 74.1305 224.64 \nz\n\" style=\"fill:#1f77b4;opacity:0.4;\"/>\n   </g>\n   <g id=\"patch_8\">\n    <path clip-path=\"url(#p0e166cf109)\" d=\"M 87.5225 224.64 \nL 100.9145 224.64 \nL 100.9145 224.64 \nL 87.5225 224.64 \nz\n\" style=\"fill:#1f77b4;opacity:0.4;\"/>\n   </g>\n   <g id=\"patch_9\">\n    <path clip-path=\"url(#p0e166cf109)\" d=\"M 100.9145 224.64 \nL 114.3065 224.64 \nL 114.3065 209.383327 \nL 100.9145 209.383327 \nz\n\" style=\"fill:#1f77b4;opacity:0.4;\"/>\n   </g>\n   <g id=\"patch_10\">\n    <path clip-path=\"url(#p0e166cf109)\" d=\"M 114.3065 224.64 \nL 127.6985 224.64 \nL 127.6985 224.64 \nL 114.3065 224.64 \nz\n\" style=\"fill:#1f77b4;opacity:0.4;\"/>\n   </g>\n   <g id=\"patch_11\">\n    <path clip-path=\"url(#p0e166cf109)\" d=\"M 127.6985 224.64 \nL 141.0905 224.64 \nL 141.0905 224.64 \nL 127.6985 224.64 \nz\n\" style=\"fill:#1f77b4;opacity:0.4;\"/>\n   </g>\n   <g id=\"patch_12\">\n    <path clip-path=\"url(#p0e166cf109)\" d=\"M 141.0905 224.64 \nL 154.4825 224.64 \nL 154.4825 224.64 \nL 141.0905 224.64 \nz\n\" style=\"fill:#1f77b4;opacity:0.4;\"/>\n   </g>\n   <g id=\"patch_13\">\n    <path clip-path=\"url(#p0e166cf109)\" d=\"M 154.4825 224.64 \nL 167.8745 224.64 \nL 167.8745 224.64 \nL 154.4825 224.64 \nz\n\" style=\"fill:#1f77b4;opacity:0.4;\"/>\n   </g>\n   <g id=\"patch_14\">\n    <path clip-path=\"url(#p0e166cf109)\" d=\"M 167.8745 224.64 \nL 181.2665 224.64 \nL 181.2665 224.64 \nL 167.8745 224.64 \nz\n\" style=\"fill:#1f77b4;opacity:0.4;\"/>\n   </g>\n   <g id=\"patch_15\">\n    <path clip-path=\"url(#p0e166cf109)\" d=\"M 181.2665 224.64 \nL 194.6585 224.64 \nL 194.6585 210.32843 \nL 181.2665 210.32843 \nz\n\" style=\"fill:#1f77b4;opacity:0.4;\"/>\n   </g>\n   <g id=\"patch_16\">\n    <path clip-path=\"url(#p0e166cf109)\" d=\"M 194.6585 224.64 \nL 208.0505 224.64 \nL 208.0505 224.64 \nL 194.6585 224.64 \nz\n\" style=\"fill:#1f77b4;opacity:0.4;\"/>\n   </g>\n   <g id=\"patch_17\">\n    <path clip-path=\"url(#p0e166cf109)\" d=\"M 208.0505 224.64 \nL 221.4425 224.64 \nL 221.4425 224.64 \nL 208.0505 224.64 \nz\n\" style=\"fill:#1f77b4;opacity:0.4;\"/>\n   </g>\n   <g id=\"patch_18\">\n    <path clip-path=\"url(#p0e166cf109)\" d=\"M 221.4425 224.64 \nL 234.8345 224.64 \nL 234.8345 224.64 \nL 221.4425 224.64 \nz\n\" style=\"fill:#1f77b4;opacity:0.4;\"/>\n   </g>\n   <g id=\"patch_19\">\n    <path clip-path=\"url(#p0e166cf109)\" d=\"M 234.8345 224.64 \nL 248.2265 224.64 \nL 248.2265 224.64 \nL 234.8345 224.64 \nz\n\" style=\"fill:#1f77b4;opacity:0.4;\"/>\n   </g>\n   <g id=\"patch_20\">\n    <path clip-path=\"url(#p0e166cf109)\" d=\"M 248.2265 224.64 \nL 261.6185 224.64 \nL 261.6185 224.64 \nL 248.2265 224.64 \nz\n\" style=\"fill:#1f77b4;opacity:0.4;\"/>\n   </g>\n   <g id=\"patch_21\">\n    <path clip-path=\"url(#p0e166cf109)\" d=\"M 261.6185 224.64 \nL 275.0105 224.64 \nL 275.0105 201.863002 \nL 261.6185 201.863002 \nz\n\" style=\"fill:#1f77b4;opacity:0.4;\"/>\n   </g>\n   <g id=\"patch_22\">\n    <path clip-path=\"url(#p0e166cf109)\" d=\"M 275.0105 224.64 \nL 288.4025 224.64 \nL 288.4025 224.64 \nL 275.0105 224.64 \nz\n\" style=\"fill:#1f77b4;opacity:0.4;\"/>\n   </g>\n   <g id=\"patch_23\">\n    <path clip-path=\"url(#p0e166cf109)\" d=\"M 288.4025 224.64 \nL 301.7945 224.64 \nL 301.7945 224.64 \nL 288.4025 224.64 \nz\n\" style=\"fill:#1f77b4;opacity:0.4;\"/>\n   </g>\n   <g id=\"patch_24\">\n    <path clip-path=\"url(#p0e166cf109)\" d=\"M 301.7945 224.64 \nL 315.1865 224.64 \nL 315.1865 224.64 \nL 301.7945 224.64 \nz\n\" style=\"fill:#1f77b4;opacity:0.4;\"/>\n   </g>\n   <g id=\"patch_25\">\n    <path clip-path=\"url(#p0e166cf109)\" d=\"M 315.1865 224.64 \nL 328.5785 224.64 \nL 328.5785 224.64 \nL 315.1865 224.64 \nz\n\" style=\"fill:#1f77b4;opacity:0.4;\"/>\n   </g>\n   <g id=\"patch_26\">\n    <path clip-path=\"url(#p0e166cf109)\" d=\"M 328.5785 224.64 \nL 341.9705 224.64 \nL 341.9705 224.64 \nL 328.5785 224.64 \nz\n\" style=\"fill:#1f77b4;opacity:0.4;\"/>\n   </g>\n   <g id=\"patch_27\">\n    <path clip-path=\"url(#p0e166cf109)\" d=\"M 341.9705 224.64 \nL 355.3625 224.64 \nL 355.3625 17.554286 \nL 341.9705 17.554286 \nz\n\" style=\"fill:#1f77b4;opacity:0.4;\"/>\n   </g>\n   <g id=\"matplotlib.axis_1\">\n    <g id=\"xtick_1\">\n     <g id=\"line2d_1\">\n      <defs>\n       <path d=\"M 0 0 \nL 0 3.5 \n\" id=\"mafa2bb46ff\" style=\"stroke:#000000;stroke-width:0.8;\"/>\n      </defs>\n      <g>\n       <use style=\"stroke:#000000;stroke-width:0.8;\" x=\"20.5625\" xlink:href=\"#mafa2bb46ff\" y=\"224.64\"/>\n      </g>\n     </g>\n     <g id=\"text_1\">\n      <!-- 1.0 -->\n      <defs>\n       <path d=\"M 12.40625 8.296875 \nL 28.515625 8.296875 \nL 28.515625 63.921875 \nL 10.984375 60.40625 \nL 10.984375 69.390625 \nL 28.421875 72.90625 \nL 38.28125 72.90625 \nL 38.28125 8.296875 \nL 54.390625 8.296875 \nL 54.390625 0 \nL 12.40625 0 \nz\n\" id=\"DejaVuSans-49\"/>\n       <path d=\"M 10.6875 12.40625 \nL 21 12.40625 \nL 21 0 \nL 10.6875 0 \nz\n\" id=\"DejaVuSans-46\"/>\n       <path d=\"M 31.78125 66.40625 \nQ 24.171875 66.40625 20.328125 58.90625 \nQ 16.5 51.421875 16.5 36.375 \nQ 16.5 21.390625 20.328125 13.890625 \nQ 24.171875 6.390625 31.78125 6.390625 \nQ 39.453125 6.390625 43.28125 13.890625 \nQ 47.125 21.390625 47.125 36.375 \nQ 47.125 51.421875 43.28125 58.90625 \nQ 39.453125 66.40625 31.78125 66.40625 \nz\nM 31.78125 74.21875 \nQ 44.046875 74.21875 50.515625 64.515625 \nQ 56.984375 54.828125 56.984375 36.375 \nQ 56.984375 17.96875 50.515625 8.265625 \nQ 44.046875 -1.421875 31.78125 -1.421875 \nQ 19.53125 -1.421875 13.0625 8.265625 \nQ 6.59375 17.96875 6.59375 36.375 \nQ 6.59375 54.828125 13.0625 64.515625 \nQ 19.53125 74.21875 31.78125 74.21875 \nz\n\" id=\"DejaVuSans-48\"/>\n      </defs>\n      <g transform=\"translate(12.610937 239.238437)scale(0.1 -0.1)\">\n       <use xlink:href=\"#DejaVuSans-49\"/>\n       <use x=\"63.623047\" xlink:href=\"#DejaVuSans-46\"/>\n       <use x=\"95.410156\" xlink:href=\"#DejaVuSans-48\"/>\n      </g>\n     </g>\n    </g>\n    <g id=\"xtick_2\">\n     <g id=\"line2d_2\">\n      <g>\n       <use style=\"stroke:#000000;stroke-width:0.8;\" x=\"62.4125\" xlink:href=\"#mafa2bb46ff\" y=\"224.64\"/>\n      </g>\n     </g>\n     <g id=\"text_2\">\n      <!-- 1.5 -->\n      <defs>\n       <path d=\"M 10.796875 72.90625 \nL 49.515625 72.90625 \nL 49.515625 64.59375 \nL 19.828125 64.59375 \nL 19.828125 46.734375 \nQ 21.96875 47.46875 24.109375 47.828125 \nQ 26.265625 48.1875 28.421875 48.1875 \nQ 40.625 48.1875 47.75 41.5 \nQ 54.890625 34.8125 54.890625 23.390625 \nQ 54.890625 11.625 47.5625 5.09375 \nQ 40.234375 -1.421875 26.90625 -1.421875 \nQ 22.3125 -1.421875 17.546875 -0.640625 \nQ 12.796875 0.140625 7.71875 1.703125 \nL 7.71875 11.625 \nQ 12.109375 9.234375 16.796875 8.0625 \nQ 21.484375 6.890625 26.703125 6.890625 \nQ 35.15625 6.890625 40.078125 11.328125 \nQ 45.015625 15.765625 45.015625 23.390625 \nQ 45.015625 31 40.078125 35.4375 \nQ 35.15625 39.890625 26.703125 39.890625 \nQ 22.75 39.890625 18.8125 39.015625 \nQ 14.890625 38.140625 10.796875 36.28125 \nz\n\" id=\"DejaVuSans-53\"/>\n      </defs>\n      <g transform=\"translate(54.460938 239.238437)scale(0.1 -0.1)\">\n       <use xlink:href=\"#DejaVuSans-49\"/>\n       <use x=\"63.623047\" xlink:href=\"#DejaVuSans-46\"/>\n       <use x=\"95.410156\" xlink:href=\"#DejaVuSans-53\"/>\n      </g>\n     </g>\n    </g>\n    <g id=\"xtick_3\">\n     <g id=\"line2d_3\">\n      <g>\n       <use style=\"stroke:#000000;stroke-width:0.8;\" x=\"104.2625\" xlink:href=\"#mafa2bb46ff\" y=\"224.64\"/>\n      </g>\n     </g>\n     <g id=\"text_3\">\n      <!-- 2.0 -->\n      <defs>\n       <path d=\"M 19.1875 8.296875 \nL 53.609375 8.296875 \nL 53.609375 0 \nL 7.328125 0 \nL 7.328125 8.296875 \nQ 12.9375 14.109375 22.625 23.890625 \nQ 32.328125 33.6875 34.8125 36.53125 \nQ 39.546875 41.84375 41.421875 45.53125 \nQ 43.3125 49.21875 43.3125 52.78125 \nQ 43.3125 58.59375 39.234375 62.25 \nQ 35.15625 65.921875 28.609375 65.921875 \nQ 23.96875 65.921875 18.8125 64.3125 \nQ 13.671875 62.703125 7.8125 59.421875 \nL 7.8125 69.390625 \nQ 13.765625 71.78125 18.9375 73 \nQ 24.125 74.21875 28.421875 74.21875 \nQ 39.75 74.21875 46.484375 68.546875 \nQ 53.21875 62.890625 53.21875 53.421875 \nQ 53.21875 48.921875 51.53125 44.890625 \nQ 49.859375 40.875 45.40625 35.40625 \nQ 44.1875 33.984375 37.640625 27.21875 \nQ 31.109375 20.453125 19.1875 8.296875 \nz\n\" id=\"DejaVuSans-50\"/>\n      </defs>\n      <g transform=\"translate(96.310938 239.238437)scale(0.1 -0.1)\">\n       <use xlink:href=\"#DejaVuSans-50\"/>\n       <use x=\"63.623047\" xlink:href=\"#DejaVuSans-46\"/>\n       <use x=\"95.410156\" xlink:href=\"#DejaVuSans-48\"/>\n      </g>\n     </g>\n    </g>\n    <g id=\"xtick_4\">\n     <g id=\"line2d_4\">\n      <g>\n       <use style=\"stroke:#000000;stroke-width:0.8;\" x=\"146.1125\" xlink:href=\"#mafa2bb46ff\" y=\"224.64\"/>\n      </g>\n     </g>\n     <g id=\"text_4\">\n      <!-- 2.5 -->\n      <g transform=\"translate(138.160938 239.238437)scale(0.1 -0.1)\">\n       <use xlink:href=\"#DejaVuSans-50\"/>\n       <use x=\"63.623047\" xlink:href=\"#DejaVuSans-46\"/>\n       <use x=\"95.410156\" xlink:href=\"#DejaVuSans-53\"/>\n      </g>\n     </g>\n    </g>\n    <g id=\"xtick_5\">\n     <g id=\"line2d_5\">\n      <g>\n       <use style=\"stroke:#000000;stroke-width:0.8;\" x=\"187.9625\" xlink:href=\"#mafa2bb46ff\" y=\"224.64\"/>\n      </g>\n     </g>\n     <g id=\"text_5\">\n      <!-- 3.0 -->\n      <defs>\n       <path d=\"M 40.578125 39.3125 \nQ 47.65625 37.796875 51.625 33 \nQ 55.609375 28.21875 55.609375 21.1875 \nQ 55.609375 10.40625 48.1875 4.484375 \nQ 40.765625 -1.421875 27.09375 -1.421875 \nQ 22.515625 -1.421875 17.65625 -0.515625 \nQ 12.796875 0.390625 7.625 2.203125 \nL 7.625 11.71875 \nQ 11.71875 9.328125 16.59375 8.109375 \nQ 21.484375 6.890625 26.8125 6.890625 \nQ 36.078125 6.890625 40.9375 10.546875 \nQ 45.796875 14.203125 45.796875 21.1875 \nQ 45.796875 27.640625 41.28125 31.265625 \nQ 36.765625 34.90625 28.71875 34.90625 \nL 20.21875 34.90625 \nL 20.21875 43.015625 \nL 29.109375 43.015625 \nQ 36.375 43.015625 40.234375 45.921875 \nQ 44.09375 48.828125 44.09375 54.296875 \nQ 44.09375 59.90625 40.109375 62.90625 \nQ 36.140625 65.921875 28.71875 65.921875 \nQ 24.65625 65.921875 20.015625 65.03125 \nQ 15.375 64.15625 9.8125 62.3125 \nL 9.8125 71.09375 \nQ 15.4375 72.65625 20.34375 73.4375 \nQ 25.25 74.21875 29.59375 74.21875 \nQ 40.828125 74.21875 47.359375 69.109375 \nQ 53.90625 64.015625 53.90625 55.328125 \nQ 53.90625 49.265625 50.4375 45.09375 \nQ 46.96875 40.921875 40.578125 39.3125 \nz\n\" id=\"DejaVuSans-51\"/>\n      </defs>\n      <g transform=\"translate(180.010938 239.238437)scale(0.1 -0.1)\">\n       <use xlink:href=\"#DejaVuSans-51\"/>\n       <use x=\"63.623047\" xlink:href=\"#DejaVuSans-46\"/>\n       <use x=\"95.410156\" xlink:href=\"#DejaVuSans-48\"/>\n      </g>\n     </g>\n    </g>\n    <g id=\"xtick_6\">\n     <g id=\"line2d_6\">\n      <g>\n       <use style=\"stroke:#000000;stroke-width:0.8;\" x=\"229.8125\" xlink:href=\"#mafa2bb46ff\" y=\"224.64\"/>\n      </g>\n     </g>\n     <g id=\"text_6\">\n      <!-- 3.5 -->\n      <g transform=\"translate(221.860938 239.238437)scale(0.1 -0.1)\">\n       <use xlink:href=\"#DejaVuSans-51\"/>\n       <use x=\"63.623047\" xlink:href=\"#DejaVuSans-46\"/>\n       <use x=\"95.410156\" xlink:href=\"#DejaVuSans-53\"/>\n      </g>\n     </g>\n    </g>\n    <g id=\"xtick_7\">\n     <g id=\"line2d_7\">\n      <g>\n       <use style=\"stroke:#000000;stroke-width:0.8;\" x=\"271.6625\" xlink:href=\"#mafa2bb46ff\" y=\"224.64\"/>\n      </g>\n     </g>\n     <g id=\"text_7\">\n      <!-- 4.0 -->\n      <defs>\n       <path d=\"M 37.796875 64.3125 \nL 12.890625 25.390625 \nL 37.796875 25.390625 \nz\nM 35.203125 72.90625 \nL 47.609375 72.90625 \nL 47.609375 25.390625 \nL 58.015625 25.390625 \nL 58.015625 17.1875 \nL 47.609375 17.1875 \nL 47.609375 0 \nL 37.796875 0 \nL 37.796875 17.1875 \nL 4.890625 17.1875 \nL 4.890625 26.703125 \nz\n\" id=\"DejaVuSans-52\"/>\n      </defs>\n      <g transform=\"translate(263.710938 239.238437)scale(0.1 -0.1)\">\n       <use xlink:href=\"#DejaVuSans-52\"/>\n       <use x=\"63.623047\" xlink:href=\"#DejaVuSans-46\"/>\n       <use x=\"95.410156\" xlink:href=\"#DejaVuSans-48\"/>\n      </g>\n     </g>\n    </g>\n    <g id=\"xtick_8\">\n     <g id=\"line2d_8\">\n      <g>\n       <use style=\"stroke:#000000;stroke-width:0.8;\" x=\"313.5125\" xlink:href=\"#mafa2bb46ff\" y=\"224.64\"/>\n      </g>\n     </g>\n     <g id=\"text_8\">\n      <!-- 4.5 -->\n      <g transform=\"translate(305.560938 239.238437)scale(0.1 -0.1)\">\n       <use xlink:href=\"#DejaVuSans-52\"/>\n       <use x=\"63.623047\" xlink:href=\"#DejaVuSans-46\"/>\n       <use x=\"95.410156\" xlink:href=\"#DejaVuSans-53\"/>\n      </g>\n     </g>\n    </g>\n    <g id=\"xtick_9\">\n     <g id=\"line2d_9\">\n      <g>\n       <use style=\"stroke:#000000;stroke-width:0.8;\" x=\"355.3625\" xlink:href=\"#mafa2bb46ff\" y=\"224.64\"/>\n      </g>\n     </g>\n     <g id=\"text_9\">\n      <!-- 5.0 -->\n      <g transform=\"translate(347.410937 239.238437)scale(0.1 -0.1)\">\n       <use xlink:href=\"#DejaVuSans-53\"/>\n       <use x=\"63.623047\" xlink:href=\"#DejaVuSans-46\"/>\n       <use x=\"95.410156\" xlink:href=\"#DejaVuSans-48\"/>\n      </g>\n     </g>\n    </g>\n    <g id=\"text_10\">\n     <!-- stars -->\n     <defs>\n      <path d=\"M 44.28125 53.078125 \nL 44.28125 44.578125 \nQ 40.484375 46.53125 36.375 47.5 \nQ 32.28125 48.484375 27.875 48.484375 \nQ 21.1875 48.484375 17.84375 46.4375 \nQ 14.5 44.390625 14.5 40.28125 \nQ 14.5 37.15625 16.890625 35.375 \nQ 19.28125 33.59375 26.515625 31.984375 \nL 29.59375 31.296875 \nQ 39.15625 29.25 43.1875 25.515625 \nQ 47.21875 21.78125 47.21875 15.09375 \nQ 47.21875 7.46875 41.1875 3.015625 \nQ 35.15625 -1.421875 24.609375 -1.421875 \nQ 20.21875 -1.421875 15.453125 -0.5625 \nQ 10.6875 0.296875 5.421875 2 \nL 5.421875 11.28125 \nQ 10.40625 8.6875 15.234375 7.390625 \nQ 20.0625 6.109375 24.8125 6.109375 \nQ 31.15625 6.109375 34.5625 8.28125 \nQ 37.984375 10.453125 37.984375 14.40625 \nQ 37.984375 18.0625 35.515625 20.015625 \nQ 33.0625 21.96875 24.703125 23.78125 \nL 21.578125 24.515625 \nQ 13.234375 26.265625 9.515625 29.90625 \nQ 5.8125 33.546875 5.8125 39.890625 \nQ 5.8125 47.609375 11.28125 51.796875 \nQ 16.75 56 26.8125 56 \nQ 31.78125 56 36.171875 55.265625 \nQ 40.578125 54.546875 44.28125 53.078125 \nz\n\" id=\"DejaVuSans-115\"/>\n      <path d=\"M 18.3125 70.21875 \nL 18.3125 54.6875 \nL 36.8125 54.6875 \nL 36.8125 47.703125 \nL 18.3125 47.703125 \nL 18.3125 18.015625 \nQ 18.3125 11.328125 20.140625 9.421875 \nQ 21.96875 7.515625 27.59375 7.515625 \nL 36.8125 7.515625 \nL 36.8125 0 \nL 27.59375 0 \nQ 17.1875 0 13.234375 3.875 \nQ 9.28125 7.765625 9.28125 18.015625 \nL 9.28125 47.703125 \nL 2.6875 47.703125 \nL 2.6875 54.6875 \nL 9.28125 54.6875 \nL 9.28125 70.21875 \nz\n\" id=\"DejaVuSans-116\"/>\n      <path d=\"M 34.28125 27.484375 \nQ 23.390625 27.484375 19.1875 25 \nQ 14.984375 22.515625 14.984375 16.5 \nQ 14.984375 11.71875 18.140625 8.90625 \nQ 21.296875 6.109375 26.703125 6.109375 \nQ 34.1875 6.109375 38.703125 11.40625 \nQ 43.21875 16.703125 43.21875 25.484375 \nL 43.21875 27.484375 \nz\nM 52.203125 31.203125 \nL 52.203125 0 \nL 43.21875 0 \nL 43.21875 8.296875 \nQ 40.140625 3.328125 35.546875 0.953125 \nQ 30.953125 -1.421875 24.3125 -1.421875 \nQ 15.921875 -1.421875 10.953125 3.296875 \nQ 6 8.015625 6 15.921875 \nQ 6 25.140625 12.171875 29.828125 \nQ 18.359375 34.515625 30.609375 34.515625 \nL 43.21875 34.515625 \nL 43.21875 35.40625 \nQ 43.21875 41.609375 39.140625 45 \nQ 35.0625 48.390625 27.6875 48.390625 \nQ 23 48.390625 18.546875 47.265625 \nQ 14.109375 46.140625 10.015625 43.890625 \nL 10.015625 52.203125 \nQ 14.9375 54.109375 19.578125 55.046875 \nQ 24.21875 56 28.609375 56 \nQ 40.484375 56 46.34375 49.84375 \nQ 52.203125 43.703125 52.203125 31.203125 \nz\n\" id=\"DejaVuSans-97\"/>\n      <path d=\"M 41.109375 46.296875 \nQ 39.59375 47.171875 37.8125 47.578125 \nQ 36.03125 48 33.890625 48 \nQ 26.265625 48 22.1875 43.046875 \nQ 18.109375 38.09375 18.109375 28.8125 \nL 18.109375 0 \nL 9.078125 0 \nL 9.078125 54.6875 \nL 18.109375 54.6875 \nL 18.109375 46.1875 \nQ 20.953125 51.171875 25.484375 53.578125 \nQ 30.03125 56 36.53125 56 \nQ 37.453125 56 38.578125 55.875 \nQ 39.703125 55.765625 41.0625 55.515625 \nz\n\" id=\"DejaVuSans-114\"/>\n     </defs>\n     <g transform=\"translate(175.673438 252.916562)scale(0.1 -0.1)\">\n      <use xlink:href=\"#DejaVuSans-115\"/>\n      <use x=\"52.099609\" xlink:href=\"#DejaVuSans-116\"/>\n      <use x=\"91.308594\" xlink:href=\"#DejaVuSans-97\"/>\n      <use x=\"152.587891\" xlink:href=\"#DejaVuSans-114\"/>\n      <use x=\"193.701172\" xlink:href=\"#DejaVuSans-115\"/>\n     </g>\n    </g>\n   </g>\n   <g id=\"matplotlib.axis_2\">\n    <g id=\"ytick_1\">\n     <g id=\"line2d_10\">\n      <defs>\n       <path d=\"M 0 0 \nL -3.5 0 \n\" id=\"m0562acad1c\" style=\"stroke:#000000;stroke-width:0.8;\"/>\n      </defs>\n      <g>\n       <use style=\"stroke:#000000;stroke-width:0.8;\" x=\"20.5625\" xlink:href=\"#m0562acad1c\" y=\"224.64\"/>\n      </g>\n     </g>\n     <g id=\"text_11\">\n      <!-- 0 -->\n      <g transform=\"translate(7.2 228.439219)scale(0.1 -0.1)\">\n       <use xlink:href=\"#DejaVuSans-48\"/>\n      </g>\n     </g>\n    </g>\n    <g id=\"ytick_2\">\n     <g id=\"line2d_11\">\n      <g>\n       <use style=\"stroke:#000000;stroke-width:0.8;\" x=\"20.5625\" xlink:href=\"#m0562acad1c\" y=\"177.944318\"/>\n      </g>\n     </g>\n     <g id=\"text_12\">\n      <!-- 1 -->\n      <g transform=\"translate(7.2 181.743537)scale(0.1 -0.1)\">\n       <use xlink:href=\"#DejaVuSans-49\"/>\n      </g>\n     </g>\n    </g>\n    <g id=\"ytick_3\">\n     <g id=\"line2d_12\">\n      <g>\n       <use style=\"stroke:#000000;stroke-width:0.8;\" x=\"20.5625\" xlink:href=\"#m0562acad1c\" y=\"131.248636\"/>\n      </g>\n     </g>\n     <g id=\"text_13\">\n      <!-- 2 -->\n      <g transform=\"translate(7.2 135.047855)scale(0.1 -0.1)\">\n       <use xlink:href=\"#DejaVuSans-50\"/>\n      </g>\n     </g>\n    </g>\n    <g id=\"ytick_4\">\n     <g id=\"line2d_13\">\n      <g>\n       <use style=\"stroke:#000000;stroke-width:0.8;\" x=\"20.5625\" xlink:href=\"#m0562acad1c\" y=\"84.552954\"/>\n      </g>\n     </g>\n     <g id=\"text_14\">\n      <!-- 3 -->\n      <g transform=\"translate(7.2 88.352173)scale(0.1 -0.1)\">\n       <use xlink:href=\"#DejaVuSans-51\"/>\n      </g>\n     </g>\n    </g>\n    <g id=\"ytick_5\">\n     <g id=\"line2d_14\">\n      <g>\n       <use style=\"stroke:#000000;stroke-width:0.8;\" x=\"20.5625\" xlink:href=\"#m0562acad1c\" y=\"37.857273\"/>\n      </g>\n     </g>\n     <g id=\"text_15\">\n      <!-- 4 -->\n      <g transform=\"translate(7.2 41.656491)scale(0.1 -0.1)\">\n       <use xlink:href=\"#DejaVuSans-52\"/>\n      </g>\n     </g>\n    </g>\n   </g>\n   <g id=\"line2d_15\">\n    <path clip-path=\"url(#p0e166cf109)\" d=\"M -1 223.405267 \nL -0.099509 223.20829 \nL 2.958409 221.780892 \nL 6.016328 219.423195 \nL 9.074247 216.126375 \nL 12.132166 212.24748 \nL 15.190085 208.558501 \nL 18.248004 206.039613 \nL 21.305923 205.467879 \nL 24.363841 207.032335 \nL 27.42176 210.233658 \nL 30.479679 214.140468 \nL 33.537598 217.824432 \nL 36.595517 220.699877 \nL 39.653436 222.611567 \nL 42.711355 223.710112 \nL 45.769273 224.260421 \nL 48.827192 224.502036 \nL 54.94303 224.627131 \nL 73.290543 224.616921 \nL 79.406381 224.446052 \nL 82.4643 224.168037 \nL 85.522218 223.618039 \nL 88.580137 222.670941 \nL 91.638056 221.264151 \nL 97.753894 217.648292 \nL 100.811813 216.192862 \nL 103.869732 215.556829 \nL 106.92765 215.946023 \nL 109.985569 217.231769 \nL 116.101407 220.842046 \nL 119.159326 222.354086 \nL 122.217245 223.414185 \nL 125.275164 224.054203 \nL 128.333082 224.390465 \nL 134.44892 224.607899 \nL 152.796433 224.635635 \nL 161.97019 224.504582 \nL 165.028109 224.301598 \nL 168.086027 223.885919 \nL 171.143946 223.141519 \nL 174.201865 221.984483 \nL 177.259784 220.443113 \nL 180.317703 218.724401 \nL 183.375622 217.203411 \nL 186.433541 216.302046 \nL 189.491459 216.302046 \nL 192.549378 217.203411 \nL 195.607297 218.724401 \nL 198.665216 220.443113 \nL 201.723135 221.984483 \nL 204.781054 223.141519 \nL 207.838973 223.885919 \nL 210.896891 224.301598 \nL 213.95481 224.504582 \nL 220.070648 224.624625 \nL 241.47608 224.592076 \nL 244.533999 224.498511 \nL 247.591918 224.267464 \nL 250.649836 223.765452 \nL 253.707755 222.809955 \nL 256.765674 221.227312 \nL 259.823593 218.969957 \nL 265.939431 213.5801 \nL 268.99735 211.660585 \nL 272.055268 211.079549 \nL 275.113187 212.029096 \nL 278.171106 214.201937 \nL 284.286944 219.600126 \nL 287.344863 221.700351 \nL 290.402782 223.114293 \nL 293.4607 223.935397 \nL 296.518619 224.350451 \nL 299.576538 224.534119 \nL 308.750295 224.637251 \nL 320.98197 224.557803 \nL 324.039889 224.354769 \nL 327.097808 223.758661 \nL 330.155727 222.215182 \nL 333.213645 218.699716 \nL 336.271564 211.68202 \nL 339.329483 199.469821 \nL 342.387402 181.100982 \nL 345.445321 157.56719 \nL 348.50324 132.609818 \nL 351.561159 112.159216 \nL 354.619077 102.165204 \nL 357.676996 105.817549 \nL 360.734915 121.908702 \nL 363.792834 145.474964 \nL 366.850753 170.256411 \nL 369.908672 191.328975 \nL 371.514062 199.263761 \nL 371.514062 199.263761 \n\" style=\"fill:none;stroke:#1f77b4;stroke-linecap:square;stroke-width:1.5;\"/>\n   </g>\n   <g id=\"patch_28\">\n    <path d=\"M 20.5625 224.64 \nL 20.5625 7.2 \n\" style=\"fill:none;stroke:#000000;stroke-linecap:square;stroke-linejoin:miter;stroke-width:0.8;\"/>\n   </g>\n   <g id=\"patch_29\">\n    <path d=\"M 355.3625 224.64 \nL 355.3625 7.2 \n\" style=\"fill:none;stroke:#000000;stroke-linecap:square;stroke-linejoin:miter;stroke-width:0.8;\"/>\n   </g>\n   <g id=\"patch_30\">\n    <path d=\"M 20.5625 224.64 \nL 355.3625 224.64 \n\" style=\"fill:none;stroke:#000000;stroke-linecap:square;stroke-linejoin:miter;stroke-width:0.8;\"/>\n   </g>\n   <g id=\"patch_31\">\n    <path d=\"M 20.5625 7.2 \nL 355.3625 7.2 \n\" style=\"fill:none;stroke:#000000;stroke-linecap:square;stroke-linejoin:miter;stroke-width:0.8;\"/>\n   </g>\n  </g>\n </g>\n <defs>\n  <clipPath id=\"p0e166cf109\">\n   <rect height=\"217.44\" width=\"334.8\" x=\"20.5625\" y=\"7.2\"/>\n  </clipPath>\n </defs>\n</svg>\n",
      "image/png": "[encoded data removed]"
     },
     "metadata": {
      "needs_background": "light"
     }
    }
   ],
   "source": [
    "sns.distplot(df_training[\"stars\"], bins=25)\n",
    "plt.xlim([1,5])\n",
    "plt.show()"
   ]
  },
  {
   "cell_type": "code",
   "execution_count": 87,
   "metadata": {},
   "outputs": [
    {
     "output_type": "execute_result",
     "data": {
      "text/plain": [
       "   stars                              title  \\\n",
       "0      1               Not enough brownies!   \n",
       "1      1       I’m OBSESSED with this pint!   \n",
       "2      1  My favorite...More Caramel Please   \n",
       "3      1                        Obsessed!!!   \n",
       "4      0              Worst Ice Cream Ever!   \n",
       "\n",
       "                                                text  \n",
       "0  Super good, don't get me wrong. But I came for...  \n",
       "1  I decided to try it out although I’m not a hug...  \n",
       "2  My caramel core begins to disappear about half...  \n",
       "3  Why are people complaining about the blonde br...  \n",
       "4  This ice cream is worst ice cream I’ve ever ta...  "
      ],
      "text/html": "<div>\n<style scoped>\n    .dataframe tbody tr th:only-of-type {\n        vertical-align: middle;\n    }\n\n    .dataframe tbody tr th {\n        vertical-align: top;\n    }\n\n    .dataframe thead th {\n        text-align: right;\n    }\n</style>\n<table border=\"1\" class=\"dataframe\">\n  <thead>\n    <tr style=\"text-align: right;\">\n      <th></th>\n      <th>stars</th>\n      <th>title</th>\n      <th>text</th>\n    </tr>\n  </thead>\n  <tbody>\n    <tr>\n      <th>0</th>\n      <td>1</td>\n      <td>Not enough brownies!</td>\n      <td>Super good, don't get me wrong. But I came for...</td>\n    </tr>\n    <tr>\n      <th>1</th>\n      <td>1</td>\n      <td>I’m OBSESSED with this pint!</td>\n      <td>I decided to try it out although I’m not a hug...</td>\n    </tr>\n    <tr>\n      <th>2</th>\n      <td>1</td>\n      <td>My favorite...More Caramel Please</td>\n      <td>My caramel core begins to disappear about half...</td>\n    </tr>\n    <tr>\n      <th>3</th>\n      <td>1</td>\n      <td>Obsessed!!!</td>\n      <td>Why are people complaining about the blonde br...</td>\n    </tr>\n    <tr>\n      <th>4</th>\n      <td>0</td>\n      <td>Worst Ice Cream Ever!</td>\n      <td>This ice cream is worst ice cream I’ve ever ta...</td>\n    </tr>\n  </tbody>\n</table>\n</div>"
     },
     "metadata": {},
     "execution_count": 87
    }
   ],
   "source": [
    "df_training['stars'] = (df['stars'] >= 3).astype(int)\n",
    "df_training.head()"
   ]
  },
  {
   "cell_type": "code",
   "execution_count": 88,
   "metadata": {},
   "outputs": [
    {
     "output_type": "execute_result",
     "data": {
      "text/plain": [
       "   sentiment                              title  \\\n",
       "0          1               Not enough brownies!   \n",
       "1          1       I’m OBSESSED with this pint!   \n",
       "2          1  My favorite...More Caramel Please   \n",
       "3          1                        Obsessed!!!   \n",
       "4          0              Worst Ice Cream Ever!   \n",
       "\n",
       "                                                text  \n",
       "0  Super good, don't get me wrong. But I came for...  \n",
       "1  I decided to try it out although I’m not a hug...  \n",
       "2  My caramel core begins to disappear about half...  \n",
       "3  Why are people complaining about the blonde br...  \n",
       "4  This ice cream is worst ice cream I’ve ever ta...  "
      ],
      "text/html": "<div>\n<style scoped>\n    .dataframe tbody tr th:only-of-type {\n        vertical-align: middle;\n    }\n\n    .dataframe tbody tr th {\n        vertical-align: top;\n    }\n\n    .dataframe thead th {\n        text-align: right;\n    }\n</style>\n<table border=\"1\" class=\"dataframe\">\n  <thead>\n    <tr style=\"text-align: right;\">\n      <th></th>\n      <th>sentiment</th>\n      <th>title</th>\n      <th>text</th>\n    </tr>\n  </thead>\n  <tbody>\n    <tr>\n      <th>0</th>\n      <td>1</td>\n      <td>Not enough brownies!</td>\n      <td>Super good, don't get me wrong. But I came for...</td>\n    </tr>\n    <tr>\n      <th>1</th>\n      <td>1</td>\n      <td>I’m OBSESSED with this pint!</td>\n      <td>I decided to try it out although I’m not a hug...</td>\n    </tr>\n    <tr>\n      <th>2</th>\n      <td>1</td>\n      <td>My favorite...More Caramel Please</td>\n      <td>My caramel core begins to disappear about half...</td>\n    </tr>\n    <tr>\n      <th>3</th>\n      <td>1</td>\n      <td>Obsessed!!!</td>\n      <td>Why are people complaining about the blonde br...</td>\n    </tr>\n    <tr>\n      <th>4</th>\n      <td>0</td>\n      <td>Worst Ice Cream Ever!</td>\n      <td>This ice cream is worst ice cream I’ve ever ta...</td>\n    </tr>\n  </tbody>\n</table>\n</div>"
     },
     "metadata": {},
     "execution_count": 88
    }
   ],
   "source": [
    "df_training.rename(columns={'stars': 'sentiment'}).head()"
   ]
  },
  {
   "cell_type": "code",
   "execution_count": 89,
   "metadata": {},
   "outputs": [
    {
     "output_type": "execute_result",
     "data": {
      "text/plain": [
       "(21616, 3)"
      ]
     },
     "metadata": {},
     "execution_count": 89
    }
   ],
   "source": [
    "df_training.describe()\n",
    "df_training.shape"
   ]
  },
  {
   "source": [
    "1. Preprocessing"
   ],
   "cell_type": "markdown",
   "metadata": {}
  },
  {
   "cell_type": "code",
   "execution_count": null,
   "metadata": {},
   "outputs": [],
   "source": [
    "def process_text(text_input):\n",
    "    clean_text = text_input\n",
    "    nopunc=[char for char in clean_text if char not in string.punctuation] # menghilangkan punctuation\n",
    "    nopunc=''.join(nopunc)\n",
    "    clean_text = [word for word in nopunc.split() if word not in stopwords.words('english')] # menghilangkan stopwords\n",
    "    wordnet_lemmatizer = WordNetLemmatizer()\n",
    "    clean_text = [wordnet_lemmatizer.lemmatize(word) for word in clean_text] # lemmatization\n",
    "    return ' '.join(clean_text)"
   ]
  }
 ]
}