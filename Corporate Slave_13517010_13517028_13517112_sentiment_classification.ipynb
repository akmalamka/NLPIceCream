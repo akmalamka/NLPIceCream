{
 "cells": [
  {
   "cell_type": "markdown",
   "metadata": {},
   "source": [
    "# Aspect Based Sentiment Analysis \n",
    "Ice Cream Review Dataset"
   ]
  },
  {
   "cell_type": "markdown",
   "metadata": {},
   "source": [
    "## Library"
   ]
  },
  {
   "cell_type": "code",
   "execution_count": 2,
   "metadata": {},
   "outputs": [
    {
     "data": {
      "text/html": [
       "<div>\n",
       "<style scoped>\n",
       "    .dataframe tbody tr th:only-of-type {\n",
       "        vertical-align: middle;\n",
       "    }\n",
       "\n",
       "    .dataframe tbody tr th {\n",
       "        vertical-align: top;\n",
       "    }\n",
       "\n",
       "    .dataframe thead th {\n",
       "        text-align: right;\n",
       "    }\n",
       "</style>\n",
       "<table border=\"1\" class=\"dataframe\">\n",
       "  <thead>\n",
       "    <tr style=\"text-align: right;\">\n",
       "      <th></th>\n",
       "      <th>key</th>\n",
       "      <th>author</th>\n",
       "      <th>date</th>\n",
       "      <th>stars</th>\n",
       "      <th>title</th>\n",
       "      <th>helpful_yes</th>\n",
       "      <th>helpful_no</th>\n",
       "      <th>text</th>\n",
       "      <th>full_text</th>\n",
       "    </tr>\n",
       "  </thead>\n",
       "  <tbody>\n",
       "    <tr>\n",
       "      <th>0</th>\n",
       "      <td>0_bj</td>\n",
       "      <td>Ilovebennjerry</td>\n",
       "      <td>2017-04-15</td>\n",
       "      <td>3</td>\n",
       "      <td>Not enough brownies!</td>\n",
       "      <td>10</td>\n",
       "      <td>3</td>\n",
       "      <td>Super good, don't get me wrong. But I came for...</td>\n",
       "      <td>Not enough brownies! Super good, don't get me ...</td>\n",
       "    </tr>\n",
       "    <tr>\n",
       "      <th>1</th>\n",
       "      <td>0_bj</td>\n",
       "      <td>Sweettooth909</td>\n",
       "      <td>2020-01-05</td>\n",
       "      <td>5</td>\n",
       "      <td>I’m OBSESSED with this pint!</td>\n",
       "      <td>3</td>\n",
       "      <td>0</td>\n",
       "      <td>I decided to try it out although I’m not a hug...</td>\n",
       "      <td>I’m OBSESSED with this pint! I decided to try ...</td>\n",
       "    </tr>\n",
       "    <tr>\n",
       "      <th>2</th>\n",
       "      <td>0_bj</td>\n",
       "      <td>LaTanga71</td>\n",
       "      <td>2018-04-26</td>\n",
       "      <td>3</td>\n",
       "      <td>My favorite...More Caramel Please</td>\n",
       "      <td>5</td>\n",
       "      <td>2</td>\n",
       "      <td>My caramel core begins to disappear about half...</td>\n",
       "      <td>My favorite...More Caramel Please My caramel c...</td>\n",
       "    </tr>\n",
       "    <tr>\n",
       "      <th>3</th>\n",
       "      <td>0_bj</td>\n",
       "      <td>chicago220</td>\n",
       "      <td>2018-01-14</td>\n",
       "      <td>5</td>\n",
       "      <td>Obsessed!!!</td>\n",
       "      <td>24</td>\n",
       "      <td>1</td>\n",
       "      <td>Why are people complaining about the blonde br...</td>\n",
       "      <td>Obsessed!!! Why are people complaining about t...</td>\n",
       "    </tr>\n",
       "    <tr>\n",
       "      <th>4</th>\n",
       "      <td>0_bj</td>\n",
       "      <td>Kassidyk</td>\n",
       "      <td>2020-07-24</td>\n",
       "      <td>1</td>\n",
       "      <td>Worst Ice Cream Ever!</td>\n",
       "      <td>1</td>\n",
       "      <td>5</td>\n",
       "      <td>This ice cream is worst ice cream I’ve ever ta...</td>\n",
       "      <td>Worst Ice Cream Ever! This ice cream is worst ...</td>\n",
       "    </tr>\n",
       "  </tbody>\n",
       "</table>\n",
       "</div>"
      ],
      "text/plain": [
       "    key          author        date  stars                              title  \\\n",
       "0  0_bj  Ilovebennjerry  2017-04-15      3               Not enough brownies!   \n",
       "1  0_bj   Sweettooth909  2020-01-05      5       I’m OBSESSED with this pint!   \n",
       "2  0_bj       LaTanga71  2018-04-26      3  My favorite...More Caramel Please   \n",
       "3  0_bj      chicago220  2018-01-14      5                        Obsessed!!!   \n",
       "4  0_bj        Kassidyk  2020-07-24      1              Worst Ice Cream Ever!   \n",
       "\n",
       "   helpful_yes  helpful_no                                               text  \\\n",
       "0           10           3  Super good, don't get me wrong. But I came for...   \n",
       "1            3           0  I decided to try it out although I’m not a hug...   \n",
       "2            5           2  My caramel core begins to disappear about half...   \n",
       "3           24           1  Why are people complaining about the blonde br...   \n",
       "4            1           5  This ice cream is worst ice cream I’ve ever ta...   \n",
       "\n",
       "                                           full_text  \n",
       "0  Not enough brownies! Super good, don't get me ...  \n",
       "1  I’m OBSESSED with this pint! I decided to try ...  \n",
       "2  My favorite...More Caramel Please My caramel c...  \n",
       "3  Obsessed!!! Why are people complaining about t...  \n",
       "4  Worst Ice Cream Ever! This ice cream is worst ...  "
      ]
     },
     "execution_count": 2,
     "metadata": {},
     "output_type": "execute_result"
    }
   ],
   "source": [
    "#!pip3 install spacy\n",
    "#!python3 -m spacy download en\n",
    "import pandas as pd\n",
    "import spacy\n",
    "import numpy as np\n",
    "\n",
    "nlp = spacy.load('en')\n",
    "\n",
    "df = pd.read_csv(\"reviews.csv\")\n",
    "df[\"full_text\"] = df.title + ' ' + df.text\n",
    "df.head()"
   ]
  },
  {
   "cell_type": "markdown",
   "metadata": {},
   "source": [
    "## Preprocess"
   ]
  },
  {
   "cell_type": "code",
   "execution_count": 3,
   "metadata": {},
   "outputs": [
    {
     "data": {
      "text/plain": [
       "5506"
      ]
     },
     "execution_count": 3,
     "metadata": {},
     "output_type": "execute_result"
    }
   ],
   "source": [
    "df.isnull().values.ravel().sum()"
   ]
  },
  {
   "cell_type": "code",
   "execution_count": 4,
   "metadata": {},
   "outputs": [
    {
     "data": {
      "text/plain": [
       "key                                                        28_bj\n",
       "author                                                 krisa2337\n",
       "date                                                  2019-02-01\n",
       "stars                                                          5\n",
       "title                                                        NaN\n",
       "helpful_yes                                                    0\n",
       "helpful_no                                                     0\n",
       "text           By far the most addicting flavor EVER I love t...\n",
       "full_text                                                    NaN\n",
       "Name: 4899, dtype: object"
      ]
     },
     "execution_count": 4,
     "metadata": {},
     "output_type": "execute_result"
    }
   ],
   "source": [
    "df.loc[df.isnull().sum(1).astype(bool)].iloc[2000]"
   ]
  },
  {
   "cell_type": "code",
   "execution_count": 5,
   "metadata": {},
   "outputs": [],
   "source": [
    "df.dropna(inplace=True)"
   ]
  },
  {
   "cell_type": "code",
   "execution_count": 6,
   "metadata": {},
   "outputs": [],
   "source": [
    "df.full_text = df.full_text.str.lower()"
   ]
  },
  {
   "cell_type": "code",
   "execution_count": 7,
   "metadata": {},
   "outputs": [],
   "source": [
    "df['full_text'] = df['full_text'].astype(str)"
   ]
  },
  {
   "cell_type": "code",
   "execution_count": 8,
   "metadata": {},
   "outputs": [
    {
     "data": {
      "text/plain": [
       "key            object\n",
       "author         object\n",
       "date           object\n",
       "stars           int64\n",
       "title          object\n",
       "helpful_yes     int64\n",
       "helpful_no      int64\n",
       "text           object\n",
       "full_text      object\n",
       "dtype: object"
      ]
     },
     "execution_count": 8,
     "metadata": {},
     "output_type": "execute_result"
    }
   ],
   "source": [
    "df.dtypes"
   ]
  },
  {
   "cell_type": "code",
   "execution_count": 9,
   "metadata": {},
   "outputs": [
    {
     "data": {
      "text/html": [
       "<div>\n",
       "<style scoped>\n",
       "    .dataframe tbody tr th:only-of-type {\n",
       "        vertical-align: middle;\n",
       "    }\n",
       "\n",
       "    .dataframe tbody tr th {\n",
       "        vertical-align: top;\n",
       "    }\n",
       "\n",
       "    .dataframe thead th {\n",
       "        text-align: right;\n",
       "    }\n",
       "</style>\n",
       "<table border=\"1\" class=\"dataframe\">\n",
       "  <thead>\n",
       "    <tr style=\"text-align: right;\">\n",
       "      <th></th>\n",
       "      <th>stars</th>\n",
       "      <th>helpful_yes</th>\n",
       "      <th>helpful_no</th>\n",
       "    </tr>\n",
       "  </thead>\n",
       "  <tbody>\n",
       "    <tr>\n",
       "      <th>count</th>\n",
       "      <td>5204.000000</td>\n",
       "      <td>5204.000000</td>\n",
       "      <td>5204.000000</td>\n",
       "    </tr>\n",
       "    <tr>\n",
       "      <th>mean</th>\n",
       "      <td>4.061875</td>\n",
       "      <td>1.456380</td>\n",
       "      <td>0.770753</td>\n",
       "    </tr>\n",
       "    <tr>\n",
       "      <th>std</th>\n",
       "      <td>1.505839</td>\n",
       "      <td>4.454936</td>\n",
       "      <td>3.157031</td>\n",
       "    </tr>\n",
       "    <tr>\n",
       "      <th>min</th>\n",
       "      <td>1.000000</td>\n",
       "      <td>0.000000</td>\n",
       "      <td>0.000000</td>\n",
       "    </tr>\n",
       "    <tr>\n",
       "      <th>25%</th>\n",
       "      <td>3.000000</td>\n",
       "      <td>0.000000</td>\n",
       "      <td>0.000000</td>\n",
       "    </tr>\n",
       "    <tr>\n",
       "      <th>50%</th>\n",
       "      <td>5.000000</td>\n",
       "      <td>0.000000</td>\n",
       "      <td>0.000000</td>\n",
       "    </tr>\n",
       "    <tr>\n",
       "      <th>75%</th>\n",
       "      <td>5.000000</td>\n",
       "      <td>1.000000</td>\n",
       "      <td>1.000000</td>\n",
       "    </tr>\n",
       "    <tr>\n",
       "      <th>max</th>\n",
       "      <td>5.000000</td>\n",
       "      <td>105.000000</td>\n",
       "      <td>86.000000</td>\n",
       "    </tr>\n",
       "  </tbody>\n",
       "</table>\n",
       "</div>"
      ],
      "text/plain": [
       "             stars  helpful_yes   helpful_no\n",
       "count  5204.000000  5204.000000  5204.000000\n",
       "mean      4.061875     1.456380     0.770753\n",
       "std       1.505839     4.454936     3.157031\n",
       "min       1.000000     0.000000     0.000000\n",
       "25%       3.000000     0.000000     0.000000\n",
       "50%       5.000000     0.000000     0.000000\n",
       "75%       5.000000     1.000000     1.000000\n",
       "max       5.000000   105.000000    86.000000"
      ]
     },
     "execution_count": 9,
     "metadata": {},
     "output_type": "execute_result"
    }
   ],
   "source": [
    "df.describe()"
   ]
  },
  {
   "cell_type": "code",
   "execution_count": 10,
   "metadata": {},
   "outputs": [
    {
     "data": {
      "text/html": [
       "<div>\n",
       "<style scoped>\n",
       "    .dataframe tbody tr th:only-of-type {\n",
       "        vertical-align: middle;\n",
       "    }\n",
       "\n",
       "    .dataframe tbody tr th {\n",
       "        vertical-align: top;\n",
       "    }\n",
       "\n",
       "    .dataframe thead th {\n",
       "        text-align: right;\n",
       "    }\n",
       "</style>\n",
       "<table border=\"1\" class=\"dataframe\">\n",
       "  <thead>\n",
       "    <tr style=\"text-align: right;\">\n",
       "      <th></th>\n",
       "      <th>key</th>\n",
       "      <th>author</th>\n",
       "      <th>date</th>\n",
       "      <th>stars</th>\n",
       "      <th>title</th>\n",
       "      <th>helpful_yes</th>\n",
       "      <th>helpful_no</th>\n",
       "      <th>text</th>\n",
       "      <th>full_text</th>\n",
       "      <th>sentiment_result</th>\n",
       "    </tr>\n",
       "  </thead>\n",
       "  <tbody>\n",
       "    <tr>\n",
       "      <th>0</th>\n",
       "      <td>0_bj</td>\n",
       "      <td>Ilovebennjerry</td>\n",
       "      <td>2017-04-15</td>\n",
       "      <td>3</td>\n",
       "      <td>Not enough brownies!</td>\n",
       "      <td>10</td>\n",
       "      <td>3</td>\n",
       "      <td>Super good, don't get me wrong. But I came for...</td>\n",
       "      <td>not enough brownies! super good, don't get me ...</td>\n",
       "      <td>neutral</td>\n",
       "    </tr>\n",
       "    <tr>\n",
       "      <th>1</th>\n",
       "      <td>0_bj</td>\n",
       "      <td>Sweettooth909</td>\n",
       "      <td>2020-01-05</td>\n",
       "      <td>5</td>\n",
       "      <td>I’m OBSESSED with this pint!</td>\n",
       "      <td>3</td>\n",
       "      <td>0</td>\n",
       "      <td>I decided to try it out although I’m not a hug...</td>\n",
       "      <td>i’m obsessed with this pint! i decided to try ...</td>\n",
       "      <td>positive</td>\n",
       "    </tr>\n",
       "    <tr>\n",
       "      <th>2</th>\n",
       "      <td>0_bj</td>\n",
       "      <td>LaTanga71</td>\n",
       "      <td>2018-04-26</td>\n",
       "      <td>3</td>\n",
       "      <td>My favorite...More Caramel Please</td>\n",
       "      <td>5</td>\n",
       "      <td>2</td>\n",
       "      <td>My caramel core begins to disappear about half...</td>\n",
       "      <td>my favorite...more caramel please my caramel c...</td>\n",
       "      <td>neutral</td>\n",
       "    </tr>\n",
       "    <tr>\n",
       "      <th>3</th>\n",
       "      <td>0_bj</td>\n",
       "      <td>chicago220</td>\n",
       "      <td>2018-01-14</td>\n",
       "      <td>5</td>\n",
       "      <td>Obsessed!!!</td>\n",
       "      <td>24</td>\n",
       "      <td>1</td>\n",
       "      <td>Why are people complaining about the blonde br...</td>\n",
       "      <td>obsessed!!! why are people complaining about t...</td>\n",
       "      <td>positive</td>\n",
       "    </tr>\n",
       "    <tr>\n",
       "      <th>4</th>\n",
       "      <td>0_bj</td>\n",
       "      <td>Kassidyk</td>\n",
       "      <td>2020-07-24</td>\n",
       "      <td>1</td>\n",
       "      <td>Worst Ice Cream Ever!</td>\n",
       "      <td>1</td>\n",
       "      <td>5</td>\n",
       "      <td>This ice cream is worst ice cream I’ve ever ta...</td>\n",
       "      <td>worst ice cream ever! this ice cream is worst ...</td>\n",
       "      <td>negative</td>\n",
       "    </tr>\n",
       "  </tbody>\n",
       "</table>\n",
       "</div>"
      ],
      "text/plain": [
       "    key          author        date  stars                              title  \\\n",
       "0  0_bj  Ilovebennjerry  2017-04-15      3               Not enough brownies!   \n",
       "1  0_bj   Sweettooth909  2020-01-05      5       I’m OBSESSED with this pint!   \n",
       "2  0_bj       LaTanga71  2018-04-26      3  My favorite...More Caramel Please   \n",
       "3  0_bj      chicago220  2018-01-14      5                        Obsessed!!!   \n",
       "4  0_bj        Kassidyk  2020-07-24      1              Worst Ice Cream Ever!   \n",
       "\n",
       "   helpful_yes  helpful_no                                               text  \\\n",
       "0           10           3  Super good, don't get me wrong. But I came for...   \n",
       "1            3           0  I decided to try it out although I’m not a hug...   \n",
       "2            5           2  My caramel core begins to disappear about half...   \n",
       "3           24           1  Why are people complaining about the blonde br...   \n",
       "4            1           5  This ice cream is worst ice cream I’ve ever ta...   \n",
       "\n",
       "                                           full_text sentiment_result  \n",
       "0  not enough brownies! super good, don't get me ...          neutral  \n",
       "1  i’m obsessed with this pint! i decided to try ...         positive  \n",
       "2  my favorite...more caramel please my caramel c...          neutral  \n",
       "3  obsessed!!! why are people complaining about t...         positive  \n",
       "4  worst ice cream ever! this ice cream is worst ...         negative  "
      ]
     },
     "execution_count": 10,
     "metadata": {},
     "output_type": "execute_result"
    }
   ],
   "source": [
    "sentiment_result = []\n",
    "l=len(df)\n",
    "\n",
    "for i in range(l):\n",
    "    if df['stars'].iloc[i] >3:\n",
    "        sentiment_result.append('positive')\n",
    "    elif df['stars'].iloc[i] == 3:\n",
    "        sentiment_result.append('neutral')\n",
    "    else:\n",
    "        sentiment_result.append('negative')\n",
    "df['sentiment_result'] = sentiment_result\n",
    "df.head()"
   ]
  },
  {
   "cell_type": "code",
   "execution_count": 11,
   "metadata": {},
   "outputs": [
    {
     "data": {
      "text/html": [
       "<div>\n",
       "<style scoped>\n",
       "    .dataframe tbody tr th:only-of-type {\n",
       "        vertical-align: middle;\n",
       "    }\n",
       "\n",
       "    .dataframe tbody tr th {\n",
       "        vertical-align: top;\n",
       "    }\n",
       "\n",
       "    .dataframe thead th {\n",
       "        text-align: right;\n",
       "    }\n",
       "</style>\n",
       "<table border=\"1\" class=\"dataframe\">\n",
       "  <thead>\n",
       "    <tr style=\"text-align: right;\">\n",
       "      <th></th>\n",
       "      <th>key</th>\n",
       "      <th>author</th>\n",
       "      <th>date</th>\n",
       "      <th>stars</th>\n",
       "      <th>title</th>\n",
       "      <th>helpful_yes</th>\n",
       "      <th>helpful_no</th>\n",
       "      <th>text</th>\n",
       "      <th>full_text</th>\n",
       "    </tr>\n",
       "    <tr>\n",
       "      <th>sentiment_result</th>\n",
       "      <th></th>\n",
       "      <th></th>\n",
       "      <th></th>\n",
       "      <th></th>\n",
       "      <th></th>\n",
       "      <th></th>\n",
       "      <th></th>\n",
       "      <th></th>\n",
       "      <th></th>\n",
       "    </tr>\n",
       "  </thead>\n",
       "  <tbody>\n",
       "    <tr>\n",
       "      <th>negative</th>\n",
       "      <td>1094</td>\n",
       "      <td>1094</td>\n",
       "      <td>1094</td>\n",
       "      <td>1094</td>\n",
       "      <td>1094</td>\n",
       "      <td>1094</td>\n",
       "      <td>1094</td>\n",
       "      <td>1094</td>\n",
       "      <td>1094</td>\n",
       "    </tr>\n",
       "    <tr>\n",
       "      <th>neutral</th>\n",
       "      <td>315</td>\n",
       "      <td>315</td>\n",
       "      <td>315</td>\n",
       "      <td>315</td>\n",
       "      <td>315</td>\n",
       "      <td>315</td>\n",
       "      <td>315</td>\n",
       "      <td>315</td>\n",
       "      <td>315</td>\n",
       "    </tr>\n",
       "    <tr>\n",
       "      <th>positive</th>\n",
       "      <td>3795</td>\n",
       "      <td>3795</td>\n",
       "      <td>3795</td>\n",
       "      <td>3795</td>\n",
       "      <td>3795</td>\n",
       "      <td>3795</td>\n",
       "      <td>3795</td>\n",
       "      <td>3795</td>\n",
       "      <td>3795</td>\n",
       "    </tr>\n",
       "  </tbody>\n",
       "</table>\n",
       "</div>"
      ],
      "text/plain": [
       "                   key  author  date  stars  title  helpful_yes  helpful_no  \\\n",
       "sentiment_result                                                              \n",
       "negative          1094    1094  1094   1094   1094         1094        1094   \n",
       "neutral            315     315   315    315    315          315         315   \n",
       "positive          3795    3795  3795   3795   3795         3795        3795   \n",
       "\n",
       "                  text  full_text  \n",
       "sentiment_result                   \n",
       "negative          1094       1094  \n",
       "neutral            315        315  \n",
       "positive          3795       3795  "
      ]
     },
     "execution_count": 11,
     "metadata": {},
     "output_type": "execute_result"
    }
   ],
   "source": [
    "df.groupby('sentiment_result').count()"
   ]
  },
  {
   "cell_type": "markdown",
   "metadata": {},
   "source": [
    "## Sentiment Extraction"
   ]
  },
  {
   "cell_type": "code",
   "execution_count": 12,
   "metadata": {},
   "outputs": [
    {
     "data": {
      "text/html": [
       "<div>\n",
       "<style scoped>\n",
       "    .dataframe tbody tr th:only-of-type {\n",
       "        vertical-align: middle;\n",
       "    }\n",
       "\n",
       "    .dataframe tbody tr th {\n",
       "        vertical-align: top;\n",
       "    }\n",
       "\n",
       "    .dataframe thead th {\n",
       "        text-align: right;\n",
       "    }\n",
       "</style>\n",
       "<table border=\"1\" class=\"dataframe\">\n",
       "  <thead>\n",
       "    <tr style=\"text-align: right;\">\n",
       "      <th></th>\n",
       "      <th>key</th>\n",
       "      <th>author</th>\n",
       "      <th>date</th>\n",
       "      <th>stars</th>\n",
       "      <th>title</th>\n",
       "      <th>helpful_yes</th>\n",
       "      <th>helpful_no</th>\n",
       "      <th>text</th>\n",
       "      <th>full_text</th>\n",
       "      <th>sentiment_result</th>\n",
       "      <th>sentiment_terms</th>\n",
       "    </tr>\n",
       "  </thead>\n",
       "  <tbody>\n",
       "    <tr>\n",
       "      <th>0</th>\n",
       "      <td>0_bj</td>\n",
       "      <td>Ilovebennjerry</td>\n",
       "      <td>2017-04-15</td>\n",
       "      <td>3</td>\n",
       "      <td>Not enough brownies!</td>\n",
       "      <td>10</td>\n",
       "      <td>3</td>\n",
       "      <td>Super good, don't get me wrong. But I came for...</td>\n",
       "      <td>not enough brownies! super good, don't get me ...</td>\n",
       "      <td>neutral</td>\n",
       "      <td>good wrong come sweet pack bountiful cry amazi...</td>\n",
       "    </tr>\n",
       "    <tr>\n",
       "      <th>1</th>\n",
       "      <td>0_bj</td>\n",
       "      <td>Sweettooth909</td>\n",
       "      <td>2020-01-05</td>\n",
       "      <td>5</td>\n",
       "      <td>I’m OBSESSED with this pint!</td>\n",
       "      <td>3</td>\n",
       "      <td>0</td>\n",
       "      <td>I decided to try it out although I’m not a hug...</td>\n",
       "      <td>i’m obsessed with this pint! i decided to try ...</td>\n",
       "      <td>positive</td>\n",
       "      <td>obsess decide try huge ok specific disappointi...</td>\n",
       "    </tr>\n",
       "    <tr>\n",
       "      <th>2</th>\n",
       "      <td>0_bj</td>\n",
       "      <td>LaTanga71</td>\n",
       "      <td>2018-04-26</td>\n",
       "      <td>3</td>\n",
       "      <td>My favorite...More Caramel Please</td>\n",
       "      <td>5</td>\n",
       "      <td>2</td>\n",
       "      <td>My caramel core begins to disappear about half...</td>\n",
       "      <td>my favorite...more caramel please my caramel c...</td>\n",
       "      <td>neutral</td>\n",
       "      <td>favorite caramel begin disappear half buy purc...</td>\n",
       "    </tr>\n",
       "    <tr>\n",
       "      <th>3</th>\n",
       "      <td>0_bj</td>\n",
       "      <td>chicago220</td>\n",
       "      <td>2018-01-14</td>\n",
       "      <td>5</td>\n",
       "      <td>Obsessed!!!</td>\n",
       "      <td>24</td>\n",
       "      <td>1</td>\n",
       "      <td>Why are people complaining about the blonde br...</td>\n",
       "      <td>obsessed!!! why are people complaining about t...</td>\n",
       "      <td>positive</td>\n",
       "      <td>obsess complain blonde blonde love blonde favo...</td>\n",
       "    </tr>\n",
       "    <tr>\n",
       "      <th>4</th>\n",
       "      <td>0_bj</td>\n",
       "      <td>Kassidyk</td>\n",
       "      <td>2020-07-24</td>\n",
       "      <td>1</td>\n",
       "      <td>Worst Ice Cream Ever!</td>\n",
       "      <td>1</td>\n",
       "      <td>5</td>\n",
       "      <td>This ice cream is worst ice cream I’ve ever ta...</td>\n",
       "      <td>worst ice cream ever! this ice cream is worst ...</td>\n",
       "      <td>negative</td>\n",
       "      <td>bad bad taste excited pick wait try sweet fine...</td>\n",
       "    </tr>\n",
       "    <tr>\n",
       "      <th>5</th>\n",
       "      <td>0_bj</td>\n",
       "      <td>Nikiera</td>\n",
       "      <td>2020-07-23</td>\n",
       "      <td>2</td>\n",
       "      <td>Way Too Salty</td>\n",
       "      <td>3</td>\n",
       "      <td>1</td>\n",
       "      <td>I bought this last night to go with Louisiana ...</td>\n",
       "      <td>way too salty i bought this last night to go w...</td>\n",
       "      <td>negative</td>\n",
       "      <td>salty buy crave salty sweet thrill salt carame...</td>\n",
       "    </tr>\n",
       "    <tr>\n",
       "      <th>6</th>\n",
       "      <td>0_bj</td>\n",
       "      <td>Mmelvin</td>\n",
       "      <td>2017-05-28</td>\n",
       "      <td>3</td>\n",
       "      <td>Love this flavor, but...</td>\n",
       "      <td>3</td>\n",
       "      <td>3</td>\n",
       "      <td>This is definitely my favorite flavor, but rec...</td>\n",
       "      <td>love this flavor, but... this is definitely my...</td>\n",
       "      <td>neutral</td>\n",
       "      <td>love favorite blonde look plain salt happen di...</td>\n",
       "    </tr>\n",
       "  </tbody>\n",
       "</table>\n",
       "</div>"
      ],
      "text/plain": [
       "    key          author        date  stars                              title  \\\n",
       "0  0_bj  Ilovebennjerry  2017-04-15      3               Not enough brownies!   \n",
       "1  0_bj   Sweettooth909  2020-01-05      5       I’m OBSESSED with this pint!   \n",
       "2  0_bj       LaTanga71  2018-04-26      3  My favorite...More Caramel Please   \n",
       "3  0_bj      chicago220  2018-01-14      5                        Obsessed!!!   \n",
       "4  0_bj        Kassidyk  2020-07-24      1              Worst Ice Cream Ever!   \n",
       "5  0_bj         Nikiera  2020-07-23      2                      Way Too Salty   \n",
       "6  0_bj         Mmelvin  2017-05-28      3           Love this flavor, but...   \n",
       "\n",
       "   helpful_yes  helpful_no                                               text  \\\n",
       "0           10           3  Super good, don't get me wrong. But I came for...   \n",
       "1            3           0  I decided to try it out although I’m not a hug...   \n",
       "2            5           2  My caramel core begins to disappear about half...   \n",
       "3           24           1  Why are people complaining about the blonde br...   \n",
       "4            1           5  This ice cream is worst ice cream I’ve ever ta...   \n",
       "5            3           1  I bought this last night to go with Louisiana ...   \n",
       "6            3           3  This is definitely my favorite flavor, but rec...   \n",
       "\n",
       "                                           full_text sentiment_result  \\\n",
       "0  not enough brownies! super good, don't get me ...          neutral   \n",
       "1  i’m obsessed with this pint! i decided to try ...         positive   \n",
       "2  my favorite...more caramel please my caramel c...          neutral   \n",
       "3  obsessed!!! why are people complaining about t...         positive   \n",
       "4  worst ice cream ever! this ice cream is worst ...         negative   \n",
       "5  way too salty i bought this last night to go w...         negative   \n",
       "6  love this flavor, but... this is definitely my...          neutral   \n",
       "\n",
       "                                     sentiment_terms  \n",
       "0  good wrong come sweet pack bountiful cry amazi...  \n",
       "1  obsess decide try huge ok specific disappointi...  \n",
       "2  favorite caramel begin disappear half buy purc...  \n",
       "3  obsess complain blonde blonde love blonde favo...  \n",
       "4  bad bad taste excited pick wait try sweet fine...  \n",
       "5  salty buy crave salty sweet thrill salt carame...  \n",
       "6  love favorite blonde look plain salt happen di...  "
      ]
     },
     "execution_count": 12,
     "metadata": {},
     "output_type": "execute_result"
    }
   ],
   "source": [
    "sentiment_terms = []\n",
    "\n",
    "for review in nlp.pipe(df['full_text']):\n",
    "    if review.is_parsed:\n",
    "        sentiment_terms.append(' '.join([token.lemma_ for token in review if (not token.is_stop and not token.is_punct and (token.pos_ == \"ADJ\" or token.pos_ == \"VERB\"))]))\n",
    "    else:\n",
    "        sentiment_terms.append('')\n",
    "df['sentiment_terms'] = sentiment_terms\n",
    "df.head(7)"
   ]
  },
  {
   "cell_type": "code",
   "execution_count": 13,
   "metadata": {},
   "outputs": [
    {
     "data": {
      "text/plain": [
       "'good wrong come sweet pack bountiful cry amazing sweet disappointing like will buy live promising find well wayyy yummy chewy overall good great sweet brownie add'"
      ]
     },
     "execution_count": 13,
     "metadata": {},
     "output_type": "execute_result"
    }
   ],
   "source": [
    "df.sentiment_terms[0]"
   ]
  },
  {
   "cell_type": "code",
   "execution_count": 14,
   "metadata": {},
   "outputs": [
    {
     "data": {
      "text/plain": [
       "'obsess decide try huge ok specific disappointing buy believe second glorious big bother take fifth go daily need'"
      ]
     },
     "execution_count": 14,
     "metadata": {},
     "output_type": "execute_result"
    }
   ],
   "source": [
    "df.sentiment_terms[1]"
   ]
  },
  {
   "cell_type": "code",
   "execution_count": 15,
   "metadata": {},
   "outputs": [
    {
     "data": {
      "text/plain": [
       "'bad bad taste excited pick wait try sweet fine salt wrong disgusting salty inedible enjoy stomach love salt caramel come read think bad'"
      ]
     },
     "execution_count": 15,
     "metadata": {},
     "output_type": "execute_result"
    }
   ],
   "source": [
    "df.sentiment_terms[4]"
   ]
  },
  {
   "cell_type": "markdown",
   "metadata": {},
   "source": [
    "## Modeling"
   ]
  },
  {
   "cell_type": "code",
   "execution_count": 19,
   "metadata": {},
   "outputs": [],
   "source": [
    "from keras.models import Sequential\n",
    "from keras.layers import Dense\n",
    "\n",
    "sentiment_model = Sequential()\n",
    "sentiment_model.add(Dense(512, input_shape=(7808,), activation='relu'))\n",
    "sentiment_model.add(Dense(3, activation='softmax'))\n",
    "sentiment_model.compile(loss='categorical_crossentropy', optimizer='adam', metrics=['accuracy'])"
   ]
  },
  {
   "cell_type": "code",
   "execution_count": 20,
   "metadata": {},
   "outputs": [],
   "source": [
    "from keras.preprocessing.text import Tokenizer\n",
    "\n",
    "tokenizer = Tokenizer()\n",
    "tokenizer.fit_on_texts(df.full_text)\n",
    "sentiment_tokenized = pd.DataFrame(tokenizer.texts_to_matrix(df.sentiment_terms))"
   ]
  },
  {
   "cell_type": "code",
   "execution_count": 21,
   "metadata": {},
   "outputs": [],
   "source": [
    "from sklearn.preprocessing import LabelEncoder\n",
    "from keras.utils import to_categorical\n",
    "\n",
    "label_encoder_2 = LabelEncoder()\n",
    "integer_sentiment = label_encoder_2.fit_transform(df.sentiment_result)\n",
    "sentiment_res = to_categorical(integer_sentiment)"
   ]
  },
  {
   "cell_type": "code",
   "execution_count": 22,
   "metadata": {},
   "outputs": [
    {
     "data": {
      "text/html": [
       "<div>\n",
       "<style scoped>\n",
       "    .dataframe tbody tr th:only-of-type {\n",
       "        vertical-align: middle;\n",
       "    }\n",
       "\n",
       "    .dataframe tbody tr th {\n",
       "        vertical-align: top;\n",
       "    }\n",
       "\n",
       "    .dataframe thead th {\n",
       "        text-align: right;\n",
       "    }\n",
       "</style>\n",
       "<table border=\"1\" class=\"dataframe\">\n",
       "  <thead>\n",
       "    <tr style=\"text-align: right;\">\n",
       "      <th></th>\n",
       "      <th>0</th>\n",
       "      <th>1</th>\n",
       "      <th>2</th>\n",
       "      <th>3</th>\n",
       "      <th>4</th>\n",
       "      <th>5</th>\n",
       "      <th>6</th>\n",
       "      <th>7</th>\n",
       "      <th>8</th>\n",
       "      <th>9</th>\n",
       "      <th>...</th>\n",
       "      <th>7798</th>\n",
       "      <th>7799</th>\n",
       "      <th>7800</th>\n",
       "      <th>7801</th>\n",
       "      <th>7802</th>\n",
       "      <th>7803</th>\n",
       "      <th>7804</th>\n",
       "      <th>7805</th>\n",
       "      <th>7806</th>\n",
       "      <th>7807</th>\n",
       "    </tr>\n",
       "  </thead>\n",
       "  <tbody>\n",
       "    <tr>\n",
       "      <th>0</th>\n",
       "      <td>0.0</td>\n",
       "      <td>0.0</td>\n",
       "      <td>0.0</td>\n",
       "      <td>0.0</td>\n",
       "      <td>0.0</td>\n",
       "      <td>0.0</td>\n",
       "      <td>0.0</td>\n",
       "      <td>0.0</td>\n",
       "      <td>0.0</td>\n",
       "      <td>0.0</td>\n",
       "      <td>...</td>\n",
       "      <td>0.0</td>\n",
       "      <td>0.0</td>\n",
       "      <td>0.0</td>\n",
       "      <td>0.0</td>\n",
       "      <td>0.0</td>\n",
       "      <td>0.0</td>\n",
       "      <td>0.0</td>\n",
       "      <td>0.0</td>\n",
       "      <td>0.0</td>\n",
       "      <td>0.0</td>\n",
       "    </tr>\n",
       "    <tr>\n",
       "      <th>1</th>\n",
       "      <td>0.0</td>\n",
       "      <td>0.0</td>\n",
       "      <td>0.0</td>\n",
       "      <td>0.0</td>\n",
       "      <td>0.0</td>\n",
       "      <td>0.0</td>\n",
       "      <td>0.0</td>\n",
       "      <td>0.0</td>\n",
       "      <td>0.0</td>\n",
       "      <td>0.0</td>\n",
       "      <td>...</td>\n",
       "      <td>0.0</td>\n",
       "      <td>0.0</td>\n",
       "      <td>0.0</td>\n",
       "      <td>0.0</td>\n",
       "      <td>0.0</td>\n",
       "      <td>0.0</td>\n",
       "      <td>0.0</td>\n",
       "      <td>0.0</td>\n",
       "      <td>0.0</td>\n",
       "      <td>0.0</td>\n",
       "    </tr>\n",
       "    <tr>\n",
       "      <th>2</th>\n",
       "      <td>0.0</td>\n",
       "      <td>0.0</td>\n",
       "      <td>0.0</td>\n",
       "      <td>0.0</td>\n",
       "      <td>0.0</td>\n",
       "      <td>0.0</td>\n",
       "      <td>0.0</td>\n",
       "      <td>0.0</td>\n",
       "      <td>0.0</td>\n",
       "      <td>0.0</td>\n",
       "      <td>...</td>\n",
       "      <td>0.0</td>\n",
       "      <td>0.0</td>\n",
       "      <td>0.0</td>\n",
       "      <td>0.0</td>\n",
       "      <td>0.0</td>\n",
       "      <td>0.0</td>\n",
       "      <td>0.0</td>\n",
       "      <td>0.0</td>\n",
       "      <td>0.0</td>\n",
       "      <td>0.0</td>\n",
       "    </tr>\n",
       "    <tr>\n",
       "      <th>3</th>\n",
       "      <td>0.0</td>\n",
       "      <td>0.0</td>\n",
       "      <td>0.0</td>\n",
       "      <td>0.0</td>\n",
       "      <td>0.0</td>\n",
       "      <td>0.0</td>\n",
       "      <td>0.0</td>\n",
       "      <td>0.0</td>\n",
       "      <td>0.0</td>\n",
       "      <td>0.0</td>\n",
       "      <td>...</td>\n",
       "      <td>0.0</td>\n",
       "      <td>0.0</td>\n",
       "      <td>0.0</td>\n",
       "      <td>0.0</td>\n",
       "      <td>0.0</td>\n",
       "      <td>0.0</td>\n",
       "      <td>0.0</td>\n",
       "      <td>0.0</td>\n",
       "      <td>0.0</td>\n",
       "      <td>0.0</td>\n",
       "    </tr>\n",
       "    <tr>\n",
       "      <th>4</th>\n",
       "      <td>0.0</td>\n",
       "      <td>0.0</td>\n",
       "      <td>0.0</td>\n",
       "      <td>0.0</td>\n",
       "      <td>0.0</td>\n",
       "      <td>0.0</td>\n",
       "      <td>0.0</td>\n",
       "      <td>0.0</td>\n",
       "      <td>0.0</td>\n",
       "      <td>0.0</td>\n",
       "      <td>...</td>\n",
       "      <td>0.0</td>\n",
       "      <td>0.0</td>\n",
       "      <td>0.0</td>\n",
       "      <td>0.0</td>\n",
       "      <td>0.0</td>\n",
       "      <td>0.0</td>\n",
       "      <td>0.0</td>\n",
       "      <td>0.0</td>\n",
       "      <td>0.0</td>\n",
       "      <td>0.0</td>\n",
       "    </tr>\n",
       "  </tbody>\n",
       "</table>\n",
       "<p>5 rows × 7808 columns</p>\n",
       "</div>"
      ],
      "text/plain": [
       "   0     1     2     3     4     5     6     7     8     9     ...  7798  \\\n",
       "0   0.0   0.0   0.0   0.0   0.0   0.0   0.0   0.0   0.0   0.0  ...   0.0   \n",
       "1   0.0   0.0   0.0   0.0   0.0   0.0   0.0   0.0   0.0   0.0  ...   0.0   \n",
       "2   0.0   0.0   0.0   0.0   0.0   0.0   0.0   0.0   0.0   0.0  ...   0.0   \n",
       "3   0.0   0.0   0.0   0.0   0.0   0.0   0.0   0.0   0.0   0.0  ...   0.0   \n",
       "4   0.0   0.0   0.0   0.0   0.0   0.0   0.0   0.0   0.0   0.0  ...   0.0   \n",
       "\n",
       "   7799  7800  7801  7802  7803  7804  7805  7806  7807  \n",
       "0   0.0   0.0   0.0   0.0   0.0   0.0   0.0   0.0   0.0  \n",
       "1   0.0   0.0   0.0   0.0   0.0   0.0   0.0   0.0   0.0  \n",
       "2   0.0   0.0   0.0   0.0   0.0   0.0   0.0   0.0   0.0  \n",
       "3   0.0   0.0   0.0   0.0   0.0   0.0   0.0   0.0   0.0  \n",
       "4   0.0   0.0   0.0   0.0   0.0   0.0   0.0   0.0   0.0  \n",
       "\n",
       "[5 rows x 7808 columns]"
      ]
     },
     "execution_count": 22,
     "metadata": {},
     "output_type": "execute_result"
    }
   ],
   "source": [
    "sentiment_tokenized.shape\n",
    "sentiment_tokenized.head()"
   ]
  },
  {
   "cell_type": "code",
   "execution_count": 23,
   "metadata": {},
   "outputs": [
    {
     "data": {
      "text/plain": [
       "array([[0., 1., 0.],\n",
       "       [0., 0., 1.],\n",
       "       [0., 1., 0.],\n",
       "       ...,\n",
       "       [0., 0., 1.],\n",
       "       [0., 0., 1.],\n",
       "       [0., 0., 1.]], dtype=float32)"
      ]
     },
     "execution_count": 23,
     "metadata": {},
     "output_type": "execute_result"
    }
   ],
   "source": [
    "sentiment_res.shape\n",
    "sentiment_res"
   ]
  },
  {
   "cell_type": "code",
   "execution_count": 24,
   "metadata": {},
   "outputs": [
    {
     "name": "stdout",
     "output_type": "stream",
     "text": [
      "Epoch 1/5\n",
      "163/163 [==============================] - 2s 15ms/step - loss: 0.5240 - accuracy: 0.8203\n",
      "Epoch 2/5\n",
      "163/163 [==============================] - 2s 14ms/step - loss: 0.3048 - accuracy: 0.8899\n",
      "Epoch 3/5\n",
      "163/163 [==============================] - 2s 14ms/step - loss: 0.2237 - accuracy: 0.9224\n",
      "Epoch 4/5\n",
      "163/163 [==============================] - 2s 14ms/step - loss: 0.1668 - accuracy: 0.9473\n",
      "Epoch 5/5\n",
      "163/163 [==============================] - 2s 13ms/step - loss: 0.1237 - accuracy: 0.9627\n"
     ]
    },
    {
     "data": {
      "text/plain": [
       "<tensorflow.python.keras.callbacks.History at 0x1633dd9d0>"
      ]
     },
     "execution_count": 24,
     "metadata": {},
     "output_type": "execute_result"
    }
   ],
   "source": [
    "sentiment_model.fit(sentiment_tokenized, sentiment_res, epochs=5, verbose=1)"
   ]
  },
  {
   "cell_type": "markdown",
   "metadata": {},
   "source": [
    "## Predict"
   ]
  },
  {
   "cell_type": "code",
   "execution_count": 31,
   "metadata": {},
   "outputs": [],
   "source": [
    "new_positive_review = \"This ice cream has good taste and is nice and sweet\""
   ]
  },
  {
   "cell_type": "code",
   "execution_count": 32,
   "metadata": {},
   "outputs": [],
   "source": [
    "chunks_p = [(chunk.root.text) for chunk in nlp(new_positive_review).noun_chunks if chunk.root.pos_ == 'NOUN']\n",
    "new_review_aspect_terms_p = ' '.join(chunks_p)\n",
    "new_review_aspect_tokenized_p = tokenizer.texts_to_matrix([new_review_aspect_terms_p])\n",
    "# print(new_review_aspect_terms_p)"
   ]
  },
  {
   "cell_type": "code",
   "execution_count": 33,
   "metadata": {},
   "outputs": [
    {
     "name": "stdout",
     "output_type": "stream",
     "text": [
      "['positive']\n"
     ]
    }
   ],
   "source": [
    "new_review_category_p = label_encoder_2.inverse_transform(sentiment_model.predict_classes(new_review_aspect_tokenized_p))\n",
    "print(new_review_category_p)"
   ]
  },
  {
   "cell_type": "code",
   "execution_count": 44,
   "metadata": {},
   "outputs": [],
   "source": [
    "new_negative_review = \"the salted caramel core is what’s really wrong.\"\n",
    "# new_negative_review = \" worst Ice cream ever! I don't like it, disgusting.\""
   ]
  },
  {
   "cell_type": "code",
   "execution_count": 45,
   "metadata": {},
   "outputs": [],
   "source": [
    "chunks_n = [(chunk.root.text) for chunk in nlp(new_negative_review).noun_chunks if chunk.root.pos_ == 'NOUN']\n",
    "new_review_aspect_terms_n = ' '.join(chunks_n)\n",
    "new_review_aspect_tokenized_n = tokenizer.texts_to_matrix([new_review_aspect_terms_n])\n",
    "# print(new_review_aspect_terms_n)"
   ]
  },
  {
   "cell_type": "code",
   "execution_count": 46,
   "metadata": {},
   "outputs": [
    {
     "name": "stdout",
     "output_type": "stream",
     "text": [
      "['negative']\n"
     ]
    }
   ],
   "source": [
    "new_review_category_n = label_encoder_2.inverse_transform(sentiment_model.predict_classes(new_review_aspect_tokenized_n))\n",
    "print(new_review_category_n)"
   ]
  }
 ],
 "metadata": {
  "kernelspec": {
   "display_name": "Python 3",
   "language": "python",
   "name": "python3"
  },
  "language_info": {
   "codemirror_mode": {
    "name": "ipython",
    "version": 3
   },
   "file_extension": ".py",
   "mimetype": "text/x-python",
   "name": "python",
   "nbconvert_exporter": "python",
   "pygments_lexer": "ipython3",
   "version": "3.7.6"
  }
 },
 "nbformat": 4,
 "nbformat_minor": 4
}